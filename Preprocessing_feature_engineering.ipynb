{
 "cells": [
  {
   "cell_type": "markdown",
   "id": "a5d8aff8-2394-49a5-bd75-227f88932e8f",
   "metadata": {},
   "source": [
    "## Preprocessing and feature engineering"
   ]
  },
  {
   "cell_type": "code",
   "execution_count": 1,
   "id": "3f2fef19-f69f-4e04-9222-85a4488fe73b",
   "metadata": {},
   "outputs": [],
   "source": [
    "import numpy as np\n",
    "import pandas as pd\n",
    "import matplotlib.pyplot as plt\n",
    "import seaborn as sns\n",
    "from sklearn.preprocessing import OneHotEncoder, StandardScaler\n",
    "import datetime as dt"
   ]
  },
  {
   "cell_type": "markdown",
   "id": "0fa250d0-89f0-4f4e-a0c3-9b7aed9d86b5",
   "metadata": {},
   "source": [
    "In this notebook, we will prepare the data for the modelling "
   ]
  },
  {
   "cell_type": "markdown",
   "id": "50abffea-beec-4559-8221-7539f9782c07",
   "metadata": {},
   "source": [
    "### Verifying steps from EDA"
   ]
  },
  {
   "cell_type": "code",
   "execution_count": 2,
   "id": "6e92a8e3-edd7-49c3-a432-da6fd5248df0",
   "metadata": {},
   "outputs": [],
   "source": [
    "data = pd.read_parquet(\"data/train.parquet\")  "
   ]
  },
  {
   "cell_type": "code",
   "execution_count": 3,
   "id": "89560b6d-d617-4e4d-bb36-f0e4c97df2fb",
   "metadata": {},
   "outputs": [
    {
     "name": "stdout",
     "output_type": "stream",
     "text": [
      "Missing values:\n",
      " counter_id                   0\n",
      "counter_name                 0\n",
      "site_id                      0\n",
      "site_name                    0\n",
      "bike_count                   0\n",
      "date                         0\n",
      "counter_installation_date    0\n",
      "coordinates                  0\n",
      "counter_technical_id         0\n",
      "latitude                     0\n",
      "longitude                    0\n",
      "log_bike_count               0\n",
      "dtype: int64\n"
     ]
    }
   ],
   "source": [
    "missing_values = data.isnull().sum()\n",
    "print(\"Missing values:\\n\", missing_values)"
   ]
  },
  {
   "cell_type": "code",
   "execution_count": 4,
   "id": "e5b0cb07-5e5d-43a5-b44b-f6c4b40a427c",
   "metadata": {},
   "outputs": [
    {
     "name": "stdout",
     "output_type": "stream",
     "text": [
      "            site_id     bike_count                        date  \\\n",
      "count  4.968270e+05  496827.000000                      496827   \n",
      "mean   1.053450e+08      60.191475  2021-03-08 07:25:59.668858   \n",
      "min    1.000070e+08       0.000000         2020-09-01 01:00:00   \n",
      "25%    1.000475e+08       5.000000         2020-12-05 22:00:00   \n",
      "50%    1.000562e+08      29.000000         2021-03-08 11:00:00   \n",
      "75%    1.000563e+08      79.000000         2021-06-09 14:00:00   \n",
      "max    3.000147e+08    1302.000000         2021-09-09 23:00:00   \n",
      "std    3.210346e+07      87.590566                         NaN   \n",
      "\n",
      "        counter_installation_date       latitude      longitude  \\\n",
      "count                      496827  496827.000000  496827.000000   \n",
      "mean   2019-04-04 07:24:35.245911      48.854343       2.345479   \n",
      "min           2013-01-18 00:00:00      48.826360       2.265420   \n",
      "25%           2018-11-29 00:00:00      48.840801       2.314440   \n",
      "50%           2019-11-06 00:00:00      48.852090       2.353870   \n",
      "75%           2019-12-11 00:00:00      48.864610       2.375870   \n",
      "max           2020-11-29 00:00:00      48.891720       2.409690   \n",
      "std                           NaN       0.018554       0.038026   \n",
      "\n",
      "       log_bike_count  \n",
      "count   496827.000000  \n",
      "mean         3.079917  \n",
      "min          0.000000  \n",
      "25%          1.791759  \n",
      "50%          3.401197  \n",
      "75%          4.382027  \n",
      "max          7.172425  \n",
      "std          1.659899  \n"
     ]
    }
   ],
   "source": [
    "print(data.describe())"
   ]
  },
  {
   "cell_type": "markdown",
   "id": "579706d9-cfca-451a-a320-06ae3eb7a9d7",
   "metadata": {},
   "source": [
    "### Encoding Categorical Variables"
   ]
  },
  {
   "cell_type": "code",
   "execution_count": 5,
   "id": "3a9832a7-d4c7-412e-b92d-ba36ae46c1a3",
   "metadata": {},
   "outputs": [
    {
     "name": "stdout",
     "output_type": "stream",
     "text": [
      "                     date  year  month  day_of_week  hour\n",
      "48321 2020-09-01 02:00:00  2020      9            1     2\n",
      "48324 2020-09-01 03:00:00  2020      9            1     3\n",
      "48327 2020-09-01 04:00:00  2020      9            1     4\n",
      "48330 2020-09-01 15:00:00  2020      9            1    15\n",
      "48333 2020-09-01 18:00:00  2020      9            1    18\n"
     ]
    }
   ],
   "source": [
    "# Recreate temporal columns from the 'date' column\n",
    "data['year'] = pd.to_datetime(data['date']).dt.year\n",
    "data['month'] = pd.to_datetime(data['date']).dt.month\n",
    "data[\"day_of_week\"] = data[\"date\"].dt.dayofweek # 0 for Monday\n",
    "data['hour'] = pd.to_datetime(data['date']).dt.hour\n",
    "\n",
    "print(data[['date', 'year', 'month', 'day_of_week', 'hour']].head())"
   ]
  },
  {
   "cell_type": "code",
   "execution_count": 6,
   "id": "22621b76-1846-4c1a-8299-2131e1ec0876",
   "metadata": {},
   "outputs": [
    {
     "name": "stdout",
     "output_type": "stream",
     "text": [
      "Categorical columns: Index(['counter_id', 'counter_name', 'site_name', 'coordinates',\n",
      "       'counter_technical_id'],\n",
      "      dtype='object')\n"
     ]
    }
   ],
   "source": [
    "categorical_columns = data.select_dtypes(include=['object', 'category']).columns\n",
    "print(\"Categorical columns:\", categorical_columns)"
   ]
  },
  {
   "cell_type": "markdown",
   "id": "629b0db9-43ef-43b0-8037-f5b2862b01c0",
   "metadata": {},
   "source": [
    "### Handle numerical features"
   ]
  },
  {
   "cell_type": "markdown",
   "id": "794fd20c-7b93-4f25-85f2-01832a17d8ea",
   "metadata": {},
   "source": [
    "might delete later"
   ]
  },
  {
   "cell_type": "markdown",
   "id": "50366e90-417b-48b1-b25f-2a0acfa192a7",
   "metadata": {},
   "source": [
    "### Feature Interaction "
   ]
  },
  {
   "cell_type": "code",
   "execution_count": 7,
   "id": "bc743d4b-7178-4cf8-b3ab-aaa4e78074f2",
   "metadata": {},
   "outputs": [],
   "source": [
    "## add something"
   ]
  },
  {
   "cell_type": "markdown",
   "id": "7656d8f5-091e-44a9-81f4-bcea02741700",
   "metadata": {},
   "source": [
    "### Feature Engineering"
   ]
  },
  {
   "cell_type": "code",
   "execution_count": 8,
   "id": "3c4aa6ec-acb5-48c9-bf86-aa5a658bc02b",
   "metadata": {},
   "outputs": [],
   "source": [
    "# Aggregate Statistics by site_id\n",
    "site_stats = data.groupby('site_id')['bike_count'].agg(['mean', 'std']).reset_index()\n",
    "site_stats.rename(columns={'mean': 'site_mean_count', 'std': 'site_std_count'}, inplace=True)\n",
    "\n",
    "data = data.merge(site_stats, on='site_id', how='left')"
   ]
  },
  {
   "cell_type": "markdown",
   "id": "b6e544d2-08d0-44b6-9188-2c16a3406849",
   "metadata": {},
   "source": [
    "Why: Sites with similar conditions (e.g., busy vs. quiet areas) might exhibit consistent traffic patterns. Aggregate features help capture site-specific behavior, such as average bike traffic."
   ]
  },
  {
   "cell_type": "code",
   "execution_count": 9,
   "id": "654c0895-7064-429a-bef1-30db91adf301",
   "metadata": {},
   "outputs": [],
   "source": [
    "# Weekend Indicator\n",
    "data[\"is_weekend\"] = (data[\"day_of_week\"] >= 5).astype(int)"
   ]
  },
  {
   "cell_type": "markdown",
   "id": "b926eeee-ed4f-4881-9131-2cbd4442e7d5",
   "metadata": {},
   "source": [
    "Why: We have seen in EDA that bike_counts is higher on weekdays than on weekends (likely due to commuting). This way we capture the differences. "
   ]
  },
  {
   "cell_type": "code",
   "execution_count": 10,
   "id": "5e6fc293-4520-4016-bfae-84f1fd5afb5a",
   "metadata": {},
   "outputs": [
    {
     "name": "stdout",
     "output_type": "stream",
     "text": [
      "   hour  is_rush_hour\n",
      "0     2             0\n",
      "1     3             0\n",
      "2     4             0\n",
      "3    15             1\n",
      "4    18             1\n"
     ]
    }
   ],
   "source": [
    "# Rush Hour Indicator\n",
    "data['is_rush_hour'] = data['hour'].apply(lambda x: 1 if 6 <= x <= 9 or 15 <= x <= 18 else 0)\n",
    "\n",
    "print(data[['hour', 'is_rush_hour']].head())"
   ]
  },
  {
   "cell_type": "markdown",
   "id": "eb3f5ef9-f16a-4f04-a639-b9f1c15895f0",
   "metadata": {},
   "source": [
    "Why: The rush hour indicator is created to capture periods of high bike traffic, typically aligned with commuting times. It is based on the observation from the graph that bike counts peak around 6-9 AM and 3-6 PM, representing morning and evening rush hours. This feature helps the model identify patterns specific to these high-traffic periods, improving its ability to predict bike counts."
   ]
  },
  {
   "cell_type": "code",
   "execution_count": 11,
   "id": "0a608eb1-6990-4721-8e98-c544e4e84561",
   "metadata": {},
   "outputs": [
    {
     "name": "stdout",
     "output_type": "stream",
     "text": [
      "Requirement already satisfied: holidays in /opt/anaconda3/envs/bikes-count/lib/python3.10/site-packages (0.62)\n",
      "Requirement already satisfied: python-dateutil in /opt/anaconda3/envs/bikes-count/lib/python3.10/site-packages (from holidays) (2.9.0.post0)\n",
      "Requirement already satisfied: six>=1.5 in /opt/anaconda3/envs/bikes-count/lib/python3.10/site-packages (from python-dateutil->holidays) (1.16.0)\n",
      "Note: you may need to restart the kernel to use updated packages.\n"
     ]
    }
   ],
   "source": [
    "pip install holidays"
   ]
  },
  {
   "cell_type": "code",
   "execution_count": 12,
   "id": "316aaae4-d627-4c27-989d-3c2cd67bbe02",
   "metadata": {},
   "outputs": [
    {
     "name": "stdout",
     "output_type": "stream",
     "text": [
      "                 date  is_holiday\n",
      "0 2020-09-01 02:00:00           0\n",
      "1 2020-09-01 03:00:00           0\n",
      "2 2020-09-01 04:00:00           0\n",
      "3 2020-09-01 15:00:00           0\n",
      "4 2020-09-01 18:00:00           0\n"
     ]
    }
   ],
   "source": [
    "import holidays\n",
    "\n",
    "france_holidays = holidays.FR()\n",
    "\n",
    "data['is_holiday'] = data['date'].dt.date.apply(lambda x: 1 if x in france_holidays else 0)\n",
    "\n",
    "print(data[['date', 'is_holiday']].head())"
   ]
  },
  {
   "cell_type": "code",
   "execution_count": 13,
   "id": "25d0a1a9-8e9f-4c03-a68f-8f7a83338fc3",
   "metadata": {},
   "outputs": [
    {
     "data": {
      "text/html": [
       "<div>\n",
       "<style scoped>\n",
       "    .dataframe tbody tr th:only-of-type {\n",
       "        vertical-align: middle;\n",
       "    }\n",
       "\n",
       "    .dataframe tbody tr th {\n",
       "        vertical-align: top;\n",
       "    }\n",
       "\n",
       "    .dataframe thead th {\n",
       "        text-align: right;\n",
       "    }\n",
       "</style>\n",
       "<table border=\"1\" class=\"dataframe\">\n",
       "  <thead>\n",
       "    <tr style=\"text-align: right;\">\n",
       "      <th></th>\n",
       "      <th>counter_id</th>\n",
       "      <th>counter_name</th>\n",
       "      <th>site_id</th>\n",
       "      <th>site_name</th>\n",
       "      <th>bike_count</th>\n",
       "      <th>date</th>\n",
       "      <th>counter_installation_date</th>\n",
       "      <th>coordinates</th>\n",
       "      <th>counter_technical_id</th>\n",
       "      <th>latitude</th>\n",
       "      <th>...</th>\n",
       "      <th>log_bike_count</th>\n",
       "      <th>year</th>\n",
       "      <th>month</th>\n",
       "      <th>day_of_week</th>\n",
       "      <th>hour</th>\n",
       "      <th>site_mean_count</th>\n",
       "      <th>site_std_count</th>\n",
       "      <th>is_weekend</th>\n",
       "      <th>is_rush_hour</th>\n",
       "      <th>is_holiday</th>\n",
       "    </tr>\n",
       "  </thead>\n",
       "  <tbody>\n",
       "    <tr>\n",
       "      <th>0</th>\n",
       "      <td>100007049-102007049</td>\n",
       "      <td>28 boulevard Diderot E-O</td>\n",
       "      <td>100007049</td>\n",
       "      <td>28 boulevard Diderot</td>\n",
       "      <td>0.0</td>\n",
       "      <td>2020-09-01 02:00:00</td>\n",
       "      <td>2013-01-18</td>\n",
       "      <td>48.846028,2.375429</td>\n",
       "      <td>Y2H15027244</td>\n",
       "      <td>48.846028</td>\n",
       "      <td>...</td>\n",
       "      <td>0.000000</td>\n",
       "      <td>2020</td>\n",
       "      <td>9</td>\n",
       "      <td>1</td>\n",
       "      <td>2</td>\n",
       "      <td>21.785157</td>\n",
       "      <td>35.345153</td>\n",
       "      <td>0</td>\n",
       "      <td>0</td>\n",
       "      <td>0</td>\n",
       "    </tr>\n",
       "    <tr>\n",
       "      <th>1</th>\n",
       "      <td>100007049-102007049</td>\n",
       "      <td>28 boulevard Diderot E-O</td>\n",
       "      <td>100007049</td>\n",
       "      <td>28 boulevard Diderot</td>\n",
       "      <td>1.0</td>\n",
       "      <td>2020-09-01 03:00:00</td>\n",
       "      <td>2013-01-18</td>\n",
       "      <td>48.846028,2.375429</td>\n",
       "      <td>Y2H15027244</td>\n",
       "      <td>48.846028</td>\n",
       "      <td>...</td>\n",
       "      <td>0.693147</td>\n",
       "      <td>2020</td>\n",
       "      <td>9</td>\n",
       "      <td>1</td>\n",
       "      <td>3</td>\n",
       "      <td>21.785157</td>\n",
       "      <td>35.345153</td>\n",
       "      <td>0</td>\n",
       "      <td>0</td>\n",
       "      <td>0</td>\n",
       "    </tr>\n",
       "    <tr>\n",
       "      <th>2</th>\n",
       "      <td>100007049-102007049</td>\n",
       "      <td>28 boulevard Diderot E-O</td>\n",
       "      <td>100007049</td>\n",
       "      <td>28 boulevard Diderot</td>\n",
       "      <td>0.0</td>\n",
       "      <td>2020-09-01 04:00:00</td>\n",
       "      <td>2013-01-18</td>\n",
       "      <td>48.846028,2.375429</td>\n",
       "      <td>Y2H15027244</td>\n",
       "      <td>48.846028</td>\n",
       "      <td>...</td>\n",
       "      <td>0.000000</td>\n",
       "      <td>2020</td>\n",
       "      <td>9</td>\n",
       "      <td>1</td>\n",
       "      <td>4</td>\n",
       "      <td>21.785157</td>\n",
       "      <td>35.345153</td>\n",
       "      <td>0</td>\n",
       "      <td>0</td>\n",
       "      <td>0</td>\n",
       "    </tr>\n",
       "    <tr>\n",
       "      <th>3</th>\n",
       "      <td>100007049-102007049</td>\n",
       "      <td>28 boulevard Diderot E-O</td>\n",
       "      <td>100007049</td>\n",
       "      <td>28 boulevard Diderot</td>\n",
       "      <td>4.0</td>\n",
       "      <td>2020-09-01 15:00:00</td>\n",
       "      <td>2013-01-18</td>\n",
       "      <td>48.846028,2.375429</td>\n",
       "      <td>Y2H15027244</td>\n",
       "      <td>48.846028</td>\n",
       "      <td>...</td>\n",
       "      <td>1.609438</td>\n",
       "      <td>2020</td>\n",
       "      <td>9</td>\n",
       "      <td>1</td>\n",
       "      <td>15</td>\n",
       "      <td>21.785157</td>\n",
       "      <td>35.345153</td>\n",
       "      <td>0</td>\n",
       "      <td>1</td>\n",
       "      <td>0</td>\n",
       "    </tr>\n",
       "    <tr>\n",
       "      <th>4</th>\n",
       "      <td>100007049-102007049</td>\n",
       "      <td>28 boulevard Diderot E-O</td>\n",
       "      <td>100007049</td>\n",
       "      <td>28 boulevard Diderot</td>\n",
       "      <td>9.0</td>\n",
       "      <td>2020-09-01 18:00:00</td>\n",
       "      <td>2013-01-18</td>\n",
       "      <td>48.846028,2.375429</td>\n",
       "      <td>Y2H15027244</td>\n",
       "      <td>48.846028</td>\n",
       "      <td>...</td>\n",
       "      <td>2.302585</td>\n",
       "      <td>2020</td>\n",
       "      <td>9</td>\n",
       "      <td>1</td>\n",
       "      <td>18</td>\n",
       "      <td>21.785157</td>\n",
       "      <td>35.345153</td>\n",
       "      <td>0</td>\n",
       "      <td>1</td>\n",
       "      <td>0</td>\n",
       "    </tr>\n",
       "    <tr>\n",
       "      <th>...</th>\n",
       "      <td>...</td>\n",
       "      <td>...</td>\n",
       "      <td>...</td>\n",
       "      <td>...</td>\n",
       "      <td>...</td>\n",
       "      <td>...</td>\n",
       "      <td>...</td>\n",
       "      <td>...</td>\n",
       "      <td>...</td>\n",
       "      <td>...</td>\n",
       "      <td>...</td>\n",
       "      <td>...</td>\n",
       "      <td>...</td>\n",
       "      <td>...</td>\n",
       "      <td>...</td>\n",
       "      <td>...</td>\n",
       "      <td>...</td>\n",
       "      <td>...</td>\n",
       "      <td>...</td>\n",
       "      <td>...</td>\n",
       "      <td>...</td>\n",
       "    </tr>\n",
       "    <tr>\n",
       "      <th>496822</th>\n",
       "      <td>300014702-353245971</td>\n",
       "      <td>254 rue de Vaugirard SO-NE</td>\n",
       "      <td>300014702</td>\n",
       "      <td>254 rue de Vaugirard</td>\n",
       "      <td>445.0</td>\n",
       "      <td>2021-09-09 06:00:00</td>\n",
       "      <td>2020-11-29</td>\n",
       "      <td>48.83977,2.30198</td>\n",
       "      <td>Y2H20114504</td>\n",
       "      <td>48.839770</td>\n",
       "      <td>...</td>\n",
       "      <td>6.100319</td>\n",
       "      <td>2021</td>\n",
       "      <td>9</td>\n",
       "      <td>3</td>\n",
       "      <td>6</td>\n",
       "      <td>58.326593</td>\n",
       "      <td>58.608311</td>\n",
       "      <td>0</td>\n",
       "      <td>1</td>\n",
       "      <td>0</td>\n",
       "    </tr>\n",
       "    <tr>\n",
       "      <th>496823</th>\n",
       "      <td>300014702-353245971</td>\n",
       "      <td>254 rue de Vaugirard SO-NE</td>\n",
       "      <td>300014702</td>\n",
       "      <td>254 rue de Vaugirard</td>\n",
       "      <td>145.0</td>\n",
       "      <td>2021-09-09 10:00:00</td>\n",
       "      <td>2020-11-29</td>\n",
       "      <td>48.83977,2.30198</td>\n",
       "      <td>Y2H20114504</td>\n",
       "      <td>48.839770</td>\n",
       "      <td>...</td>\n",
       "      <td>4.983607</td>\n",
       "      <td>2021</td>\n",
       "      <td>9</td>\n",
       "      <td>3</td>\n",
       "      <td>10</td>\n",
       "      <td>58.326593</td>\n",
       "      <td>58.608311</td>\n",
       "      <td>0</td>\n",
       "      <td>0</td>\n",
       "      <td>0</td>\n",
       "    </tr>\n",
       "    <tr>\n",
       "      <th>496824</th>\n",
       "      <td>300014702-353245971</td>\n",
       "      <td>254 rue de Vaugirard SO-NE</td>\n",
       "      <td>300014702</td>\n",
       "      <td>254 rue de Vaugirard</td>\n",
       "      <td>218.0</td>\n",
       "      <td>2021-09-09 15:00:00</td>\n",
       "      <td>2020-11-29</td>\n",
       "      <td>48.83977,2.30198</td>\n",
       "      <td>Y2H20114504</td>\n",
       "      <td>48.839770</td>\n",
       "      <td>...</td>\n",
       "      <td>5.389072</td>\n",
       "      <td>2021</td>\n",
       "      <td>9</td>\n",
       "      <td>3</td>\n",
       "      <td>15</td>\n",
       "      <td>58.326593</td>\n",
       "      <td>58.608311</td>\n",
       "      <td>0</td>\n",
       "      <td>1</td>\n",
       "      <td>0</td>\n",
       "    </tr>\n",
       "    <tr>\n",
       "      <th>496825</th>\n",
       "      <td>300014702-353245971</td>\n",
       "      <td>254 rue de Vaugirard SO-NE</td>\n",
       "      <td>300014702</td>\n",
       "      <td>254 rue de Vaugirard</td>\n",
       "      <td>21.0</td>\n",
       "      <td>2021-09-09 22:00:00</td>\n",
       "      <td>2020-11-29</td>\n",
       "      <td>48.83977,2.30198</td>\n",
       "      <td>Y2H20114504</td>\n",
       "      <td>48.839770</td>\n",
       "      <td>...</td>\n",
       "      <td>3.091042</td>\n",
       "      <td>2021</td>\n",
       "      <td>9</td>\n",
       "      <td>3</td>\n",
       "      <td>22</td>\n",
       "      <td>58.326593</td>\n",
       "      <td>58.608311</td>\n",
       "      <td>0</td>\n",
       "      <td>0</td>\n",
       "      <td>0</td>\n",
       "    </tr>\n",
       "    <tr>\n",
       "      <th>496826</th>\n",
       "      <td>300014702-353245971</td>\n",
       "      <td>254 rue de Vaugirard SO-NE</td>\n",
       "      <td>300014702</td>\n",
       "      <td>254 rue de Vaugirard</td>\n",
       "      <td>15.0</td>\n",
       "      <td>2021-09-09 23:00:00</td>\n",
       "      <td>2020-11-29</td>\n",
       "      <td>48.83977,2.30198</td>\n",
       "      <td>Y2H20114504</td>\n",
       "      <td>48.839770</td>\n",
       "      <td>...</td>\n",
       "      <td>2.772589</td>\n",
       "      <td>2021</td>\n",
       "      <td>9</td>\n",
       "      <td>3</td>\n",
       "      <td>23</td>\n",
       "      <td>58.326593</td>\n",
       "      <td>58.608311</td>\n",
       "      <td>0</td>\n",
       "      <td>0</td>\n",
       "      <td>0</td>\n",
       "    </tr>\n",
       "  </tbody>\n",
       "</table>\n",
       "<p>496827 rows × 21 columns</p>\n",
       "</div>"
      ],
      "text/plain": [
       "                 counter_id                counter_name    site_id  \\\n",
       "0       100007049-102007049    28 boulevard Diderot E-O  100007049   \n",
       "1       100007049-102007049    28 boulevard Diderot E-O  100007049   \n",
       "2       100007049-102007049    28 boulevard Diderot E-O  100007049   \n",
       "3       100007049-102007049    28 boulevard Diderot E-O  100007049   \n",
       "4       100007049-102007049    28 boulevard Diderot E-O  100007049   \n",
       "...                     ...                         ...        ...   \n",
       "496822  300014702-353245971  254 rue de Vaugirard SO-NE  300014702   \n",
       "496823  300014702-353245971  254 rue de Vaugirard SO-NE  300014702   \n",
       "496824  300014702-353245971  254 rue de Vaugirard SO-NE  300014702   \n",
       "496825  300014702-353245971  254 rue de Vaugirard SO-NE  300014702   \n",
       "496826  300014702-353245971  254 rue de Vaugirard SO-NE  300014702   \n",
       "\n",
       "                   site_name  bike_count                date  \\\n",
       "0       28 boulevard Diderot         0.0 2020-09-01 02:00:00   \n",
       "1       28 boulevard Diderot         1.0 2020-09-01 03:00:00   \n",
       "2       28 boulevard Diderot         0.0 2020-09-01 04:00:00   \n",
       "3       28 boulevard Diderot         4.0 2020-09-01 15:00:00   \n",
       "4       28 boulevard Diderot         9.0 2020-09-01 18:00:00   \n",
       "...                      ...         ...                 ...   \n",
       "496822  254 rue de Vaugirard       445.0 2021-09-09 06:00:00   \n",
       "496823  254 rue de Vaugirard       145.0 2021-09-09 10:00:00   \n",
       "496824  254 rue de Vaugirard       218.0 2021-09-09 15:00:00   \n",
       "496825  254 rue de Vaugirard        21.0 2021-09-09 22:00:00   \n",
       "496826  254 rue de Vaugirard        15.0 2021-09-09 23:00:00   \n",
       "\n",
       "       counter_installation_date         coordinates counter_technical_id  \\\n",
       "0                     2013-01-18  48.846028,2.375429          Y2H15027244   \n",
       "1                     2013-01-18  48.846028,2.375429          Y2H15027244   \n",
       "2                     2013-01-18  48.846028,2.375429          Y2H15027244   \n",
       "3                     2013-01-18  48.846028,2.375429          Y2H15027244   \n",
       "4                     2013-01-18  48.846028,2.375429          Y2H15027244   \n",
       "...                          ...                 ...                  ...   \n",
       "496822                2020-11-29    48.83977,2.30198          Y2H20114504   \n",
       "496823                2020-11-29    48.83977,2.30198          Y2H20114504   \n",
       "496824                2020-11-29    48.83977,2.30198          Y2H20114504   \n",
       "496825                2020-11-29    48.83977,2.30198          Y2H20114504   \n",
       "496826                2020-11-29    48.83977,2.30198          Y2H20114504   \n",
       "\n",
       "         latitude  ...  log_bike_count  year  month  day_of_week  hour  \\\n",
       "0       48.846028  ...        0.000000  2020      9            1     2   \n",
       "1       48.846028  ...        0.693147  2020      9            1     3   \n",
       "2       48.846028  ...        0.000000  2020      9            1     4   \n",
       "3       48.846028  ...        1.609438  2020      9            1    15   \n",
       "4       48.846028  ...        2.302585  2020      9            1    18   \n",
       "...           ...  ...             ...   ...    ...          ...   ...   \n",
       "496822  48.839770  ...        6.100319  2021      9            3     6   \n",
       "496823  48.839770  ...        4.983607  2021      9            3    10   \n",
       "496824  48.839770  ...        5.389072  2021      9            3    15   \n",
       "496825  48.839770  ...        3.091042  2021      9            3    22   \n",
       "496826  48.839770  ...        2.772589  2021      9            3    23   \n",
       "\n",
       "        site_mean_count  site_std_count  is_weekend  is_rush_hour  is_holiday  \n",
       "0             21.785157       35.345153           0             0           0  \n",
       "1             21.785157       35.345153           0             0           0  \n",
       "2             21.785157       35.345153           0             0           0  \n",
       "3             21.785157       35.345153           0             1           0  \n",
       "4             21.785157       35.345153           0             1           0  \n",
       "...                 ...             ...         ...           ...         ...  \n",
       "496822        58.326593       58.608311           0             1           0  \n",
       "496823        58.326593       58.608311           0             0           0  \n",
       "496824        58.326593       58.608311           0             1           0  \n",
       "496825        58.326593       58.608311           0             0           0  \n",
       "496826        58.326593       58.608311           0             0           0  \n",
       "\n",
       "[496827 rows x 21 columns]"
      ]
     },
     "execution_count": 13,
     "metadata": {},
     "output_type": "execute_result"
    }
   ],
   "source": [
    "data"
   ]
  },
  {
   "cell_type": "markdown",
   "id": "1baf312a-ea26-4882-9559-accb37b2bd14",
   "metadata": {},
   "source": [
    "### Save processed file "
   ]
  },
  {
   "cell_type": "code",
   "execution_count": 14,
   "id": "6c250307-c95f-4e8c-bc57-6a2d5f1db3b9",
   "metadata": {},
   "outputs": [
    {
     "name": "stdout",
     "output_type": "stream",
     "text": [
      "Dataset saved to data/processed_data.parquet\n"
     ]
    }
   ],
   "source": [
    "save_path = 'data/processed_data.parquet'\n",
    "\n",
    "data.to_parquet(save_path, index=False)\n",
    "\n",
    "print(f\"Dataset saved to {save_path}\")"
   ]
  }
 ],
 "metadata": {
  "kernelspec": {
   "display_name": "Python (bikes-count)",
   "language": "python",
   "name": "bikes-count"
  },
  "language_info": {
   "codemirror_mode": {
    "name": "ipython",
    "version": 3
   },
   "file_extension": ".py",
   "mimetype": "text/x-python",
   "name": "python",
   "nbconvert_exporter": "python",
   "pygments_lexer": "ipython3",
   "version": "3.10.15"
  }
 },
 "nbformat": 4,
 "nbformat_minor": 5
}
