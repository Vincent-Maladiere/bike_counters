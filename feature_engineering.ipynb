{
 "cells": [
  {
   "cell_type": "markdown",
   "metadata": {},
   "source": [
    "Rules of the file : \n",
    "* If dataset works better than the previous one, keep that one. Else, use the previous one"
   ]
  },
  {
   "cell_type": "markdown",
   "metadata": {},
   "source": [
    "# Base kit and first functions/columns added - name of the file : data"
   ]
  },
  {
   "cell_type": "code",
   "execution_count": 1,
   "metadata": {},
   "outputs": [],
   "source": [
    "from pathlib import Path\n",
    "\n",
    "import numpy as np\n",
    "import pandas as pd\n",
    "import matplotlib.pyplot as plt\n",
    "import sklearn"
   ]
  },
  {
   "cell_type": "markdown",
   "metadata": {},
   "source": [
    "### Loading the data with pandas\n",
    "\n",
    "First, download the data files from Kaggle, and put them to into the data folder.\n",
    "\n",
    "\n",
    "Data is stored in [Parquet format](https://parquet.apache.org/), an efficient columnar data format. We can load the train set with pandas,"
   ]
  },
  {
   "cell_type": "code",
   "execution_count": 2,
   "metadata": {},
   "outputs": [
    {
     "data": {
      "text/html": [
       "<div>\n",
       "<style scoped>\n",
       "    .dataframe tbody tr th:only-of-type {\n",
       "        vertical-align: middle;\n",
       "    }\n",
       "\n",
       "    .dataframe tbody tr th {\n",
       "        vertical-align: top;\n",
       "    }\n",
       "\n",
       "    .dataframe thead th {\n",
       "        text-align: right;\n",
       "    }\n",
       "</style>\n",
       "<table border=\"1\" class=\"dataframe\">\n",
       "  <thead>\n",
       "    <tr style=\"text-align: right;\">\n",
       "      <th></th>\n",
       "      <th>counter_id</th>\n",
       "      <th>counter_name</th>\n",
       "      <th>site_id</th>\n",
       "      <th>site_name</th>\n",
       "      <th>bike_count</th>\n",
       "      <th>date</th>\n",
       "      <th>counter_installation_date</th>\n",
       "      <th>coordinates</th>\n",
       "      <th>counter_technical_id</th>\n",
       "      <th>latitude</th>\n",
       "      <th>longitude</th>\n",
       "      <th>log_bike_count</th>\n",
       "    </tr>\n",
       "  </thead>\n",
       "  <tbody>\n",
       "    <tr>\n",
       "      <th>48321</th>\n",
       "      <td>100007049-102007049</td>\n",
       "      <td>28 boulevard Diderot E-O</td>\n",
       "      <td>100007049</td>\n",
       "      <td>28 boulevard Diderot</td>\n",
       "      <td>0.0</td>\n",
       "      <td>2020-09-01 02:00:00</td>\n",
       "      <td>2013-01-18</td>\n",
       "      <td>48.846028,2.375429</td>\n",
       "      <td>Y2H15027244</td>\n",
       "      <td>48.846028</td>\n",
       "      <td>2.375429</td>\n",
       "      <td>0.000000</td>\n",
       "    </tr>\n",
       "    <tr>\n",
       "      <th>48324</th>\n",
       "      <td>100007049-102007049</td>\n",
       "      <td>28 boulevard Diderot E-O</td>\n",
       "      <td>100007049</td>\n",
       "      <td>28 boulevard Diderot</td>\n",
       "      <td>1.0</td>\n",
       "      <td>2020-09-01 03:00:00</td>\n",
       "      <td>2013-01-18</td>\n",
       "      <td>48.846028,2.375429</td>\n",
       "      <td>Y2H15027244</td>\n",
       "      <td>48.846028</td>\n",
       "      <td>2.375429</td>\n",
       "      <td>0.693147</td>\n",
       "    </tr>\n",
       "    <tr>\n",
       "      <th>48327</th>\n",
       "      <td>100007049-102007049</td>\n",
       "      <td>28 boulevard Diderot E-O</td>\n",
       "      <td>100007049</td>\n",
       "      <td>28 boulevard Diderot</td>\n",
       "      <td>0.0</td>\n",
       "      <td>2020-09-01 04:00:00</td>\n",
       "      <td>2013-01-18</td>\n",
       "      <td>48.846028,2.375429</td>\n",
       "      <td>Y2H15027244</td>\n",
       "      <td>48.846028</td>\n",
       "      <td>2.375429</td>\n",
       "      <td>0.000000</td>\n",
       "    </tr>\n",
       "    <tr>\n",
       "      <th>48330</th>\n",
       "      <td>100007049-102007049</td>\n",
       "      <td>28 boulevard Diderot E-O</td>\n",
       "      <td>100007049</td>\n",
       "      <td>28 boulevard Diderot</td>\n",
       "      <td>4.0</td>\n",
       "      <td>2020-09-01 15:00:00</td>\n",
       "      <td>2013-01-18</td>\n",
       "      <td>48.846028,2.375429</td>\n",
       "      <td>Y2H15027244</td>\n",
       "      <td>48.846028</td>\n",
       "      <td>2.375429</td>\n",
       "      <td>1.609438</td>\n",
       "    </tr>\n",
       "    <tr>\n",
       "      <th>48333</th>\n",
       "      <td>100007049-102007049</td>\n",
       "      <td>28 boulevard Diderot E-O</td>\n",
       "      <td>100007049</td>\n",
       "      <td>28 boulevard Diderot</td>\n",
       "      <td>9.0</td>\n",
       "      <td>2020-09-01 18:00:00</td>\n",
       "      <td>2013-01-18</td>\n",
       "      <td>48.846028,2.375429</td>\n",
       "      <td>Y2H15027244</td>\n",
       "      <td>48.846028</td>\n",
       "      <td>2.375429</td>\n",
       "      <td>2.302585</td>\n",
       "    </tr>\n",
       "  </tbody>\n",
       "</table>\n",
       "</div>"
      ],
      "text/plain": [
       "                counter_id              counter_name    site_id  \\\n",
       "48321  100007049-102007049  28 boulevard Diderot E-O  100007049   \n",
       "48324  100007049-102007049  28 boulevard Diderot E-O  100007049   \n",
       "48327  100007049-102007049  28 boulevard Diderot E-O  100007049   \n",
       "48330  100007049-102007049  28 boulevard Diderot E-O  100007049   \n",
       "48333  100007049-102007049  28 boulevard Diderot E-O  100007049   \n",
       "\n",
       "                  site_name  bike_count                date  \\\n",
       "48321  28 boulevard Diderot         0.0 2020-09-01 02:00:00   \n",
       "48324  28 boulevard Diderot         1.0 2020-09-01 03:00:00   \n",
       "48327  28 boulevard Diderot         0.0 2020-09-01 04:00:00   \n",
       "48330  28 boulevard Diderot         4.0 2020-09-01 15:00:00   \n",
       "48333  28 boulevard Diderot         9.0 2020-09-01 18:00:00   \n",
       "\n",
       "      counter_installation_date         coordinates counter_technical_id  \\\n",
       "48321                2013-01-18  48.846028,2.375429          Y2H15027244   \n",
       "48324                2013-01-18  48.846028,2.375429          Y2H15027244   \n",
       "48327                2013-01-18  48.846028,2.375429          Y2H15027244   \n",
       "48330                2013-01-18  48.846028,2.375429          Y2H15027244   \n",
       "48333                2013-01-18  48.846028,2.375429          Y2H15027244   \n",
       "\n",
       "        latitude  longitude  log_bike_count  \n",
       "48321  48.846028   2.375429        0.000000  \n",
       "48324  48.846028   2.375429        0.693147  \n",
       "48327  48.846028   2.375429        0.000000  \n",
       "48330  48.846028   2.375429        1.609438  \n",
       "48333  48.846028   2.375429        2.302585  "
      ]
     },
     "execution_count": 2,
     "metadata": {},
     "output_type": "execute_result"
    }
   ],
   "source": [
    "data = pd.read_parquet(Path(\"data\") / \"train.parquet\")\n",
    "data.head()"
   ]
  },
  {
   "cell_type": "markdown",
   "metadata": {},
   "source": [
    "We can check general information about different columns:"
   ]
  },
  {
   "cell_type": "code",
   "execution_count": 3,
   "metadata": {},
   "outputs": [
    {
     "name": "stdout",
     "output_type": "stream",
     "text": [
      "<class 'pandas.core.frame.DataFrame'>\n",
      "Index: 496827 entries, 48321 to 929187\n",
      "Data columns (total 12 columns):\n",
      " #   Column                     Non-Null Count   Dtype         \n",
      "---  ------                     --------------   -----         \n",
      " 0   counter_id                 496827 non-null  category      \n",
      " 1   counter_name               496827 non-null  category      \n",
      " 2   site_id                    496827 non-null  int64         \n",
      " 3   site_name                  496827 non-null  category      \n",
      " 4   bike_count                 496827 non-null  float64       \n",
      " 5   date                       496827 non-null  datetime64[us]\n",
      " 6   counter_installation_date  496827 non-null  datetime64[us]\n",
      " 7   coordinates                496827 non-null  category      \n",
      " 8   counter_technical_id       496827 non-null  category      \n",
      " 9   latitude                   496827 non-null  float64       \n",
      " 10  longitude                  496827 non-null  float64       \n",
      " 11  log_bike_count             496827 non-null  float64       \n",
      "dtypes: category(5), datetime64[us](2), float64(4), int64(1)\n",
      "memory usage: 32.7 MB\n"
     ]
    }
   ],
   "source": [
    "data.info()"
   ]
  },
  {
   "cell_type": "markdown",
   "metadata": {},
   "source": [
    "and in particular the number of unique entries in each column,"
   ]
  },
  {
   "cell_type": "code",
   "execution_count": 4,
   "metadata": {},
   "outputs": [
    {
     "data": {
      "text/plain": [
       "counter_id                     56\n",
       "counter_name                   56\n",
       "site_id                        30\n",
       "site_name                      30\n",
       "bike_count                    998\n",
       "date                         8974\n",
       "counter_installation_date      22\n",
       "coordinates                    30\n",
       "counter_technical_id           30\n",
       "latitude                       30\n",
       "longitude                      30\n",
       "log_bike_count                998\n",
       "dtype: int64"
      ]
     },
     "execution_count": 4,
     "metadata": {},
     "output_type": "execute_result"
    }
   ],
   "source": [
    "data.nunique(axis=0)"
   ]
  },
  {
   "cell_type": "markdown",
   "metadata": {},
   "source": [
    "We have a 30 counting sites where sometimes multiple counters are installed per location.  Let's look at the most frequented stations:"
   ]
  },
  {
   "cell_type": "code",
   "execution_count": 5,
   "metadata": {},
   "outputs": [
    {
     "name": "stderr",
     "output_type": "stream",
     "text": [
      "/var/folders/dr/m9v4shms079d9s6z6c8cg57m0000gn/T/ipykernel_73292/1192055722.py:2: FutureWarning: The default of observed=False is deprecated and will be changed to True in a future version of pandas. Pass observed=False to retain current behavior or observed=True to adopt the future default and silence this warning.\n",
      "  data.groupby([\"site_name\", \"counter_name\"])[\"bike_count\"].sum()\n"
     ]
    },
    {
     "data": {
      "text/html": [
       "<div>\n",
       "<style scoped>\n",
       "    .dataframe tbody tr th:only-of-type {\n",
       "        vertical-align: middle;\n",
       "    }\n",
       "\n",
       "    .dataframe tbody tr th {\n",
       "        vertical-align: top;\n",
       "    }\n",
       "\n",
       "    .dataframe thead th {\n",
       "        text-align: right;\n",
       "    }\n",
       "</style>\n",
       "<table border=\"1\" class=\"dataframe\">\n",
       "  <thead>\n",
       "    <tr style=\"text-align: right;\">\n",
       "      <th></th>\n",
       "      <th></th>\n",
       "      <th>bike_count</th>\n",
       "    </tr>\n",
       "    <tr>\n",
       "      <th>site_name</th>\n",
       "      <th>counter_name</th>\n",
       "      <th></th>\n",
       "    </tr>\n",
       "  </thead>\n",
       "  <tbody>\n",
       "    <tr>\n",
       "      <th>Totem 73 boulevard de Sébastopol</th>\n",
       "      <th>Totem 73 boulevard de Sébastopol S-N</th>\n",
       "      <td>1992227.0</td>\n",
       "    </tr>\n",
       "    <tr>\n",
       "      <th>Totem 64 Rue de Rivoli</th>\n",
       "      <th>Totem 64 Rue de Rivoli O-E</th>\n",
       "      <td>1551730.0</td>\n",
       "    </tr>\n",
       "    <tr>\n",
       "      <th>Totem 73 boulevard de Sébastopol</th>\n",
       "      <th>Totem 73 boulevard de Sébastopol N-S</th>\n",
       "      <td>1497912.0</td>\n",
       "    </tr>\n",
       "    <tr>\n",
       "      <th>67 boulevard Voltaire SE-NO</th>\n",
       "      <th>67 boulevard Voltaire SE-NO</th>\n",
       "      <td>1130565.0</td>\n",
       "    </tr>\n",
       "    <tr>\n",
       "      <th>Totem 64 Rue de Rivoli</th>\n",
       "      <th>Totem 64 Rue de Rivoli E-O</th>\n",
       "      <td>1015875.0</td>\n",
       "    </tr>\n",
       "    <tr>\n",
       "      <th>27 quai de la Tournelle</th>\n",
       "      <th>27 quai de la Tournelle SE-NO</th>\n",
       "      <td>984914.0</td>\n",
       "    </tr>\n",
       "    <tr>\n",
       "      <th>Quai d'Orsay</th>\n",
       "      <th>Quai d'Orsay E-O</th>\n",
       "      <td>948357.0</td>\n",
       "    </tr>\n",
       "    <tr>\n",
       "      <th>Totem Cours la Reine</th>\n",
       "      <th>Totem Cours la Reine O-E</th>\n",
       "      <td>894937.0</td>\n",
       "    </tr>\n",
       "    <tr>\n",
       "      <th rowspan=\"2\" valign=\"top\">Face au 48 quai de la marne</th>\n",
       "      <th>Face au 48 quai de la marne SO-NE</th>\n",
       "      <td>884907.0</td>\n",
       "    </tr>\n",
       "    <tr>\n",
       "      <th>Face au 48 quai de la marne NE-SO</th>\n",
       "      <td>833657.0</td>\n",
       "    </tr>\n",
       "  </tbody>\n",
       "</table>\n",
       "</div>"
      ],
      "text/plain": [
       "                                                                       bike_count\n",
       "site_name                        counter_name                                    \n",
       "Totem 73 boulevard de Sébastopol Totem 73 boulevard de Sébastopol S-N   1992227.0\n",
       "Totem 64 Rue de Rivoli           Totem 64 Rue de Rivoli O-E             1551730.0\n",
       "Totem 73 boulevard de Sébastopol Totem 73 boulevard de Sébastopol N-S   1497912.0\n",
       "67 boulevard Voltaire SE-NO      67 boulevard Voltaire SE-NO            1130565.0\n",
       "Totem 64 Rue de Rivoli           Totem 64 Rue de Rivoli E-O             1015875.0\n",
       "27 quai de la Tournelle          27 quai de la Tournelle SE-NO           984914.0\n",
       "Quai d'Orsay                     Quai d'Orsay E-O                        948357.0\n",
       "Totem Cours la Reine             Totem Cours la Reine O-E                894937.0\n",
       "Face au 48 quai de la marne      Face au 48 quai de la marne SO-NE       884907.0\n",
       "                                 Face au 48 quai de la marne NE-SO       833657.0"
      ]
     },
     "execution_count": 5,
     "metadata": {},
     "output_type": "execute_result"
    }
   ],
   "source": [
    "(\n",
    "    data.groupby([\"site_name\", \"counter_name\"])[\"bike_count\"].sum()\n",
    "    .sort_values(ascending=False)\n",
    "    .head(10)\n",
    "    .to_frame()\n",
    ")"
   ]
  },
  {
   "cell_type": "markdown",
   "metadata": {},
   "source": [
    "### Feature extraction\n",
    "\n",
    "To account for the temporal aspects of the data, we cannot input the `date` field directly into the model. Instead we extract the features on different time-scales from the `date` field:"
   ]
  },
  {
   "cell_type": "code",
   "execution_count": 6,
   "metadata": {},
   "outputs": [],
   "source": [
    "def _encode_dates(X):\n",
    "    X = X.copy()  # modify a copy of X\n",
    "    # Encode the date information from the DateOfDeparture columns\n",
    "    X[\"year\"] = X[\"date\"].dt.year\n",
    "    X[\"month\"] = X[\"date\"].dt.month\n",
    "    X[\"day\"] = X[\"date\"].dt.day\n",
    "    X[\"weekday\"] = X[\"date\"].dt.weekday\n",
    "    X[\"hour\"] = X[\"date\"].dt.hour\n",
    "\n",
    "    # Finally we can drop the original columns from the dataframe\n",
    "    return X.drop(columns=[\"date\"])"
   ]
  },
  {
   "cell_type": "code",
   "execution_count": 7,
   "metadata": {},
   "outputs": [
    {
     "data": {
      "text/plain": [
       "48321   2020-09-01 02:00:00\n",
       "48324   2020-09-01 03:00:00\n",
       "48327   2020-09-01 04:00:00\n",
       "48330   2020-09-01 15:00:00\n",
       "48333   2020-09-01 18:00:00\n",
       "Name: date, dtype: datetime64[us]"
      ]
     },
     "execution_count": 7,
     "metadata": {},
     "output_type": "execute_result"
    }
   ],
   "source": [
    "data[\"date\"].head()"
   ]
  },
  {
   "cell_type": "code",
   "execution_count": 8,
   "metadata": {},
   "outputs": [
    {
     "data": {
      "text/html": [
       "<div>\n",
       "<style scoped>\n",
       "    .dataframe tbody tr th:only-of-type {\n",
       "        vertical-align: middle;\n",
       "    }\n",
       "\n",
       "    .dataframe tbody tr th {\n",
       "        vertical-align: top;\n",
       "    }\n",
       "\n",
       "    .dataframe thead th {\n",
       "        text-align: right;\n",
       "    }\n",
       "</style>\n",
       "<table border=\"1\" class=\"dataframe\">\n",
       "  <thead>\n",
       "    <tr style=\"text-align: right;\">\n",
       "      <th></th>\n",
       "      <th>year</th>\n",
       "      <th>month</th>\n",
       "      <th>day</th>\n",
       "      <th>weekday</th>\n",
       "      <th>hour</th>\n",
       "    </tr>\n",
       "  </thead>\n",
       "  <tbody>\n",
       "    <tr>\n",
       "      <th>48321</th>\n",
       "      <td>2020</td>\n",
       "      <td>9</td>\n",
       "      <td>1</td>\n",
       "      <td>1</td>\n",
       "      <td>2</td>\n",
       "    </tr>\n",
       "    <tr>\n",
       "      <th>48324</th>\n",
       "      <td>2020</td>\n",
       "      <td>9</td>\n",
       "      <td>1</td>\n",
       "      <td>1</td>\n",
       "      <td>3</td>\n",
       "    </tr>\n",
       "    <tr>\n",
       "      <th>48327</th>\n",
       "      <td>2020</td>\n",
       "      <td>9</td>\n",
       "      <td>1</td>\n",
       "      <td>1</td>\n",
       "      <td>4</td>\n",
       "    </tr>\n",
       "    <tr>\n",
       "      <th>48330</th>\n",
       "      <td>2020</td>\n",
       "      <td>9</td>\n",
       "      <td>1</td>\n",
       "      <td>1</td>\n",
       "      <td>15</td>\n",
       "    </tr>\n",
       "    <tr>\n",
       "      <th>48333</th>\n",
       "      <td>2020</td>\n",
       "      <td>9</td>\n",
       "      <td>1</td>\n",
       "      <td>1</td>\n",
       "      <td>18</td>\n",
       "    </tr>\n",
       "  </tbody>\n",
       "</table>\n",
       "</div>"
      ],
      "text/plain": [
       "       year  month  day  weekday  hour\n",
       "48321  2020      9    1        1     2\n",
       "48324  2020      9    1        1     3\n",
       "48327  2020      9    1        1     4\n",
       "48330  2020      9    1        1    15\n",
       "48333  2020      9    1        1    18"
      ]
     },
     "execution_count": 8,
     "metadata": {},
     "output_type": "execute_result"
    }
   ],
   "source": [
    "_encode_dates(data[[\"date\"]].head())"
   ]
  },
  {
   "cell_type": "markdown",
   "metadata": {},
   "source": [
    "To use this function with scikit-learn estimators we wrap it with [FunctionTransformer](https://scikit-learn.org/stable/modules/generated/sklearn.preprocessing.FunctionTransformer.html):"
   ]
  },
  {
   "cell_type": "code",
   "execution_count": 9,
   "metadata": {},
   "outputs": [
    {
     "data": {
      "text/html": [
       "<div>\n",
       "<style scoped>\n",
       "    .dataframe tbody tr th:only-of-type {\n",
       "        vertical-align: middle;\n",
       "    }\n",
       "\n",
       "    .dataframe tbody tr th {\n",
       "        vertical-align: top;\n",
       "    }\n",
       "\n",
       "    .dataframe thead th {\n",
       "        text-align: right;\n",
       "    }\n",
       "</style>\n",
       "<table border=\"1\" class=\"dataframe\">\n",
       "  <thead>\n",
       "    <tr style=\"text-align: right;\">\n",
       "      <th></th>\n",
       "      <th>year</th>\n",
       "      <th>month</th>\n",
       "      <th>day</th>\n",
       "      <th>weekday</th>\n",
       "      <th>hour</th>\n",
       "    </tr>\n",
       "  </thead>\n",
       "  <tbody>\n",
       "    <tr>\n",
       "      <th>48321</th>\n",
       "      <td>2020</td>\n",
       "      <td>9</td>\n",
       "      <td>1</td>\n",
       "      <td>1</td>\n",
       "      <td>2</td>\n",
       "    </tr>\n",
       "    <tr>\n",
       "      <th>48324</th>\n",
       "      <td>2020</td>\n",
       "      <td>9</td>\n",
       "      <td>1</td>\n",
       "      <td>1</td>\n",
       "      <td>3</td>\n",
       "    </tr>\n",
       "    <tr>\n",
       "      <th>48327</th>\n",
       "      <td>2020</td>\n",
       "      <td>9</td>\n",
       "      <td>1</td>\n",
       "      <td>1</td>\n",
       "      <td>4</td>\n",
       "    </tr>\n",
       "    <tr>\n",
       "      <th>48330</th>\n",
       "      <td>2020</td>\n",
       "      <td>9</td>\n",
       "      <td>1</td>\n",
       "      <td>1</td>\n",
       "      <td>15</td>\n",
       "    </tr>\n",
       "    <tr>\n",
       "      <th>48333</th>\n",
       "      <td>2020</td>\n",
       "      <td>9</td>\n",
       "      <td>1</td>\n",
       "      <td>1</td>\n",
       "      <td>18</td>\n",
       "    </tr>\n",
       "  </tbody>\n",
       "</table>\n",
       "</div>"
      ],
      "text/plain": [
       "       year  month  day  weekday  hour\n",
       "48321  2020      9    1        1     2\n",
       "48324  2020      9    1        1     3\n",
       "48327  2020      9    1        1     4\n",
       "48330  2020      9    1        1    15\n",
       "48333  2020      9    1        1    18"
      ]
     },
     "execution_count": 9,
     "metadata": {},
     "output_type": "execute_result"
    }
   ],
   "source": [
    "from sklearn.preprocessing import FunctionTransformer\n",
    "\n",
    "date_encoder = FunctionTransformer(_encode_dates, validate=False)\n",
    "sample_encoded = date_encoder.fit_transform(data[[\"date\"]]).head()\n",
    "sample_encoded"
   ]
  },
  {
   "cell_type": "markdown",
   "metadata": {},
   "source": [
    "Since it is unlikely that, for instance, that `hour` is linearly correlated with the target variable, we would need to additionally encode categorical features for linear models. This is classically done with [OneHotEncoder](https://scikit-learn.org/stable/modules/generated/sklearn.preprocessing.OneHotEncoder.html), though other encoding strategies exist."
   ]
  },
  {
   "cell_type": "code",
   "execution_count": 10,
   "metadata": {},
   "outputs": [
    {
     "data": {
      "text/plain": [
       "array([[1., 0., 0., 0., 0.],\n",
       "       [0., 1., 0., 0., 0.],\n",
       "       [0., 0., 1., 0., 0.],\n",
       "       [0., 0., 0., 1., 0.],\n",
       "       [0., 0., 0., 0., 1.]])"
      ]
     },
     "execution_count": 10,
     "metadata": {},
     "output_type": "execute_result"
    }
   ],
   "source": [
    "from sklearn.preprocessing import OneHotEncoder\n",
    "\n",
    "enc = OneHotEncoder(sparse_output=False)\n",
    "\n",
    "enc.fit_transform(sample_encoded[[\"hour\"]])"
   ]
  },
  {
   "cell_type": "code",
   "execution_count": 11,
   "metadata": {},
   "outputs": [
    {
     "name": "stdout",
     "output_type": "stream",
     "text": [
      "Requirement already satisfied: holidays in /Applications/anaconda3/lib/python3.12/site-packages (0.59)\n",
      "Requirement already satisfied: python-dateutil in /Applications/anaconda3/lib/python3.12/site-packages (from holidays) (2.9.0.post0)\n",
      "Requirement already satisfied: six>=1.5 in /Applications/anaconda3/lib/python3.12/site-packages (from python-dateutil->holidays) (1.16.0)\n",
      "Note: you may need to restart the kernel to use updated packages.\n"
     ]
    }
   ],
   "source": [
    "pip install holidays"
   ]
  },
  {
   "cell_type": "code",
   "execution_count": 12,
   "metadata": {},
   "outputs": [],
   "source": [
    "import holidays\n",
    "fr_holidays = holidays.France(years=[2020,2021])\n",
    "\n",
    "def _encode_dates(X):\n",
    "    X = X.copy()  # modify a copy of X\n",
    "    # Encode the date information from the Date columns\n",
    "    X[\"year\"] = X[\"date\"].dt.year\n",
    "    X[\"month\"] = X[\"date\"].dt.month\n",
    "    X[\"day\"] = X[\"date\"].dt.day\n",
    "    X[\"weekday\"] = X[\"date\"].dt.weekday\n",
    "    X[\"hour\"] = X[\"date\"].dt.hour\n",
    "    X['bankholidays'] = X['date'].isin(fr_holidays).astype(int)\n",
    "    X['weekend'] = X['weekday'].isin([6,7]).astype(int)\n",
    "    X['night'] = X['hour'].isin([20, 21, 22, 23, 24, 1, 2, 3, 4, 5, 6]).astype(int)\n",
    "    X['morning'] = X['hour'].isin([6, 7, 8, 9, 10, 11, 12]).astype(int)\n",
    "    X['midday'] = X['hour'].isin([12, 13, 14]).astype(int)\n",
    "    X['evening'] = X['hour'].isin([14, 15, 16, 17, 18, 19, 20]).astype(int)\n",
    "\n",
    "    # Finally we can drop the original columns from the dataframe\n",
    "    return X.drop(columns=[\"date\"])"
   ]
  },
  {
   "cell_type": "markdown",
   "metadata": {},
   "source": [
    "### Baseline mean prediction"
   ]
  },
  {
   "cell_type": "markdown",
   "metadata": {},
   "source": [
    "#### Ridge"
   ]
  },
  {
   "cell_type": "markdown",
   "metadata": {},
   "source": [
    "Baseline mean prediction.\n",
    "Train set, RMSE=1.67\n",
    "Test set, RMSE=1.44"
   ]
  },
  {
   "cell_type": "markdown",
   "metadata": {},
   "source": [
    "#### Ridge with StandardScaler"
   ]
  },
  {
   "cell_type": "markdown",
   "metadata": {},
   "source": [
    "# Getting rid of some data - name of the file : data_bike_rid"
   ]
  },
  {
   "cell_type": "code",
   "execution_count": 13,
   "metadata": {},
   "outputs": [],
   "source": [
    "target_columns = [\"bike_count\", \"log_bike_count\"]\n",
    "numerical_columns = ['latitude', 'longitude']\n",
    "categorical_columns = ['counter_name', 'site_name', 'counter_technical_id']\n",
    "date_columns = ['date', 'counter_installation_date']\n",
    "all_columns = numerical_columns + categorical_columns + date_columns + target_columns\n",
    "\n",
    "data_bike_rid = data[all_columns]\n",
    "# cosmetic changes"
   ]
  },
  {
   "cell_type": "markdown",
   "metadata": {},
   "source": [
    "Baseline mean prediction.\n",
    "Train set, RMSE=1.67\n",
    "Test set, RMSE=1.44"
   ]
  },
  {
   "cell_type": "markdown",
   "metadata": {},
   "source": [
    "# Adding the arrondissement - name of the file : data_bike_arr"
   ]
  },
  {
   "cell_type": "code",
   "execution_count": 14,
   "metadata": {},
   "outputs": [],
   "source": [
    "data_bike_arr = data.copy()"
   ]
  },
  {
   "cell_type": "code",
   "execution_count": 17,
   "metadata": {},
   "outputs": [
    {
     "data": {
      "text/html": [
       "<div>\n",
       "<style scoped>\n",
       "    .dataframe tbody tr th:only-of-type {\n",
       "        vertical-align: middle;\n",
       "    }\n",
       "\n",
       "    .dataframe tbody tr th {\n",
       "        vertical-align: top;\n",
       "    }\n",
       "\n",
       "    .dataframe thead th {\n",
       "        text-align: right;\n",
       "    }\n",
       "</style>\n",
       "<table border=\"1\" class=\"dataframe\">\n",
       "  <thead>\n",
       "    <tr style=\"text-align: right;\">\n",
       "      <th></th>\n",
       "      <th>counter_id</th>\n",
       "      <th>counter_name</th>\n",
       "      <th>site_id</th>\n",
       "      <th>site_name</th>\n",
       "      <th>bike_count</th>\n",
       "      <th>date</th>\n",
       "      <th>counter_installation_date</th>\n",
       "      <th>coordinates</th>\n",
       "      <th>counter_technical_id</th>\n",
       "      <th>latitude</th>\n",
       "      <th>longitude</th>\n",
       "      <th>log_bike_count</th>\n",
       "      <th>geometry</th>\n",
       "      <th>arrondissement</th>\n",
       "    </tr>\n",
       "  </thead>\n",
       "  <tbody>\n",
       "    <tr>\n",
       "      <th>48321</th>\n",
       "      <td>100007049-102007049</td>\n",
       "      <td>28 boulevard Diderot E-O</td>\n",
       "      <td>100007049</td>\n",
       "      <td>28 boulevard Diderot</td>\n",
       "      <td>0.0</td>\n",
       "      <td>2020-09-01 02:00:00</td>\n",
       "      <td>2013-01-18</td>\n",
       "      <td>48.846028,2.375429</td>\n",
       "      <td>Y2H15027244</td>\n",
       "      <td>48.846028</td>\n",
       "      <td>2.375429</td>\n",
       "      <td>0.000000</td>\n",
       "      <td>POINT (2.37543 48.84603)</td>\n",
       "      <td>12ème Ardt</td>\n",
       "    </tr>\n",
       "    <tr>\n",
       "      <th>48324</th>\n",
       "      <td>100007049-102007049</td>\n",
       "      <td>28 boulevard Diderot E-O</td>\n",
       "      <td>100007049</td>\n",
       "      <td>28 boulevard Diderot</td>\n",
       "      <td>1.0</td>\n",
       "      <td>2020-09-01 03:00:00</td>\n",
       "      <td>2013-01-18</td>\n",
       "      <td>48.846028,2.375429</td>\n",
       "      <td>Y2H15027244</td>\n",
       "      <td>48.846028</td>\n",
       "      <td>2.375429</td>\n",
       "      <td>0.693147</td>\n",
       "      <td>POINT (2.37543 48.84603)</td>\n",
       "      <td>12ème Ardt</td>\n",
       "    </tr>\n",
       "    <tr>\n",
       "      <th>48327</th>\n",
       "      <td>100007049-102007049</td>\n",
       "      <td>28 boulevard Diderot E-O</td>\n",
       "      <td>100007049</td>\n",
       "      <td>28 boulevard Diderot</td>\n",
       "      <td>0.0</td>\n",
       "      <td>2020-09-01 04:00:00</td>\n",
       "      <td>2013-01-18</td>\n",
       "      <td>48.846028,2.375429</td>\n",
       "      <td>Y2H15027244</td>\n",
       "      <td>48.846028</td>\n",
       "      <td>2.375429</td>\n",
       "      <td>0.000000</td>\n",
       "      <td>POINT (2.37543 48.84603)</td>\n",
       "      <td>12ème Ardt</td>\n",
       "    </tr>\n",
       "    <tr>\n",
       "      <th>48330</th>\n",
       "      <td>100007049-102007049</td>\n",
       "      <td>28 boulevard Diderot E-O</td>\n",
       "      <td>100007049</td>\n",
       "      <td>28 boulevard Diderot</td>\n",
       "      <td>4.0</td>\n",
       "      <td>2020-09-01 15:00:00</td>\n",
       "      <td>2013-01-18</td>\n",
       "      <td>48.846028,2.375429</td>\n",
       "      <td>Y2H15027244</td>\n",
       "      <td>48.846028</td>\n",
       "      <td>2.375429</td>\n",
       "      <td>1.609438</td>\n",
       "      <td>POINT (2.37543 48.84603)</td>\n",
       "      <td>12ème Ardt</td>\n",
       "    </tr>\n",
       "    <tr>\n",
       "      <th>48333</th>\n",
       "      <td>100007049-102007049</td>\n",
       "      <td>28 boulevard Diderot E-O</td>\n",
       "      <td>100007049</td>\n",
       "      <td>28 boulevard Diderot</td>\n",
       "      <td>9.0</td>\n",
       "      <td>2020-09-01 18:00:00</td>\n",
       "      <td>2013-01-18</td>\n",
       "      <td>48.846028,2.375429</td>\n",
       "      <td>Y2H15027244</td>\n",
       "      <td>48.846028</td>\n",
       "      <td>2.375429</td>\n",
       "      <td>2.302585</td>\n",
       "      <td>POINT (2.37543 48.84603)</td>\n",
       "      <td>12ème Ardt</td>\n",
       "    </tr>\n",
       "  </tbody>\n",
       "</table>\n",
       "</div>"
      ],
      "text/plain": [
       "                counter_id              counter_name    site_id  \\\n",
       "48321  100007049-102007049  28 boulevard Diderot E-O  100007049   \n",
       "48324  100007049-102007049  28 boulevard Diderot E-O  100007049   \n",
       "48327  100007049-102007049  28 boulevard Diderot E-O  100007049   \n",
       "48330  100007049-102007049  28 boulevard Diderot E-O  100007049   \n",
       "48333  100007049-102007049  28 boulevard Diderot E-O  100007049   \n",
       "\n",
       "                  site_name  bike_count                date  \\\n",
       "48321  28 boulevard Diderot         0.0 2020-09-01 02:00:00   \n",
       "48324  28 boulevard Diderot         1.0 2020-09-01 03:00:00   \n",
       "48327  28 boulevard Diderot         0.0 2020-09-01 04:00:00   \n",
       "48330  28 boulevard Diderot         4.0 2020-09-01 15:00:00   \n",
       "48333  28 boulevard Diderot         9.0 2020-09-01 18:00:00   \n",
       "\n",
       "      counter_installation_date         coordinates counter_technical_id  \\\n",
       "48321                2013-01-18  48.846028,2.375429          Y2H15027244   \n",
       "48324                2013-01-18  48.846028,2.375429          Y2H15027244   \n",
       "48327                2013-01-18  48.846028,2.375429          Y2H15027244   \n",
       "48330                2013-01-18  48.846028,2.375429          Y2H15027244   \n",
       "48333                2013-01-18  48.846028,2.375429          Y2H15027244   \n",
       "\n",
       "        latitude  longitude  log_bike_count                  geometry  \\\n",
       "48321  48.846028   2.375429        0.000000  POINT (2.37543 48.84603)   \n",
       "48324  48.846028   2.375429        0.693147  POINT (2.37543 48.84603)   \n",
       "48327  48.846028   2.375429        0.000000  POINT (2.37543 48.84603)   \n",
       "48330  48.846028   2.375429        1.609438  POINT (2.37543 48.84603)   \n",
       "48333  48.846028   2.375429        2.302585  POINT (2.37543 48.84603)   \n",
       "\n",
       "      arrondissement  \n",
       "48321     12ème Ardt  \n",
       "48324     12ème Ardt  \n",
       "48327     12ème Ardt  \n",
       "48330     12ème Ardt  \n",
       "48333     12ème Ardt  "
      ]
     },
     "execution_count": 17,
     "metadata": {},
     "output_type": "execute_result"
    }
   ],
   "source": [
    "import geopandas as gpd\n",
    "from shapely.geometry import Point\n",
    "\n",
    "# Load the GeoJSON file containing Paris arrondissements\n",
    "arrondissements = gpd.read_file(Path(\"external_data\") / \"arrondissements.geojson\")\n",
    "\n",
    "# Ensure arrondissements GeoDataFrame has a compatible CRS\n",
    "arrondissements = arrondissements.to_crs(epsg=4326)\n",
    "\n",
    "# Assuming 'data' is your original dataset with latitude and longitude columns\n",
    "data_bike_arr['geometry'] = gpd.points_from_xy(data_bike_arr['longitude'], data_bike_arr['latitude'], crs=\"EPSG:4326\")\n",
    "\n",
    "# Convert the DataFrame to a GeoDataFrame\n",
    "data_gdf = gpd.GeoDataFrame(data_bike_arr, geometry='geometry')\n",
    "\n",
    "# Perform the spatial join\n",
    "result = gpd.sjoin(data_gdf, arrondissements, how=\"left\", predicate=\"within\")\n",
    "\n",
    "\n",
    "# Access the relevant arrondissement column\n",
    "data_bike_arr['arrondissement'] = result[['l_ar']]  # Replace 'nom' with the arrondissement column name\n",
    "\n",
    "data_bike_arr.head()\n",
    "\n"
   ]
  },
  {
   "cell_type": "code",
   "execution_count": 18,
   "metadata": {},
   "outputs": [],
   "source": [
    "# Getting rid of Geometry\n",
    "\n",
    "data_bike_arr = data_bike_arr.drop(columns=['geometry'])"
   ]
  },
  {
   "cell_type": "code",
   "execution_count": 23,
   "metadata": {},
   "outputs": [
    {
     "data": {
      "image/png": "[encoded data removed]",
      "text/plain": [
       "<Figure size 1200x600 with 1 Axes>"
      ]
     },
     "metadata": {},
     "output_type": "display_data"
    }
   ],
   "source": [
    "data_bike_arr['arrondissement'].hist(figsize=(12, 6))\n",
    "plt.xticks(rotation = 45); # Let's have a look at feature we added"
   ]
  },
  {
   "cell_type": "markdown",
   "metadata": {},
   "source": [
    "We notice that : \n",
    "* The arrondissements with the most bikes are the 11th, the 12th, the 13th, the 14th, the 19th and the 20th\n",
    "* In the the 10th, there is no bikes, and much fewer than elswehere in the 7th, 8th, 9th "
   ]
  },
  {
   "cell_type": "markdown",
   "metadata": {},
   "source": [
    "Baseline mean prediction.\n",
    "Train set, RMSE=1.67\n",
    "Test set, RMSE=1.44"
   ]
  },
  {
   "cell_type": "markdown",
   "metadata": {},
   "source": [
    "# Adding the arrondissement after getting rid of extra data - name of the file : data_bike_arr_rid"
   ]
  },
  {
   "cell_type": "code",
   "execution_count": 20,
   "metadata": {},
   "outputs": [],
   "source": [
    "data_bike_arr_rid = data_bike_rid.copy()"
   ]
  },
  {
   "cell_type": "code",
   "execution_count": 21,
   "metadata": {},
   "outputs": [
    {
     "data": {
      "text/html": [
       "<div>\n",
       "<style scoped>\n",
       "    .dataframe tbody tr th:only-of-type {\n",
       "        vertical-align: middle;\n",
       "    }\n",
       "\n",
       "    .dataframe tbody tr th {\n",
       "        vertical-align: top;\n",
       "    }\n",
       "\n",
       "    .dataframe thead th {\n",
       "        text-align: right;\n",
       "    }\n",
       "</style>\n",
       "<table border=\"1\" class=\"dataframe\">\n",
       "  <thead>\n",
       "    <tr style=\"text-align: right;\">\n",
       "      <th></th>\n",
       "      <th>latitude</th>\n",
       "      <th>longitude</th>\n",
       "      <th>counter_name</th>\n",
       "      <th>site_name</th>\n",
       "      <th>counter_technical_id</th>\n",
       "      <th>date</th>\n",
       "      <th>counter_installation_date</th>\n",
       "      <th>bike_count</th>\n",
       "      <th>log_bike_count</th>\n",
       "      <th>geometry</th>\n",
       "      <th>arrondissement</th>\n",
       "    </tr>\n",
       "  </thead>\n",
       "  <tbody>\n",
       "    <tr>\n",
       "      <th>48321</th>\n",
       "      <td>48.846028</td>\n",
       "      <td>2.375429</td>\n",
       "      <td>28 boulevard Diderot E-O</td>\n",
       "      <td>28 boulevard Diderot</td>\n",
       "      <td>Y2H15027244</td>\n",
       "      <td>2020-09-01 02:00:00</td>\n",
       "      <td>2013-01-18</td>\n",
       "      <td>0.0</td>\n",
       "      <td>0.000000</td>\n",
       "      <td>POINT (2.37543 48.84603)</td>\n",
       "      <td>12ème Ardt</td>\n",
       "    </tr>\n",
       "    <tr>\n",
       "      <th>48324</th>\n",
       "      <td>48.846028</td>\n",
       "      <td>2.375429</td>\n",
       "      <td>28 boulevard Diderot E-O</td>\n",
       "      <td>28 boulevard Diderot</td>\n",
       "      <td>Y2H15027244</td>\n",
       "      <td>2020-09-01 03:00:00</td>\n",
       "      <td>2013-01-18</td>\n",
       "      <td>1.0</td>\n",
       "      <td>0.693147</td>\n",
       "      <td>POINT (2.37543 48.84603)</td>\n",
       "      <td>12ème Ardt</td>\n",
       "    </tr>\n",
       "    <tr>\n",
       "      <th>48327</th>\n",
       "      <td>48.846028</td>\n",
       "      <td>2.375429</td>\n",
       "      <td>28 boulevard Diderot E-O</td>\n",
       "      <td>28 boulevard Diderot</td>\n",
       "      <td>Y2H15027244</td>\n",
       "      <td>2020-09-01 04:00:00</td>\n",
       "      <td>2013-01-18</td>\n",
       "      <td>0.0</td>\n",
       "      <td>0.000000</td>\n",
       "      <td>POINT (2.37543 48.84603)</td>\n",
       "      <td>12ème Ardt</td>\n",
       "    </tr>\n",
       "    <tr>\n",
       "      <th>48330</th>\n",
       "      <td>48.846028</td>\n",
       "      <td>2.375429</td>\n",
       "      <td>28 boulevard Diderot E-O</td>\n",
       "      <td>28 boulevard Diderot</td>\n",
       "      <td>Y2H15027244</td>\n",
       "      <td>2020-09-01 15:00:00</td>\n",
       "      <td>2013-01-18</td>\n",
       "      <td>4.0</td>\n",
       "      <td>1.609438</td>\n",
       "      <td>POINT (2.37543 48.84603)</td>\n",
       "      <td>12ème Ardt</td>\n",
       "    </tr>\n",
       "    <tr>\n",
       "      <th>48333</th>\n",
       "      <td>48.846028</td>\n",
       "      <td>2.375429</td>\n",
       "      <td>28 boulevard Diderot E-O</td>\n",
       "      <td>28 boulevard Diderot</td>\n",
       "      <td>Y2H15027244</td>\n",
       "      <td>2020-09-01 18:00:00</td>\n",
       "      <td>2013-01-18</td>\n",
       "      <td>9.0</td>\n",
       "      <td>2.302585</td>\n",
       "      <td>POINT (2.37543 48.84603)</td>\n",
       "      <td>12ème Ardt</td>\n",
       "    </tr>\n",
       "  </tbody>\n",
       "</table>\n",
       "</div>"
      ],
      "text/plain": [
       "        latitude  longitude              counter_name             site_name  \\\n",
       "48321  48.846028   2.375429  28 boulevard Diderot E-O  28 boulevard Diderot   \n",
       "48324  48.846028   2.375429  28 boulevard Diderot E-O  28 boulevard Diderot   \n",
       "48327  48.846028   2.375429  28 boulevard Diderot E-O  28 boulevard Diderot   \n",
       "48330  48.846028   2.375429  28 boulevard Diderot E-O  28 boulevard Diderot   \n",
       "48333  48.846028   2.375429  28 boulevard Diderot E-O  28 boulevard Diderot   \n",
       "\n",
       "      counter_technical_id                date counter_installation_date  \\\n",
       "48321          Y2H15027244 2020-09-01 02:00:00                2013-01-18   \n",
       "48324          Y2H15027244 2020-09-01 03:00:00                2013-01-18   \n",
       "48327          Y2H15027244 2020-09-01 04:00:00                2013-01-18   \n",
       "48330          Y2H15027244 2020-09-01 15:00:00                2013-01-18   \n",
       "48333          Y2H15027244 2020-09-01 18:00:00                2013-01-18   \n",
       "\n",
       "       bike_count  log_bike_count                  geometry arrondissement  \n",
       "48321         0.0        0.000000  POINT (2.37543 48.84603)     12ème Ardt  \n",
       "48324         1.0        0.693147  POINT (2.37543 48.84603)     12ème Ardt  \n",
       "48327         0.0        0.000000  POINT (2.37543 48.84603)     12ème Ardt  \n",
       "48330         4.0        1.609438  POINT (2.37543 48.84603)     12ème Ardt  \n",
       "48333         9.0        2.302585  POINT (2.37543 48.84603)     12ème Ardt  "
      ]
     },
     "execution_count": 21,
     "metadata": {},
     "output_type": "execute_result"
    }
   ],
   "source": [
    "import geopandas as gpd\n",
    "from shapely.geometry import Point\n",
    "\n",
    "# Load the GeoJSON file containing Paris arrondissements\n",
    "arrondissements = gpd.read_file(Path(\"external_data\") / \"arrondissements.geojson\")\n",
    "\n",
    "# Ensure arrondissements GeoDataFrame has a compatible CRS\n",
    "arrondissements = arrondissements.to_crs(epsg=4326)\n",
    "\n",
    "# Assuming 'data' is your original dataset with latitude and longitude columns\n",
    "data_bike_arr_rid['geometry'] = gpd.points_from_xy(data_bike_arr_rid['longitude'], data_bike_arr_rid['latitude'], crs=\"EPSG:4326\")\n",
    "\n",
    "# Convert the DataFrame to a GeoDataFrame\n",
    "data_gdf = gpd.GeoDataFrame(data_bike_arr_rid, geometry='geometry')\n",
    "\n",
    "# Perform the spatial join\n",
    "result = gpd.sjoin(data_gdf, arrondissements, how=\"left\", predicate=\"within\")\n",
    "\n",
    "\n",
    "# Access the relevant arrondissement column\n",
    "data_bike_arr_rid['arrondissement'] = result[['l_ar']]  # Replace 'nom' with the arrondissement column name\n",
    "\n",
    "data_bike_arr_rid.head()\n"
   ]
  },
  {
   "cell_type": "code",
   "execution_count": 22,
   "metadata": {},
   "outputs": [],
   "source": [
    "data_bike_arr_rid= data_bike_arr_rid.drop(columns='geometry')"
   ]
  },
  {
   "cell_type": "markdown",
   "metadata": {},
   "source": [
    "Baseline mean prediction.\n",
    "Train set, RMSE=1.67\n",
    "Test set, RMSE=1.44"
   ]
  },
  {
   "cell_type": "markdown",
   "metadata": {},
   "source": [
    "# Adding the external meteorological data : data_bike_meteo"
   ]
  },
  {
   "cell_type": "code",
   "execution_count": 21,
   "metadata": {},
   "outputs": [],
   "source": [
    "external_data = pd.read_csv((Path(\"data\") / \"external_data.csv\"))"
   ]
  },
  {
   "cell_type": "code",
   "execution_count": null,
   "metadata": {},
   "outputs": [],
   "source": [
    "external_data.head()"
   ]
  }
 ],
 "metadata": {
  "kernelspec": {
   "display_name": "base",
   "language": "python",
   "name": "python3"
  },
  "language_info": {
   "codemirror_mode": {
    "name": "ipython",
    "version": 3
   },
   "file_extension": ".py",
   "mimetype": "text/x-python",
   "name": "python",
   "nbconvert_exporter": "python",
   "pygments_lexer": "ipython3",
   "version": "3.12.2"
  }
 },
 "nbformat": 4,
 "nbformat_minor": 2
}
