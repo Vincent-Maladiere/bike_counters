{
 "cells": [
  {
   "cell_type": "markdown",
   "metadata": {},
   "source": [
    "## Predicting cyclist traffic in Paris\n",
    "\n",
    "## Introduction\n",
    "\n",
    "The dataset was collected with cyclist counters installed by Paris city council in multiple locations. It contains hourly information about cyclist traffic, as well as the following features,\n",
    " - counter name\n",
    " - counter site name\n",
    " - date\n",
    " - counter installation date\n",
    " - latitude and longitude\n",
    " \n",
    "Available features are quite scarce. However, **we can also use any external data that can help us to predict the target variable.** "
   ]
  },
  {
   "cell_type": "markdown",
   "metadata": {},
   "source": [
    "Our notebook is organised as so, and we try to have a look at the data before jumping into model selection.\n",
    "\n",
    "Introduction EDA\n",
    "Look at top Station\n",
    "Temporal Analysis:\n",
    "- Seasonal look (Overview)\n",
    "- Rush Hours\n",
    "- Weekdays and Week-ends\n",
    "- Bank Holidays vs working days\n",
    "- School Holidays (vacances scolaires) and working days\n",
    "\n",
    "The idea of using Ridge was to use a model where less important parameters are squished to see which parameters are really important, we then are going to use them with a RandomForest. Why a RF will be explained later in this notebook.\n",
    "Model Selection:\n",
    "- Trying out a simple Ridge regression with feature engineering on temporal data (hours_cos is a good predictor)\n",
    "- Gridsearch and Hyperparameters selection for Ridge\n",
    "- Adding weather data\n",
    "- Ridge Limitations\n",
    "- Trying out RandomForest"
   ]
  },
  {
   "cell_type": "markdown",
   "metadata": {},
   "source": [
    "Let's start by a really quick EDA, then we'll think about adding potentially relevent external data points to enrich our analysis."
   ]
  },
  {
   "cell_type": "markdown",
   "metadata": {},
   "source": [
    "## Exploratory Data Analysis"
   ]
  },
  {
   "cell_type": "code",
   "execution_count": 28,
   "metadata": {},
   "outputs": [],
   "source": [
    "# Standard Libraries\n",
    "from pathlib import Path\n",
    "import datetime\n",
    "\n",
    "# Data Manipulation\n",
    "import numpy as np\n",
    "import pandas as pd\n",
    "\n",
    "\n",
    "# Scikit-Learn: Preprocessing\n",
    "from sklearn.preprocessing import (\n",
    "    StandardScaler,\n",
    "    OneHotEncoder,\n",
    "    PolynomialFeatures,\n",
    "    LabelEncoder,\n",
    "    FunctionTransformer\n",
    ")\n",
    "\n",
    "# Scikit-Learn: Pipelines and Transformations\n",
    "from sklearn.compose import ColumnTransformer\n",
    "from sklearn.pipeline import Pipeline\n",
    "\n",
    "# Scikit-Learn: Model Selection\n",
    "from sklearn.model_selection import (\n",
    "    TimeSeriesSplit,\n",
    "    GridSearchCV,\n",
    "    train_test_split\n",
    ")\n",
    "\n",
    "# Scikit-Learn: Metrics\n",
    "from sklearn.metrics import mean_squared_error\n",
    "\n",
    "# Scikit-Learn: Regressors\n",
    "from sklearn.linear_model import LinearRegression, Ridge, ElasticNet, Lasso\n",
    "from sklearn.tree import DecisionTreeRegressor\n",
    "from sklearn.ensemble import GradientBoostingRegressor\n",
    "from sklearn.neural_network import MLPRegressor\n",
    "\n",
    "# Boosting Libraries\n",
    "from catboost import CatBoostRegressor\n",
    "from xgboost import XGBRegressor\n",
    "from lightgbm import LGBMRegressor\n",
    "\n",
    "# Optimization Libraries\n",
    "import optuna"
   ]
  },
  {
   "cell_type": "code",
   "execution_count": 29,
   "metadata": {},
   "outputs": [],
   "source": [
    "# Data Visualization\n",
    "import matplotlib.pyplot as plt\n",
    "import seaborn as sns"
   ]
  },
  {
   "cell_type": "code",
   "execution_count": 30,
   "metadata": {},
   "outputs": [
    {
     "data": {
      "text/html": [
       "<div>\n",
       "<style scoped>\n",
       "    .dataframe tbody tr th:only-of-type {\n",
       "        vertical-align: middle;\n",
       "    }\n",
       "\n",
       "    .dataframe tbody tr th {\n",
       "        vertical-align: top;\n",
       "    }\n",
       "\n",
       "    .dataframe thead th {\n",
       "        text-align: right;\n",
       "    }\n",
       "</style>\n",
       "<table border=\"1\" class=\"dataframe\">\n",
       "  <thead>\n",
       "    <tr style=\"text-align: right;\">\n",
       "      <th></th>\n",
       "      <th>counter_id</th>\n",
       "      <th>counter_name</th>\n",
       "      <th>site_id</th>\n",
       "      <th>site_name</th>\n",
       "      <th>bike_count</th>\n",
       "      <th>date</th>\n",
       "      <th>counter_installation_date</th>\n",
       "      <th>coordinates</th>\n",
       "      <th>counter_technical_id</th>\n",
       "      <th>latitude</th>\n",
       "      <th>longitude</th>\n",
       "      <th>log_bike_count</th>\n",
       "    </tr>\n",
       "  </thead>\n",
       "  <tbody>\n",
       "    <tr>\n",
       "      <th>48321</th>\n",
       "      <td>100007049-102007049</td>\n",
       "      <td>28 boulevard Diderot E-O</td>\n",
       "      <td>100007049</td>\n",
       "      <td>28 boulevard Diderot</td>\n",
       "      <td>0.0</td>\n",
       "      <td>2020-09-01 02:00:00</td>\n",
       "      <td>2013-01-18</td>\n",
       "      <td>48.846028,2.375429</td>\n",
       "      <td>Y2H15027244</td>\n",
       "      <td>48.846028</td>\n",
       "      <td>2.375429</td>\n",
       "      <td>0.000000</td>\n",
       "    </tr>\n",
       "    <tr>\n",
       "      <th>48324</th>\n",
       "      <td>100007049-102007049</td>\n",
       "      <td>28 boulevard Diderot E-O</td>\n",
       "      <td>100007049</td>\n",
       "      <td>28 boulevard Diderot</td>\n",
       "      <td>1.0</td>\n",
       "      <td>2020-09-01 03:00:00</td>\n",
       "      <td>2013-01-18</td>\n",
       "      <td>48.846028,2.375429</td>\n",
       "      <td>Y2H15027244</td>\n",
       "      <td>48.846028</td>\n",
       "      <td>2.375429</td>\n",
       "      <td>0.693147</td>\n",
       "    </tr>\n",
       "    <tr>\n",
       "      <th>48327</th>\n",
       "      <td>100007049-102007049</td>\n",
       "      <td>28 boulevard Diderot E-O</td>\n",
       "      <td>100007049</td>\n",
       "      <td>28 boulevard Diderot</td>\n",
       "      <td>0.0</td>\n",
       "      <td>2020-09-01 04:00:00</td>\n",
       "      <td>2013-01-18</td>\n",
       "      <td>48.846028,2.375429</td>\n",
       "      <td>Y2H15027244</td>\n",
       "      <td>48.846028</td>\n",
       "      <td>2.375429</td>\n",
       "      <td>0.000000</td>\n",
       "    </tr>\n",
       "    <tr>\n",
       "      <th>48330</th>\n",
       "      <td>100007049-102007049</td>\n",
       "      <td>28 boulevard Diderot E-O</td>\n",
       "      <td>100007049</td>\n",
       "      <td>28 boulevard Diderot</td>\n",
       "      <td>4.0</td>\n",
       "      <td>2020-09-01 15:00:00</td>\n",
       "      <td>2013-01-18</td>\n",
       "      <td>48.846028,2.375429</td>\n",
       "      <td>Y2H15027244</td>\n",
       "      <td>48.846028</td>\n",
       "      <td>2.375429</td>\n",
       "      <td>1.609438</td>\n",
       "    </tr>\n",
       "    <tr>\n",
       "      <th>48333</th>\n",
       "      <td>100007049-102007049</td>\n",
       "      <td>28 boulevard Diderot E-O</td>\n",
       "      <td>100007049</td>\n",
       "      <td>28 boulevard Diderot</td>\n",
       "      <td>9.0</td>\n",
       "      <td>2020-09-01 18:00:00</td>\n",
       "      <td>2013-01-18</td>\n",
       "      <td>48.846028,2.375429</td>\n",
       "      <td>Y2H15027244</td>\n",
       "      <td>48.846028</td>\n",
       "      <td>2.375429</td>\n",
       "      <td>2.302585</td>\n",
       "    </tr>\n",
       "  </tbody>\n",
       "</table>\n",
       "</div>"
      ],
      "text/plain": [
       "                counter_id              counter_name    site_id  \\\n",
       "48321  100007049-102007049  28 boulevard Diderot E-O  100007049   \n",
       "48324  100007049-102007049  28 boulevard Diderot E-O  100007049   \n",
       "48327  100007049-102007049  28 boulevard Diderot E-O  100007049   \n",
       "48330  100007049-102007049  28 boulevard Diderot E-O  100007049   \n",
       "48333  100007049-102007049  28 boulevard Diderot E-O  100007049   \n",
       "\n",
       "                  site_name  bike_count                date  \\\n",
       "48321  28 boulevard Diderot         0.0 2020-09-01 02:00:00   \n",
       "48324  28 boulevard Diderot         1.0 2020-09-01 03:00:00   \n",
       "48327  28 boulevard Diderot         0.0 2020-09-01 04:00:00   \n",
       "48330  28 boulevard Diderot         4.0 2020-09-01 15:00:00   \n",
       "48333  28 boulevard Diderot         9.0 2020-09-01 18:00:00   \n",
       "\n",
       "      counter_installation_date         coordinates counter_technical_id  \\\n",
       "48321                2013-01-18  48.846028,2.375429          Y2H15027244   \n",
       "48324                2013-01-18  48.846028,2.375429          Y2H15027244   \n",
       "48327                2013-01-18  48.846028,2.375429          Y2H15027244   \n",
       "48330                2013-01-18  48.846028,2.375429          Y2H15027244   \n",
       "48333                2013-01-18  48.846028,2.375429          Y2H15027244   \n",
       "\n",
       "        latitude  longitude  log_bike_count  \n",
       "48321  48.846028   2.375429        0.000000  \n",
       "48324  48.846028   2.375429        0.693147  \n",
       "48327  48.846028   2.375429        0.000000  \n",
       "48330  48.846028   2.375429        1.609438  \n",
       "48333  48.846028   2.375429        2.302585  "
      ]
     },
     "execution_count": 30,
     "metadata": {},
     "output_type": "execute_result"
    }
   ],
   "source": [
    "df = pd.read_parquet(Path(\"data\")/ \"train.parquet\")\n",
    "df.head()"
   ]
  },
  {
   "cell_type": "code",
   "execution_count": 7,
   "metadata": {},
   "outputs": [
    {
     "name": "stdout",
     "output_type": "stream",
     "text": [
      "=== Basic Information ===\n",
      "<class 'pandas.core.frame.DataFrame'>\n",
      "Index: 496827 entries, 48321 to 929187\n",
      "Data columns (total 12 columns):\n",
      " #   Column                     Non-Null Count   Dtype         \n",
      "---  ------                     --------------   -----         \n",
      " 0   counter_id                 496827 non-null  category      \n",
      " 1   counter_name               496827 non-null  category      \n",
      " 2   site_id                    496827 non-null  int64         \n",
      " 3   site_name                  496827 non-null  category      \n",
      " 4   bike_count                 496827 non-null  float64       \n",
      " 5   date                       496827 non-null  datetime64[us]\n",
      " 6   counter_installation_date  496827 non-null  datetime64[us]\n",
      " 7   coordinates                496827 non-null  category      \n",
      " 8   counter_technical_id       496827 non-null  category      \n",
      " 9   latitude                   496827 non-null  float64       \n",
      " 10  longitude                  496827 non-null  float64       \n",
      " 11  log_bike_count             496827 non-null  float64       \n",
      "dtypes: category(5), datetime64[us](2), float64(4), int64(1)\n",
      "memory usage: 32.7 MB\n",
      "None\n",
      "\n",
      "=== First few rows ===\n",
      "                counter_id              counter_name    site_id  \\\n",
      "48321  100007049-102007049  28 boulevard Diderot E-O  100007049   \n",
      "48324  100007049-102007049  28 boulevard Diderot E-O  100007049   \n",
      "48327  100007049-102007049  28 boulevard Diderot E-O  100007049   \n",
      "48330  100007049-102007049  28 boulevard Diderot E-O  100007049   \n",
      "48333  100007049-102007049  28 boulevard Diderot E-O  100007049   \n",
      "\n",
      "                  site_name  bike_count                date  \\\n",
      "48321  28 boulevard Diderot         0.0 2020-09-01 02:00:00   \n",
      "48324  28 boulevard Diderot         1.0 2020-09-01 03:00:00   \n",
      "48327  28 boulevard Diderot         0.0 2020-09-01 04:00:00   \n",
      "48330  28 boulevard Diderot         4.0 2020-09-01 15:00:00   \n",
      "48333  28 boulevard Diderot         9.0 2020-09-01 18:00:00   \n",
      "\n",
      "      counter_installation_date         coordinates counter_technical_id  \\\n",
      "48321                2013-01-18  48.846028,2.375429          Y2H15027244   \n",
      "48324                2013-01-18  48.846028,2.375429          Y2H15027244   \n",
      "48327                2013-01-18  48.846028,2.375429          Y2H15027244   \n",
      "48330                2013-01-18  48.846028,2.375429          Y2H15027244   \n",
      "48333                2013-01-18  48.846028,2.375429          Y2H15027244   \n",
      "\n",
      "        latitude  longitude  log_bike_count  \n",
      "48321  48.846028   2.375429        0.000000  \n",
      "48324  48.846028   2.375429        0.693147  \n",
      "48327  48.846028   2.375429        0.000000  \n",
      "48330  48.846028   2.375429        1.609438  \n",
      "48333  48.846028   2.375429        2.302585  \n",
      "\n",
      "=== Basic Statistics ===\n",
      "            site_id     bike_count                        date  \\\n",
      "count  4.968270e+05  496827.000000                      496827   \n",
      "mean   1.053450e+08      60.191475  2021-03-08 07:25:59.668858   \n",
      "min    1.000070e+08       0.000000         2020-09-01 01:00:00   \n",
      "25%    1.000475e+08       5.000000         2020-12-05 22:00:00   \n",
      "50%    1.000562e+08      29.000000         2021-03-08 11:00:00   \n",
      "75%    1.000563e+08      79.000000         2021-06-09 14:00:00   \n",
      "max    3.000147e+08    1302.000000         2021-09-09 23:00:00   \n",
      "std    3.210346e+07      87.590566                         NaN   \n",
      "\n",
      "        counter_installation_date       latitude      longitude  \\\n",
      "count                      496827  496827.000000  496827.000000   \n",
      "mean   2019-04-04 07:24:35.245911      48.854343       2.345479   \n",
      "min           2013-01-18 00:00:00      48.826360       2.265420   \n",
      "25%           2018-11-29 00:00:00      48.840801       2.314440   \n",
      "50%           2019-11-06 00:00:00      48.852090       2.353870   \n",
      "75%           2019-12-11 00:00:00      48.864610       2.375870   \n",
      "max           2020-11-29 00:00:00      48.891720       2.409690   \n",
      "std                           NaN       0.018554       0.038026   \n",
      "\n",
      "       log_bike_count  \n",
      "count   496827.000000  \n",
      "mean         3.079917  \n",
      "min          0.000000  \n",
      "25%          1.791759  \n",
      "50%          3.401197  \n",
      "75%          4.382027  \n",
      "max          7.172425  \n",
      "std          1.659899  \n"
     ]
    }
   ],
   "source": [
    "#  Basic Overview\n",
    "print(\"=== Basic Information ===\")\n",
    "print(df.info())\n",
    "print(\"\\n=== First few rows ===\")\n",
    "print(df.head())\n",
    "print(\"\\n=== Basic Statistics ===\")\n",
    "print(df.describe())"
   ]
  },
  {
   "cell_type": "code",
   "execution_count": 8,
   "metadata": {},
   "outputs": [
    {
     "name": "stdout",
     "output_type": "stream",
     "text": [
      "\n",
      "=== Number of unique values per column ===\n",
      "counter_id: 56 unique values\n",
      "counter_name: 56 unique values\n",
      "site_id: 30 unique values\n",
      "site_name: 30 unique values\n",
      "bike_count: 998 unique values\n",
      "date: 8974 unique values\n",
      "counter_installation_date: 22 unique values\n",
      "coordinates: 30 unique values\n",
      "counter_technical_id: 30 unique values\n",
      "latitude: 30 unique values\n",
      "longitude: 30 unique values\n",
      "log_bike_count: 998 unique values\n"
     ]
    }
   ],
   "source": [
    "# Unique Values Analysis\n",
    "print(\"\\n=== Number of unique values per column ===\")\n",
    "for col in df.columns:\n",
    "    print(f\"{col}: {df[col].nunique()} unique values\")"
   ]
  },
  {
   "cell_type": "code",
   "execution_count": 9,
   "metadata": {},
   "outputs": [
    {
     "name": "stderr",
     "output_type": "stream",
     "text": [
      "C:\\Users\\alexa\\AppData\\Local\\Temp\\ipykernel_11616\\2792127300.py:2: FutureWarning: The default of observed=False is deprecated and will be changed to True in a future version of pandas. Pass observed=False to retain current behavior or observed=True to adopt the future default and silence this warning.\n",
      "  df.groupby([\"site_name\", \"counter_name\"])[\"bike_count\"].sum()\n"
     ]
    },
    {
     "data": {
      "text/html": [
       "<div>\n",
       "<style scoped>\n",
       "    .dataframe tbody tr th:only-of-type {\n",
       "        vertical-align: middle;\n",
       "    }\n",
       "\n",
       "    .dataframe tbody tr th {\n",
       "        vertical-align: top;\n",
       "    }\n",
       "\n",
       "    .dataframe thead th {\n",
       "        text-align: right;\n",
       "    }\n",
       "</style>\n",
       "<table border=\"1\" class=\"dataframe\">\n",
       "  <thead>\n",
       "    <tr style=\"text-align: right;\">\n",
       "      <th></th>\n",
       "      <th></th>\n",
       "      <th>bike_count</th>\n",
       "    </tr>\n",
       "    <tr>\n",
       "      <th>site_name</th>\n",
       "      <th>counter_name</th>\n",
       "      <th></th>\n",
       "    </tr>\n",
       "  </thead>\n",
       "  <tbody>\n",
       "    <tr>\n",
       "      <th>Totem 73 boulevard de Sébastopol</th>\n",
       "      <th>Totem 73 boulevard de Sébastopol S-N</th>\n",
       "      <td>1992227.0</td>\n",
       "    </tr>\n",
       "    <tr>\n",
       "      <th>Totem 64 Rue de Rivoli</th>\n",
       "      <th>Totem 64 Rue de Rivoli O-E</th>\n",
       "      <td>1551730.0</td>\n",
       "    </tr>\n",
       "    <tr>\n",
       "      <th>Totem 73 boulevard de Sébastopol</th>\n",
       "      <th>Totem 73 boulevard de Sébastopol N-S</th>\n",
       "      <td>1497912.0</td>\n",
       "    </tr>\n",
       "    <tr>\n",
       "      <th>67 boulevard Voltaire SE-NO</th>\n",
       "      <th>67 boulevard Voltaire SE-NO</th>\n",
       "      <td>1130565.0</td>\n",
       "    </tr>\n",
       "    <tr>\n",
       "      <th>Totem 64 Rue de Rivoli</th>\n",
       "      <th>Totem 64 Rue de Rivoli E-O</th>\n",
       "      <td>1015875.0</td>\n",
       "    </tr>\n",
       "    <tr>\n",
       "      <th>27 quai de la Tournelle</th>\n",
       "      <th>27 quai de la Tournelle SE-NO</th>\n",
       "      <td>984914.0</td>\n",
       "    </tr>\n",
       "    <tr>\n",
       "      <th>Quai d'Orsay</th>\n",
       "      <th>Quai d'Orsay E-O</th>\n",
       "      <td>948357.0</td>\n",
       "    </tr>\n",
       "    <tr>\n",
       "      <th>Totem Cours la Reine</th>\n",
       "      <th>Totem Cours la Reine O-E</th>\n",
       "      <td>894937.0</td>\n",
       "    </tr>\n",
       "    <tr>\n",
       "      <th rowspan=\"2\" valign=\"top\">Face au 48 quai de la marne</th>\n",
       "      <th>Face au 48 quai de la marne SO-NE</th>\n",
       "      <td>884907.0</td>\n",
       "    </tr>\n",
       "    <tr>\n",
       "      <th>Face au 48 quai de la marne NE-SO</th>\n",
       "      <td>833657.0</td>\n",
       "    </tr>\n",
       "  </tbody>\n",
       "</table>\n",
       "</div>"
      ],
      "text/plain": [
       "                                                                       bike_count\n",
       "site_name                        counter_name                                    \n",
       "Totem 73 boulevard de Sébastopol Totem 73 boulevard de Sébastopol S-N   1992227.0\n",
       "Totem 64 Rue de Rivoli           Totem 64 Rue de Rivoli O-E             1551730.0\n",
       "Totem 73 boulevard de Sébastopol Totem 73 boulevard de Sébastopol N-S   1497912.0\n",
       "67 boulevard Voltaire SE-NO      67 boulevard Voltaire SE-NO            1130565.0\n",
       "Totem 64 Rue de Rivoli           Totem 64 Rue de Rivoli E-O             1015875.0\n",
       "27 quai de la Tournelle          27 quai de la Tournelle SE-NO           984914.0\n",
       "Quai d'Orsay                     Quai d'Orsay E-O                        948357.0\n",
       "Totem Cours la Reine             Totem Cours la Reine O-E                894937.0\n",
       "Face au 48 quai de la marne      Face au 48 quai de la marne SO-NE       884907.0\n",
       "                                 Face au 48 quai de la marne NE-SO       833657.0"
      ]
     },
     "execution_count": 9,
     "metadata": {},
     "output_type": "execute_result"
    }
   ],
   "source": [
    "(\n",
    "    df.groupby([\"site_name\", \"counter_name\"])[\"bike_count\"].sum()\n",
    "    .sort_values(ascending=False)\n",
    "    .head(10)\n",
    "    .to_frame()\n",
    ")"
   ]
  },
  {
   "cell_type": "code",
   "execution_count": 10,
   "metadata": {},
   "outputs": [],
   "source": [
    "# Convert date to datetime\n",
    "df['date'] = pd.to_datetime(df['date'])\n",
    "df['hour'] = df['date'].dt.hour\n",
    "df['day_of_week'] = df['date'].dt.dayofweek\n",
    "df['month'] = df['date'].dt.month\n",
    "df['weekday'] = df['date'].dt.day_name()\n",
    "df['is_weekend'] = df['date'].dt.weekday >= 5"
   ]
  },
  {
   "cell_type": "markdown",
   "metadata": {},
   "source": [
    "Kind of as expected people take velibs to go back and from work mostly (so around 7 until 4 or 5). So it would be worthwile to add in holidays in our analysis as external data because I think they can have a huge impact on the ending."
   ]
  },
  {
   "cell_type": "markdown",
   "metadata": {},
   "source": [
    "Maybe look up some stats/sondages about velib uses and when/why/who uses velib as part of our EDA."
   ]
  },
  {
   "cell_type": "code",
   "execution_count": null,
   "metadata": {},
   "outputs": [
    {
     "ename": "NameError",
     "evalue": "name 'plt' is not defined",
     "output_type": "error",
     "traceback": [
      "\u001b[1;31m---------------------------------------------------------------------------\u001b[0m",
      "\u001b[1;31mNameError\u001b[0m                                 Traceback (most recent call last)",
      "Cell \u001b[1;32mIn[11], line 2\u001b[0m\n\u001b[0;32m      1\u001b[0m \u001b[38;5;66;03m# Time Series View\u001b[39;00m\n\u001b[1;32m----> 2\u001b[0m \u001b[43mplt\u001b[49m\u001b[38;5;241m.\u001b[39mfigure(figsize\u001b[38;5;241m=\u001b[39m(\u001b[38;5;241m15\u001b[39m, \u001b[38;5;241m6\u001b[39m))\n\u001b[0;32m      3\u001b[0m daily_counts \u001b[38;5;241m=\u001b[39m df\u001b[38;5;241m.\u001b[39mgroupby(\u001b[38;5;124m'\u001b[39m\u001b[38;5;124mdate\u001b[39m\u001b[38;5;124m'\u001b[39m)[\u001b[38;5;124m'\u001b[39m\u001b[38;5;124mbike_count\u001b[39m\u001b[38;5;124m'\u001b[39m]\u001b[38;5;241m.\u001b[39mmean()\n\u001b[0;32m      4\u001b[0m daily_counts\u001b[38;5;241m.\u001b[39mplot()\n",
      "\u001b[1;31mNameError\u001b[0m: name 'plt' is not defined"
     ]
    }
   ],
   "source": [
    "# Time Series View\n",
    "plt.figure(figsize=(15, 6))\n",
    "daily_counts = df.groupby('date')['bike_count'].mean()\n",
    "daily_counts.plot()\n",
    "plt.title('Average Daily Bike Count Over Time')\n",
    "plt.xlabel('Date')\n",
    "plt.ylabel('Average Bike Count')\n",
    "plt.tight_layout()\n",
    "plt.show()\n"
   ]
  },
  {
   "cell_type": "markdown",
   "metadata": {},
   "source": [
    "This seems to confirm my view, for example we can look at around end of decemeber most people are in vacation, it's cold and there is a sharp drop in velib use..."
   ]
  },
  {
   "cell_type": "code",
   "execution_count": null,
   "metadata": {},
   "outputs": [
    {
     "ename": "NameError",
     "evalue": "name 'plt' is not defined",
     "output_type": "error",
     "traceback": [
      "\u001b[1;31m---------------------------------------------------------------------------\u001b[0m",
      "\u001b[1;31mNameError\u001b[0m                                 Traceback (most recent call last)",
      "Cell \u001b[1;32mIn[12], line 3\u001b[0m\n\u001b[0;32m      1\u001b[0m \u001b[38;5;66;03m# Monthly patterns\u001b[39;00m\n\u001b[0;32m      2\u001b[0m monthly_traffic \u001b[38;5;241m=\u001b[39m df\u001b[38;5;241m.\u001b[39mgroupby([\u001b[38;5;124m'\u001b[39m\u001b[38;5;124mmonth\u001b[39m\u001b[38;5;124m'\u001b[39m])[\u001b[38;5;124m'\u001b[39m\u001b[38;5;124mbike_count\u001b[39m\u001b[38;5;124m'\u001b[39m]\u001b[38;5;241m.\u001b[39mmean()\n\u001b[1;32m----> 3\u001b[0m \u001b[43mplt\u001b[49m\u001b[38;5;241m.\u001b[39mfigure(figsize\u001b[38;5;241m=\u001b[39m(\u001b[38;5;241m12\u001b[39m, \u001b[38;5;241m6\u001b[39m))\n\u001b[0;32m      4\u001b[0m monthly_traffic\u001b[38;5;241m.\u001b[39mT\u001b[38;5;241m.\u001b[39mplot(marker\u001b[38;5;241m=\u001b[39m\u001b[38;5;124m'\u001b[39m\u001b[38;5;124mo\u001b[39m\u001b[38;5;124m'\u001b[39m)\n\u001b[0;32m      5\u001b[0m plt\u001b[38;5;241m.\u001b[39mtitle(\u001b[38;5;124m'\u001b[39m\u001b[38;5;124mMonthly Patterns by Year\u001b[39m\u001b[38;5;124m'\u001b[39m)\n",
      "\u001b[1;31mNameError\u001b[0m: name 'plt' is not defined"
     ]
    }
   ],
   "source": [
    "# Monthly patterns\n",
    "monthly_traffic = df.groupby(['month'])['bike_count'].mean()\n",
    "plt.figure(figsize=(12, 6))\n",
    "monthly_traffic.T.plot(marker='o')\n",
    "plt.title('Monthly Patterns by Year')\n",
    "plt.xlabel('Month')\n",
    "plt.ylabel('Average Bike Count')\n",
    "plt.grid(True)\n",
    "plt.show()"
   ]
  },
  {
   "cell_type": "code",
   "execution_count": 13,
   "metadata": {},
   "outputs": [
    {
     "ename": "NameError",
     "evalue": "name 'plt' is not defined",
     "output_type": "error",
     "traceback": [
      "\u001b[1;31m---------------------------------------------------------------------------\u001b[0m",
      "\u001b[1;31mNameError\u001b[0m                                 Traceback (most recent call last)",
      "Cell \u001b[1;32mIn[13], line 2\u001b[0m\n\u001b[0;32m      1\u001b[0m \u001b[38;5;66;03m# Plot hourly patterns\u001b[39;00m\n\u001b[1;32m----> 2\u001b[0m \u001b[43mplt\u001b[49m\u001b[38;5;241m.\u001b[39mfigure(figsize\u001b[38;5;241m=\u001b[39m(\u001b[38;5;241m12\u001b[39m, \u001b[38;5;241m6\u001b[39m))\n\u001b[0;32m      3\u001b[0m hourly_avg \u001b[38;5;241m=\u001b[39m df\u001b[38;5;241m.\u001b[39mgroupby(\u001b[38;5;124m'\u001b[39m\u001b[38;5;124mhour\u001b[39m\u001b[38;5;124m'\u001b[39m)[\u001b[38;5;124m'\u001b[39m\u001b[38;5;124mbike_count\u001b[39m\u001b[38;5;124m'\u001b[39m]\u001b[38;5;241m.\u001b[39mmean()\n\u001b[0;32m      4\u001b[0m hourly_avg\u001b[38;5;241m.\u001b[39mplot(kind\u001b[38;5;241m=\u001b[39m\u001b[38;5;124m'\u001b[39m\u001b[38;5;124mbar\u001b[39m\u001b[38;5;124m'\u001b[39m)\n",
      "\u001b[1;31mNameError\u001b[0m: name 'plt' is not defined"
     ]
    }
   ],
   "source": [
    "# Plot hourly patterns\n",
    "plt.figure(figsize=(12, 6))\n",
    "hourly_avg = df.groupby('hour')['bike_count'].mean()\n",
    "hourly_avg.plot(kind='bar')\n",
    "plt.title('Average Bike Count by Hour')\n",
    "plt.xlabel('Hour of Day')\n",
    "plt.ylabel('Average Number of Bikes')\n",
    "plt.tight_layout()\n",
    "plt.show()"
   ]
  },
  {
   "cell_type": "markdown",
   "metadata": {},
   "source": [
    "Velib are used for commuting to working  looking at the peak hours. Let's verify that by looking at weekdays/weekends and weekdays/holidays patterns an important difference will indicate different use."
   ]
  },
  {
   "cell_type": "code",
   "execution_count": 14,
   "metadata": {},
   "outputs": [
    {
     "ename": "NameError",
     "evalue": "name 'plt' is not defined",
     "output_type": "error",
     "traceback": [
      "\u001b[1;31m---------------------------------------------------------------------------\u001b[0m",
      "\u001b[1;31mNameError\u001b[0m                                 Traceback (most recent call last)",
      "Cell \u001b[1;32mIn[14], line 3\u001b[0m\n\u001b[0;32m      1\u001b[0m \u001b[38;5;66;03m# Daily Patterns\u001b[39;00m\n\u001b[0;32m      2\u001b[0m hourly_traffic \u001b[38;5;241m=\u001b[39m df\u001b[38;5;241m.\u001b[39mgroupby([\u001b[38;5;124m'\u001b[39m\u001b[38;5;124mhour\u001b[39m\u001b[38;5;124m'\u001b[39m, \u001b[38;5;124m'\u001b[39m\u001b[38;5;124mis_weekend\u001b[39m\u001b[38;5;124m'\u001b[39m])[\u001b[38;5;124m'\u001b[39m\u001b[38;5;124mbike_count\u001b[39m\u001b[38;5;124m'\u001b[39m]\u001b[38;5;241m.\u001b[39mmean()\u001b[38;5;241m.\u001b[39munstack()\n\u001b[1;32m----> 3\u001b[0m \u001b[43mplt\u001b[49m\u001b[38;5;241m.\u001b[39mfigure(figsize\u001b[38;5;241m=\u001b[39m(\u001b[38;5;241m12\u001b[39m, \u001b[38;5;241m6\u001b[39m))\n\u001b[0;32m      4\u001b[0m hourly_traffic\u001b[38;5;241m.\u001b[39mplot(marker\u001b[38;5;241m=\u001b[39m\u001b[38;5;124m'\u001b[39m\u001b[38;5;124mo\u001b[39m\u001b[38;5;124m'\u001b[39m)\n\u001b[0;32m      5\u001b[0m plt\u001b[38;5;241m.\u001b[39mtitle(\u001b[38;5;124m'\u001b[39m\u001b[38;5;124mAverage Hourly Traffic: Weekday vs Weekend\u001b[39m\u001b[38;5;124m'\u001b[39m)\n",
      "\u001b[1;31mNameError\u001b[0m: name 'plt' is not defined"
     ]
    }
   ],
   "source": [
    "# Daily Patterns\n",
    "hourly_traffic = df.groupby(['hour', 'is_weekend'])['bike_count'].mean().unstack()\n",
    "plt.figure(figsize=(12, 6))\n",
    "hourly_traffic.plot(marker='o')\n",
    "plt.title('Average Hourly Traffic: Weekday vs Weekend')\n",
    "plt.xlabel('Hour of Day')\n",
    "plt.ylabel('Average Bike Count')\n",
    "plt.legend(['Weekday', 'Weekend'])\n",
    "plt.grid(True)\n",
    "plt.show()"
   ]
  },
  {
   "cell_type": "code",
   "execution_count": 15,
   "metadata": {},
   "outputs": [
    {
     "data": {
      "text/plain": [
       "date    datetime64[ns]\n",
       "dtype: object"
      ]
     },
     "execution_count": 15,
     "metadata": {},
     "output_type": "execute_result"
    }
   ],
   "source": [
    "holidays = pd.read_csv('external_data/Holidays/Propre_jours_feries.csv')\n",
    "holidays['date'] = pd.to_datetime(holidays['date'])\n",
    "holidays.dtypes"
   ]
  },
  {
   "cell_type": "code",
   "execution_count": 16,
   "metadata": {},
   "outputs": [],
   "source": [
    "df['is_holiday'] = df['date'].dt.date.isin(holidays['date'].dt.date)"
   ]
  },
  {
   "cell_type": "code",
   "execution_count": 17,
   "metadata": {},
   "outputs": [
    {
     "ename": "NameError",
     "evalue": "name 'plt' is not defined",
     "output_type": "error",
     "traceback": [
      "\u001b[1;31m---------------------------------------------------------------------------\u001b[0m",
      "\u001b[1;31mNameError\u001b[0m                                 Traceback (most recent call last)",
      "Cell \u001b[1;32mIn[17], line 2\u001b[0m\n\u001b[0;32m      1\u001b[0m \u001b[38;5;66;03m# Compare traffic patterns\u001b[39;00m\n\u001b[1;32m----> 2\u001b[0m \u001b[43mplt\u001b[49m\u001b[38;5;241m.\u001b[39mfigure(figsize\u001b[38;5;241m=\u001b[39m(\u001b[38;5;241m15\u001b[39m, \u001b[38;5;241m6\u001b[39m))\n\u001b[0;32m      3\u001b[0m comparison \u001b[38;5;241m=\u001b[39m df\u001b[38;5;241m.\u001b[39mgroupby([\u001b[38;5;124m'\u001b[39m\u001b[38;5;124mhour\u001b[39m\u001b[38;5;124m'\u001b[39m, \u001b[38;5;124m'\u001b[39m\u001b[38;5;124mis_holiday\u001b[39m\u001b[38;5;124m'\u001b[39m])[\u001b[38;5;124m'\u001b[39m\u001b[38;5;124mbike_count\u001b[39m\u001b[38;5;124m'\u001b[39m]\u001b[38;5;241m.\u001b[39mmean()\u001b[38;5;241m.\u001b[39munstack()\n\u001b[0;32m      4\u001b[0m comparison\u001b[38;5;241m.\u001b[39mplot(marker\u001b[38;5;241m=\u001b[39m\u001b[38;5;124m'\u001b[39m\u001b[38;5;124mo\u001b[39m\u001b[38;5;124m'\u001b[39m)\n",
      "\u001b[1;31mNameError\u001b[0m: name 'plt' is not defined"
     ]
    }
   ],
   "source": [
    "# Compare traffic patterns\n",
    "plt.figure(figsize=(15, 6))\n",
    "comparison = df.groupby(['hour', 'is_holiday'])['bike_count'].mean().unstack()\n",
    "comparison.plot(marker='o')\n",
    "plt.title('Average Hourly Bike Traffic: Holidays vs Regular Days')\n",
    "plt.xlabel('Hour of Day')\n",
    "plt.ylabel('Average Number of Bikes')\n",
    "plt.legend(['Regular Days', 'Holidays'])\n",
    "plt.grid(True)\n",
    "plt.show()"
   ]
  },
  {
   "cell_type": "markdown",
   "metadata": {},
   "source": [
    "The difference is even more important than with weekdays vs weekends."
   ]
  },
  {
   "cell_type": "code",
   "execution_count": 18,
   "metadata": {},
   "outputs": [
    {
     "data": {
      "text/html": [
       "<div>\n",
       "<style scoped>\n",
       "    .dataframe tbody tr th:only-of-type {\n",
       "        vertical-align: middle;\n",
       "    }\n",
       "\n",
       "    .dataframe tbody tr th {\n",
       "        vertical-align: top;\n",
       "    }\n",
       "\n",
       "    .dataframe thead th {\n",
       "        text-align: right;\n",
       "    }\n",
       "</style>\n",
       "<table border=\"1\" class=\"dataframe\">\n",
       "  <thead>\n",
       "    <tr style=\"text-align: right;\">\n",
       "      <th></th>\n",
       "      <th>date</th>\n",
       "    </tr>\n",
       "  </thead>\n",
       "  <tbody>\n",
       "    <tr>\n",
       "      <th>0</th>\n",
       "      <td>2017-10-20</td>\n",
       "    </tr>\n",
       "    <tr>\n",
       "      <th>1</th>\n",
       "      <td>2017-10-21</td>\n",
       "    </tr>\n",
       "    <tr>\n",
       "      <th>2</th>\n",
       "      <td>2017-10-22</td>\n",
       "    </tr>\n",
       "    <tr>\n",
       "      <th>3</th>\n",
       "      <td>2017-10-23</td>\n",
       "    </tr>\n",
       "    <tr>\n",
       "      <th>4</th>\n",
       "      <td>2017-10-24</td>\n",
       "    </tr>\n",
       "  </tbody>\n",
       "</table>\n",
       "</div>"
      ],
      "text/plain": [
       "         date\n",
       "0  2017-10-20\n",
       "1  2017-10-21\n",
       "2  2017-10-22\n",
       "3  2017-10-23\n",
       "4  2017-10-24"
      ]
     },
     "execution_count": 18,
     "metadata": {},
     "output_type": "execute_result"
    }
   ],
   "source": [
    "# Read the holidays data\n",
    "holidays_sco = pd.read_csv('external_data/Holidays/Propre_vacances_scolaires.csv')\n",
    "holidays_sco.head()"
   ]
  },
  {
   "cell_type": "code",
   "execution_count": 19,
   "metadata": {},
   "outputs": [],
   "source": [
    "holidays_sco['date'] = pd.to_datetime(holidays_sco['date'])\n",
    "df['is_holiday_sco'] = df['date'].dt.date.isin(holidays_sco['date'].dt.date)"
   ]
  },
  {
   "cell_type": "code",
   "execution_count": 20,
   "metadata": {},
   "outputs": [
    {
     "data": {
      "text/plain": [
       "133"
      ]
     },
     "execution_count": 20,
     "metadata": {},
     "output_type": "execute_result"
    }
   ],
   "source": [
    "holidays_sco = holidays_sco[holidays_sco['date'].dt.year == 2021]\n",
    "holidays_sco = holidays_sco.drop_duplicates()\n",
    "len(holidays_sco)"
   ]
  },
  {
   "cell_type": "code",
   "execution_count": 21,
   "metadata": {},
   "outputs": [
    {
     "ename": "NameError",
     "evalue": "name 'plt' is not defined",
     "output_type": "error",
     "traceback": [
      "\u001b[1;31m---------------------------------------------------------------------------\u001b[0m",
      "\u001b[1;31mNameError\u001b[0m                                 Traceback (most recent call last)",
      "Cell \u001b[1;32mIn[21], line 2\u001b[0m\n\u001b[0;32m      1\u001b[0m \u001b[38;5;66;03m# 2. Compare traffic patterns vacances scolaires vs not vacances scolaires\u001b[39;00m\n\u001b[1;32m----> 2\u001b[0m \u001b[43mplt\u001b[49m\u001b[38;5;241m.\u001b[39mfigure(figsize\u001b[38;5;241m=\u001b[39m(\u001b[38;5;241m15\u001b[39m, \u001b[38;5;241m6\u001b[39m))\n\u001b[0;32m      3\u001b[0m comparison \u001b[38;5;241m=\u001b[39m df\u001b[38;5;241m.\u001b[39mgroupby([\u001b[38;5;124m'\u001b[39m\u001b[38;5;124mhour\u001b[39m\u001b[38;5;124m'\u001b[39m, \u001b[38;5;124m'\u001b[39m\u001b[38;5;124mis_holiday_sco\u001b[39m\u001b[38;5;124m'\u001b[39m])[\u001b[38;5;124m'\u001b[39m\u001b[38;5;124mbike_count\u001b[39m\u001b[38;5;124m'\u001b[39m]\u001b[38;5;241m.\u001b[39mmean()\u001b[38;5;241m.\u001b[39munstack()\n\u001b[0;32m      4\u001b[0m comparison\u001b[38;5;241m.\u001b[39mplot(marker\u001b[38;5;241m=\u001b[39m\u001b[38;5;124m'\u001b[39m\u001b[38;5;124mo\u001b[39m\u001b[38;5;124m'\u001b[39m)\n",
      "\u001b[1;31mNameError\u001b[0m: name 'plt' is not defined"
     ]
    }
   ],
   "source": [
    "# 2. Compare traffic patterns vacances scolaires vs not vacances scolaires\n",
    "plt.figure(figsize=(15, 6))\n",
    "comparison = df.groupby(['hour', 'is_holiday_sco'])['bike_count'].mean().unstack()\n",
    "comparison.plot(marker='o')\n",
    "plt.title('Average Hourly Bike Traffic: Holidays (Scolaire) vs Regular Days')\n",
    "plt.xlabel('Hour of Day')\n",
    "plt.ylabel('Average Number of Bikes')\n",
    "plt.legend(['Regular Days', 'Holidays (scolaire)'])\n",
    "plt.grid(True)\n",
    "plt.show()"
   ]
  },
  {
   "cell_type": "markdown",
   "metadata": {},
   "source": [
    "The impact is less pronounced for holidays_sco than for bank holidays, indeed french childrens have quite a lot of holiday and adults don't always take their holidays at the same time (and have less). The information still seems to hold value so we will use it in our models."
   ]
  },
  {
   "attachments": {
    "image.png": {
     "image/png": "[encoded data removed]"
    }
   },
   "cell_type": "markdown",
   "metadata": {},
   "source": [
    "We are considering using Cosine transformation to my data to better capture cyclical patterns. This is the analysis obtained (I decided not too keep the code because we will be dropping the use of most of these features)\n",
    "\n",
    "We tried this encoding and checked its correlation with log_bikes\n",
    "\n",
    " Add cyclical encoding for hour (24-hour cycle)\n",
    "- df['hour_sin'] = np.sin(2 * np.pi * df['hour']/24)\n",
    "- df['hour_cos'] = np.cos(2 * np.pi * df['hour']/24)\n",
    "\n",
    " Add cyclical encoding for month (12-month cycle)\n",
    "- df['month_sin'] = np.sin(2 * np.pi * df['month']/12)\n",
    "- df['month_cos'] = np.cos(2 * np.pi * df['month']/12)\n",
    "\n",
    "Add cyclical encoding for day_of_week (7-day cycle)\n",
    "- df['day_of_week_sin'] = np.sin(2 * np.pi * df['day_of_week']/7)\n",
    "- df['day_of_week_cos'] = np.cos(2 * np.pi * df['day_of_week']/7)\n",
    "\n",
    "![image.png](attachment:image.png)"
   ]
  },
  {
   "cell_type": "markdown",
   "metadata": {},
   "source": [
    "1. Let's keep:\n",
    "- For the hour, let's replace the raw hour by the cos and sin transformation (high correlation). Keeping only one would make loose directionality\n",
    "- For themonth, let's replace the raw month by the cos and sin transformation (high correlation). Keeping only one would make loose directionality\n",
    "- For the day of the week, let's keep the raw data to avoid feature inflation"
   ]
  },
  {
   "cell_type": "code",
   "execution_count": 23,
   "metadata": {},
   "outputs": [
    {
     "data": {
      "text/html": [
       "<div>\n",
       "<style scoped>\n",
       "    .dataframe tbody tr th:only-of-type {\n",
       "        vertical-align: middle;\n",
       "    }\n",
       "\n",
       "    .dataframe tbody tr th {\n",
       "        vertical-align: top;\n",
       "    }\n",
       "\n",
       "    .dataframe thead th {\n",
       "        text-align: right;\n",
       "    }\n",
       "</style>\n",
       "<table border=\"1\" class=\"dataframe\">\n",
       "  <thead>\n",
       "    <tr style=\"text-align: right;\">\n",
       "      <th></th>\n",
       "      <th>counter_id</th>\n",
       "      <th>counter_name</th>\n",
       "      <th>site_id</th>\n",
       "      <th>site_name</th>\n",
       "      <th>bike_count</th>\n",
       "      <th>date</th>\n",
       "      <th>counter_installation_date</th>\n",
       "      <th>coordinates</th>\n",
       "      <th>counter_technical_id</th>\n",
       "      <th>latitude</th>\n",
       "      <th>longitude</th>\n",
       "      <th>log_bike_count</th>\n",
       "      <th>hour</th>\n",
       "      <th>day_of_week</th>\n",
       "      <th>month</th>\n",
       "      <th>weekday</th>\n",
       "      <th>is_weekend</th>\n",
       "      <th>is_holiday</th>\n",
       "      <th>is_holiday_sco</th>\n",
       "    </tr>\n",
       "  </thead>\n",
       "  <tbody>\n",
       "    <tr>\n",
       "      <th>48321</th>\n",
       "      <td>100007049-102007049</td>\n",
       "      <td>28 boulevard Diderot E-O</td>\n",
       "      <td>100007049</td>\n",
       "      <td>28 boulevard Diderot</td>\n",
       "      <td>0.0</td>\n",
       "      <td>2020-09-01 02:00:00</td>\n",
       "      <td>2013-01-18</td>\n",
       "      <td>48.846028,2.375429</td>\n",
       "      <td>Y2H15027244</td>\n",
       "      <td>48.846028</td>\n",
       "      <td>2.375429</td>\n",
       "      <td>0.000000</td>\n",
       "      <td>2</td>\n",
       "      <td>1</td>\n",
       "      <td>9</td>\n",
       "      <td>Tuesday</td>\n",
       "      <td>False</td>\n",
       "      <td>False</td>\n",
       "      <td>False</td>\n",
       "    </tr>\n",
       "    <tr>\n",
       "      <th>48324</th>\n",
       "      <td>100007049-102007049</td>\n",
       "      <td>28 boulevard Diderot E-O</td>\n",
       "      <td>100007049</td>\n",
       "      <td>28 boulevard Diderot</td>\n",
       "      <td>1.0</td>\n",
       "      <td>2020-09-01 03:00:00</td>\n",
       "      <td>2013-01-18</td>\n",
       "      <td>48.846028,2.375429</td>\n",
       "      <td>Y2H15027244</td>\n",
       "      <td>48.846028</td>\n",
       "      <td>2.375429</td>\n",
       "      <td>0.693147</td>\n",
       "      <td>3</td>\n",
       "      <td>1</td>\n",
       "      <td>9</td>\n",
       "      <td>Tuesday</td>\n",
       "      <td>False</td>\n",
       "      <td>False</td>\n",
       "      <td>False</td>\n",
       "    </tr>\n",
       "    <tr>\n",
       "      <th>48327</th>\n",
       "      <td>100007049-102007049</td>\n",
       "      <td>28 boulevard Diderot E-O</td>\n",
       "      <td>100007049</td>\n",
       "      <td>28 boulevard Diderot</td>\n",
       "      <td>0.0</td>\n",
       "      <td>2020-09-01 04:00:00</td>\n",
       "      <td>2013-01-18</td>\n",
       "      <td>48.846028,2.375429</td>\n",
       "      <td>Y2H15027244</td>\n",
       "      <td>48.846028</td>\n",
       "      <td>2.375429</td>\n",
       "      <td>0.000000</td>\n",
       "      <td>4</td>\n",
       "      <td>1</td>\n",
       "      <td>9</td>\n",
       "      <td>Tuesday</td>\n",
       "      <td>False</td>\n",
       "      <td>False</td>\n",
       "      <td>False</td>\n",
       "    </tr>\n",
       "    <tr>\n",
       "      <th>48330</th>\n",
       "      <td>100007049-102007049</td>\n",
       "      <td>28 boulevard Diderot E-O</td>\n",
       "      <td>100007049</td>\n",
       "      <td>28 boulevard Diderot</td>\n",
       "      <td>4.0</td>\n",
       "      <td>2020-09-01 15:00:00</td>\n",
       "      <td>2013-01-18</td>\n",
       "      <td>48.846028,2.375429</td>\n",
       "      <td>Y2H15027244</td>\n",
       "      <td>48.846028</td>\n",
       "      <td>2.375429</td>\n",
       "      <td>1.609438</td>\n",
       "      <td>15</td>\n",
       "      <td>1</td>\n",
       "      <td>9</td>\n",
       "      <td>Tuesday</td>\n",
       "      <td>False</td>\n",
       "      <td>False</td>\n",
       "      <td>False</td>\n",
       "    </tr>\n",
       "    <tr>\n",
       "      <th>48333</th>\n",
       "      <td>100007049-102007049</td>\n",
       "      <td>28 boulevard Diderot E-O</td>\n",
       "      <td>100007049</td>\n",
       "      <td>28 boulevard Diderot</td>\n",
       "      <td>9.0</td>\n",
       "      <td>2020-09-01 18:00:00</td>\n",
       "      <td>2013-01-18</td>\n",
       "      <td>48.846028,2.375429</td>\n",
       "      <td>Y2H15027244</td>\n",
       "      <td>48.846028</td>\n",
       "      <td>2.375429</td>\n",
       "      <td>2.302585</td>\n",
       "      <td>18</td>\n",
       "      <td>1</td>\n",
       "      <td>9</td>\n",
       "      <td>Tuesday</td>\n",
       "      <td>False</td>\n",
       "      <td>False</td>\n",
       "      <td>False</td>\n",
       "    </tr>\n",
       "  </tbody>\n",
       "</table>\n",
       "</div>"
      ],
      "text/plain": [
       "                counter_id              counter_name    site_id  \\\n",
       "48321  100007049-102007049  28 boulevard Diderot E-O  100007049   \n",
       "48324  100007049-102007049  28 boulevard Diderot E-O  100007049   \n",
       "48327  100007049-102007049  28 boulevard Diderot E-O  100007049   \n",
       "48330  100007049-102007049  28 boulevard Diderot E-O  100007049   \n",
       "48333  100007049-102007049  28 boulevard Diderot E-O  100007049   \n",
       "\n",
       "                  site_name  bike_count                date  \\\n",
       "48321  28 boulevard Diderot         0.0 2020-09-01 02:00:00   \n",
       "48324  28 boulevard Diderot         1.0 2020-09-01 03:00:00   \n",
       "48327  28 boulevard Diderot         0.0 2020-09-01 04:00:00   \n",
       "48330  28 boulevard Diderot         4.0 2020-09-01 15:00:00   \n",
       "48333  28 boulevard Diderot         9.0 2020-09-01 18:00:00   \n",
       "\n",
       "      counter_installation_date         coordinates counter_technical_id  \\\n",
       "48321                2013-01-18  48.846028,2.375429          Y2H15027244   \n",
       "48324                2013-01-18  48.846028,2.375429          Y2H15027244   \n",
       "48327                2013-01-18  48.846028,2.375429          Y2H15027244   \n",
       "48330                2013-01-18  48.846028,2.375429          Y2H15027244   \n",
       "48333                2013-01-18  48.846028,2.375429          Y2H15027244   \n",
       "\n",
       "        latitude  longitude  log_bike_count  hour  day_of_week  month  \\\n",
       "48321  48.846028   2.375429        0.000000     2            1      9   \n",
       "48324  48.846028   2.375429        0.693147     3            1      9   \n",
       "48327  48.846028   2.375429        0.000000     4            1      9   \n",
       "48330  48.846028   2.375429        1.609438    15            1      9   \n",
       "48333  48.846028   2.375429        2.302585    18            1      9   \n",
       "\n",
       "       weekday  is_weekend  is_holiday  is_holiday_sco  \n",
       "48321  Tuesday       False       False           False  \n",
       "48324  Tuesday       False       False           False  \n",
       "48327  Tuesday       False       False           False  \n",
       "48330  Tuesday       False       False           False  \n",
       "48333  Tuesday       False       False           False  "
      ]
     },
     "execution_count": 23,
     "metadata": {},
     "output_type": "execute_result"
    }
   ],
   "source": [
    "df.head()"
   ]
  },
  {
   "cell_type": "code",
   "execution_count": 31,
   "metadata": {},
   "outputs": [
    {
     "data": {
      "text/html": [
       "<div>\n",
       "<style scoped>\n",
       "    .dataframe tbody tr th:only-of-type {\n",
       "        vertical-align: middle;\n",
       "    }\n",
       "\n",
       "    .dataframe tbody tr th {\n",
       "        vertical-align: top;\n",
       "    }\n",
       "\n",
       "    .dataframe thead th {\n",
       "        text-align: right;\n",
       "    }\n",
       "</style>\n",
       "<table border=\"1\" class=\"dataframe\">\n",
       "  <thead>\n",
       "    <tr style=\"text-align: right;\">\n",
       "      <th></th>\n",
       "      <th>counter_id</th>\n",
       "      <th>counter_name</th>\n",
       "      <th>site_id</th>\n",
       "      <th>site_name</th>\n",
       "      <th>bike_count</th>\n",
       "      <th>date</th>\n",
       "      <th>counter_installation_date</th>\n",
       "      <th>coordinates</th>\n",
       "      <th>counter_technical_id</th>\n",
       "      <th>latitude</th>\n",
       "      <th>...</th>\n",
       "      <th>Température de l'air</th>\n",
       "      <th>Humidité relative</th>\n",
       "      <th>Visibilité horizontale</th>\n",
       "      <th>Vitesse du vent</th>\n",
       "      <th>Précipitations horaires</th>\n",
       "      <th>Petite_pluie</th>\n",
       "      <th>Grosse_pluie</th>\n",
       "      <th>index_ressenti</th>\n",
       "      <th>new_covid</th>\n",
       "      <th>hour</th>\n",
       "    </tr>\n",
       "  </thead>\n",
       "  <tbody>\n",
       "    <tr>\n",
       "      <th>0</th>\n",
       "      <td>100007049-102007049</td>\n",
       "      <td>28 boulevard Diderot E-O</td>\n",
       "      <td>100007049</td>\n",
       "      <td>28 boulevard Diderot</td>\n",
       "      <td>0.0</td>\n",
       "      <td>2020-09-01 02:00:00</td>\n",
       "      <td>2013-01-18</td>\n",
       "      <td>48.846028,2.375429</td>\n",
       "      <td>Y2H15027244</td>\n",
       "      <td>48.846028</td>\n",
       "      <td>...</td>\n",
       "      <td>12.75</td>\n",
       "      <td>81.0</td>\n",
       "      <td>30000.0</td>\n",
       "      <td>1.6</td>\n",
       "      <td>0.0</td>\n",
       "      <td>False</td>\n",
       "      <td>False</td>\n",
       "      <td>15.47</td>\n",
       "      <td>4982.0</td>\n",
       "      <td>2</td>\n",
       "    </tr>\n",
       "    <tr>\n",
       "      <th>1</th>\n",
       "      <td>100007049-102007049</td>\n",
       "      <td>28 boulevard Diderot E-O</td>\n",
       "      <td>100007049</td>\n",
       "      <td>28 boulevard Diderot</td>\n",
       "      <td>1.0</td>\n",
       "      <td>2020-09-01 03:00:00</td>\n",
       "      <td>2013-01-18</td>\n",
       "      <td>48.846028,2.375429</td>\n",
       "      <td>Y2H15027244</td>\n",
       "      <td>48.846028</td>\n",
       "      <td>...</td>\n",
       "      <td>10.95</td>\n",
       "      <td>88.0</td>\n",
       "      <td>25000.0</td>\n",
       "      <td>1.1</td>\n",
       "      <td>0.0</td>\n",
       "      <td>False</td>\n",
       "      <td>False</td>\n",
       "      <td>15.22</td>\n",
       "      <td>4982.0</td>\n",
       "      <td>3</td>\n",
       "    </tr>\n",
       "    <tr>\n",
       "      <th>2</th>\n",
       "      <td>100007049-102007049</td>\n",
       "      <td>28 boulevard Diderot E-O</td>\n",
       "      <td>100007049</td>\n",
       "      <td>28 boulevard Diderot</td>\n",
       "      <td>0.0</td>\n",
       "      <td>2020-09-01 04:00:00</td>\n",
       "      <td>2013-01-18</td>\n",
       "      <td>48.846028,2.375429</td>\n",
       "      <td>Y2H15027244</td>\n",
       "      <td>48.846028</td>\n",
       "      <td>...</td>\n",
       "      <td>10.95</td>\n",
       "      <td>88.0</td>\n",
       "      <td>25000.0</td>\n",
       "      <td>1.1</td>\n",
       "      <td>0.0</td>\n",
       "      <td>False</td>\n",
       "      <td>False</td>\n",
       "      <td>15.22</td>\n",
       "      <td>4982.0</td>\n",
       "      <td>4</td>\n",
       "    </tr>\n",
       "    <tr>\n",
       "      <th>3</th>\n",
       "      <td>100007049-102007049</td>\n",
       "      <td>28 boulevard Diderot E-O</td>\n",
       "      <td>100007049</td>\n",
       "      <td>28 boulevard Diderot</td>\n",
       "      <td>4.0</td>\n",
       "      <td>2020-09-01 15:00:00</td>\n",
       "      <td>2013-01-18</td>\n",
       "      <td>48.846028,2.375429</td>\n",
       "      <td>Y2H15027244</td>\n",
       "      <td>48.846028</td>\n",
       "      <td>...</td>\n",
       "      <td>20.65</td>\n",
       "      <td>41.0</td>\n",
       "      <td>30000.0</td>\n",
       "      <td>4.0</td>\n",
       "      <td>0.0</td>\n",
       "      <td>False</td>\n",
       "      <td>False</td>\n",
       "      <td>14.65</td>\n",
       "      <td>4982.0</td>\n",
       "      <td>15</td>\n",
       "    </tr>\n",
       "    <tr>\n",
       "      <th>4</th>\n",
       "      <td>100007049-102007049</td>\n",
       "      <td>28 boulevard Diderot E-O</td>\n",
       "      <td>100007049</td>\n",
       "      <td>28 boulevard Diderot</td>\n",
       "      <td>9.0</td>\n",
       "      <td>2020-09-01 18:00:00</td>\n",
       "      <td>2013-01-18</td>\n",
       "      <td>48.846028,2.375429</td>\n",
       "      <td>Y2H15027244</td>\n",
       "      <td>48.846028</td>\n",
       "      <td>...</td>\n",
       "      <td>19.15</td>\n",
       "      <td>47.0</td>\n",
       "      <td>30000.0</td>\n",
       "      <td>3.0</td>\n",
       "      <td>0.0</td>\n",
       "      <td>False</td>\n",
       "      <td>False</td>\n",
       "      <td>14.65</td>\n",
       "      <td>4982.0</td>\n",
       "      <td>18</td>\n",
       "    </tr>\n",
       "  </tbody>\n",
       "</table>\n",
       "<p>5 rows × 22 columns</p>\n",
       "</div>"
      ],
      "text/plain": [
       "            counter_id              counter_name    site_id  \\\n",
       "0  100007049-102007049  28 boulevard Diderot E-O  100007049   \n",
       "1  100007049-102007049  28 boulevard Diderot E-O  100007049   \n",
       "2  100007049-102007049  28 boulevard Diderot E-O  100007049   \n",
       "3  100007049-102007049  28 boulevard Diderot E-O  100007049   \n",
       "4  100007049-102007049  28 boulevard Diderot E-O  100007049   \n",
       "\n",
       "              site_name  bike_count                date  \\\n",
       "0  28 boulevard Diderot         0.0 2020-09-01 02:00:00   \n",
       "1  28 boulevard Diderot         1.0 2020-09-01 03:00:00   \n",
       "2  28 boulevard Diderot         0.0 2020-09-01 04:00:00   \n",
       "3  28 boulevard Diderot         4.0 2020-09-01 15:00:00   \n",
       "4  28 boulevard Diderot         9.0 2020-09-01 18:00:00   \n",
       "\n",
       "  counter_installation_date         coordinates counter_technical_id  \\\n",
       "0                2013-01-18  48.846028,2.375429          Y2H15027244   \n",
       "1                2013-01-18  48.846028,2.375429          Y2H15027244   \n",
       "2                2013-01-18  48.846028,2.375429          Y2H15027244   \n",
       "3                2013-01-18  48.846028,2.375429          Y2H15027244   \n",
       "4                2013-01-18  48.846028,2.375429          Y2H15027244   \n",
       "\n",
       "    latitude  ...  Température de l'air  Humidité relative  \\\n",
       "0  48.846028  ...                 12.75               81.0   \n",
       "1  48.846028  ...                 10.95               88.0   \n",
       "2  48.846028  ...                 10.95               88.0   \n",
       "3  48.846028  ...                 20.65               41.0   \n",
       "4  48.846028  ...                 19.15               47.0   \n",
       "\n",
       "   Visibilité horizontale  Vitesse du vent  Précipitations horaires  \\\n",
       "0                 30000.0              1.6                      0.0   \n",
       "1                 25000.0              1.1                      0.0   \n",
       "2                 25000.0              1.1                      0.0   \n",
       "3                 30000.0              4.0                      0.0   \n",
       "4                 30000.0              3.0                      0.0   \n",
       "\n",
       "   Petite_pluie  Grosse_pluie  index_ressenti  new_covid  hour  \n",
       "0         False         False           15.47     4982.0     2  \n",
       "1         False         False           15.22     4982.0     3  \n",
       "2         False         False           15.22     4982.0     4  \n",
       "3         False         False           14.65     4982.0    15  \n",
       "4         False         False           14.65     4982.0    18  \n",
       "\n",
       "[5 rows x 22 columns]"
      ]
     },
     "execution_count": 31,
     "metadata": {},
     "output_type": "execute_result"
    }
   ],
   "source": [
    "df['date'] = pd.to_datetime(df['date']).dt.floor('h')\n",
    "\n",
    "\n",
    "weather_df = pd.read_csv('external_data/Weather/Propre_meteo.csv')\n",
    "covid_df = pd.read_csv('external_data/Covid/Propre_nbr_Covid.csv')\n",
    "\n",
    "weather_df['date'] = pd.to_datetime(weather_df['date']).dt.floor('h')\n",
    "covid_df['date'] = pd.to_datetime(covid_df['date']).dt.floor('h')\n",
    "\n",
    "df = pd.merge(df, weather_df, on='date', how='left')\n",
    "df = pd.merge(df, covid_df, on='date', how='left')\n",
    "\n",
    "df.head()"
   ]
  },
  {
   "cell_type": "code",
   "execution_count": 25,
   "metadata": {},
   "outputs": [
    {
     "data": {
      "text/plain": [
       "Index(['counter_id', 'counter_name', 'site_id', 'site_name', 'bike_count',\n",
       "       'date', 'counter_installation_date', 'coordinates',\n",
       "       'counter_technical_id', 'latitude', 'longitude', 'log_bike_count',\n",
       "       'Température de l'air', 'Humidité relative', 'Visibilité horizontale',\n",
       "       'Vitesse du vent', 'Précipitations horaires', 'Petite_pluie',\n",
       "       'Grosse_pluie', 'index_ressenti', 'new_covid', 'hour'],\n",
       "      dtype='object')"
      ]
     },
     "execution_count": 25,
     "metadata": {},
     "output_type": "execute_result"
    }
   ],
   "source": [
    "df.columns"
   ]
  },
  {
   "cell_type": "code",
   "execution_count": 32,
   "metadata": {},
   "outputs": [],
   "source": [
    "def create_engineered_features(df):\n",
    "    \"\"\"Create optimized feature set based on correlation analysis\"\"\"\n",
    "    df = df.copy()\n",
    "\n",
    "    #Import holidays data\n",
    "    holidays = pd.read_csv('external_data/Holidays/Propre_jours_feries.csv')\n",
    "    holidays_sco = pd.read_csv('external_data/Holidays/Propre_vacances_scolaires.csv')\n",
    "\n",
    "    #Define holidays columns and holidays_sco\n",
    "    holidays['date'] = pd.to_datetime(holidays['date'])\n",
    "    df['is_holiday'] = df['date'].dt.date.isin(holidays['date'].dt.date)\n",
    "    holidays_sco['date'] = pd.to_datetime(holidays_sco['date'])\n",
    "    df['is_holiday_sco'] = df['date'].dt.date.isin(holidays_sco['date'].dt.date)\n",
    "\n",
    "    # Convert date to datetime\n",
    "    df['date'] = pd.to_datetime(df['date'])\n",
    "    df['hour'] = df['date'].dt.hour\n",
    "    df['month'] = df['date'].dt.month\n",
    "    df['weekday'] = df['date'].dt.day_name()\n",
    "    df['is_weekend'] = df['date'].dt.weekday >= 5\n",
    "\n",
    "    # Keep only hour cyclical encoding\n",
    "    df['hour_sin'] = np.sin(2 * np.pi * df['hour']/24)\n",
    "    df['hour_cos'] = np.cos(2 * np.pi * df['hour']/24)\n",
    "    df['month_sin'] = np.sin(2 * np.pi * df['month']/12)\n",
    "    df['month_cos'] = np.cos(2 * np.pi * df['month']/12)\n",
    "\n",
    "    # Create working day feature\n",
    "    df['is_working_day'] = (~df['is_weekend']) & (~df['is_holiday'])\n",
    "    # Create rush hour feature (only for working days)\n",
    "    morning_rush = (df['hour'].between(7, 9)) & df['is_working_day']\n",
    "    evening_rush = (df['hour'].between(16, 18)) & df['is_working_day']\n",
    "    # Add rush hour binary feature\n",
    "    df['is_rush_hour'] = (morning_rush | evening_rush).astype(bool)\n",
    "\n",
    "    # Drop useless columns\n",
    "    df = df.drop(columns='hour')\n",
    "    df = df.drop(columns='month')\n",
    "    df = df.drop(columns=['counter_id', 'site_id', 'site_name', 'bike_count',\n",
    "       'date', 'counter_installation_date', 'coordinates',\n",
    "       'counter_technical_id'])\n",
    "\n",
    "\n",
    "    # Define feature groups\n",
    "    numeric_features = [\n",
    "        'latitude',\n",
    "        'longitude',\n",
    "        'hour_sin',\n",
    "        'hour_cos',\n",
    "        'month_sin',\n",
    "        'month_cos',\n",
    "        \"Température de l'air\",\n",
    "        'Humidité relative', \n",
    "        'Visibilité horizontale',\n",
    "        'Vitesse du vent', \n",
    "        'Précipitations horaires',\n",
    "        'index_ressenti', \n",
    "        'new_covid'\n",
    "    ]\n",
    "\n",
    "    binary_features = [\n",
    "        'is_weekend',\n",
    "        'is_holiday',\n",
    "        'is_holiday_sco',\n",
    "        'is_working_day',\n",
    "        'is_rush_hour',\n",
    "        'Petite_pluie',\n",
    "        'Grosse_pluie'\n",
    "    ]\n",
    "\n",
    "    categorical_features = ['counter_name', 'weekday']\n",
    "\n",
    "    target = ['log_bike_count']\n",
    "\n",
    "    reordered_columns = numeric_features + binary_features + categorical_features + target\n",
    "    df = df.reindex(columns=reordered_columns)\n",
    "\n",
    "\n",
    "    return df, numeric_features, binary_features, categorical_features"
   ]
  },
  {
   "cell_type": "code",
   "execution_count": 33,
   "metadata": {},
   "outputs": [
    {
     "data": {
      "text/html": [
       "<div>\n",
       "<style scoped>\n",
       "    .dataframe tbody tr th:only-of-type {\n",
       "        vertical-align: middle;\n",
       "    }\n",
       "\n",
       "    .dataframe tbody tr th {\n",
       "        vertical-align: top;\n",
       "    }\n",
       "\n",
       "    .dataframe thead th {\n",
       "        text-align: right;\n",
       "    }\n",
       "</style>\n",
       "<table border=\"1\" class=\"dataframe\">\n",
       "  <thead>\n",
       "    <tr style=\"text-align: right;\">\n",
       "      <th></th>\n",
       "      <th>latitude</th>\n",
       "      <th>longitude</th>\n",
       "      <th>hour_sin</th>\n",
       "      <th>hour_cos</th>\n",
       "      <th>month_sin</th>\n",
       "      <th>month_cos</th>\n",
       "      <th>Température de l'air</th>\n",
       "      <th>Humidité relative</th>\n",
       "      <th>Visibilité horizontale</th>\n",
       "      <th>Vitesse du vent</th>\n",
       "      <th>...</th>\n",
       "      <th>is_weekend</th>\n",
       "      <th>is_holiday</th>\n",
       "      <th>is_holiday_sco</th>\n",
       "      <th>is_working_day</th>\n",
       "      <th>is_rush_hour</th>\n",
       "      <th>Petite_pluie</th>\n",
       "      <th>Grosse_pluie</th>\n",
       "      <th>counter_name</th>\n",
       "      <th>weekday</th>\n",
       "      <th>log_bike_count</th>\n",
       "    </tr>\n",
       "  </thead>\n",
       "  <tbody>\n",
       "    <tr>\n",
       "      <th>0</th>\n",
       "      <td>48.846028</td>\n",
       "      <td>2.375429</td>\n",
       "      <td>0.500000</td>\n",
       "      <td>8.660254e-01</td>\n",
       "      <td>-1.0</td>\n",
       "      <td>-1.836970e-16</td>\n",
       "      <td>12.75</td>\n",
       "      <td>81.0</td>\n",
       "      <td>30000.0</td>\n",
       "      <td>1.6</td>\n",
       "      <td>...</td>\n",
       "      <td>False</td>\n",
       "      <td>False</td>\n",
       "      <td>False</td>\n",
       "      <td>True</td>\n",
       "      <td>False</td>\n",
       "      <td>False</td>\n",
       "      <td>False</td>\n",
       "      <td>28 boulevard Diderot E-O</td>\n",
       "      <td>Tuesday</td>\n",
       "      <td>0.000000</td>\n",
       "    </tr>\n",
       "    <tr>\n",
       "      <th>1</th>\n",
       "      <td>48.846028</td>\n",
       "      <td>2.375429</td>\n",
       "      <td>0.707107</td>\n",
       "      <td>7.071068e-01</td>\n",
       "      <td>-1.0</td>\n",
       "      <td>-1.836970e-16</td>\n",
       "      <td>10.95</td>\n",
       "      <td>88.0</td>\n",
       "      <td>25000.0</td>\n",
       "      <td>1.1</td>\n",
       "      <td>...</td>\n",
       "      <td>False</td>\n",
       "      <td>False</td>\n",
       "      <td>False</td>\n",
       "      <td>True</td>\n",
       "      <td>False</td>\n",
       "      <td>False</td>\n",
       "      <td>False</td>\n",
       "      <td>28 boulevard Diderot E-O</td>\n",
       "      <td>Tuesday</td>\n",
       "      <td>0.693147</td>\n",
       "    </tr>\n",
       "    <tr>\n",
       "      <th>2</th>\n",
       "      <td>48.846028</td>\n",
       "      <td>2.375429</td>\n",
       "      <td>0.866025</td>\n",
       "      <td>5.000000e-01</td>\n",
       "      <td>-1.0</td>\n",
       "      <td>-1.836970e-16</td>\n",
       "      <td>10.95</td>\n",
       "      <td>88.0</td>\n",
       "      <td>25000.0</td>\n",
       "      <td>1.1</td>\n",
       "      <td>...</td>\n",
       "      <td>False</td>\n",
       "      <td>False</td>\n",
       "      <td>False</td>\n",
       "      <td>True</td>\n",
       "      <td>False</td>\n",
       "      <td>False</td>\n",
       "      <td>False</td>\n",
       "      <td>28 boulevard Diderot E-O</td>\n",
       "      <td>Tuesday</td>\n",
       "      <td>0.000000</td>\n",
       "    </tr>\n",
       "    <tr>\n",
       "      <th>3</th>\n",
       "      <td>48.846028</td>\n",
       "      <td>2.375429</td>\n",
       "      <td>-0.707107</td>\n",
       "      <td>-7.071068e-01</td>\n",
       "      <td>-1.0</td>\n",
       "      <td>-1.836970e-16</td>\n",
       "      <td>20.65</td>\n",
       "      <td>41.0</td>\n",
       "      <td>30000.0</td>\n",
       "      <td>4.0</td>\n",
       "      <td>...</td>\n",
       "      <td>False</td>\n",
       "      <td>False</td>\n",
       "      <td>False</td>\n",
       "      <td>True</td>\n",
       "      <td>False</td>\n",
       "      <td>False</td>\n",
       "      <td>False</td>\n",
       "      <td>28 boulevard Diderot E-O</td>\n",
       "      <td>Tuesday</td>\n",
       "      <td>1.609438</td>\n",
       "    </tr>\n",
       "    <tr>\n",
       "      <th>4</th>\n",
       "      <td>48.846028</td>\n",
       "      <td>2.375429</td>\n",
       "      <td>-1.000000</td>\n",
       "      <td>-1.836970e-16</td>\n",
       "      <td>-1.0</td>\n",
       "      <td>-1.836970e-16</td>\n",
       "      <td>19.15</td>\n",
       "      <td>47.0</td>\n",
       "      <td>30000.0</td>\n",
       "      <td>3.0</td>\n",
       "      <td>...</td>\n",
       "      <td>False</td>\n",
       "      <td>False</td>\n",
       "      <td>False</td>\n",
       "      <td>True</td>\n",
       "      <td>True</td>\n",
       "      <td>False</td>\n",
       "      <td>False</td>\n",
       "      <td>28 boulevard Diderot E-O</td>\n",
       "      <td>Tuesday</td>\n",
       "      <td>2.302585</td>\n",
       "    </tr>\n",
       "  </tbody>\n",
       "</table>\n",
       "<p>5 rows × 23 columns</p>\n",
       "</div>"
      ],
      "text/plain": [
       "    latitude  longitude  hour_sin      hour_cos  month_sin     month_cos  \\\n",
       "0  48.846028   2.375429  0.500000  8.660254e-01       -1.0 -1.836970e-16   \n",
       "1  48.846028   2.375429  0.707107  7.071068e-01       -1.0 -1.836970e-16   \n",
       "2  48.846028   2.375429  0.866025  5.000000e-01       -1.0 -1.836970e-16   \n",
       "3  48.846028   2.375429 -0.707107 -7.071068e-01       -1.0 -1.836970e-16   \n",
       "4  48.846028   2.375429 -1.000000 -1.836970e-16       -1.0 -1.836970e-16   \n",
       "\n",
       "   Température de l'air  Humidité relative  Visibilité horizontale  \\\n",
       "0                 12.75               81.0                 30000.0   \n",
       "1                 10.95               88.0                 25000.0   \n",
       "2                 10.95               88.0                 25000.0   \n",
       "3                 20.65               41.0                 30000.0   \n",
       "4                 19.15               47.0                 30000.0   \n",
       "\n",
       "   Vitesse du vent  ...  is_weekend  is_holiday  is_holiday_sco  \\\n",
       "0              1.6  ...       False       False           False   \n",
       "1              1.1  ...       False       False           False   \n",
       "2              1.1  ...       False       False           False   \n",
       "3              4.0  ...       False       False           False   \n",
       "4              3.0  ...       False       False           False   \n",
       "\n",
       "   is_working_day  is_rush_hour  Petite_pluie  Grosse_pluie  \\\n",
       "0            True         False         False         False   \n",
       "1            True         False         False         False   \n",
       "2            True         False         False         False   \n",
       "3            True         False         False         False   \n",
       "4            True          True         False         False   \n",
       "\n",
       "               counter_name  weekday  log_bike_count  \n",
       "0  28 boulevard Diderot E-O  Tuesday        0.000000  \n",
       "1  28 boulevard Diderot E-O  Tuesday        0.693147  \n",
       "2  28 boulevard Diderot E-O  Tuesday        0.000000  \n",
       "3  28 boulevard Diderot E-O  Tuesday        1.609438  \n",
       "4  28 boulevard Diderot E-O  Tuesday        2.302585  \n",
       "\n",
       "[5 rows x 23 columns]"
      ]
     },
     "execution_count": 33,
     "metadata": {},
     "output_type": "execute_result"
    }
   ],
   "source": [
    "final_df, numeric_features, binary_features, categorical_features = create_engineered_features(df)\n",
    "final_df.head()"
   ]
  },
  {
   "cell_type": "code",
   "execution_count": 1,
   "metadata": {},
   "outputs": [
    {
     "ename": "NameError",
     "evalue": "name 'final_df' is not defined",
     "output_type": "error",
     "traceback": [
      "\u001b[1;31m---------------------------------------------------------------------------\u001b[0m",
      "\u001b[1;31mNameError\u001b[0m                                 Traceback (most recent call last)",
      "Cell \u001b[1;32mIn[1], line 1\u001b[0m\n\u001b[1;32m----> 1\u001b[0m correlation_matrix \u001b[38;5;241m=\u001b[39m \u001b[43mfinal_df\u001b[49m[final_numerical_features]\u001b[38;5;241m.\u001b[39mcorr()\n\u001b[0;32m      2\u001b[0m \u001b[38;5;66;03m# Créer la heatmap\u001b[39;00m\n\u001b[0;32m      3\u001b[0m plt\u001b[38;5;241m.\u001b[39mfigure(figsize\u001b[38;5;241m=\u001b[39m(\u001b[38;5;241m10\u001b[39m, \u001b[38;5;241m8\u001b[39m))\n",
      "\u001b[1;31mNameError\u001b[0m: name 'final_df' is not defined"
     ]
    }
   ],
   "source": [
    "correlation_matrix = final_df[final_numerical_features].corr()\n",
    "# Créer la heatmap\n",
    "plt.figure(figsize=(10, 8))\n",
    "sns.heatmap(correlation_matrix, annot=True, cmap='coolwarm', vmin=-1, vmax=1)\n",
    "plt.title('Heatmap de la matrice de corrélation')\n",
    "plt.show()"
   ]
  },
  {
   "cell_type": "code",
   "execution_count": 26,
   "metadata": {},
   "outputs": [],
   "source": [
    "def prepare_data(df, is_train=None):\n",
    "    # Detect if training data by presence of log_bike_count\n",
    "    if is_train is None:\n",
    "        is_train = 'log_bike_count' in df.columns\n",
    "\n",
    "    transformed_df, num_feat, bin_feat, cat_feat = create_engineered_features(df)\n",
    "\n",
    "    if is_train:\n",
    "        X = transformed_df.drop(columns=['log_bike_count'])\n",
    "        y = transformed_df['log_bike_count']\n",
    "        return X, y, num_feat, bin_feat, cat_feat\n",
    "    else:\n",
    "        return transformed_df, num_feat, bin_feat, cat_feat"
   ]
  },
  {
   "cell_type": "code",
   "execution_count": 27,
   "metadata": {},
   "outputs": [],
   "source": [
    "def get_pipeline(numeric_features, binary_features, categorical_features):\n",
    "    preprocessor = ColumnTransformer([\n",
    "        ('num', StandardScaler(), numeric_features),\n",
    "        ('bin', 'passthrough', binary_features),\n",
    "        ('cat', OneHotEncoder(sparse_output=False, handle_unknown='ignore'), categorical_features)\n",
    "    ])\n",
    "\n",
    "    return Pipeline([\n",
    "        ('preprocessor', preprocessor),\n",
    "        ('regressor', Ridge())\n",
    "    ])"
   ]
  },
  {
   "cell_type": "code",
   "execution_count": 28,
   "metadata": {},
   "outputs": [],
   "source": [
    "X, y, num_feat, bin_feat, cat_feat = prepare_data(df, is_train=True)\n",
    "\n",
    "X_train, X_test, y_train, y_test = train_test_split(X, y, test_size=0.2, random_state=42)\n",
    "\n",
    "tscv = TimeSeriesSplit(n_splits=2, test_size=24*7)  # 1 week test size\n",
    "pipeline = get_pipeline(num_feat, bin_feat, cat_feat)\n",
    "\n",
    "grid_search = GridSearchCV(\n",
    "    pipeline,\n",
    "    {\n",
    "        'regressor__alpha': [0.01, 0.1, 1.0, 10.0, 100.0],\n",
    "        'regressor__fit_intercept': [True],\n",
    "    },\n",
    "    cv=tscv,\n",
    "    scoring='neg_root_mean_squared_error',\n",
    "    n_jobs=-1,\n",
    "    verbose=1\n",
    ")"
   ]
  },
  {
   "cell_type": "code",
   "execution_count": 42,
   "metadata": {},
   "outputs": [
    {
     "name": "stdout",
     "output_type": "stream",
     "text": [
      "Fitting 2 folds for each of 5 candidates, totalling 10 fits\n",
      "Best parameters: {'regressor__alpha': 100.0, 'regressor__fit_intercept': True}\n",
      "Best score: 0.9366\n",
      "\n",
      "Top 5 parameter combinations:\n",
      "\n",
      "Score: 0.9366 (+/- 0.0258)\n",
      "Parameters: {'alpha': 100.0, 'fit_intercept': True}\n",
      "\n",
      "Score: 0.9368 (+/- 0.0255)\n",
      "Parameters: {'alpha': 10.0, 'fit_intercept': True}\n",
      "\n",
      "Score: 0.9368 (+/- 0.0254)\n",
      "Parameters: {'alpha': 1.0, 'fit_intercept': True}\n",
      "\n",
      "Score: 0.9368 (+/- 0.0254)\n",
      "Parameters: {'alpha': 0.1, 'fit_intercept': True}\n",
      "\n",
      "Score: 0.9368 (+/- 0.0254)\n",
      "Parameters: {'alpha': 0.01, 'fit_intercept': True}\n",
      "\n",
      "Test set score: 0.8968\n"
     ]
    }
   ],
   "source": [
    "\n",
    "grid_search.fit(X_train, y_train)\n",
    "\n",
    "# Print results\n",
    "print(f\"Best parameters: {grid_search.best_params_}\")\n",
    "print(f\"Best score: {-grid_search.best_score_:.4f}\")\n",
    "\n",
    "results_df = pd.DataFrame(grid_search.cv_results_)\n",
    "print(\"\\nTop 5 parameter combinations:\")\n",
    "top_results = results_df.sort_values('mean_test_score', ascending=False).head()\n",
    "for _, row in top_results.iterrows():\n",
    "    print(f\"\\nScore: {-row['mean_test_score']:.4f} (+/- {row['std_test_score']:.4f})\")\n",
    "    print(\"Parameters:\", {k.replace('regressor__', ''): v for k, v in row['params'].items()})\n",
    "\n",
    "# Test score\n",
    "test_score = grid_search.score(X_test, y_test)\n",
    "print(f\"\\nTest set score: {-test_score:.4f}\")"
   ]
  },
  {
   "cell_type": "markdown",
   "metadata": {},
   "source": [
    "RMSE of Ridge is quite high with this pipeline."
   ]
  },
  {
   "cell_type": "code",
   "execution_count": null,
   "metadata": {},
   "outputs": [
    {
     "name": "stdout",
     "output_type": "stream",
     "text": [
      "Fitting 5 folds for each of 6 candidates, totalling 30 fits\n",
      "\n",
      "Error Analysis:\n",
      "overall_rmse: 0.7904\n",
      "weekend_rmse: 0.6087\n",
      "weekday_rmse: 0.5717\n"
     ]
    }
   ],
   "source": [
    "X = final_df[numeric_features + categorical_features + binary_features]\n",
    "y = final_df['log_bike_count']\n",
    "\n",
    "class BikePredictor:\n",
    "    def __init__(self):\n",
    "        self.numeric_features = [\n",
    "            'latitude',\n",
    "            'longitude',\n",
    "            'hour_sin',\n",
    "            'hour_cos',\n",
    "            'month_sin',\n",
    "            'month_cos'\n",
    "        ]\n",
    "\n",
    "        self.binary_features = [\n",
    "            'is_weekend',\n",
    "            'is_holiday',\n",
    "            'is_holiday_sco',\n",
    "            'is_working_day',\n",
    "            'is_rush_hour'\n",
    "        ]\n",
    "\n",
    "        self.categorical_features = [\n",
    "            'counter_name',\n",
    "            'weekday'\n",
    "        ]\n",
    "\n",
    "    def create_pipeline(self):\n",
    "        # Add polynomial features for numeric variables\n",
    "        numeric_transformer = Pipeline(steps=[\n",
    "            ('scaler', StandardScaler()),\n",
    "            ('poly', PolynomialFeatures(degree=2, include_bias=False)),\n",
    "        ])\n",
    "\n",
    "        categorical_transformer = Pipeline(steps=[\n",
    "            ('onehot', OneHotEncoder(handle_unknown='ignore', sparse_output=False))\n",
    "        ])\n",
    "\n",
    "        preprocessor = ColumnTransformer(transformers=[\n",
    "            ('num', numeric_transformer, self.numeric_features),\n",
    "            ('cat', categorical_transformer, self.categorical_features),\n",
    "            ('bin', 'passthrough', self.binary_features)\n",
    "        ])\n",
    "\n",
    "        return Pipeline([\n",
    "            ('preprocessor', preprocessor),\n",
    "            ('regressor', Ridge())\n",
    "        ])\n",
    "\n",
    "    def grid_search(self, X, y):\n",
    "        # Expanded parameter grid\n",
    "        param_grid = {\n",
    "            'regressor__alpha': [1.0, 10.0, 100.0],\n",
    "            'preprocessor__num__poly__degree': [1, 2]  # Try with and without polynomial features\n",
    "        }\n",
    "\n",
    "        # Time series split with more folds\n",
    "        tscv = TimeSeriesSplit(n_splits=5, gap=24)  # gap of 24 hours\n",
    "\n",
    "        # Create grid search\n",
    "        grid_search = GridSearchCV(\n",
    "            estimator=self.create_pipeline(),\n",
    "            param_grid=param_grid,\n",
    "            cv=tscv,\n",
    "            scoring={\n",
    "                'rmse': 'neg_root_mean_squared_error',\n",
    "                'r2': 'r2'\n",
    "            },\n",
    "            refit='rmse',\n",
    "            n_jobs=-1,\n",
    "            verbose=1\n",
    "        )\n",
    "\n",
    "        # Fit grid search\n",
    "        grid_search.fit(X, y)\n",
    "\n",
    "        return grid_search\n",
    "\n",
    "    def analyze_errors(self, model, X, y):\n",
    "        \"\"\"Analyze prediction errors to understand model weaknesses\"\"\"\n",
    "        y_pred = model.predict(X)\n",
    "        errors = y - y_pred\n",
    "\n",
    "        error_analysis = pd.DataFrame({\n",
    "            'true': y,\n",
    "            'predicted': y_pred,\n",
    "            'error': errors,\n",
    "            'abs_error': np.abs(errors),\n",
    "            'hour': X['hour'] if 'hour' in X.columns else None,\n",
    "            'is_weekend': X['is_weekend'] if 'is_weekend' in X.columns else None\n",
    "        })\n",
    "\n",
    "        # Aggregate errors by different conditions\n",
    "        analysis = {\n",
    "            'overall_rmse': np.sqrt(np.mean(errors**2)),\n",
    "            'weekend_rmse': error_analysis[error_analysis['is_weekend']]['abs_error'].mean(),\n",
    "            'weekday_rmse': error_analysis[~error_analysis['is_weekend']]['abs_error'].mean(),\n",
    "        }\n",
    "\n",
    "        return analysis, error_analysis\n",
    "\n",
    "predictor = BikePredictor()\n",
    "\n",
    "# Perform grid search\n",
    "grid_search = predictor.grid_search(X, y)\n",
    "\n",
    "# Get best model\n",
    "best_model = grid_search.best_estimator_\n",
    "\n",
    "# Analyze errors\n",
    "error_analysis, error_df = predictor.analyze_errors(best_model, X, y)\n",
    "\n",
    "print(\"\\nError Analysis:\")\n",
    "for metric, value in error_analysis.items():\n",
    "    print(f\"{metric}: {value:.4f}\")"
   ]
  },
  {
   "cell_type": "code",
   "execution_count": 49,
   "metadata": {},
   "outputs": [
    {
     "data": {
      "text/plain": [
       "{'preprocessor__num__poly__degree': 2, 'regressor__alpha': 1.0}"
      ]
     },
     "execution_count": 49,
     "metadata": {},
     "output_type": "execute_result"
    }
   ],
   "source": [
    "grid_search.best_params_"
   ]
  },
  {
   "cell_type": "markdown",
   "metadata": {},
   "source": [
    "Looking at these error analysis results, let's interpret and make improvements:\n",
    "\n",
    "The overall RMSE has improved to 0.7904 (better than previous 1.1585)\n",
    "Weekend errors (0.6236) are slightly higher than weekday errors (0.5717)\n"
   ]
  },
  {
   "cell_type": "markdown",
   "metadata": {},
   "source": [
    "From \"Forecasting Bike Rental Demand\" by Du et al., they found that hourly patterns have \"clear variation between work days and weekends\" and \"certain hours (peak hours) will clearly have significantly more bike rentals than other hours.\"\n",
    "From \"A predictive analytics approach for forecasting bike rental demand\" (Karunanithi et al.), analysis showed distinct usage patterns:\n",
    "\n",
    "Weekday peak hours: 7-9 am and 5-7 pm showed heavy usage (commuting patterns)\n",
    "Weekend peak hours: 10 am - 6 pm showed different patterns\n",
    "Total rentals during peak hours comprised 28.19% of all rentals\n",
    "\n",
    "The main arguments for separate models are:\n",
    "Different Behaviors:\n",
    "Peak hours are dominated by commuter patterns\n",
    "Off-peak hours follow leisure/tourism patterns\n",
    "Different features might be important at different times"
   ]
  },
  {
   "cell_type": "code",
   "execution_count": null,
   "metadata": {},
   "outputs": [],
   "source": [
    "def preprocess_data(X_train, X_test):\n",
    "    \"\"\"\n",
    "    Preprocess the data by encoding categorical variables.\n",
    "\n",
    "    Args:\n",
    "        X_train: Training features\n",
    "        X_test: Test features\n",
    "\n",
    "    Returns:\n",
    "        Preprocessed X_train and X_test\n",
    "    \"\"\"\n",
    "    X_train_processed = X_train.copy()\n",
    "    X_test_processed = X_test.copy()\n",
    "\n",
    "    # Identify categorical columns (object dtype)\n",
    "    categorical_columns = X_train.select_dtypes(include=['object']).columns\n",
    "\n",
    "    # Encode each categorical column\n",
    "    for col in categorical_columns:\n",
    "        le = LabelEncoder()\n",
    "        # Fit on training data\n",
    "        X_train_processed[col] = le.fit_transform(X_train[col])\n",
    "        # Transform test data\n",
    "        X_test_processed[col] = le.transform(X_test[col])\n",
    "\n",
    "    return X_train_processed, X_test_processed\n",
    "\n",
    "def objective(trial, X_train, X_test, y_train, y_test):\n",
    "    \"\"\"\n",
    "    Objective function for Optuna optimization of LightGBM hyperparameters.\n",
    "\n",
    "    Args:\n",
    "        trial: Optuna trial object\n",
    "        X_train: Training features\n",
    "        X_test: Test features\n",
    "        y_train: Training labels\n",
    "        y_test: Test labels\n",
    "\n",
    "    Returns:\n",
    "        float: RMSE score on test set\n",
    "    \"\"\"\n",
    "    # Preprocess the data\n",
    "    X_train_processed, X_test_processed = preprocess_data(X_train, X_test)\n",
    "\n",
    "    # Define the hyperparameters to tune\n",
    "    param_grid = {\n",
    "        'objective': 'regression',\n",
    "        'metric': 'rmse',\n",
    "        'verbosity': -1,\n",
    "        'boosting_type': 'gbdt',\n",
    "        'n_jobs': -1,\n",
    "        'lambda_l1': trial.suggest_float('lambda_l1', 1e-8, 10.0, log=True),\n",
    "        'lambda_l2': trial.suggest_float('lambda_l2', 1e-8, 10.0, log=True),\n",
    "        'num_leaves': trial.suggest_int('num_leaves', 2, 256),\n",
    "        'feature_fraction': trial.suggest_float('feature_fraction', 0.4, 1.0),\n",
    "        'bagging_fraction': trial.suggest_float('bagging_fraction', 0.4, 1.0),\n",
    "        'bagging_freq': trial.suggest_int('bagging_freq', 1, 7),\n",
    "        'min_child_samples': trial.suggest_int('min_child_samples', 5, 100),\n",
    "        'learning_rate': trial.suggest_float('learning_rate', 1e-4, 0.1, log=True),\n",
    "    }\n",
    "\n",
    "    # Create LightGBM datasets\n",
    "    dtrain = lgb.Dataset(X_train_processed, label=y_train)\n",
    "    dtest = lgb.Dataset(X_test_processed, label=y_test, reference=dtrain)\n",
    "\n",
    "    # Create early stopping callback\n",
    "    early_stopping_callback = lgb.early_stopping(stopping_rounds=50, verbose=False)\n",
    "\n",
    "    # Train model\n",
    "    gbm = lgb.train(\n",
    "        param_grid,\n",
    "        dtrain,\n",
    "        valid_sets=[dtrain, dtest],\n",
    "        valid_names=['train', 'test'],\n",
    "        num_boost_round=1000,\n",
    "        callbacks=[early_stopping_callback]\n",
    "    )\n",
    "\n",
    "    # Predict and calculate RMSE\n",
    "    preds = gbm.predict(X_test_processed)\n",
    "    rmse = mean_squared_error(y_test, preds, squared=False)\n",
    "    return rmse\n",
    "\n",
    "def optimize_lightgbm(X_train, X_test, y_train, y_test, n_trials=100):\n",
    "    \"\"\"\n",
    "    Run Optuna optimization for LightGBM hyperparameters.\n",
    "\n",
    "    Args:\n",
    "        X_train: Training features\n",
    "        X_test: Test features\n",
    "        y_train: Training labels\n",
    "        y_test: Test labels\n",
    "        n_trials: Number of optimization trials\n",
    "\n",
    "    Returns:\n",
    "        dict: Best hyperparameters found\n",
    "    \"\"\"\n",
    "    study = optuna.create_study(direction='minimize')\n",
    "    study.optimize(\n",
    "        lambda trial: objective(trial, X_train, X_test, y_train, y_test),\n",
    "        n_trials=n_trials,\n",
    "        show_progress_bar=True\n",
    "    )\n",
    "\n",
    "    print(f'Best RMSE: {study.best_value:.4f}')\n",
    "    return study.best_params"
   ]
  },
  {
   "cell_type": "code",
   "execution_count": 31,
   "metadata": {},
   "outputs": [
    {
     "name": "stderr",
     "output_type": "stream",
     "text": [
      "[I 2024-12-03 20:30:17,526] A new study created in memory with name: no-name-11cb9f19-3639-4f56-aa99-c4ec62b5d921\n",
      "  0%|          | 0/100 [00:00<?, ?it/s]c:\\Users\\alexa\\Documents\\Code Python et SQL\\Python DSB\\bike_counters_ac_team\\.venv\\lib\\site-packages\\sklearn\\metrics\\_regression.py:483: FutureWarning: 'squared' is deprecated in version 1.4 and will be removed in 1.6. To calculate the root mean squared error, use the function'root_mean_squared_error'.\n",
      "  warnings.warn(\n",
      "Best trial: 0. Best value: 0.43369:   1%|          | 1/100 [00:22<37:31, 22.75s/it]"
     ]
    },
    {
     "name": "stdout",
     "output_type": "stream",
     "text": [
      "[I 2024-12-03 20:30:40,272] Trial 0 finished with value: 0.43368983888590557 and parameters: {'lambda_l1': 0.005265298316820153, 'lambda_l2': 0.0011282851180440389, 'num_leaves': 242, 'feature_fraction': 0.8446464992099486, 'bagging_fraction': 0.6921570904502305, 'bagging_freq': 7, 'min_child_samples': 97, 'learning_rate': 0.058860810970939224}. Best is trial 0 with value: 0.43368983888590557.\n"
     ]
    },
    {
     "name": "stderr",
     "output_type": "stream",
     "text": [
      "c:\\Users\\alexa\\Documents\\Code Python et SQL\\Python DSB\\bike_counters_ac_team\\.venv\\lib\\site-packages\\sklearn\\metrics\\_regression.py:483: FutureWarning: 'squared' is deprecated in version 1.4 and will be removed in 1.6. To calculate the root mean squared error, use the function'root_mean_squared_error'.\n",
      "  warnings.warn(\n",
      "Best trial: 0. Best value: 0.43369:   2%|▏         | 2/100 [00:57<48:49, 29.89s/it]"
     ]
    },
    {
     "name": "stdout",
     "output_type": "stream",
     "text": [
      "[I 2024-12-03 20:31:15,167] Trial 1 finished with value: 1.5219237078332473 and parameters: {'lambda_l1': 0.0074964118956614405, 'lambda_l2': 3.1601976403079144e-06, 'num_leaves': 44, 'feature_fraction': 0.6346390529293036, 'bagging_fraction': 0.8772229100930864, 'bagging_freq': 2, 'min_child_samples': 23, 'learning_rate': 0.00014191978887931683}. Best is trial 0 with value: 0.43368983888590557.\n"
     ]
    },
    {
     "name": "stderr",
     "output_type": "stream",
     "text": [
      "c:\\Users\\alexa\\Documents\\Code Python et SQL\\Python DSB\\bike_counters_ac_team\\.venv\\lib\\site-packages\\sklearn\\metrics\\_regression.py:483: FutureWarning: 'squared' is deprecated in version 1.4 and will be removed in 1.6. To calculate the root mean squared error, use the function'root_mean_squared_error'.\n",
      "  warnings.warn(\n",
      "Best trial: 0. Best value: 0.43369:   3%|▎         | 3/100 [01:40<58:12, 36.01s/it]"
     ]
    },
    {
     "name": "stdout",
     "output_type": "stream",
     "text": [
      "[I 2024-12-03 20:31:58,442] Trial 2 finished with value: 1.4060453330926281 and parameters: {'lambda_l1': 1.576386529254657e-07, 'lambda_l2': 1.5561097476858938, 'num_leaves': 90, 'feature_fraction': 0.814774207115206, 'bagging_fraction': 0.8394640496683374, 'bagging_freq': 6, 'min_child_samples': 53, 'learning_rate': 0.00022451322189024896}. Best is trial 0 with value: 0.43368983888590557.\n"
     ]
    },
    {
     "name": "stderr",
     "output_type": "stream",
     "text": [
      "c:\\Users\\alexa\\Documents\\Code Python et SQL\\Python DSB\\bike_counters_ac_team\\.venv\\lib\\site-packages\\sklearn\\metrics\\_regression.py:483: FutureWarning: 'squared' is deprecated in version 1.4 and will be removed in 1.6. To calculate the root mean squared error, use the function'root_mean_squared_error'.\n",
      "  warnings.warn(\n",
      "Best trial: 0. Best value: 0.43369:   4%|▍         | 4/100 [02:05<50:35, 31.62s/it]"
     ]
    },
    {
     "name": "stdout",
     "output_type": "stream",
     "text": [
      "[I 2024-12-03 20:32:23,349] Trial 3 finished with value: 1.5257127343721855 and parameters: {'lambda_l1': 3.1105832145733236e-08, 'lambda_l2': 3.096172850612074e-06, 'num_leaves': 26, 'feature_fraction': 0.8502524577616541, 'bagging_fraction': 0.44322290609678255, 'bagging_freq': 5, 'min_child_samples': 36, 'learning_rate': 0.00012695761066298085}. Best is trial 0 with value: 0.43368983888590557.\n"
     ]
    },
    {
     "name": "stderr",
     "output_type": "stream",
     "text": [
      "c:\\Users\\alexa\\Documents\\Code Python et SQL\\Python DSB\\bike_counters_ac_team\\.venv\\lib\\site-packages\\sklearn\\metrics\\_regression.py:483: FutureWarning: 'squared' is deprecated in version 1.4 and will be removed in 1.6. To calculate the root mean squared error, use the function'root_mean_squared_error'.\n",
      "  warnings.warn(\n",
      "Best trial: 0. Best value: 0.43369:   5%|▌         | 5/100 [02:22<41:40, 26.32s/it]"
     ]
    },
    {
     "name": "stdout",
     "output_type": "stream",
     "text": [
      "[I 2024-12-03 20:32:40,253] Trial 4 finished with value: 0.6159272594009649 and parameters: {'lambda_l1': 0.13093045798586644, 'lambda_l2': 0.005646819691831382, 'num_leaves': 13, 'feature_fraction': 0.8218804771966873, 'bagging_fraction': 0.6990793788811933, 'bagging_freq': 1, 'min_child_samples': 94, 'learning_rate': 0.0047277902488828665}. Best is trial 0 with value: 0.43368983888590557.\n"
     ]
    },
    {
     "name": "stderr",
     "output_type": "stream",
     "text": [
      "c:\\Users\\alexa\\Documents\\Code Python et SQL\\Python DSB\\bike_counters_ac_team\\.venv\\lib\\site-packages\\sklearn\\metrics\\_regression.py:483: FutureWarning: 'squared' is deprecated in version 1.4 and will be removed in 1.6. To calculate the root mean squared error, use the function'root_mean_squared_error'.\n",
      "  warnings.warn(\n",
      "Best trial: 0. Best value: 0.43369:   6%|▌         | 6/100 [03:03<48:50, 31.18s/it]"
     ]
    },
    {
     "name": "stdout",
     "output_type": "stream",
     "text": [
      "[I 2024-12-03 20:33:20,859] Trial 5 finished with value: 0.4617016325407845 and parameters: {'lambda_l1': 5.103689174294535e-07, 'lambda_l2': 3.1262876235599245e-06, 'num_leaves': 99, 'feature_fraction': 0.4331956933467836, 'bagging_fraction': 0.8170401278625008, 'bagging_freq': 5, 'min_child_samples': 61, 'learning_rate': 0.012520836963637526}. Best is trial 0 with value: 0.43368983888590557.\n"
     ]
    },
    {
     "name": "stderr",
     "output_type": "stream",
     "text": [
      "c:\\Users\\alexa\\Documents\\Code Python et SQL\\Python DSB\\bike_counters_ac_team\\.venv\\lib\\site-packages\\sklearn\\metrics\\_regression.py:483: FutureWarning: 'squared' is deprecated in version 1.4 and will be removed in 1.6. To calculate the root mean squared error, use the function'root_mean_squared_error'.\n",
      "  warnings.warn(\n",
      "Best trial: 0. Best value: 0.43369:   7%|▋         | 7/100 [03:41<51:39, 33.33s/it]"
     ]
    },
    {
     "name": "stdout",
     "output_type": "stream",
     "text": [
      "[I 2024-12-03 20:33:58,621] Trial 6 finished with value: 1.386621283759516 and parameters: {'lambda_l1': 0.009060364862938024, 'lambda_l2': 1.3173562631861717, 'num_leaves': 51, 'feature_fraction': 0.6596824171964337, 'bagging_fraction': 0.6828228045674787, 'bagging_freq': 6, 'min_child_samples': 98, 'learning_rate': 0.000279599528294757}. Best is trial 0 with value: 0.43368983888590557.\n"
     ]
    },
    {
     "name": "stderr",
     "output_type": "stream",
     "text": [
      "c:\\Users\\alexa\\Documents\\Code Python et SQL\\Python DSB\\bike_counters_ac_team\\.venv\\lib\\site-packages\\sklearn\\metrics\\_regression.py:483: FutureWarning: 'squared' is deprecated in version 1.4 and will be removed in 1.6. To calculate the root mean squared error, use the function'root_mean_squared_error'.\n",
      "  warnings.warn(\n",
      "Best trial: 0. Best value: 0.43369:   8%|▊         | 8/100 [03:58<43:14, 28.20s/it]"
     ]
    },
    {
     "name": "stdout",
     "output_type": "stream",
     "text": [
      "[I 2024-12-03 20:34:15,845] Trial 7 finished with value: 0.5036343823341553 and parameters: {'lambda_l1': 8.161206026160012e-05, 'lambda_l2': 0.0008270449265575928, 'num_leaves': 12, 'feature_fraction': 0.8396768420331562, 'bagging_fraction': 0.8395827438142707, 'bagging_freq': 5, 'min_child_samples': 44, 'learning_rate': 0.02208492421831689}. Best is trial 0 with value: 0.43368983888590557.\n"
     ]
    },
    {
     "name": "stderr",
     "output_type": "stream",
     "text": [
      "c:\\Users\\alexa\\Documents\\Code Python et SQL\\Python DSB\\bike_counters_ac_team\\.venv\\lib\\site-packages\\sklearn\\metrics\\_regression.py:483: FutureWarning: 'squared' is deprecated in version 1.4 and will be removed in 1.6. To calculate the root mean squared error, use the function'root_mean_squared_error'.\n",
      "  warnings.warn(\n",
      "Best trial: 0. Best value: 0.43369:   9%|▉         | 9/100 [04:45<51:49, 34.17s/it]"
     ]
    },
    {
     "name": "stdout",
     "output_type": "stream",
     "text": [
      "[I 2024-12-03 20:35:03,138] Trial 8 finished with value: 0.6416457456118456 and parameters: {'lambda_l1': 0.3276282226235099, 'lambda_l2': 3.031250905746882e-07, 'num_leaves': 116, 'feature_fraction': 0.962327814140151, 'bagging_fraction': 0.6505522223690803, 'bagging_freq': 4, 'min_child_samples': 53, 'learning_rate': 0.0017687948860687773}. Best is trial 0 with value: 0.43368983888590557.\n"
     ]
    },
    {
     "name": "stderr",
     "output_type": "stream",
     "text": [
      "c:\\Users\\alexa\\Documents\\Code Python et SQL\\Python DSB\\bike_counters_ac_team\\.venv\\lib\\site-packages\\sklearn\\metrics\\_regression.py:483: FutureWarning: 'squared' is deprecated in version 1.4 and will be removed in 1.6. To calculate the root mean squared error, use the function'root_mean_squared_error'.\n",
      "  warnings.warn(\n",
      "Best trial: 0. Best value: 0.43369:  10%|█         | 10/100 [05:53<1:07:04, 44.72s/it]"
     ]
    },
    {
     "name": "stdout",
     "output_type": "stream",
     "text": [
      "[I 2024-12-03 20:36:11,478] Trial 9 finished with value: 0.46449031529015844 and parameters: {'lambda_l1': 0.15548211820611285, 'lambda_l2': 0.0020058294904076444, 'num_leaves': 232, 'feature_fraction': 0.9077538416909362, 'bagging_fraction': 0.9460986933899642, 'bagging_freq': 2, 'min_child_samples': 85, 'learning_rate': 0.0044887850752913325}. Best is trial 0 with value: 0.43368983888590557.\n"
     ]
    },
    {
     "name": "stderr",
     "output_type": "stream",
     "text": [
      "c:\\Users\\alexa\\Documents\\Code Python et SQL\\Python DSB\\bike_counters_ac_team\\.venv\\lib\\site-packages\\sklearn\\metrics\\_regression.py:483: FutureWarning: 'squared' is deprecated in version 1.4 and will be removed in 1.6. To calculate the root mean squared error, use the function'root_mean_squared_error'.\n",
      "  warnings.warn(\n",
      "Best trial: 0. Best value: 0.43369:  11%|█         | 11/100 [06:27<1:01:10, 41.25s/it]"
     ]
    },
    {
     "name": "stdout",
     "output_type": "stream",
     "text": [
      "[I 2024-12-03 20:36:44,815] Trial 10 finished with value: 0.4339987974625816 and parameters: {'lambda_l1': 0.00017675216398528124, 'lambda_l2': 0.060813649786376066, 'num_leaves': 254, 'feature_fraction': 0.5381294400813006, 'bagging_fraction': 0.5410681492457201, 'bagging_freq': 7, 'min_child_samples': 75, 'learning_rate': 0.06554915221201875}. Best is trial 0 with value: 0.43368983888590557.\n"
     ]
    },
    {
     "name": "stderr",
     "output_type": "stream",
     "text": [
      "c:\\Users\\alexa\\Documents\\Code Python et SQL\\Python DSB\\bike_counters_ac_team\\.venv\\lib\\site-packages\\sklearn\\metrics\\_regression.py:483: FutureWarning: 'squared' is deprecated in version 1.4 and will be removed in 1.6. To calculate the root mean squared error, use the function'root_mean_squared_error'.\n",
      "  warnings.warn(\n",
      "Best trial: 0. Best value: 0.43369:  12%|█▏        | 12/100 [07:04<58:40, 40.01s/it]  "
     ]
    },
    {
     "name": "stdout",
     "output_type": "stream",
     "text": [
      "[I 2024-12-03 20:37:22,021] Trial 11 finished with value: 0.4348637839400917 and parameters: {'lambda_l1': 3.728139087406782e-05, 'lambda_l2': 0.048874945845145484, 'num_leaves': 251, 'feature_fraction': 0.5072103292421631, 'bagging_fraction': 0.5048069248538637, 'bagging_freq': 7, 'min_child_samples': 75, 'learning_rate': 0.09578256969796393}. Best is trial 0 with value: 0.43368983888590557.\n"
     ]
    },
    {
     "name": "stderr",
     "output_type": "stream",
     "text": [
      "c:\\Users\\alexa\\Documents\\Code Python et SQL\\Python DSB\\bike_counters_ac_team\\.venv\\lib\\site-packages\\sklearn\\metrics\\_regression.py:483: FutureWarning: 'squared' is deprecated in version 1.4 and will be removed in 1.6. To calculate the root mean squared error, use the function'root_mean_squared_error'.\n",
      "  warnings.warn(\n",
      "Best trial: 0. Best value: 0.43369:  13%|█▎        | 13/100 [07:38<55:22, 38.19s/it]"
     ]
    },
    {
     "name": "stdout",
     "output_type": "stream",
     "text": [
      "[I 2024-12-03 20:37:56,035] Trial 12 finished with value: 0.43445953114773145 and parameters: {'lambda_l1': 0.0017569883247990639, 'lambda_l2': 0.04575070960758298, 'num_leaves': 193, 'feature_fraction': 0.5630850748696625, 'bagging_fraction': 0.5722023179285928, 'bagging_freq': 7, 'min_child_samples': 73, 'learning_rate': 0.09235139970274539}. Best is trial 0 with value: 0.43368983888590557.\n"
     ]
    },
    {
     "name": "stderr",
     "output_type": "stream",
     "text": [
      "c:\\Users\\alexa\\Documents\\Code Python et SQL\\Python DSB\\bike_counters_ac_team\\.venv\\lib\\site-packages\\sklearn\\metrics\\_regression.py:483: FutureWarning: 'squared' is deprecated in version 1.4 and will be removed in 1.6. To calculate the root mean squared error, use the function'root_mean_squared_error'.\n",
      "  warnings.warn(\n",
      "Best trial: 13. Best value: 0.433219:  14%|█▍        | 14/100 [08:31<1:01:19, 42.78s/it]"
     ]
    },
    {
     "name": "stdout",
     "output_type": "stream",
     "text": [
      "[I 2024-12-03 20:38:49,426] Trial 13 finished with value: 0.4332187593099914 and parameters: {'lambda_l1': 7.276458467815136e-06, 'lambda_l2': 4.9256813240094025e-05, 'num_leaves': 182, 'feature_fraction': 0.7600411685460214, 'bagging_fraction': 0.5616195046889224, 'bagging_freq': 7, 'min_child_samples': 78, 'learning_rate': 0.03634375154690226}. Best is trial 13 with value: 0.4332187593099914.\n"
     ]
    },
    {
     "name": "stderr",
     "output_type": "stream",
     "text": [
      "c:\\Users\\alexa\\Documents\\Code Python et SQL\\Python DSB\\bike_counters_ac_team\\.venv\\lib\\site-packages\\sklearn\\metrics\\_regression.py:483: FutureWarning: 'squared' is deprecated in version 1.4 and will be removed in 1.6. To calculate the root mean squared error, use the function'root_mean_squared_error'.\n",
      "  warnings.warn(\n",
      "Best trial: 13. Best value: 0.433219:  15%|█▌        | 15/100 [09:32<1:08:13, 48.16s/it]"
     ]
    },
    {
     "name": "stdout",
     "output_type": "stream",
     "text": [
      "[I 2024-12-03 20:39:50,057] Trial 14 finished with value: 0.43708960093150373 and parameters: {'lambda_l1': 3.815378370617893e-06, 'lambda_l2': 5.1654075859966174e-05, 'num_leaves': 175, 'feature_fraction': 0.7294976962981667, 'bagging_fraction': 0.5984393183711786, 'bagging_freq': 4, 'min_child_samples': 5, 'learning_rate': 0.023027848746028732}. Best is trial 13 with value: 0.4332187593099914.\n"
     ]
    },
    {
     "name": "stderr",
     "output_type": "stream",
     "text": [
      "c:\\Users\\alexa\\Documents\\Code Python et SQL\\Python DSB\\bike_counters_ac_team\\.venv\\lib\\site-packages\\sklearn\\metrics\\_regression.py:483: FutureWarning: 'squared' is deprecated in version 1.4 and will be removed in 1.6. To calculate the root mean squared error, use the function'root_mean_squared_error'.\n",
      "  warnings.warn(\n",
      "Best trial: 13. Best value: 0.433219:  16%|█▌        | 16/100 [10:38<1:14:50, 53.46s/it]"
     ]
    },
    {
     "name": "stdout",
     "output_type": "stream",
     "text": [
      "[I 2024-12-03 20:40:55,804] Trial 15 finished with value: 0.8126423766027833 and parameters: {'lambda_l1': 7.883531804321795, 'lambda_l2': 0.00011040281650768058, 'num_leaves': 165, 'feature_fraction': 0.722847727547923, 'bagging_fraction': 0.7791964422305903, 'bagging_freq': 6, 'min_child_samples': 87, 'learning_rate': 0.0012224599381532196}. Best is trial 13 with value: 0.4332187593099914.\n"
     ]
    },
    {
     "name": "stderr",
     "output_type": "stream",
     "text": [
      "c:\\Users\\alexa\\Documents\\Code Python et SQL\\Python DSB\\bike_counters_ac_team\\.venv\\lib\\site-packages\\sklearn\\metrics\\_regression.py:483: FutureWarning: 'squared' is deprecated in version 1.4 and will be removed in 1.6. To calculate the root mean squared error, use the function'root_mean_squared_error'.\n",
      "  warnings.warn(\n",
      "Best trial: 13. Best value: 0.433219:  17%|█▋        | 17/100 [11:27<1:12:12, 52.20s/it]"
     ]
    },
    {
     "name": "stdout",
     "output_type": "stream",
     "text": [
      "[I 2024-12-03 20:41:45,067] Trial 16 finished with value: 0.4377462049168587 and parameters: {'lambda_l1': 4.272032552702907e-06, 'lambda_l2': 4.7818575735056766e-08, 'num_leaves': 202, 'feature_fraction': 0.9898966271865637, 'bagging_fraction': 0.4055703311294929, 'bagging_freq': 3, 'min_child_samples': 68, 'learning_rate': 0.0349957560000187}. Best is trial 13 with value: 0.4332187593099914.\n"
     ]
    },
    {
     "name": "stderr",
     "output_type": "stream",
     "text": [
      "c:\\Users\\alexa\\Documents\\Code Python et SQL\\Python DSB\\bike_counters_ac_team\\.venv\\lib\\site-packages\\sklearn\\metrics\\_regression.py:483: FutureWarning: 'squared' is deprecated in version 1.4 and will be removed in 1.6. To calculate the root mean squared error, use the function'root_mean_squared_error'.\n",
      "  warnings.warn(\n",
      "Best trial: 13. Best value: 0.433219:  18%|█▊        | 18/100 [12:37<1:18:27, 57.41s/it]"
     ]
    },
    {
     "name": "stdout",
     "output_type": "stream",
     "text": [
      "[I 2024-12-03 20:42:54,617] Trial 17 finished with value: 0.44821438752084447 and parameters: {'lambda_l1': 8.072473501598177e-06, 'lambda_l2': 4.358572088280102e-05, 'num_leaves': 153, 'feature_fraction': 0.768816095307957, 'bagging_fraction': 0.7685129740107519, 'bagging_freq': 7, 'min_child_samples': 86, 'learning_rate': 0.00815564450908988}. Best is trial 13 with value: 0.4332187593099914.\n"
     ]
    },
    {
     "name": "stderr",
     "output_type": "stream",
     "text": [
      "c:\\Users\\alexa\\Documents\\Code Python et SQL\\Python DSB\\bike_counters_ac_team\\.venv\\lib\\site-packages\\sklearn\\metrics\\_regression.py:483: FutureWarning: 'squared' is deprecated in version 1.4 and will be removed in 1.6. To calculate the root mean squared error, use the function'root_mean_squared_error'.\n",
      "  warnings.warn(\n",
      "Best trial: 13. Best value: 0.433219:  19%|█▉        | 19/100 [13:32<1:16:45, 56.86s/it]"
     ]
    },
    {
     "name": "stdout",
     "output_type": "stream",
     "text": [
      "[I 2024-12-03 20:43:50,197] Trial 18 finished with value: 0.43442312788270016 and parameters: {'lambda_l1': 0.0011115004901587758, 'lambda_l2': 0.0002988751892676399, 'num_leaves': 210, 'feature_fraction': 0.9256493920071426, 'bagging_fraction': 0.6224285853860024, 'bagging_freq': 6, 'min_child_samples': 99, 'learning_rate': 0.04381546862227752}. Best is trial 13 with value: 0.4332187593099914.\n"
     ]
    },
    {
     "name": "stderr",
     "output_type": "stream",
     "text": [
      "c:\\Users\\alexa\\Documents\\Code Python et SQL\\Python DSB\\bike_counters_ac_team\\.venv\\lib\\site-packages\\sklearn\\metrics\\_regression.py:483: FutureWarning: 'squared' is deprecated in version 1.4 and will be removed in 1.6. To calculate the root mean squared error, use the function'root_mean_squared_error'.\n",
      "  warnings.warn(\n",
      "Best trial: 13. Best value: 0.433219:  20%|██        | 20/100 [14:37<1:18:53, 59.17s/it]"
     ]
    },
    {
     "name": "stdout",
     "output_type": "stream",
     "text": [
      "[I 2024-12-03 20:44:54,753] Trial 19 finished with value: 0.44390141021824725 and parameters: {'lambda_l1': 1.336009981858833e-08, 'lambda_l2': 1.0611315185739252e-08, 'num_leaves': 134, 'feature_fraction': 0.6268428672457256, 'bagging_fraction': 0.741281238040518, 'bagging_freq': 5, 'min_child_samples': 86, 'learning_rate': 0.01343301496866992}. Best is trial 13 with value: 0.4332187593099914.\n"
     ]
    },
    {
     "name": "stderr",
     "output_type": "stream",
     "text": [
      "c:\\Users\\alexa\\Documents\\Code Python et SQL\\Python DSB\\bike_counters_ac_team\\.venv\\lib\\site-packages\\sklearn\\metrics\\_regression.py:483: FutureWarning: 'squared' is deprecated in version 1.4 and will be removed in 1.6. To calculate the root mean squared error, use the function'root_mean_squared_error'.\n",
      "  warnings.warn(\n",
      "Best trial: 13. Best value: 0.433219:  21%|██        | 21/100 [15:56<1:25:57, 65.29s/it]"
     ]
    },
    {
     "name": "stdout",
     "output_type": "stream",
     "text": [
      "[I 2024-12-03 20:46:14,301] Trial 20 finished with value: 0.6416298336376342 and parameters: {'lambda_l1': 3.2578034243651474e-07, 'lambda_l2': 0.007461436329928871, 'num_leaves': 236, 'feature_fraction': 0.7716680685198586, 'bagging_fraction': 0.48343599205905197, 'bagging_freq': 7, 'min_child_samples': 64, 'learning_rate': 0.0017253605756482814}. Best is trial 13 with value: 0.4332187593099914.\n"
     ]
    },
    {
     "name": "stderr",
     "output_type": "stream",
     "text": [
      "c:\\Users\\alexa\\Documents\\Code Python et SQL\\Python DSB\\bike_counters_ac_team\\.venv\\lib\\site-packages\\sklearn\\metrics\\_regression.py:483: FutureWarning: 'squared' is deprecated in version 1.4 and will be removed in 1.6. To calculate the root mean squared error, use the function'root_mean_squared_error'.\n",
      "  warnings.warn(\n",
      "Best trial: 13. Best value: 0.433219:  22%|██▏       | 22/100 [17:04<1:25:54, 66.08s/it]"
     ]
    },
    {
     "name": "stdout",
     "output_type": "stream",
     "text": [
      "[I 2024-12-03 20:47:22,223] Trial 21 finished with value: 0.4378640994387379 and parameters: {'lambda_l1': 0.00016642251798328945, 'lambda_l2': 0.23264849592941003, 'num_leaves': 252, 'feature_fraction': 0.4111146060148848, 'bagging_fraction': 0.5487985023530703, 'bagging_freq': 7, 'min_child_samples': 77, 'learning_rate': 0.05152305338200132}. Best is trial 13 with value: 0.4332187593099914.\n"
     ]
    },
    {
     "name": "stderr",
     "output_type": "stream",
     "text": [
      "c:\\Users\\alexa\\Documents\\Code Python et SQL\\Python DSB\\bike_counters_ac_team\\.venv\\lib\\site-packages\\sklearn\\metrics\\_regression.py:483: FutureWarning: 'squared' is deprecated in version 1.4 and will be removed in 1.6. To calculate the root mean squared error, use the function'root_mean_squared_error'.\n",
      "  warnings.warn(\n",
      "Best trial: 22. Best value: 0.433183:  23%|██▎       | 23/100 [18:06<1:23:16, 64.89s/it]"
     ]
    },
    {
     "name": "stdout",
     "output_type": "stream",
     "text": [
      "[I 2024-12-03 20:48:24,353] Trial 22 finished with value: 0.4331832722910343 and parameters: {'lambda_l1': 0.0009619524601365684, 'lambda_l2': 6.2228670743041, 'num_leaves': 220, 'feature_fraction': 0.5573462148105975, 'bagging_fraction': 0.5433060684683494, 'bagging_freq': 6, 'min_child_samples': 80, 'learning_rate': 0.049410794882713695}. Best is trial 22 with value: 0.4331832722910343.\n"
     ]
    },
    {
     "name": "stderr",
     "output_type": "stream",
     "text": [
      "c:\\Users\\alexa\\Documents\\Code Python et SQL\\Python DSB\\bike_counters_ac_team\\.venv\\lib\\site-packages\\sklearn\\metrics\\_regression.py:483: FutureWarning: 'squared' is deprecated in version 1.4 and will be removed in 1.6. To calculate the root mean squared error, use the function'root_mean_squared_error'.\n",
      "  warnings.warn(\n",
      "Best trial: 23. Best value: 0.432626:  24%|██▍       | 24/100 [19:10<1:21:39, 64.47s/it]"
     ]
    },
    {
     "name": "stdout",
     "output_type": "stream",
     "text": [
      "[I 2024-12-03 20:49:27,839] Trial 23 finished with value: 0.4326256210371237 and parameters: {'lambda_l1': 0.01769919970101937, 'lambda_l2': 3.4063520735972594, 'num_leaves': 211, 'feature_fraction': 0.6784935052244604, 'bagging_fraction': 0.6585675345494972, 'bagging_freq': 6, 'min_child_samples': 92, 'learning_rate': 0.029513006550501382}. Best is trial 23 with value: 0.4326256210371237.\n"
     ]
    },
    {
     "name": "stderr",
     "output_type": "stream",
     "text": [
      "c:\\Users\\alexa\\Documents\\Code Python et SQL\\Python DSB\\bike_counters_ac_team\\.venv\\lib\\site-packages\\sklearn\\metrics\\_regression.py:483: FutureWarning: 'squared' is deprecated in version 1.4 and will be removed in 1.6. To calculate the root mean squared error, use the function'root_mean_squared_error'.\n",
      "  warnings.warn(\n",
      "Best trial: 23. Best value: 0.432626:  25%|██▌       | 25/100 [20:17<1:21:26, 65.15s/it]"
     ]
    },
    {
     "name": "stdout",
     "output_type": "stream",
     "text": [
      "[I 2024-12-03 20:50:34,568] Trial 24 finished with value: 0.4326886482842842 and parameters: {'lambda_l1': 0.03668259829394155, 'lambda_l2': 7.315193878384618, 'num_leaves': 216, 'feature_fraction': 0.6833212796385079, 'bagging_fraction': 0.6261625305878911, 'bagging_freq': 6, 'min_child_samples': 82, 'learning_rate': 0.03301524599716942}. Best is trial 23 with value: 0.4326256210371237.\n"
     ]
    },
    {
     "name": "stderr",
     "output_type": "stream",
     "text": [
      "c:\\Users\\alexa\\Documents\\Code Python et SQL\\Python DSB\\bike_counters_ac_team\\.venv\\lib\\site-packages\\sklearn\\metrics\\_regression.py:483: FutureWarning: 'squared' is deprecated in version 1.4 and will be removed in 1.6. To calculate the root mean squared error, use the function'root_mean_squared_error'.\n",
      "  warnings.warn(\n",
      "Best trial: 23. Best value: 0.432626:  26%|██▌       | 26/100 [20:59<1:12:06, 58.46s/it]"
     ]
    },
    {
     "name": "stdout",
     "output_type": "stream",
     "text": [
      "[I 2024-12-03 20:51:17,436] Trial 25 finished with value: 0.43466329960788797 and parameters: {'lambda_l1': 0.032832948875391586, 'lambda_l2': 6.776448135188775, 'num_leaves': 216, 'feature_fraction': 0.5795287529383814, 'bagging_fraction': 0.6519495764363985, 'bagging_freq': 4, 'min_child_samples': 91, 'learning_rate': 0.020856851484484667}. Best is trial 23 with value: 0.4326256210371237.\n"
     ]
    },
    {
     "name": "stderr",
     "output_type": "stream",
     "text": [
      "c:\\Users\\alexa\\Documents\\Code Python et SQL\\Python DSB\\bike_counters_ac_team\\.venv\\lib\\site-packages\\sklearn\\metrics\\_regression.py:483: FutureWarning: 'squared' is deprecated in version 1.4 and will be removed in 1.6. To calculate the root mean squared error, use the function'root_mean_squared_error'.\n",
      "  warnings.warn(\n",
      "Best trial: 23. Best value: 0.432626:  27%|██▋       | 27/100 [22:08<1:14:52, 61.54s/it]"
     ]
    },
    {
     "name": "stdout",
     "output_type": "stream",
     "text": [
      "[I 2024-12-03 20:52:26,163] Trial 26 finished with value: 0.44516182250819897 and parameters: {'lambda_l1': 2.5748594194043104, 'lambda_l2': 6.730062504657059, 'num_leaves': 220, 'feature_fraction': 0.6735663842859146, 'bagging_fraction': 0.4953302474925431, 'bagging_freq': 6, 'min_child_samples': 61, 'learning_rate': 0.009494197625895187}. Best is trial 23 with value: 0.4326256210371237.\n"
     ]
    },
    {
     "name": "stderr",
     "output_type": "stream",
     "text": [
      "c:\\Users\\alexa\\Documents\\Code Python et SQL\\Python DSB\\bike_counters_ac_team\\.venv\\lib\\site-packages\\sklearn\\metrics\\_regression.py:483: FutureWarning: 'squared' is deprecated in version 1.4 and will be removed in 1.6. To calculate the root mean squared error, use the function'root_mean_squared_error'.\n",
      "  warnings.warn(\n",
      "Best trial: 23. Best value: 0.432626:  28%|██▊       | 28/100 [22:58<1:09:36, 58.01s/it]"
     ]
    },
    {
     "name": "stdout",
     "output_type": "stream",
     "text": [
      "[I 2024-12-03 20:53:15,930] Trial 27 finished with value: 1.135294803968205 and parameters: {'lambda_l1': 0.0009301498556168466, 'lambda_l2': 0.5845922811036055, 'num_leaves': 147, 'feature_fraction': 0.500700941683986, 'bagging_fraction': 0.6214175208265006, 'bagging_freq': 5, 'min_child_samples': 81, 'learning_rate': 0.0006651838839922174}. Best is trial 23 with value: 0.4326256210371237.\n"
     ]
    },
    {
     "name": "stderr",
     "output_type": "stream",
     "text": [
      "c:\\Users\\alexa\\Documents\\Code Python et SQL\\Python DSB\\bike_counters_ac_team\\.venv\\lib\\site-packages\\sklearn\\metrics\\_regression.py:483: FutureWarning: 'squared' is deprecated in version 1.4 and will be removed in 1.6. To calculate the root mean squared error, use the function'root_mean_squared_error'.\n",
      "  warnings.warn(\n",
      "Best trial: 23. Best value: 0.432626:  29%|██▉       | 29/100 [24:00<1:10:06, 59.25s/it]"
     ]
    },
    {
     "name": "stdout",
     "output_type": "stream",
     "text": [
      "[I 2024-12-03 20:54:18,084] Trial 28 finished with value: 0.4598320640852508 and parameters: {'lambda_l1': 0.9928798610451379, 'lambda_l2': 6.1221038821463765, 'num_leaves': 192, 'feature_fraction': 0.6052387894390772, 'bagging_fraction': 0.742115701953507, 'bagging_freq': 6, 'min_child_samples': 70, 'learning_rate': 0.006672899925470049}. Best is trial 23 with value: 0.4326256210371237.\n"
     ]
    },
    {
     "name": "stderr",
     "output_type": "stream",
     "text": [
      "c:\\Users\\alexa\\Documents\\Code Python et SQL\\Python DSB\\bike_counters_ac_team\\.venv\\lib\\site-packages\\sklearn\\metrics\\_regression.py:483: FutureWarning: 'squared' is deprecated in version 1.4 and will be removed in 1.6. To calculate the root mean squared error, use the function'root_mean_squared_error'.\n",
      "  warnings.warn(\n",
      "Best trial: 23. Best value: 0.432626:  30%|███       | 30/100 [24:56<1:08:08, 58.41s/it]"
     ]
    },
    {
     "name": "stdout",
     "output_type": "stream",
     "text": [
      "[I 2024-12-03 20:55:14,516] Trial 29 finished with value: 0.44521850246777994 and parameters: {'lambda_l1': 0.015415873395104975, 'lambda_l2': 0.3656841519990025, 'num_leaves': 218, 'feature_fraction': 0.47004613192558464, 'bagging_fraction': 0.5983823061685358, 'bagging_freq': 3, 'min_child_samples': 100, 'learning_rate': 0.01550501981653376}. Best is trial 23 with value: 0.4326256210371237.\n"
     ]
    },
    {
     "name": "stderr",
     "output_type": "stream",
     "text": [
      "c:\\Users\\alexa\\Documents\\Code Python et SQL\\Python DSB\\bike_counters_ac_team\\.venv\\lib\\site-packages\\sklearn\\metrics\\_regression.py:483: FutureWarning: 'squared' is deprecated in version 1.4 and will be removed in 1.6. To calculate the root mean squared error, use the function'root_mean_squared_error'.\n",
      "  warnings.warn(\n",
      "Best trial: 30. Best value: 0.432474:  31%|███       | 31/100 [25:39<1:01:40, 53.63s/it]"
     ]
    },
    {
     "name": "stdout",
     "output_type": "stream",
     "text": [
      "[I 2024-12-03 20:55:56,996] Trial 30 finished with value: 0.43247388502390366 and parameters: {'lambda_l1': 0.054520273122240046, 'lambda_l2': 2.521077416825659, 'num_leaves': 230, 'feature_fraction': 0.6888075740798699, 'bagging_fraction': 0.6874907172741369, 'bagging_freq': 5, 'min_child_samples': 90, 'learning_rate': 0.027388967887848604}. Best is trial 30 with value: 0.43247388502390366.\n"
     ]
    },
    {
     "name": "stderr",
     "output_type": "stream",
     "text": [
      "c:\\Users\\alexa\\Documents\\Code Python et SQL\\Python DSB\\bike_counters_ac_team\\.venv\\lib\\site-packages\\sklearn\\metrics\\_regression.py:483: FutureWarning: 'squared' is deprecated in version 1.4 and will be removed in 1.6. To calculate the root mean squared error, use the function'root_mean_squared_error'.\n",
      "  warnings.warn(\n",
      "Best trial: 31. Best value: 0.432203:  32%|███▏      | 32/100 [26:33<1:00:50, 53.69s/it]"
     ]
    },
    {
     "name": "stdout",
     "output_type": "stream",
     "text": [
      "[I 2024-12-03 20:56:50,836] Trial 31 finished with value: 0.43220266242993216 and parameters: {'lambda_l1': 0.04670417388313966, 'lambda_l2': 1.881173721693936, 'num_leaves': 235, 'feature_fraction': 0.6886264973117903, 'bagging_fraction': 0.666400187578616, 'bagging_freq': 5, 'min_child_samples': 92, 'learning_rate': 0.02903200435479164}. Best is trial 31 with value: 0.43220266242993216.\n"
     ]
    },
    {
     "name": "stderr",
     "output_type": "stream",
     "text": [
      "c:\\Users\\alexa\\Documents\\Code Python et SQL\\Python DSB\\bike_counters_ac_team\\.venv\\lib\\site-packages\\sklearn\\metrics\\_regression.py:483: FutureWarning: 'squared' is deprecated in version 1.4 and will be removed in 1.6. To calculate the root mean squared error, use the function'root_mean_squared_error'.\n",
      "  warnings.warn(\n",
      "Best trial: 32. Best value: 0.432083:  33%|███▎      | 33/100 [27:17<56:41, 50.77s/it]  "
     ]
    },
    {
     "name": "stdout",
     "output_type": "stream",
     "text": [
      "[I 2024-12-03 20:57:34,777] Trial 32 finished with value: 0.4320825365026583 and parameters: {'lambda_l1': 0.05523134078560298, 'lambda_l2': 1.4751508359216003, 'num_leaves': 238, 'feature_fraction': 0.6840908231716412, 'bagging_fraction': 0.6892618139137773, 'bagging_freq': 5, 'min_child_samples': 92, 'learning_rate': 0.028956873662222715}. Best is trial 32 with value: 0.4320825365026583.\n"
     ]
    },
    {
     "name": "stderr",
     "output_type": "stream",
     "text": [
      "c:\\Users\\alexa\\Documents\\Code Python et SQL\\Python DSB\\bike_counters_ac_team\\.venv\\lib\\site-packages\\sklearn\\metrics\\_regression.py:483: FutureWarning: 'squared' is deprecated in version 1.4 and will be removed in 1.6. To calculate the root mean squared error, use the function'root_mean_squared_error'.\n",
      "  warnings.warn(\n",
      "Best trial: 32. Best value: 0.432083:  34%|███▍      | 34/100 [28:13<57:37, 52.39s/it]"
     ]
    },
    {
     "name": "stdout",
     "output_type": "stream",
     "text": [
      "[I 2024-12-03 20:58:30,964] Trial 33 finished with value: 0.4321071188190001 and parameters: {'lambda_l1': 0.07168677885278, 'lambda_l2': 1.5612031531142332, 'num_leaves': 237, 'feature_fraction': 0.7125943434301242, 'bagging_fraction': 0.7209265021247713, 'bagging_freq': 5, 'min_child_samples': 91, 'learning_rate': 0.025837435699229704}. Best is trial 32 with value: 0.4320825365026583.\n"
     ]
    },
    {
     "name": "stderr",
     "output_type": "stream",
     "text": [
      "c:\\Users\\alexa\\Documents\\Code Python et SQL\\Python DSB\\bike_counters_ac_team\\.venv\\lib\\site-packages\\sklearn\\metrics\\_regression.py:483: FutureWarning: 'squared' is deprecated in version 1.4 and will be removed in 1.6. To calculate the root mean squared error, use the function'root_mean_squared_error'.\n",
      "  warnings.warn(\n",
      "Best trial: 32. Best value: 0.432083:  35%|███▌      | 35/100 [29:14<59:41, 55.09s/it]"
     ]
    },
    {
     "name": "stdout",
     "output_type": "stream",
     "text": [
      "[I 2024-12-03 20:59:32,360] Trial 34 finished with value: 0.4340620110337969 and parameters: {'lambda_l1': 0.5616617637066307, 'lambda_l2': 0.14257894964158402, 'num_leaves': 235, 'feature_fraction': 0.7188858935762308, 'bagging_fraction': 0.7263069516167797, 'bagging_freq': 5, 'min_child_samples': 92, 'learning_rate': 0.017272098383255805}. Best is trial 32 with value: 0.4320825365026583.\n"
     ]
    },
    {
     "name": "stderr",
     "output_type": "stream",
     "text": [
      "c:\\Users\\alexa\\Documents\\Code Python et SQL\\Python DSB\\bike_counters_ac_team\\.venv\\lib\\site-packages\\sklearn\\metrics\\_regression.py:483: FutureWarning: 'squared' is deprecated in version 1.4 and will be removed in 1.6. To calculate the root mean squared error, use the function'root_mean_squared_error'.\n",
      "  warnings.warn(\n",
      "Best trial: 32. Best value: 0.432083:  36%|███▌      | 36/100 [29:48<51:47, 48.56s/it]"
     ]
    },
    {
     "name": "stdout",
     "output_type": "stream",
     "text": [
      "[I 2024-12-03 21:00:05,670] Trial 35 finished with value: 0.433494223573993 and parameters: {'lambda_l1': 0.0816689703749296, 'lambda_l2': 1.4266141943265933, 'num_leaves': 237, 'feature_fraction': 0.6410276084805501, 'bagging_fraction': 0.7053230786472295, 'bagging_freq': 4, 'min_child_samples': 34, 'learning_rate': 0.06513512843679876}. Best is trial 32 with value: 0.4320825365026583.\n"
     ]
    },
    {
     "name": "stderr",
     "output_type": "stream",
     "text": [
      "c:\\Users\\alexa\\Documents\\Code Python et SQL\\Python DSB\\bike_counters_ac_team\\.venv\\lib\\site-packages\\sklearn\\metrics\\_regression.py:483: FutureWarning: 'squared' is deprecated in version 1.4 and will be removed in 1.6. To calculate the root mean squared error, use the function'root_mean_squared_error'.\n",
      "  warnings.warn(\n",
      "Best trial: 32. Best value: 0.432083:  37%|███▋      | 37/100 [31:10<1:01:39, 58.73s/it]"
     ]
    },
    {
     "name": "stdout",
     "output_type": "stream",
     "text": [
      "[I 2024-12-03 21:01:28,124] Trial 36 finished with value: 0.45109800417578383 and parameters: {'lambda_l1': 0.003895583243291151, 'lambda_l2': 0.012448298492370818, 'num_leaves': 190, 'feature_fraction': 0.796677511120007, 'bagging_fraction': 0.7952422949380259, 'bagging_freq': 4, 'min_child_samples': 94, 'learning_rate': 0.006693004892546279}. Best is trial 32 with value: 0.4320825365026583.\n"
     ]
    },
    {
     "name": "stderr",
     "output_type": "stream",
     "text": [
      "c:\\Users\\alexa\\Documents\\Code Python et SQL\\Python DSB\\bike_counters_ac_team\\.venv\\lib\\site-packages\\sklearn\\metrics\\_regression.py:483: FutureWarning: 'squared' is deprecated in version 1.4 and will be removed in 1.6. To calculate the root mean squared error, use the function'root_mean_squared_error'.\n",
      "  warnings.warn(\n",
      "Best trial: 32. Best value: 0.432083:  38%|███▊      | 38/100 [32:10<1:01:09, 59.19s/it]"
     ]
    },
    {
     "name": "stdout",
     "output_type": "stream",
     "text": [
      "[I 2024-12-03 21:02:28,398] Trial 37 finished with value: 0.458550901200131 and parameters: {'lambda_l1': 1.7603124708708762, 'lambda_l2': 1.1210006176837222, 'num_leaves': 77, 'feature_fraction': 0.703353527030254, 'bagging_fraction': 0.9183099947463105, 'bagging_freq': 5, 'min_child_samples': 89, 'learning_rate': 0.010618159535103658}. Best is trial 32 with value: 0.4320825365026583.\n"
     ]
    },
    {
     "name": "stderr",
     "output_type": "stream",
     "text": [
      "c:\\Users\\alexa\\Documents\\Code Python et SQL\\Python DSB\\bike_counters_ac_team\\.venv\\lib\\site-packages\\sklearn\\metrics\\_regression.py:483: FutureWarning: 'squared' is deprecated in version 1.4 and will be removed in 1.6. To calculate the root mean squared error, use the function'root_mean_squared_error'.\n",
      "  warnings.warn(\n",
      "Best trial: 32. Best value: 0.432083:  39%|███▉      | 39/100 [33:42<1:09:56, 68.80s/it]"
     ]
    },
    {
     "name": "stdout",
     "output_type": "stream",
     "text": [
      "[I 2024-12-03 21:03:59,609] Trial 38 finished with value: 0.5195511153517895 and parameters: {'lambda_l1': 0.07545516317356482, 'lambda_l2': 0.139362995538202, 'num_leaves': 244, 'feature_fraction': 0.6222392613483856, 'bagging_fraction': 0.6825650508282801, 'bagging_freq': 3, 'min_child_samples': 96, 'learning_rate': 0.00326889136596993}. Best is trial 32 with value: 0.4320825365026583.\n"
     ]
    },
    {
     "name": "stderr",
     "output_type": "stream",
     "text": [
      "c:\\Users\\alexa\\Documents\\Code Python et SQL\\Python DSB\\bike_counters_ac_team\\.venv\\lib\\site-packages\\sklearn\\metrics\\_regression.py:483: FutureWarning: 'squared' is deprecated in version 1.4 and will be removed in 1.6. To calculate the root mean squared error, use the function'root_mean_squared_error'.\n",
      "  warnings.warn(\n",
      "Best trial: 32. Best value: 0.432083:  40%|████      | 40/100 [34:52<1:09:15, 69.26s/it]"
     ]
    },
    {
     "name": "stdout",
     "output_type": "stream",
     "text": [
      "[I 2024-12-03 21:05:09,950] Trial 39 finished with value: 0.4323970065329443 and parameters: {'lambda_l1': 0.2760900513944942, 'lambda_l2': 0.6959097429057777, 'num_leaves': 229, 'feature_fraction': 0.878903155954879, 'bagging_fraction': 0.8439400345648669, 'bagging_freq': 5, 'min_child_samples': 56, 'learning_rate': 0.026687738324828698}. Best is trial 32 with value: 0.4320825365026583.\n"
     ]
    },
    {
     "name": "stderr",
     "output_type": "stream",
     "text": [
      "c:\\Users\\alexa\\Documents\\Code Python et SQL\\Python DSB\\bike_counters_ac_team\\.venv\\lib\\site-packages\\sklearn\\metrics\\_regression.py:483: FutureWarning: 'squared' is deprecated in version 1.4 and will be removed in 1.6. To calculate the root mean squared error, use the function'root_mean_squared_error'.\n",
      "  warnings.warn(\n",
      "Best trial: 32. Best value: 0.432083:  41%|████      | 41/100 [36:15<1:12:06, 73.33s/it]"
     ]
    },
    {
     "name": "stdout",
     "output_type": "stream",
     "text": [
      "[I 2024-12-03 21:06:32,770] Trial 40 finished with value: 0.43281404330065376 and parameters: {'lambda_l1': 0.2757407249919207, 'lambda_l2': 0.025256927155253753, 'num_leaves': 256, 'feature_fraction': 0.8718077657509371, 'bagging_fraction': 0.8865552598499405, 'bagging_freq': 5, 'min_child_samples': 24, 'learning_rate': 0.016618366863737483}. Best is trial 32 with value: 0.4320825365026583.\n"
     ]
    },
    {
     "name": "stderr",
     "output_type": "stream",
     "text": [
      "c:\\Users\\alexa\\Documents\\Code Python et SQL\\Python DSB\\bike_counters_ac_team\\.venv\\lib\\site-packages\\sklearn\\metrics\\_regression.py:483: FutureWarning: 'squared' is deprecated in version 1.4 and will be removed in 1.6. To calculate the root mean squared error, use the function'root_mean_squared_error'.\n",
      "  warnings.warn(\n",
      "Best trial: 41. Best value: 0.431886:  42%|████▏     | 42/100 [37:17<1:07:34, 69.91s/it]"
     ]
    },
    {
     "name": "stdout",
     "output_type": "stream",
     "text": [
      "[I 2024-12-03 21:07:34,703] Trial 41 finished with value: 0.4318863439649663 and parameters: {'lambda_l1': 0.004478780700264969, 'lambda_l2': 0.8743609282650583, 'num_leaves': 226, 'feature_fraction': 0.7363166392345581, 'bagging_fraction': 0.8472690983505095, 'bagging_freq': 5, 'min_child_samples': 47, 'learning_rate': 0.026031279449009976}. Best is trial 41 with value: 0.4318863439649663.\n"
     ]
    },
    {
     "name": "stderr",
     "output_type": "stream",
     "text": [
      "c:\\Users\\alexa\\Documents\\Code Python et SQL\\Python DSB\\bike_counters_ac_team\\.venv\\lib\\site-packages\\sklearn\\metrics\\_regression.py:483: FutureWarning: 'squared' is deprecated in version 1.4 and will be removed in 1.6. To calculate the root mean squared error, use the function'root_mean_squared_error'.\n",
      "  warnings.warn(\n",
      "Best trial: 41. Best value: 0.431886:  43%|████▎     | 43/100 [37:46<54:49, 57.70s/it]  "
     ]
    },
    {
     "name": "stdout",
     "output_type": "stream",
     "text": [
      "[I 2024-12-03 21:08:03,926] Trial 42 finished with value: 0.4325288528122694 and parameters: {'lambda_l1': 0.007028845141961165, 'lambda_l2': 0.6580262574842711, 'num_leaves': 201, 'feature_fraction': 0.7469197854333857, 'bagging_fraction': 0.8589708645377998, 'bagging_freq': 5, 'min_child_samples': 50, 'learning_rate': 0.06901196158412934}. Best is trial 41 with value: 0.4318863439649663.\n"
     ]
    },
    {
     "name": "stderr",
     "output_type": "stream",
     "text": [
      "c:\\Users\\alexa\\Documents\\Code Python et SQL\\Python DSB\\bike_counters_ac_team\\.venv\\lib\\site-packages\\sklearn\\metrics\\_regression.py:483: FutureWarning: 'squared' is deprecated in version 1.4 and will be removed in 1.6. To calculate the root mean squared error, use the function'root_mean_squared_error'.\n",
      "  warnings.warn(\n",
      "Best trial: 43. Best value: 0.431676:  44%|████▍     | 44/100 [39:04<59:28, 63.72s/it]"
     ]
    },
    {
     "name": "stdout",
     "output_type": "stream",
     "text": [
      "[I 2024-12-03 21:09:21,678] Trial 43 finished with value: 0.4316762633509232 and parameters: {'lambda_l1': 0.20133237828953557, 'lambda_l2': 0.3062135266320733, 'num_leaves': 229, 'feature_fraction': 0.798824573972278, 'bagging_fraction': 0.9893954836181951, 'bagging_freq': 4, 'min_child_samples': 41, 'learning_rate': 0.020616199622466854}. Best is trial 43 with value: 0.4316762633509232.\n"
     ]
    },
    {
     "name": "stderr",
     "output_type": "stream",
     "text": [
      "c:\\Users\\alexa\\Documents\\Code Python et SQL\\Python DSB\\bike_counters_ac_team\\.venv\\lib\\site-packages\\sklearn\\metrics\\_regression.py:483: FutureWarning: 'squared' is deprecated in version 1.4 and will be removed in 1.6. To calculate the root mean squared error, use the function'root_mean_squared_error'.\n",
      "  warnings.warn(\n",
      "Best trial: 43. Best value: 0.431676:  45%|████▌     | 45/100 [40:17<1:01:04, 66.63s/it]"
     ]
    },
    {
     "name": "stdout",
     "output_type": "stream",
     "text": [
      "[I 2024-12-03 21:10:35,111] Trial 44 finished with value: 0.4338088751216545 and parameters: {'lambda_l1': 0.002953523441553568, 'lambda_l2': 0.12321437949740405, 'num_leaves': 246, 'feature_fraction': 0.7992789715691353, 'bagging_fraction': 0.9694653174880031, 'bagging_freq': 4, 'min_child_samples': 36, 'learning_rate': 0.012707512601315571}. Best is trial 43 with value: 0.4316762633509232.\n"
     ]
    },
    {
     "name": "stderr",
     "output_type": "stream",
     "text": [
      "c:\\Users\\alexa\\Documents\\Code Python et SQL\\Python DSB\\bike_counters_ac_team\\.venv\\lib\\site-packages\\sklearn\\metrics\\_regression.py:483: FutureWarning: 'squared' is deprecated in version 1.4 and will be removed in 1.6. To calculate the root mean squared error, use the function'root_mean_squared_error'.\n",
      "  warnings.warn(\n",
      "Best trial: 43. Best value: 0.431676:  46%|████▌     | 46/100 [40:46<49:50, 55.38s/it]  "
     ]
    },
    {
     "name": "stdout",
     "output_type": "stream",
     "text": [
      "[I 2024-12-03 21:11:04,238] Trial 45 finished with value: 0.4318216352334583 and parameters: {'lambda_l1': 0.013187660080369623, 'lambda_l2': 0.0025799551149255965, 'num_leaves': 204, 'feature_fraction': 0.8088313156007509, 'bagging_fraction': 0.9898550262586726, 'bagging_freq': 4, 'min_child_samples': 41, 'learning_rate': 0.04220669300631671}. Best is trial 43 with value: 0.4316762633509232.\n"
     ]
    },
    {
     "name": "stderr",
     "output_type": "stream",
     "text": [
      "c:\\Users\\alexa\\Documents\\Code Python et SQL\\Python DSB\\bike_counters_ac_team\\.venv\\lib\\site-packages\\sklearn\\metrics\\_regression.py:483: FutureWarning: 'squared' is deprecated in version 1.4 and will be removed in 1.6. To calculate the root mean squared error, use the function'root_mean_squared_error'.\n",
      "  warnings.warn(\n",
      "Best trial: 43. Best value: 0.431676:  47%|████▋     | 47/100 [41:16<42:12, 47.79s/it]"
     ]
    },
    {
     "name": "stdout",
     "output_type": "stream",
     "text": [
      "[I 2024-12-03 21:11:34,318] Trial 46 finished with value: 0.4320211775104175 and parameters: {'lambda_l1': 0.012579058703997628, 'lambda_l2': 0.0029547036988154633, 'num_leaves': 170, 'feature_fraction': 0.827398020337086, 'bagging_fraction': 0.9945208246916909, 'bagging_freq': 3, 'min_child_samples': 43, 'learning_rate': 0.04447633867317098}. Best is trial 43 with value: 0.4316762633509232.\n"
     ]
    },
    {
     "name": "stderr",
     "output_type": "stream",
     "text": [
      "c:\\Users\\alexa\\Documents\\Code Python et SQL\\Python DSB\\bike_counters_ac_team\\.venv\\lib\\site-packages\\sklearn\\metrics\\_regression.py:483: FutureWarning: 'squared' is deprecated in version 1.4 and will be removed in 1.6. To calculate the root mean squared error, use the function'root_mean_squared_error'.\n",
      "  warnings.warn(\n",
      "Best trial: 43. Best value: 0.431676:  48%|████▊     | 48/100 [41:36<34:06, 39.35s/it]"
     ]
    },
    {
     "name": "stdout",
     "output_type": "stream",
     "text": [
      "[I 2024-12-03 21:11:53,976] Trial 47 finished with value: 0.43212082873910695 and parameters: {'lambda_l1': 0.008491406084685942, 'lambda_l2': 0.0015997778625695808, 'num_leaves': 163, 'feature_fraction': 0.8265502629031964, 'bagging_fraction': 0.9828714472293474, 'bagging_freq': 3, 'min_child_samples': 44, 'learning_rate': 0.0741280740863112}. Best is trial 43 with value: 0.4316762633509232.\n"
     ]
    },
    {
     "name": "stderr",
     "output_type": "stream",
     "text": [
      "c:\\Users\\alexa\\Documents\\Code Python et SQL\\Python DSB\\bike_counters_ac_team\\.venv\\lib\\site-packages\\sklearn\\metrics\\_regression.py:483: FutureWarning: 'squared' is deprecated in version 1.4 and will be removed in 1.6. To calculate the root mean squared error, use the function'root_mean_squared_error'.\n",
      "  warnings.warn(\n",
      "Best trial: 43. Best value: 0.431676:  49%|████▉     | 49/100 [42:33<38:01, 44.73s/it]"
     ]
    },
    {
     "name": "stdout",
     "output_type": "stream",
     "text": [
      "[I 2024-12-03 21:12:51,251] Trial 48 finished with value: 1.4200365560084338 and parameters: {'lambda_l1': 0.0005801531704787197, 'lambda_l2': 6.553723077949747e-06, 'num_leaves': 184, 'feature_fraction': 0.8525191915936626, 'bagging_fraction': 0.9362701127136855, 'bagging_freq': 2, 'min_child_samples': 42, 'learning_rate': 0.00020053836531395963}. Best is trial 43 with value: 0.4316762633509232.\n"
     ]
    },
    {
     "name": "stderr",
     "output_type": "stream",
     "text": [
      "c:\\Users\\alexa\\Documents\\Code Python et SQL\\Python DSB\\bike_counters_ac_team\\.venv\\lib\\site-packages\\sklearn\\metrics\\_regression.py:483: FutureWarning: 'squared' is deprecated in version 1.4 and will be removed in 1.6. To calculate the root mean squared error, use the function'root_mean_squared_error'.\n",
      "  warnings.warn(\n",
      "Best trial: 49. Best value: 0.43141:  50%|█████     | 50/100 [42:59<32:32, 39.05s/it] "
     ]
    },
    {
     "name": "stdout",
     "output_type": "stream",
     "text": [
      "[I 2024-12-03 21:13:17,034] Trial 49 finished with value: 0.4314102600898588 and parameters: {'lambda_l1': 0.014001547670291518, 'lambda_l2': 0.004628329796484631, 'num_leaves': 201, 'feature_fraction': 0.7922229795091268, 'bagging_fraction': 0.9956410919359229, 'bagging_freq': 1, 'min_child_samples': 29, 'learning_rate': 0.041358540093023886}. Best is trial 49 with value: 0.4314102600898588.\n"
     ]
    },
    {
     "name": "stderr",
     "output_type": "stream",
     "text": [
      "c:\\Users\\alexa\\Documents\\Code Python et SQL\\Python DSB\\bike_counters_ac_team\\.venv\\lib\\site-packages\\sklearn\\metrics\\_regression.py:483: FutureWarning: 'squared' is deprecated in version 1.4 and will be removed in 1.6. To calculate the root mean squared error, use the function'root_mean_squared_error'.\n",
      "  warnings.warn(\n",
      "Best trial: 49. Best value: 0.43141:  51%|█████     | 51/100 [1:12:52<7:41:33, 565.17s/it]"
     ]
    },
    {
     "name": "stdout",
     "output_type": "stream",
     "text": [
      "[I 2024-12-03 21:43:09,817] Trial 50 finished with value: 0.4316439993508452 and parameters: {'lambda_l1': 0.01643729612390695, 'lambda_l2': 0.0005551537242971362, 'num_leaves': 168, 'feature_fraction': 0.7931021889591464, 'bagging_fraction': 0.9953156023301498, 'bagging_freq': 2, 'min_child_samples': 25, 'learning_rate': 0.04287167336872136}. Best is trial 49 with value: 0.4314102600898588.\n"
     ]
    },
    {
     "name": "stderr",
     "output_type": "stream",
     "text": [
      "c:\\Users\\alexa\\Documents\\Code Python et SQL\\Python DSB\\bike_counters_ac_team\\.venv\\lib\\site-packages\\sklearn\\metrics\\_regression.py:483: FutureWarning: 'squared' is deprecated in version 1.4 and will be removed in 1.6. To calculate the root mean squared error, use the function'root_mean_squared_error'.\n",
      "  warnings.warn(\n",
      "Best trial: 49. Best value: 0.43141:  52%|█████▏    | 52/100 [1:13:18<5:22:51, 403.57s/it]"
     ]
    },
    {
     "name": "stdout",
     "output_type": "stream",
     "text": [
      "[I 2024-12-03 21:43:36,318] Trial 51 finished with value: 0.43162300179698354 and parameters: {'lambda_l1': 0.01581766401803589, 'lambda_l2': 0.003570572987485873, 'num_leaves': 177, 'feature_fraction': 0.7973724407561231, 'bagging_fraction': 0.990835700528006, 'bagging_freq': 1, 'min_child_samples': 26, 'learning_rate': 0.043647754166352484}. Best is trial 49 with value: 0.4314102600898588.\n"
     ]
    },
    {
     "name": "stderr",
     "output_type": "stream",
     "text": [
      "c:\\Users\\alexa\\Documents\\Code Python et SQL\\Python DSB\\bike_counters_ac_team\\.venv\\lib\\site-packages\\sklearn\\metrics\\_regression.py:483: FutureWarning: 'squared' is deprecated in version 1.4 and will be removed in 1.6. To calculate the root mean squared error, use the function'root_mean_squared_error'.\n",
      "  warnings.warn(\n",
      "Best trial: 49. Best value: 0.43141:  53%|█████▎    | 53/100 [1:13:31<3:44:15, 286.29s/it]"
     ]
    },
    {
     "name": "stdout",
     "output_type": "stream",
     "text": [
      "[I 2024-12-03 21:43:48,959] Trial 52 finished with value: 0.4328699871455147 and parameters: {'lambda_l1': 0.003291841045807166, 'lambda_l2': 0.000632218747936624, 'num_leaves': 200, 'feature_fraction': 0.794039739759933, 'bagging_fraction': 0.956111597633077, 'bagging_freq': 1, 'min_child_samples': 23, 'learning_rate': 0.08242781278297286}. Best is trial 49 with value: 0.4314102600898588.\n"
     ]
    },
    {
     "name": "stderr",
     "output_type": "stream",
     "text": [
      "c:\\Users\\alexa\\Documents\\Code Python et SQL\\Python DSB\\bike_counters_ac_team\\.venv\\lib\\site-packages\\sklearn\\metrics\\_regression.py:483: FutureWarning: 'squared' is deprecated in version 1.4 and will be removed in 1.6. To calculate the root mean squared error, use the function'root_mean_squared_error'.\n",
      "  warnings.warn(\n",
      "Best trial: 49. Best value: 0.43141:  54%|█████▍    | 54/100 [1:14:05<2:41:26, 210.58s/it]"
     ]
    },
    {
     "name": "stdout",
     "output_type": "stream",
     "text": [
      "[I 2024-12-03 21:44:22,893] Trial 53 finished with value: 0.4320574025892199 and parameters: {'lambda_l1': 0.020800815719360582, 'lambda_l2': 0.0003858696539364762, 'num_leaves': 179, 'feature_fraction': 0.7772760319426769, 'bagging_fraction': 0.9121359015540019, 'bagging_freq': 1, 'min_child_samples': 28, 'learning_rate': 0.044673994624196994}. Best is trial 49 with value: 0.4314102600898588.\n"
     ]
    },
    {
     "name": "stderr",
     "output_type": "stream",
     "text": [
      "c:\\Users\\alexa\\Documents\\Code Python et SQL\\Python DSB\\bike_counters_ac_team\\.venv\\lib\\site-packages\\sklearn\\metrics\\_regression.py:483: FutureWarning: 'squared' is deprecated in version 1.4 and will be removed in 1.6. To calculate the root mean squared error, use the function'root_mean_squared_error'.\n",
      "  warnings.warn(\n",
      "Best trial: 49. Best value: 0.43141:  55%|█████▌    | 55/100 [1:14:45<1:59:29, 159.32s/it]"
     ]
    },
    {
     "name": "stdout",
     "output_type": "stream",
     "text": [
      "[I 2024-12-03 21:45:02,594] Trial 54 finished with value: 0.43706269725607144 and parameters: {'lambda_l1': 0.00033799729665872594, 'lambda_l2': 0.002998474175256227, 'num_leaves': 115, 'feature_fraction': 0.753129543273671, 'bagging_fraction': 0.9985805965094946, 'bagging_freq': 1, 'min_child_samples': 16, 'learning_rate': 0.020073573457965385}. Best is trial 49 with value: 0.4314102600898588.\n"
     ]
    },
    {
     "name": "stderr",
     "output_type": "stream",
     "text": [
      "c:\\Users\\alexa\\Documents\\Code Python et SQL\\Python DSB\\bike_counters_ac_team\\.venv\\lib\\site-packages\\sklearn\\metrics\\_regression.py:483: FutureWarning: 'squared' is deprecated in version 1.4 and will be removed in 1.6. To calculate the root mean squared error, use the function'root_mean_squared_error'.\n",
      "  warnings.warn(\n",
      "Best trial: 49. Best value: 0.43141:  56%|█████▌    | 56/100 [1:15:11<1:27:39, 119.54s/it]"
     ]
    },
    {
     "name": "stdout",
     "output_type": "stream",
     "text": [
      "[I 2024-12-03 21:45:29,316] Trial 55 finished with value: 0.43383000873112443 and parameters: {'lambda_l1': 0.0038972349850123263, 'lambda_l2': 0.01704023481902319, 'num_leaves': 150, 'feature_fraction': 0.8515892272326046, 'bagging_fraction': 0.8936729429941732, 'bagging_freq': 2, 'min_child_samples': 16, 'learning_rate': 0.05605747183444475}. Best is trial 49 with value: 0.4314102600898588.\n"
     ]
    },
    {
     "name": "stderr",
     "output_type": "stream",
     "text": [
      "c:\\Users\\alexa\\Documents\\Code Python et SQL\\Python DSB\\bike_counters_ac_team\\.venv\\lib\\site-packages\\sklearn\\metrics\\_regression.py:483: FutureWarning: 'squared' is deprecated in version 1.4 and will be removed in 1.6. To calculate the root mean squared error, use the function'root_mean_squared_error'.\n",
      "  warnings.warn(\n",
      "Best trial: 49. Best value: 0.43141:  57%|█████▋    | 57/100 [1:15:40<1:06:06, 92.26s/it] "
     ]
    },
    {
     "name": "stdout",
     "output_type": "stream",
     "text": [
      "[I 2024-12-03 21:45:57,916] Trial 56 finished with value: 0.43339602862912346 and parameters: {'lambda_l1': 0.17318309453956438, 'lambda_l2': 0.00016426107152106998, 'num_leaves': 160, 'feature_fraction': 0.8956726311788029, 'bagging_fraction': 0.9636865832935113, 'bagging_freq': 1, 'min_child_samples': 33, 'learning_rate': 0.0415597372705145}. Best is trial 49 with value: 0.4314102600898588.\n"
     ]
    },
    {
     "name": "stderr",
     "output_type": "stream",
     "text": [
      "c:\\Users\\alexa\\Documents\\Code Python et SQL\\Python DSB\\bike_counters_ac_team\\.venv\\lib\\site-packages\\sklearn\\metrics\\_regression.py:483: FutureWarning: 'squared' is deprecated in version 1.4 and will be removed in 1.6. To calculate the root mean squared error, use the function'root_mean_squared_error'.\n",
      "  warnings.warn(\n",
      "Best trial: 49. Best value: 0.43141:  58%|█████▊    | 58/100 [1:15:53<48:03, 68.65s/it]  "
     ]
    },
    {
     "name": "stdout",
     "output_type": "stream",
     "text": [
      "[I 2024-12-03 21:46:11,485] Trial 57 finished with value: 0.4343390929624626 and parameters: {'lambda_l1': 0.0019114889195989678, 'lambda_l2': 2.2492114989426585e-05, 'num_leaves': 204, 'feature_fraction': 0.9333940442079811, 'bagging_fraction': 0.9379083059839788, 'bagging_freq': 2, 'min_child_samples': 28, 'learning_rate': 0.09328184197762332}. Best is trial 49 with value: 0.4314102600898588.\n"
     ]
    },
    {
     "name": "stderr",
     "output_type": "stream",
     "text": [
      "c:\\Users\\alexa\\Documents\\Code Python et SQL\\Python DSB\\bike_counters_ac_team\\.venv\\lib\\site-packages\\sklearn\\metrics\\_regression.py:483: FutureWarning: 'squared' is deprecated in version 1.4 and will be removed in 1.6. To calculate the root mean squared error, use the function'root_mean_squared_error'.\n",
      "  warnings.warn(\n",
      "Best trial: 49. Best value: 0.43141:  59%|█████▉    | 59/100 [1:16:17<37:38, 55.08s/it]"
     ]
    },
    {
     "name": "stdout",
     "output_type": "stream",
     "text": [
      "[I 2024-12-03 21:46:34,891] Trial 58 finished with value: 0.4316843503840937 and parameters: {'lambda_l1': 0.009042113326554435, 'lambda_l2': 0.006266413790294372, 'num_leaves': 135, 'feature_fraction': 0.8059729126341695, 'bagging_fraction': 0.919955566708979, 'bagging_freq': 1, 'min_child_samples': 48, 'learning_rate': 0.05778581059975713}. Best is trial 49 with value: 0.4314102600898588.\n"
     ]
    },
    {
     "name": "stderr",
     "output_type": "stream",
     "text": [
      "c:\\Users\\alexa\\Documents\\Code Python et SQL\\Python DSB\\bike_counters_ac_team\\.venv\\lib\\site-packages\\sklearn\\metrics\\_regression.py:483: FutureWarning: 'squared' is deprecated in version 1.4 and will be removed in 1.6. To calculate the root mean squared error, use the function'root_mean_squared_error'.\n",
      "  warnings.warn(\n",
      "Best trial: 49. Best value: 0.43141:  60%|██████    | 60/100 [1:16:39<30:12, 45.30s/it]"
     ]
    },
    {
     "name": "stdout",
     "output_type": "stream",
     "text": [
      "[I 2024-12-03 21:46:57,392] Trial 59 finished with value: 0.431867199231808 and parameters: {'lambda_l1': 0.5895761319547415, 'lambda_l2': 0.006485219707647644, 'num_leaves': 130, 'feature_fraction': 0.8021528757549705, 'bagging_fraction': 0.9772678664929154, 'bagging_freq': 1, 'min_child_samples': 39, 'learning_rate': 0.058998551918899356}. Best is trial 49 with value: 0.4314102600898588.\n"
     ]
    },
    {
     "name": "stderr",
     "output_type": "stream",
     "text": [
      "c:\\Users\\alexa\\Documents\\Code Python et SQL\\Python DSB\\bike_counters_ac_team\\.venv\\lib\\site-packages\\sklearn\\metrics\\_regression.py:483: FutureWarning: 'squared' is deprecated in version 1.4 and will be removed in 1.6. To calculate the root mean squared error, use the function'root_mean_squared_error'.\n",
      "  warnings.warn(\n",
      "Best trial: 49. Best value: 0.43141:  61%|██████    | 61/100 [1:17:30<30:27, 46.87s/it]"
     ]
    },
    {
     "name": "stdout",
     "output_type": "stream",
     "text": [
      "[I 2024-12-03 21:47:47,918] Trial 60 finished with value: 0.43292168055483216 and parameters: {'lambda_l1': 5.875363020583231, 'lambda_l2': 0.0009974533505274028, 'num_leaves': 140, 'feature_fraction': 0.8151234779190357, 'bagging_fraction': 0.9178047971992727, 'bagging_freq': 2, 'min_child_samples': 16, 'learning_rate': 0.03689117335183979}. Best is trial 49 with value: 0.4314102600898588.\n"
     ]
    },
    {
     "name": "stderr",
     "output_type": "stream",
     "text": [
      "c:\\Users\\alexa\\Documents\\Code Python et SQL\\Python DSB\\bike_counters_ac_team\\.venv\\lib\\site-packages\\sklearn\\metrics\\_regression.py:483: FutureWarning: 'squared' is deprecated in version 1.4 and will be removed in 1.6. To calculate the root mean squared error, use the function'root_mean_squared_error'.\n",
      "  warnings.warn(\n",
      "Best trial: 49. Best value: 0.43141:  62%|██████▏   | 62/100 [1:17:57<25:55, 40.95s/it]"
     ]
    },
    {
     "name": "stdout",
     "output_type": "stream",
     "text": [
      "[I 2024-12-03 21:48:15,043] Trial 61 finished with value: 0.4319574347751112 and parameters: {'lambda_l1': 0.5886311365052563, 'lambda_l2': 0.005879157535790079, 'num_leaves': 127, 'feature_fraction': 0.7866692432269483, 'bagging_fraction': 0.977356688769262, 'bagging_freq': 1, 'min_child_samples': 39, 'learning_rate': 0.05936397146032277}. Best is trial 49 with value: 0.4314102600898588.\n"
     ]
    },
    {
     "name": "stderr",
     "output_type": "stream",
     "text": [
      "c:\\Users\\alexa\\Documents\\Code Python et SQL\\Python DSB\\bike_counters_ac_team\\.venv\\lib\\site-packages\\sklearn\\metrics\\_regression.py:483: FutureWarning: 'squared' is deprecated in version 1.4 and will be removed in 1.6. To calculate the root mean squared error, use the function'root_mean_squared_error'.\n",
      "  warnings.warn(\n",
      "Best trial: 49. Best value: 0.43141:  63%|██████▎   | 63/100 [1:18:25<22:46, 36.94s/it]"
     ]
    },
    {
     "name": "stdout",
     "output_type": "stream",
     "text": [
      "[I 2024-12-03 21:48:42,626] Trial 62 finished with value: 0.4330506676652713 and parameters: {'lambda_l1': 0.14601174735019481, 'lambda_l2': 0.003272119583751993, 'num_leaves': 95, 'feature_fraction': 0.8391361428215561, 'bagging_fraction': 0.9540271297131407, 'bagging_freq': 1, 'min_child_samples': 30, 'learning_rate': 0.05512571681186578}. Best is trial 49 with value: 0.4314102600898588.\n"
     ]
    },
    {
     "name": "stderr",
     "output_type": "stream",
     "text": [
      "c:\\Users\\alexa\\Documents\\Code Python et SQL\\Python DSB\\bike_counters_ac_team\\.venv\\lib\\site-packages\\sklearn\\metrics\\_regression.py:483: FutureWarning: 'squared' is deprecated in version 1.4 and will be removed in 1.6. To calculate the root mean squared error, use the function'root_mean_squared_error'.\n",
      "  warnings.warn(\n",
      "Best trial: 49. Best value: 0.43141:  64%|██████▍   | 64/100 [1:18:52<20:28, 34.14s/it]"
     ]
    },
    {
     "name": "stdout",
     "output_type": "stream",
     "text": [
      "[I 2024-12-03 21:49:10,233] Trial 63 finished with value: 0.4332156497253254 and parameters: {'lambda_l1': 0.026205538843182198, 'lambda_l2': 0.03920390941713779, 'num_leaves': 115, 'feature_fraction': 0.8152568136523564, 'bagging_fraction': 0.9966747751406948, 'bagging_freq': 1, 'min_child_samples': 39, 'learning_rate': 0.03651760672231557}. Best is trial 49 with value: 0.4314102600898588.\n"
     ]
    },
    {
     "name": "stderr",
     "output_type": "stream",
     "text": [
      "c:\\Users\\alexa\\Documents\\Code Python et SQL\\Python DSB\\bike_counters_ac_team\\.venv\\lib\\site-packages\\sklearn\\metrics\\_regression.py:483: FutureWarning: 'squared' is deprecated in version 1.4 and will be removed in 1.6. To calculate the root mean squared error, use the function'root_mean_squared_error'.\n",
      "  warnings.warn(\n",
      "Best trial: 49. Best value: 0.43141:  65%|██████▌   | 65/100 [1:19:20<18:43, 32.10s/it]"
     ]
    },
    {
     "name": "stdout",
     "output_type": "stream",
     "text": [
      "[I 2024-12-03 21:49:37,562] Trial 64 finished with value: 0.43310759908257823 and parameters: {'lambda_l1': 0.5998277125698708, 'lambda_l2': 0.01083499069833158, 'num_leaves': 81, 'feature_fraction': 0.76292962127757, 'bagging_fraction': 0.936673677478523, 'bagging_freq': 2, 'min_child_samples': 52, 'learning_rate': 0.0999369949975389}. Best is trial 49 with value: 0.4314102600898588.\n"
     ]
    },
    {
     "name": "stderr",
     "output_type": "stream",
     "text": [
      "c:\\Users\\alexa\\Documents\\Code Python et SQL\\Python DSB\\bike_counters_ac_team\\.venv\\lib\\site-packages\\sklearn\\metrics\\_regression.py:483: FutureWarning: 'squared' is deprecated in version 1.4 and will be removed in 1.6. To calculate the root mean squared error, use the function'root_mean_squared_error'.\n",
      "  warnings.warn(\n",
      "Best trial: 49. Best value: 0.43141:  66%|██████▌   | 66/100 [1:20:00<19:34, 34.55s/it]"
     ]
    },
    {
     "name": "stdout",
     "output_type": "stream",
     "text": [
      "[I 2024-12-03 21:50:17,847] Trial 65 finished with value: 0.43245620060442386 and parameters: {'lambda_l1': 3.6310709871964013, 'lambda_l2': 0.0003682533445156818, 'num_leaves': 125, 'feature_fraction': 0.8553913202709847, 'bagging_fraction': 0.9719265934402086, 'bagging_freq': 2, 'min_child_samples': 20, 'learning_rate': 0.07656396732096717}. Best is trial 49 with value: 0.4314102600898588.\n"
     ]
    },
    {
     "name": "stderr",
     "output_type": "stream",
     "text": [
      "c:\\Users\\alexa\\Documents\\Code Python et SQL\\Python DSB\\bike_counters_ac_team\\.venv\\lib\\site-packages\\sklearn\\metrics\\_regression.py:483: FutureWarning: 'squared' is deprecated in version 1.4 and will be removed in 1.6. To calculate the root mean squared error, use the function'root_mean_squared_error'.\n",
      "  warnings.warn(\n",
      "Best trial: 49. Best value: 0.43141:  67%|██████▋   | 67/100 [1:20:30<18:12, 33.12s/it]"
     ]
    },
    {
     "name": "stdout",
     "output_type": "stream",
     "text": [
      "[I 2024-12-03 21:50:47,621] Trial 66 finished with value: 0.43219419765090594 and parameters: {'lambda_l1': 1.3154466899389228, 'lambda_l2': 0.0014249535487524257, 'num_leaves': 144, 'feature_fraction': 0.8781698803840498, 'bagging_fraction': 0.980560608056697, 'bagging_freq': 1, 'min_child_samples': 48, 'learning_rate': 0.04690176433582017}. Best is trial 49 with value: 0.4314102600898588.\n"
     ]
    },
    {
     "name": "stderr",
     "output_type": "stream",
     "text": [
      "c:\\Users\\alexa\\Documents\\Code Python et SQL\\Python DSB\\bike_counters_ac_team\\.venv\\lib\\site-packages\\sklearn\\metrics\\_regression.py:483: FutureWarning: 'squared' is deprecated in version 1.4 and will be removed in 1.6. To calculate the root mean squared error, use the function'root_mean_squared_error'.\n",
      "  warnings.warn(\n",
      "Best trial: 49. Best value: 0.43141:  68%|██████▊   | 68/100 [1:21:08<18:29, 34.68s/it]"
     ]
    },
    {
     "name": "stdout",
     "output_type": "stream",
     "text": [
      "[I 2024-12-03 21:51:25,939] Trial 67 finished with value: 0.43407462512420103 and parameters: {'lambda_l1': 0.009635124356779073, 'lambda_l2': 0.000624730785451196, 'num_leaves': 171, 'feature_fraction': 0.804101725987991, 'bagging_fraction': 0.948536639871846, 'bagging_freq': 1, 'min_child_samples': 10, 'learning_rate': 0.019913081433253838}. Best is trial 49 with value: 0.4314102600898588.\n"
     ]
    },
    {
     "name": "stderr",
     "output_type": "stream",
     "text": [
      "c:\\Users\\alexa\\Documents\\Code Python et SQL\\Python DSB\\bike_counters_ac_team\\.venv\\lib\\site-packages\\sklearn\\metrics\\_regression.py:483: FutureWarning: 'squared' is deprecated in version 1.4 and will be removed in 1.6. To calculate the root mean squared error, use the function'root_mean_squared_error'.\n",
      "  warnings.warn(\n",
      "Best trial: 49. Best value: 0.43141:  69%|██████▉   | 69/100 [1:21:45<18:19, 35.46s/it]"
     ]
    },
    {
     "name": "stdout",
     "output_type": "stream",
     "text": [
      "[I 2024-12-03 21:52:03,211] Trial 68 finished with value: 1.076856554223083 and parameters: {'lambda_l1': 0.0017132188854712615, 'lambda_l2': 0.00014855689339140368, 'num_leaves': 104, 'feature_fraction': 0.7779991306409948, 'bagging_fraction': 0.8953885820713332, 'bagging_freq': 1, 'min_child_samples': 56, 'learning_rate': 0.0006472826904580964}. Best is trial 49 with value: 0.4314102600898588.\n"
     ]
    },
    {
     "name": "stderr",
     "output_type": "stream",
     "text": [
      "c:\\Users\\alexa\\Documents\\Code Python et SQL\\Python DSB\\bike_counters_ac_team\\.venv\\lib\\site-packages\\sklearn\\metrics\\_regression.py:483: FutureWarning: 'squared' is deprecated in version 1.4 and will be removed in 1.6. To calculate the root mean squared error, use the function'root_mean_squared_error'.\n",
      "  warnings.warn(\n",
      "Best trial: 49. Best value: 0.43141:  70%|███████   | 70/100 [1:22:20<17:36, 35.20s/it]"
     ]
    },
    {
     "name": "stdout",
     "output_type": "stream",
     "text": [
      "[I 2024-12-03 21:52:37,821] Trial 69 finished with value: 0.4322222878469856 and parameters: {'lambda_l1': 0.1134329114463632, 'lambda_l2': 0.005366082976739099, 'num_leaves': 185, 'feature_fraction': 0.7387282454708501, 'bagging_fraction': 0.8683471202117298, 'bagging_freq': 2, 'min_child_samples': 38, 'learning_rate': 0.03511029141980965}. Best is trial 49 with value: 0.4314102600898588.\n"
     ]
    },
    {
     "name": "stderr",
     "output_type": "stream",
     "text": [
      "c:\\Users\\alexa\\Documents\\Code Python et SQL\\Python DSB\\bike_counters_ac_team\\.venv\\lib\\site-packages\\sklearn\\metrics\\_regression.py:483: FutureWarning: 'squared' is deprecated in version 1.4 and will be removed in 1.6. To calculate the root mean squared error, use the function'root_mean_squared_error'.\n",
      "  warnings.warn(\n",
      "Best trial: 49. Best value: 0.43141:  71%|███████   | 71/100 [1:22:36<14:14, 29.47s/it]"
     ]
    },
    {
     "name": "stdout",
     "output_type": "stream",
     "text": [
      "[I 2024-12-03 21:52:53,901] Trial 70 finished with value: 0.43298431318779523 and parameters: {'lambda_l1': 0.030561857037743532, 'lambda_l2': 0.0275740484028216, 'num_leaves': 156, 'feature_fraction': 0.8362250842250705, 'bagging_fraction': 0.9171933440046709, 'bagging_freq': 1, 'min_child_samples': 31, 'learning_rate': 0.0644282892319809}. Best is trial 49 with value: 0.4314102600898588.\n"
     ]
    },
    {
     "name": "stderr",
     "output_type": "stream",
     "text": [
      "c:\\Users\\alexa\\Documents\\Code Python et SQL\\Python DSB\\bike_counters_ac_team\\.venv\\lib\\site-packages\\sklearn\\metrics\\_regression.py:483: FutureWarning: 'squared' is deprecated in version 1.4 and will be removed in 1.6. To calculate the root mean squared error, use the function'root_mean_squared_error'.\n",
      "  warnings.warn(\n",
      "Best trial: 49. Best value: 0.43141:  72%|███████▏  | 72/100 [1:23:11<14:32, 31.17s/it]"
     ]
    },
    {
     "name": "stdout",
     "output_type": "stream",
     "text": [
      "[I 2024-12-03 21:53:29,028] Trial 71 finished with value: 0.43388565447497796 and parameters: {'lambda_l1': 0.005837160800524674, 'lambda_l2': 0.06924010830902308, 'num_leaves': 134, 'feature_fraction': 0.7419680805525055, 'bagging_fraction': 0.9980902823567886, 'bagging_freq': 4, 'min_child_samples': 47, 'learning_rate': 0.024899932859075644}. Best is trial 49 with value: 0.4314102600898588.\n"
     ]
    },
    {
     "name": "stderr",
     "output_type": "stream",
     "text": [
      "c:\\Users\\alexa\\Documents\\Code Python et SQL\\Python DSB\\bike_counters_ac_team\\.venv\\lib\\site-packages\\sklearn\\metrics\\_regression.py:483: FutureWarning: 'squared' is deprecated in version 1.4 and will be removed in 1.6. To calculate the root mean squared error, use the function'root_mean_squared_error'.\n",
      "  warnings.warn(\n",
      "Best trial: 72. Best value: 0.431203:  73%|███████▎  | 73/100 [1:23:29<12:13, 27.16s/it]"
     ]
    },
    {
     "name": "stdout",
     "output_type": "stream",
     "text": [
      "[I 2024-12-03 21:53:46,841] Trial 72 finished with value: 0.43120256669587376 and parameters: {'lambda_l1': 0.015830816311018597, 'lambda_l2': 0.007829370707627278, 'num_leaves': 225, 'feature_fraction': 0.7592325606229651, 'bagging_fraction': 0.9602050627908377, 'bagging_freq': 1, 'min_child_samples': 41, 'learning_rate': 0.05160299330640258}. Best is trial 72 with value: 0.43120256669587376.\n"
     ]
    },
    {
     "name": "stderr",
     "output_type": "stream",
     "text": [
      "c:\\Users\\alexa\\Documents\\Code Python et SQL\\Python DSB\\bike_counters_ac_team\\.venv\\lib\\site-packages\\sklearn\\metrics\\_regression.py:483: FutureWarning: 'squared' is deprecated in version 1.4 and will be removed in 1.6. To calculate the root mean squared error, use the function'root_mean_squared_error'.\n",
      "  warnings.warn(\n",
      "Best trial: 72. Best value: 0.431203:  74%|███████▍  | 74/100 [1:23:45<10:23, 23.98s/it]"
     ]
    },
    {
     "name": "stdout",
     "output_type": "stream",
     "text": [
      "[I 2024-12-03 21:54:03,421] Trial 73 finished with value: 0.4324043767246605 and parameters: {'lambda_l1': 0.015134155283559048, 'lambda_l2': 0.0095300008767128, 'num_leaves': 209, 'feature_fraction': 0.8111451041454348, 'bagging_fraction': 0.9618001968313339, 'bagging_freq': 1, 'min_child_samples': 26, 'learning_rate': 0.05268058778595056}. Best is trial 72 with value: 0.43120256669587376.\n"
     ]
    },
    {
     "name": "stderr",
     "output_type": "stream",
     "text": [
      "c:\\Users\\alexa\\Documents\\Code Python et SQL\\Python DSB\\bike_counters_ac_team\\.venv\\lib\\site-packages\\sklearn\\metrics\\_regression.py:483: FutureWarning: 'squared' is deprecated in version 1.4 and will be removed in 1.6. To calculate the root mean squared error, use the function'root_mean_squared_error'.\n",
      "  warnings.warn(\n",
      "Best trial: 72. Best value: 0.431203:  75%|███████▌  | 75/100 [1:23:59<08:39, 20.79s/it]"
     ]
    },
    {
     "name": "stdout",
     "output_type": "stream",
     "text": [
      "[I 2024-12-03 21:54:16,751] Trial 74 finished with value: 0.43272330093712497 and parameters: {'lambda_l1': 0.3980240390237999, 'lambda_l2': 0.0047995483190093865, 'num_leaves': 193, 'feature_fraction': 0.7713829858409157, 'bagging_fraction': 0.9277992034601743, 'bagging_freq': 1, 'min_child_samples': 35, 'learning_rate': 0.08087088634747289}. Best is trial 72 with value: 0.43120256669587376.\n"
     ]
    },
    {
     "name": "stderr",
     "output_type": "stream",
     "text": [
      "c:\\Users\\alexa\\Documents\\Code Python et SQL\\Python DSB\\bike_counters_ac_team\\.venv\\lib\\site-packages\\sklearn\\metrics\\_regression.py:483: FutureWarning: 'squared' is deprecated in version 1.4 and will be removed in 1.6. To calculate the root mean squared error, use the function'root_mean_squared_error'.\n",
      "  warnings.warn(\n",
      "Best trial: 72. Best value: 0.431203:  76%|███████▌  | 76/100 [1:24:26<09:02, 22.61s/it]"
     ]
    },
    {
     "name": "stdout",
     "output_type": "stream",
     "text": [
      "[I 2024-12-03 21:54:43,630] Trial 75 finished with value: 0.44023614548137646 and parameters: {'lambda_l1': 0.03382313327438801, 'lambda_l2': 0.0026199225060589294, 'num_leaves': 54, 'feature_fraction': 0.787615507438186, 'bagging_fraction': 0.9830781827645392, 'bagging_freq': 2, 'min_child_samples': 41, 'learning_rate': 0.03684950221881244}. Best is trial 72 with value: 0.43120256669587376.\n"
     ]
    },
    {
     "name": "stderr",
     "output_type": "stream",
     "text": [
      "c:\\Users\\alexa\\Documents\\Code Python et SQL\\Python DSB\\bike_counters_ac_team\\.venv\\lib\\site-packages\\sklearn\\metrics\\_regression.py:483: FutureWarning: 'squared' is deprecated in version 1.4 and will be removed in 1.6. To calculate the root mean squared error, use the function'root_mean_squared_error'.\n",
      "  warnings.warn(\n",
      "Best trial: 72. Best value: 0.431203:  77%|███████▋  | 77/100 [1:24:53<09:15, 24.17s/it]"
     ]
    },
    {
     "name": "stdout",
     "output_type": "stream",
     "text": [
      "[I 2024-12-03 21:55:11,424] Trial 76 finished with value: 0.43177036467743285 and parameters: {'lambda_l1': 0.000160050416096223, 'lambda_l2': 0.016753310825360412, 'num_leaves': 175, 'feature_fraction': 0.7541720268254976, 'bagging_fraction': 0.9469134354012134, 'bagging_freq': 1, 'min_child_samples': 45, 'learning_rate': 0.031044573361105908}. Best is trial 72 with value: 0.43120256669587376.\n"
     ]
    },
    {
     "name": "stderr",
     "output_type": "stream",
     "text": [
      "c:\\Users\\alexa\\Documents\\Code Python et SQL\\Python DSB\\bike_counters_ac_team\\.venv\\lib\\site-packages\\sklearn\\metrics\\_regression.py:483: FutureWarning: 'squared' is deprecated in version 1.4 and will be removed in 1.6. To calculate the root mean squared error, use the function'root_mean_squared_error'.\n",
      "  warnings.warn(\n",
      "Best trial: 72. Best value: 0.431203:  78%|███████▊  | 78/100 [1:25:20<09:07, 24.91s/it]"
     ]
    },
    {
     "name": "stdout",
     "output_type": "stream",
     "text": [
      "[I 2024-12-03 21:55:38,055] Trial 77 finished with value: 0.43191336781257306 and parameters: {'lambda_l1': 0.000628527374318471, 'lambda_l2': 0.0011004947320771708, 'num_leaves': 176, 'feature_fraction': 0.727177284567425, 'bagging_fraction': 0.9452237077039791, 'bagging_freq': 1, 'min_child_samples': 55, 'learning_rate': 0.03190906318109441}. Best is trial 72 with value: 0.43120256669587376.\n"
     ]
    },
    {
     "name": "stderr",
     "output_type": "stream",
     "text": [
      "c:\\Users\\alexa\\Documents\\Code Python et SQL\\Python DSB\\bike_counters_ac_team\\.venv\\lib\\site-packages\\sklearn\\metrics\\_regression.py:483: FutureWarning: 'squared' is deprecated in version 1.4 and will be removed in 1.6. To calculate the root mean squared error, use the function'root_mean_squared_error'.\n",
      "  warnings.warn(\n",
      "Best trial: 72. Best value: 0.431203:  79%|███████▉  | 79/100 [1:26:05<10:51, 31.04s/it]"
     ]
    },
    {
     "name": "stdout",
     "output_type": "stream",
     "text": [
      "[I 2024-12-03 21:56:23,376] Trial 78 finished with value: 0.43261262204294776 and parameters: {'lambda_l1': 8.423072934697763e-05, 'lambda_l2': 0.015974517837980914, 'num_leaves': 224, 'feature_fraction': 0.755631502965363, 'bagging_fraction': 0.8960752149542586, 'bagging_freq': 2, 'min_child_samples': 20, 'learning_rate': 0.019054117189878886}. Best is trial 72 with value: 0.43120256669587376.\n"
     ]
    },
    {
     "name": "stderr",
     "output_type": "stream",
     "text": [
      "c:\\Users\\alexa\\Documents\\Code Python et SQL\\Python DSB\\bike_counters_ac_team\\.venv\\lib\\site-packages\\sklearn\\metrics\\_regression.py:483: FutureWarning: 'squared' is deprecated in version 1.4 and will be removed in 1.6. To calculate the root mean squared error, use the function'root_mean_squared_error'.\n",
      "  warnings.warn(\n",
      "Best trial: 72. Best value: 0.431203:  80%|████████  | 80/100 [1:26:46<11:19, 33.98s/it]"
     ]
    },
    {
     "name": "stdout",
     "output_type": "stream",
     "text": [
      "[I 2024-12-03 21:57:04,253] Trial 79 finished with value: 0.43421089705776217 and parameters: {'lambda_l1': 0.0017182017870390803, 'lambda_l2': 0.09411238279514256, 'num_leaves': 194, 'feature_fraction': 0.865840255764333, 'bagging_fraction': 0.957690582945262, 'bagging_freq': 1, 'min_child_samples': 45, 'learning_rate': 0.015152270925494796}. Best is trial 72 with value: 0.43120256669587376.\n"
     ]
    },
    {
     "name": "stderr",
     "output_type": "stream",
     "text": [
      "c:\\Users\\alexa\\Documents\\Code Python et SQL\\Python DSB\\bike_counters_ac_team\\.venv\\lib\\site-packages\\sklearn\\metrics\\_regression.py:483: FutureWarning: 'squared' is deprecated in version 1.4 and will be removed in 1.6. To calculate the root mean squared error, use the function'root_mean_squared_error'.\n",
      "  warnings.warn(\n",
      "Best trial: 72. Best value: 0.431203:  81%|████████  | 81/100 [1:27:27<11:22, 35.94s/it]"
     ]
    },
    {
     "name": "stdout",
     "output_type": "stream",
     "text": [
      "[I 2024-12-03 21:57:44,745] Trial 80 finished with value: 0.4336726451638506 and parameters: {'lambda_l1': 9.098929702922797e-05, 'lambda_l2': 0.2952161788780376, 'num_leaves': 167, 'feature_fraction': 0.7026006392877274, 'bagging_fraction': 0.9065621108689597, 'bagging_freq': 3, 'min_child_samples': 32, 'learning_rate': 0.022626231758214547}. Best is trial 72 with value: 0.43120256669587376.\n"
     ]
    },
    {
     "name": "stderr",
     "output_type": "stream",
     "text": [
      "c:\\Users\\alexa\\Documents\\Code Python et SQL\\Python DSB\\bike_counters_ac_team\\.venv\\lib\\site-packages\\sklearn\\metrics\\_regression.py:483: FutureWarning: 'squared' is deprecated in version 1.4 and will be removed in 1.6. To calculate the root mean squared error, use the function'root_mean_squared_error'.\n",
      "  warnings.warn(\n",
      "Best trial: 72. Best value: 0.431203:  82%|████████▏ | 82/100 [1:27:49<09:32, 31.82s/it]"
     ]
    },
    {
     "name": "stdout",
     "output_type": "stream",
     "text": [
      "[I 2024-12-03 21:58:06,973] Trial 81 finished with value: 0.43169477099351883 and parameters: {'lambda_l1': 2.3029929479235192e-05, 'lambda_l2': 0.0018791655712457236, 'num_leaves': 207, 'feature_fraction': 0.8244449460685879, 'bagging_fraction': 0.9816704864117396, 'bagging_freq': 1, 'min_child_samples': 38, 'learning_rate': 0.041711117662016885}. Best is trial 72 with value: 0.43120256669587376.\n"
     ]
    },
    {
     "name": "stderr",
     "output_type": "stream",
     "text": [
      "c:\\Users\\alexa\\Documents\\Code Python et SQL\\Python DSB\\bike_counters_ac_team\\.venv\\lib\\site-packages\\sklearn\\metrics\\_regression.py:483: FutureWarning: 'squared' is deprecated in version 1.4 and will be removed in 1.6. To calculate the root mean squared error, use the function'root_mean_squared_error'.\n",
      "  warnings.warn(\n",
      "Best trial: 72. Best value: 0.431203:  83%|████████▎ | 83/100 [1:28:09<08:01, 28.32s/it]"
     ]
    },
    {
     "name": "stdout",
     "output_type": "stream",
     "text": [
      "[I 2024-12-03 21:58:27,104] Trial 82 finished with value: 0.4316543533873954 and parameters: {'lambda_l1': 2.9649867350602666e-05, 'lambda_l2': 0.0017398768560585916, 'num_leaves': 210, 'feature_fraction': 0.825064088791984, 'bagging_fraction': 0.9868148202360459, 'bagging_freq': 1, 'min_child_samples': 37, 'learning_rate': 0.04537273345326942}. Best is trial 72 with value: 0.43120256669587376.\n"
     ]
    },
    {
     "name": "stderr",
     "output_type": "stream",
     "text": [
      "c:\\Users\\alexa\\Documents\\Code Python et SQL\\Python DSB\\bike_counters_ac_team\\.venv\\lib\\site-packages\\sklearn\\metrics\\_regression.py:483: FutureWarning: 'squared' is deprecated in version 1.4 and will be removed in 1.6. To calculate the root mean squared error, use the function'root_mean_squared_error'.\n",
      "  warnings.warn(\n",
      "Best trial: 72. Best value: 0.431203:  84%|████████▍ | 84/100 [1:28:28<06:49, 25.60s/it]"
     ]
    },
    {
     "name": "stdout",
     "output_type": "stream",
     "text": [
      "[I 2024-12-03 21:58:46,369] Trial 83 finished with value: 0.4320249411786838 and parameters: {'lambda_l1': 2.1683388544382678e-05, 'lambda_l2': 0.0002392305912043813, 'num_leaves': 213, 'feature_fraction': 0.8276439649632011, 'bagging_fraction': 0.9656256557814037, 'bagging_freq': 1, 'min_child_samples': 35, 'learning_rate': 0.049810480618081}. Best is trial 72 with value: 0.43120256669587376.\n"
     ]
    },
    {
     "name": "stderr",
     "output_type": "stream",
     "text": [
      "c:\\Users\\alexa\\Documents\\Code Python et SQL\\Python DSB\\bike_counters_ac_team\\.venv\\lib\\site-packages\\sklearn\\metrics\\_regression.py:483: FutureWarning: 'squared' is deprecated in version 1.4 and will be removed in 1.6. To calculate the root mean squared error, use the function'root_mean_squared_error'.\n",
      "  warnings.warn(\n",
      "Best trial: 72. Best value: 0.431203:  85%|████████▌ | 85/100 [1:31:51<19:42, 78.86s/it]"
     ]
    },
    {
     "name": "stdout",
     "output_type": "stream",
     "text": [
      "[I 2024-12-03 22:02:09,492] Trial 84 finished with value: 0.4329888602701219 and parameters: {'lambda_l1': 1.503060847018017e-05, 'lambda_l2': 0.020277470919385084, 'num_leaves': 187, 'feature_fraction': 0.8957599092330379, 'bagging_fraction': 0.9286562989420667, 'bagging_freq': 1, 'min_child_samples': 28, 'learning_rate': 0.02923299348952054}. Best is trial 72 with value: 0.43120256669587376.\n"
     ]
    },
    {
     "name": "stderr",
     "output_type": "stream",
     "text": [
      "c:\\Users\\alexa\\Documents\\Code Python et SQL\\Python DSB\\bike_counters_ac_team\\.venv\\lib\\site-packages\\sklearn\\metrics\\_regression.py:483: FutureWarning: 'squared' is deprecated in version 1.4 and will be removed in 1.6. To calculate the root mean squared error, use the function'root_mean_squared_error'.\n",
      "  warnings.warn(\n",
      "Best trial: 72. Best value: 0.431203:  86%|████████▌ | 86/100 [1:32:24<15:09, 64.95s/it]"
     ]
    },
    {
     "name": "stdout",
     "output_type": "stream",
     "text": [
      "[I 2024-12-03 22:02:41,997] Trial 85 finished with value: 0.43153873888719313 and parameters: {'lambda_l1': 7.596011776742606e-07, 'lambda_l2': 0.0005340977222815129, 'num_leaves': 223, 'feature_fraction': 0.7640898642877036, 'bagging_fraction': 0.9463205038322049, 'bagging_freq': 1, 'min_child_samples': 50, 'learning_rate': 0.038692692428361396}. Best is trial 72 with value: 0.43120256669587376.\n"
     ]
    },
    {
     "name": "stderr",
     "output_type": "stream",
     "text": [
      "c:\\Users\\alexa\\Documents\\Code Python et SQL\\Python DSB\\bike_counters_ac_team\\.venv\\lib\\site-packages\\sklearn\\metrics\\_regression.py:483: FutureWarning: 'squared' is deprecated in version 1.4 and will be removed in 1.6. To calculate the root mean squared error, use the function'root_mean_squared_error'.\n",
      "  warnings.warn(\n",
      "Best trial: 72. Best value: 0.431203:  87%|████████▋ | 87/100 [1:32:56<11:56, 55.12s/it]"
     ]
    },
    {
     "name": "stdout",
     "output_type": "stream",
     "text": [
      "[I 2024-12-03 22:03:14,159] Trial 86 finished with value: 0.432207022127922 and parameters: {'lambda_l1': 9.160727248696517e-08, 'lambda_l2': 0.00048123135532124946, 'num_leaves': 208, 'feature_fraction': 0.7846311332845819, 'bagging_fraction': 0.8280272372834083, 'bagging_freq': 2, 'min_child_samples': 51, 'learning_rate': 0.041321966815483814}. Best is trial 72 with value: 0.43120256669587376.\n"
     ]
    },
    {
     "name": "stderr",
     "output_type": "stream",
     "text": [
      "c:\\Users\\alexa\\Documents\\Code Python et SQL\\Python DSB\\bike_counters_ac_team\\.venv\\lib\\site-packages\\sklearn\\metrics\\_regression.py:483: FutureWarning: 'squared' is deprecated in version 1.4 and will be removed in 1.6. To calculate the root mean squared error, use the function'root_mean_squared_error'.\n",
      "  warnings.warn(\n",
      "Best trial: 72. Best value: 0.431203:  88%|████████▊ | 88/100 [1:33:43<10:31, 52.62s/it]"
     ]
    },
    {
     "name": "stdout",
     "output_type": "stream",
     "text": [
      "[I 2024-12-03 22:04:00,973] Trial 87 finished with value: 1.534910490382494 and parameters: {'lambda_l1': 1.4181794939521934e-06, 'lambda_l2': 0.0016884163775157932, 'num_leaves': 219, 'feature_fraction': 0.7695979037009264, 'bagging_fraction': 0.9858426064368244, 'bagging_freq': 1, 'min_child_samples': 24, 'learning_rate': 0.00010168479579950364}. Best is trial 72 with value: 0.43120256669587376.\n"
     ]
    },
    {
     "name": "stderr",
     "output_type": "stream",
     "text": [
      "c:\\Users\\alexa\\Documents\\Code Python et SQL\\Python DSB\\bike_counters_ac_team\\.venv\\lib\\site-packages\\sklearn\\metrics\\_regression.py:483: FutureWarning: 'squared' is deprecated in version 1.4 and will be removed in 1.6. To calculate the root mean squared error, use the function'root_mean_squared_error'.\n",
      "  warnings.warn(\n",
      "Best trial: 72. Best value: 0.431203:  89%|████████▉ | 89/100 [1:34:01<07:45, 42.35s/it]"
     ]
    },
    {
     "name": "stdout",
     "output_type": "stream",
     "text": [
      "[I 2024-12-03 22:04:19,341] Trial 88 finished with value: 0.4326910337696619 and parameters: {'lambda_l1': 1.2612597404229345e-06, 'lambda_l2': 7.823511854161538e-05, 'num_leaves': 225, 'feature_fraction': 0.82730921619541, 'bagging_fraction': 0.8766720107787636, 'bagging_freq': 1, 'min_child_samples': 37, 'learning_rate': 0.06891497541425132}. Best is trial 72 with value: 0.43120256669587376.\n"
     ]
    },
    {
     "name": "stderr",
     "output_type": "stream",
     "text": [
      "c:\\Users\\alexa\\Documents\\Code Python et SQL\\Python DSB\\bike_counters_ac_team\\.venv\\lib\\site-packages\\sklearn\\metrics\\_regression.py:483: FutureWarning: 'squared' is deprecated in version 1.4 and will be removed in 1.6. To calculate the root mean squared error, use the function'root_mean_squared_error'.\n",
      "  warnings.warn(\n",
      "Best trial: 72. Best value: 0.431203:  90%|█████████ | 90/100 [1:34:17<05:44, 34.49s/it]"
     ]
    },
    {
     "name": "stdout",
     "output_type": "stream",
     "text": [
      "[I 2024-12-03 22:04:35,483] Trial 89 finished with value: 0.43150763148048377 and parameters: {'lambda_l1': 3.7457090509993866e-06, 'lambda_l2': 2.661056009360299e-05, 'num_leaves': 198, 'feature_fraction': 0.7947207680883548, 'bagging_fraction': 0.9998804293859681, 'bagging_freq': 1, 'min_child_samples': 59, 'learning_rate': 0.08491898214714835}. Best is trial 72 with value: 0.43120256669587376.\n"
     ]
    },
    {
     "name": "stderr",
     "output_type": "stream",
     "text": [
      "c:\\Users\\alexa\\Documents\\Code Python et SQL\\Python DSB\\bike_counters_ac_team\\.venv\\lib\\site-packages\\sklearn\\metrics\\_regression.py:483: FutureWarning: 'squared' is deprecated in version 1.4 and will be removed in 1.6. To calculate the root mean squared error, use the function'root_mean_squared_error'.\n",
      "  warnings.warn(\n",
      "Best trial: 72. Best value: 0.431203:  91%|█████████ | 91/100 [1:34:39<04:35, 30.65s/it]"
     ]
    },
    {
     "name": "stdout",
     "output_type": "stream",
     "text": [
      "[I 2024-12-03 22:04:57,178] Trial 90 finished with value: 0.4315738111062653 and parameters: {'lambda_l1': 1.4863552191227208e-06, 'lambda_l2': 4.479238124347919e-07, 'num_leaves': 249, 'feature_fraction': 0.7177011353014184, 'bagging_fraction': 0.9689658488224226, 'bagging_freq': 2, 'min_child_samples': 58, 'learning_rate': 0.07996626326644657}. Best is trial 72 with value: 0.43120256669587376.\n"
     ]
    },
    {
     "name": "stderr",
     "output_type": "stream",
     "text": [
      "c:\\Users\\alexa\\Documents\\Code Python et SQL\\Python DSB\\bike_counters_ac_team\\.venv\\lib\\site-packages\\sklearn\\metrics\\_regression.py:483: FutureWarning: 'squared' is deprecated in version 1.4 and will be removed in 1.6. To calculate the root mean squared error, use the function'root_mean_squared_error'.\n",
      "  warnings.warn(\n",
      "Best trial: 72. Best value: 0.431203:  92%|█████████▏| 92/100 [1:34:56<03:33, 26.64s/it]"
     ]
    },
    {
     "name": "stdout",
     "output_type": "stream",
     "text": [
      "[I 2024-12-03 22:05:14,478] Trial 91 finished with value: 0.4320161631801549 and parameters: {'lambda_l1': 1.2398524087438215e-06, 'lambda_l2': 3.0046110378365536e-07, 'num_leaves': 247, 'feature_fraction': 0.7255779773210456, 'bagging_fraction': 0.9680703552041504, 'bagging_freq': 2, 'min_child_samples': 60, 'learning_rate': 0.08502491477597793}. Best is trial 72 with value: 0.43120256669587376.\n"
     ]
    },
    {
     "name": "stderr",
     "output_type": "stream",
     "text": [
      "c:\\Users\\alexa\\Documents\\Code Python et SQL\\Python DSB\\bike_counters_ac_team\\.venv\\lib\\site-packages\\sklearn\\metrics\\_regression.py:483: FutureWarning: 'squared' is deprecated in version 1.4 and will be removed in 1.6. To calculate the root mean squared error, use the function'root_mean_squared_error'.\n",
      "  warnings.warn(\n",
      "Best trial: 72. Best value: 0.431203:  93%|█████████▎| 93/100 [1:35:16<02:50, 24.40s/it]"
     ]
    },
    {
     "name": "stdout",
     "output_type": "stream",
     "text": [
      "[I 2024-12-03 22:05:33,645] Trial 92 finished with value: 0.43161272700686304 and parameters: {'lambda_l1': 3.861466625768291e-07, 'lambda_l2': 5.742492833887594e-07, 'num_leaves': 231, 'feature_fraction': 0.7128639506190041, 'bagging_fraction': 0.9292898680841529, 'bagging_freq': 1, 'min_child_samples': 67, 'learning_rate': 0.07185812978721}. Best is trial 72 with value: 0.43120256669587376.\n"
     ]
    },
    {
     "name": "stderr",
     "output_type": "stream",
     "text": [
      "c:\\Users\\alexa\\Documents\\Code Python et SQL\\Python DSB\\bike_counters_ac_team\\.venv\\lib\\site-packages\\sklearn\\metrics\\_regression.py:483: FutureWarning: 'squared' is deprecated in version 1.4 and will be removed in 1.6. To calculate the root mean squared error, use the function'root_mean_squared_error'.\n",
      "  warnings.warn(\n",
      "Best trial: 72. Best value: 0.431203:  94%|█████████▍| 94/100 [1:35:33<02:14, 22.37s/it]"
     ]
    },
    {
     "name": "stdout",
     "output_type": "stream",
     "text": [
      "[I 2024-12-03 22:05:51,271] Trial 93 finished with value: 0.4315540032084252 and parameters: {'lambda_l1': 2.363267576314299e-07, 'lambda_l2': 1.277307602990714e-06, 'num_leaves': 242, 'feature_fraction': 0.6664921850583083, 'bagging_fraction': 0.9970976977970563, 'bagging_freq': 1, 'min_child_samples': 68, 'learning_rate': 0.06812889456611006}. Best is trial 72 with value: 0.43120256669587376.\n"
     ]
    },
    {
     "name": "stderr",
     "output_type": "stream",
     "text": [
      "c:\\Users\\alexa\\Documents\\Code Python et SQL\\Python DSB\\bike_counters_ac_team\\.venv\\lib\\site-packages\\sklearn\\metrics\\_regression.py:483: FutureWarning: 'squared' is deprecated in version 1.4 and will be removed in 1.6. To calculate the root mean squared error, use the function'root_mean_squared_error'.\n",
      "  warnings.warn(\n",
      "Best trial: 72. Best value: 0.431203:  95%|█████████▌| 95/100 [1:35:53<01:47, 21.46s/it]"
     ]
    },
    {
     "name": "stdout",
     "output_type": "stream",
     "text": [
      "[I 2024-12-03 22:06:10,612] Trial 94 finished with value: 0.43197985429079533 and parameters: {'lambda_l1': 1.979280501635689e-07, 'lambda_l2': 2.9305688638485263e-07, 'num_leaves': 250, 'feature_fraction': 0.6622471407933632, 'bagging_fraction': 0.9566884766580264, 'bagging_freq': 1, 'min_child_samples': 67, 'learning_rate': 0.07839230690564745}. Best is trial 72 with value: 0.43120256669587376.\n"
     ]
    },
    {
     "name": "stderr",
     "output_type": "stream",
     "text": [
      "c:\\Users\\alexa\\Documents\\Code Python et SQL\\Python DSB\\bike_counters_ac_team\\.venv\\lib\\site-packages\\sklearn\\metrics\\_regression.py:483: FutureWarning: 'squared' is deprecated in version 1.4 and will be removed in 1.6. To calculate the root mean squared error, use the function'root_mean_squared_error'.\n",
      "  warnings.warn(\n",
      "Best trial: 72. Best value: 0.431203:  96%|█████████▌| 96/100 [1:36:15<01:26, 21.67s/it]"
     ]
    },
    {
     "name": "stdout",
     "output_type": "stream",
     "text": [
      "[I 2024-12-03 22:06:32,771] Trial 95 finished with value: 0.43184520831650636 and parameters: {'lambda_l1': 6.166429480599331e-07, 'lambda_l2': 1.671424893102911e-07, 'num_leaves': 242, 'feature_fraction': 0.7107418595020102, 'bagging_fraction': 0.9359838312270102, 'bagging_freq': 1, 'min_child_samples': 63, 'learning_rate': 0.06644630640591141}. Best is trial 72 with value: 0.43120256669587376.\n"
     ]
    },
    {
     "name": "stderr",
     "output_type": "stream",
     "text": [
      "c:\\Users\\alexa\\Documents\\Code Python et SQL\\Python DSB\\bike_counters_ac_team\\.venv\\lib\\site-packages\\sklearn\\metrics\\_regression.py:483: FutureWarning: 'squared' is deprecated in version 1.4 and will be removed in 1.6. To calculate the root mean squared error, use the function'root_mean_squared_error'.\n",
      "  warnings.warn(\n",
      "Best trial: 72. Best value: 0.431203:  97%|█████████▋| 97/100 [1:36:42<01:10, 23.36s/it]"
     ]
    },
    {
     "name": "stdout",
     "output_type": "stream",
     "text": [
      "[I 2024-12-03 22:07:00,062] Trial 96 finished with value: 0.43174688385367826 and parameters: {'lambda_l1': 4.597490505550843e-06, 'lambda_l2': 3.107586873783783e-06, 'num_leaves': 198, 'feature_fraction': 0.6519660560260768, 'bagging_fraction': 0.9973145605301346, 'bagging_freq': 2, 'min_child_samples': 72, 'learning_rate': 0.09368028595055021}. Best is trial 72 with value: 0.43120256669587376.\n"
     ]
    },
    {
     "name": "stderr",
     "output_type": "stream",
     "text": [
      "c:\\Users\\alexa\\Documents\\Code Python et SQL\\Python DSB\\bike_counters_ac_team\\.venv\\lib\\site-packages\\sklearn\\metrics\\_regression.py:483: FutureWarning: 'squared' is deprecated in version 1.4 and will be removed in 1.6. To calculate the root mean squared error, use the function'root_mean_squared_error'.\n",
      "  warnings.warn(\n",
      "Best trial: 72. Best value: 0.431203:  98%|█████████▊| 98/100 [1:37:10<00:49, 24.88s/it]"
     ]
    },
    {
     "name": "stdout",
     "output_type": "stream",
     "text": [
      "[I 2024-12-03 22:07:28,485] Trial 97 finished with value: 0.4312629456828139 and parameters: {'lambda_l1': 8.287272528882865e-08, 'lambda_l2': 1.1623888051089659e-05, 'num_leaves': 240, 'feature_fraction': 0.6950248827148828, 'bagging_fraction': 0.9687973419599745, 'bagging_freq': 1, 'min_child_samples': 58, 'learning_rate': 0.051163904729400106}. Best is trial 72 with value: 0.43120256669587376.\n"
     ]
    },
    {
     "name": "stderr",
     "output_type": "stream",
     "text": [
      "c:\\Users\\alexa\\Documents\\Code Python et SQL\\Python DSB\\bike_counters_ac_team\\.venv\\lib\\site-packages\\sklearn\\metrics\\_regression.py:483: FutureWarning: 'squared' is deprecated in version 1.4 and will be removed in 1.6. To calculate the root mean squared error, use the function'root_mean_squared_error'.\n",
      "  warnings.warn(\n",
      "Best trial: 72. Best value: 0.431203:  99%|█████████▉| 99/100 [1:37:30<00:23, 23.41s/it]"
     ]
    },
    {
     "name": "stdout",
     "output_type": "stream",
     "text": [
      "[I 2024-12-03 22:07:48,485] Trial 98 finished with value: 0.4317209553182003 and parameters: {'lambda_l1': 4.190873416724429e-08, 'lambda_l2': 1.3342211860709804e-06, 'num_leaves': 256, 'feature_fraction': 0.672212374998104, 'bagging_fraction': 0.9681749346157327, 'bagging_freq': 1, 'min_child_samples': 59, 'learning_rate': 0.07256152096789682}. Best is trial 72 with value: 0.43120256669587376.\n"
     ]
    },
    {
     "name": "stderr",
     "output_type": "stream",
     "text": [
      "c:\\Users\\alexa\\Documents\\Code Python et SQL\\Python DSB\\bike_counters_ac_team\\.venv\\lib\\site-packages\\sklearn\\metrics\\_regression.py:483: FutureWarning: 'squared' is deprecated in version 1.4 and will be removed in 1.6. To calculate the root mean squared error, use the function'root_mean_squared_error'.\n",
      "  warnings.warn(\n",
      "Best trial: 72. Best value: 0.431203: 100%|██████████| 100/100 [1:37:45<00:00, 58.66s/it]"
     ]
    },
    {
     "name": "stdout",
     "output_type": "stream",
     "text": [
      "[I 2024-12-03 22:08:03,115] Trial 99 finished with value: 0.43215273657567893 and parameters: {'lambda_l1': 7.817573033725253e-08, 'lambda_l2': 1.7053872456700956e-06, 'num_leaves': 232, 'feature_fraction': 0.694549836911821, 'bagging_fraction': 0.9408860963935722, 'bagging_freq': 1, 'min_child_samples': 66, 'learning_rate': 0.09926820423902545}. Best is trial 72 with value: 0.43120256669587376.\n",
      "Best RMSE: 0.4312\n"
     ]
    },
    {
     "name": "stderr",
     "output_type": "stream",
     "text": [
      "\n"
     ]
    }
   ],
   "source": [
    "best_params = optimize_lightgbm(X_train, X_test, y_train, y_test, n_trials=100)"
   ]
  },
  {
   "cell_type": "code",
   "execution_count": null,
   "metadata": {},
   "outputs": [],
   "source": [
    "def perform_tscv(X, y, params, n_splits=5):\n",
    "    \"\"\"\n",
    "    Perform time series cross validation for LightGBM model.\n",
    "\n",
    "    Args:\n",
    "        X: Features DataFrame\n",
    "        y: Target Series\n",
    "        params: LightGBM parameters\n",
    "        n_splits: Number of splits for time series CV\n",
    "\n",
    "    Returns:\n",
    "        List of RMSE scores, trained model\n",
    "    \"\"\"\n",
    "    tscv = TimeSeriesSplit(n_splits=n_splits)\n",
    "    rmse_scores = []\n",
    "\n",
    "    # For plotting\n",
    "    all_train_rmse = []\n",
    "    all_val_rmse = []\n",
    "\n",
    "    for fold, (train_idx, val_idx) in enumerate(tscv.split(X), 1):\n",
    "        # Split data\n",
    "        X_train, X_val = X.iloc[train_idx], X.iloc[val_idx]\n",
    "        y_train, y_val = y.iloc[train_idx], y.iloc[val_idx]\n",
    "\n",
    "        # Create datasets\n",
    "        train_set = lgb.Dataset(X_train, y_train)\n",
    "        val_set = lgb.Dataset(X_val, y_val, reference=train_set)\n",
    "\n",
    "        # Train model\n",
    "        model = lgb.train(\n",
    "            params,\n",
    "            train_set,\n",
    "            num_boost_round=1000,\n",
    "            valid_sets=[train_set, val_set],\n",
    "            callbacks=[lgb.early_stopping(stopping_rounds=50, verbose=False)],\n",
    "            valid_names=['train', 'valid']\n",
    "        )\n",
    "\n",
    "        # Make predictions\n",
    "        val_preds = model.predict(X_val)\n",
    "\n",
    "        # Calculate RMSE\n",
    "        rmse = np.sqrt(mean_squared_error(y_val, val_preds))\n",
    "        rmse_scores.append(rmse)\n",
    "\n",
    "        # Get training and validation scores for plotting\n",
    "        train_preds = model.predict(X_train)\n",
    "        train_rmse = np.sqrt(mean_squared_error(y_train, train_preds))\n",
    "\n",
    "        all_train_rmse.append(train_rmse)\n",
    "        all_val_rmse.append(rmse)\n",
    "\n",
    "        print(f'Fold {fold} - Train RMSE: {train_rmse:.4f}, Val RMSE: {rmse:.4f}')\n",
    "\n",
    "    print('\\nTime Series CV Results:')\n",
    "    print(f'Average RMSE: {np.mean(rmse_scores):.4f} (+/- {np.std(rmse_scores):.4f})')\n",
    "\n",
    "    return rmse_scores, model"
   ]
  },
  {
   "cell_type": "code",
   "execution_count": null,
   "metadata": {},
   "outputs": [
    {
     "name": "stdout",
     "output_type": "stream",
     "text": [
      "Fold 1 - Train RMSE: 1.5887, Val RMSE: 1.6987\n",
      "Fold 2 - Train RMSE: 1.6209, Val RMSE: 1.6225\n",
      "Fold 3 - Train RMSE: 1.6189, Val RMSE: 1.5685\n",
      "Fold 4 - Train RMSE: 1.6043, Val RMSE: 1.6094\n",
      "Fold 5 - Train RMSE: 1.6038, Val RMSE: 1.7293\n",
      "\n",
      "Time Series CV Results:\n",
      "Average RMSE: 1.6457 (+/- 0.0594)\n"
     ]
    }
   ],
   "source": [
    "# Assuming X and y are your features and target\n",
    "params = {\n",
    "    'lambda_l1': 0.014001547670291518,  # Moderate L1 regularization\n",
    "    'lambda_l2': 0.004628329796484631,  # Moderate L2 regularization\n",
    "    'num_leaves': 201,                  # More reasonable than 225 from trial 72\n",
    "    'feature_fraction': 0.792,          # Good feature subsampling\n",
    "    'bagging_fraction': 0.996,          # Could be lower to prevent overfitting\n",
    "    'bagging_freq': 1,                  # Could be higher for more randomization\n",
    "    'min_child_samples': 29,            # Could be increased\n",
    "    'learning_rate': 0.0414,             # Good moderate learning rate\n",
    "    'objective': 'regression',\n",
    "    'metric': 'rmse',\n",
    "    'boosting_type': 'gbdt',\n",
    "    'verbose': -1,\n",
    "    'n_jobs': -1\n",
    "}\n",
    "\n",
    "rmse_scores, final_model = perform_tscv(X_train_processed, y, params)"
   ]
  },
  {
   "cell_type": "code",
   "execution_count": 36,
   "metadata": {},
   "outputs": [],
   "source": [
    "X_train_processed, X_test_processed = preprocess_data(X_train, X_test)"
   ]
  },
  {
   "cell_type": "code",
   "execution_count": null,
   "metadata": {},
   "outputs": [
    {
     "name": "stderr",
     "output_type": "stream",
     "text": [
      "[I 2024-12-04 23:45:39,134] A new study created in memory with name: no-name-8caf6dac-7c44-4b53-800c-2c8d7043d52f\n"
     ]
    },
    {
     "name": "stdout",
     "output_type": "stream",
     "text": [
      "Categorical feature indices: [11, 12]\n"
     ]
    },
    {
     "name": "stderr",
     "output_type": "stream",
     "text": [
      "Best trial: 0. Best value: 1.01109:   2%|▏         | 1/50 [00:59<48:12, 59.02s/it]"
     ]
    },
    {
     "name": "stdout",
     "output_type": "stream",
     "text": [
      "[I 2024-12-04 23:46:38,156] Trial 0 finished with value: 1.0110904327266506 and parameters: {'learning_rate': 0.06118920173474017, 'depth': 4, 'l2_leaf_reg': 0.00018764657770143107, 'min_data_in_leaf': 3, 'grow_policy': 'Depthwise'}. Best is trial 0 with value: 1.0110904327266506.\n"
     ]
    },
    {
     "name": "stderr",
     "output_type": "stream",
     "text": [
      "Best trial: 0. Best value: 1.01109:   4%|▍         | 2/50 [05:43<2:33:26, 191.80s/it]"
     ]
    },
    {
     "name": "stdout",
     "output_type": "stream",
     "text": [
      "[I 2024-12-04 23:51:22,858] Trial 1 finished with value: 1.0576434881819745 and parameters: {'learning_rate': 0.003717987888729571, 'depth': 4, 'l2_leaf_reg': 1.5759553859452541e-06, 'min_data_in_leaf': 23, 'grow_policy': 'SymmetricTree'}. Best is trial 0 with value: 1.0110904327266506.\n"
     ]
    },
    {
     "name": "stderr",
     "output_type": "stream",
     "text": [
      "Best trial: 2. Best value: 0.951686:   6%|▌         | 3/50 [21:17<6:55:27, 530.36s/it]"
     ]
    },
    {
     "name": "stdout",
     "output_type": "stream",
     "text": [
      "[I 2024-12-05 00:06:56,147] Trial 2 finished with value: 0.9516855728495202 and parameters: {'learning_rate': 0.011594547791246704, 'depth': 10, 'l2_leaf_reg': 0.6200332423436282, 'min_data_in_leaf': 52, 'grow_policy': 'Depthwise'}. Best is trial 2 with value: 0.9516855728495202.\n"
     ]
    },
    {
     "name": "stderr",
     "output_type": "stream",
     "text": [
      "Best trial: 2. Best value: 0.951686:   8%|▊         | 4/50 [24:43<5:08:43, 402.68s/it]"
     ]
    },
    {
     "name": "stdout",
     "output_type": "stream",
     "text": [
      "[I 2024-12-05 00:10:23,102] Trial 3 finished with value: 1.0059143435648483 and parameters: {'learning_rate': 0.023764199180716258, 'depth': 4, 'l2_leaf_reg': 2.5975382165765455e-08, 'min_data_in_leaf': 92, 'grow_policy': 'SymmetricTree'}. Best is trial 2 with value: 0.9516855728495202.\n"
     ]
    },
    {
     "name": "stderr",
     "output_type": "stream",
     "text": [
      "Best trial: 2. Best value: 0.951686:  10%|█         | 5/50 [9:31:52<151:11:45, 12095.67s/it]"
     ]
    },
    {
     "name": "stdout",
     "output_type": "stream",
     "text": [
      "[I 2024-12-05 09:17:31,582] Trial 4 finished with value: 1.0063964141422563 and parameters: {'learning_rate': 0.004553505415280427, 'depth': 7, 'l2_leaf_reg': 1.7142454229764045e-05, 'min_data_in_leaf': 88, 'grow_policy': 'SymmetricTree'}. Best is trial 2 with value: 0.9516855728495202.\n"
     ]
    },
    {
     "name": "stderr",
     "output_type": "stream",
     "text": [
      "Best trial: 2. Best value: 0.951686:  12%|█▏        | 6/50 [9:51:48<102:32:37, 8389.93s/it] "
     ]
    },
    {
     "name": "stdout",
     "output_type": "stream",
     "text": [
      "[I 2024-12-05 09:37:28,045] Trial 5 finished with value: 0.9812698034479084 and parameters: {'learning_rate': 0.009261531248805887, 'depth': 10, 'l2_leaf_reg': 0.001089076794989994, 'min_data_in_leaf': 47, 'grow_policy': 'SymmetricTree'}. Best is trial 2 with value: 0.9516855728495202.\n"
     ]
    },
    {
     "name": "stderr",
     "output_type": "stream",
     "text": [
      "Best trial: 2. Best value: 0.951686:  14%|█▍        | 7/50 [9:53:47<67:54:55, 5685.94s/it] "
     ]
    },
    {
     "name": "stdout",
     "output_type": "stream",
     "text": [
      "[I 2024-12-05 09:39:26,982] Trial 6 finished with value: 0.9887929388083186 and parameters: {'learning_rate': 0.04021918893377849, 'depth': 5, 'l2_leaf_reg': 8.253928783220816e-05, 'min_data_in_leaf': 57, 'grow_policy': 'SymmetricTree'}. Best is trial 2 with value: 0.9516855728495202.\n"
     ]
    },
    {
     "name": "stderr",
     "output_type": "stream",
     "text": [
      "Best trial: 2. Best value: 0.951686:  16%|█▌        | 8/50 [10:17:41<50:32:30, 4332.16s/it]"
     ]
    },
    {
     "name": "stdout",
     "output_type": "stream",
     "text": [
      "[I 2024-12-05 10:03:20,454] Trial 7 finished with value: 0.9723556624791685 and parameters: {'learning_rate': 0.012552612303516644, 'depth': 10, 'l2_leaf_reg': 0.018463464521119747, 'min_data_in_leaf': 87, 'grow_policy': 'SymmetricTree'}. Best is trial 2 with value: 0.9516855728495202.\n"
     ]
    },
    {
     "name": "stderr",
     "output_type": "stream",
     "text": [
      "Best trial: 2. Best value: 0.951686:  18%|█▊        | 9/50 [11:56:10<54:57:15, 4825.25s/it]"
     ]
    },
    {
     "name": "stdout",
     "output_type": "stream",
     "text": [
      "[I 2024-12-05 11:41:49,902] Trial 8 finished with value: 0.9526627456147366 and parameters: {'learning_rate': 0.008872743139681203, 'depth': 10, 'l2_leaf_reg': 4.405326404135753e-05, 'min_data_in_leaf': 56, 'grow_policy': 'Depthwise'}. Best is trial 2 with value: 0.9516855728495202.\n"
     ]
    },
    {
     "name": "stderr",
     "output_type": "stream",
     "text": [
      "Best trial: 2. Best value: 0.951686:  20%|██        | 10/50 [11:57:59<37:26:04, 3369.11s/it]"
     ]
    },
    {
     "name": "stdout",
     "output_type": "stream",
     "text": [
      "[I 2024-12-05 11:43:38,498] Trial 9 finished with value: 0.9600347396251877 and parameters: {'learning_rate': 0.0778337659876956, 'depth': 5, 'l2_leaf_reg': 0.068891094278557, 'min_data_in_leaf': 22, 'grow_policy': 'Depthwise'}. Best is trial 2 with value: 0.9516855728495202.\n"
     ]
    },
    {
     "name": "stderr",
     "output_type": "stream",
     "text": [
      "Best trial: 2. Best value: 0.951686:  22%|██▏       | 11/50 [12:49:46<35:37:47, 3288.92s/it]"
     ]
    },
    {
     "name": "stdout",
     "output_type": "stream",
     "text": [
      "[I 2024-12-05 12:35:25,571] Trial 10 finished with value: 1.1748889995234584 and parameters: {'learning_rate': 0.001069139200649848, 'depth': 8, 'l2_leaf_reg': 6.012882907588404, 'min_data_in_leaf': 65, 'grow_policy': 'Depthwise'}. Best is trial 2 with value: 0.9516855728495202.\n"
     ]
    },
    {
     "name": "stderr",
     "output_type": "stream",
     "text": [
      "Best trial: 2. Best value: 0.951686:  24%|██▍       | 12/50 [13:06:43<27:25:21, 2597.94s/it]"
     ]
    },
    {
     "name": "stdout",
     "output_type": "stream",
     "text": [
      "[I 2024-12-05 12:52:23,111] Trial 11 finished with value: 0.9688193423163461 and parameters: {'learning_rate': 0.00893050731798768, 'depth': 9, 'l2_leaf_reg': 4.013872434405589, 'min_data_in_leaf': 40, 'grow_policy': 'Depthwise'}. Best is trial 2 with value: 0.9516855728495202.\n"
     ]
    },
    {
     "name": "stderr",
     "output_type": "stream",
     "text": [
      "Best trial: 2. Best value: 0.951686:  26%|██▌       | 13/50 [13:58:23<28:15:45, 2749.87s/it]"
     ]
    },
    {
     "name": "stdout",
     "output_type": "stream",
     "text": [
      "[I 2024-12-05 13:44:02,573] Trial 12 finished with value: 0.9802988482733411 and parameters: {'learning_rate': 0.0037920466697375986, 'depth': 8, 'l2_leaf_reg': 9.178541477547373e-07, 'min_data_in_leaf': 69, 'grow_policy': 'Depthwise'}. Best is trial 2 with value: 0.9516855728495202.\n"
     ]
    },
    {
     "name": "stderr",
     "output_type": "stream",
     "text": [
      "Best trial: 13. Best value: 0.924062:  28%|██▊       | 14/50 [14:08:08<20:57:39, 2096.09s/it]"
     ]
    },
    {
     "name": "stdout",
     "output_type": "stream",
     "text": [
      "[I 2024-12-05 13:53:47,977] Trial 13 finished with value: 0.9240620805376774 and parameters: {'learning_rate': 0.017324726079825225, 'depth': 9, 'l2_leaf_reg': 0.009705391091619915, 'min_data_in_leaf': 35, 'grow_policy': 'Depthwise'}. Best is trial 13 with value: 0.9240620805376774.\n"
     ]
    },
    {
     "name": "stderr",
     "output_type": "stream",
     "text": [
      "Best trial: 13. Best value: 0.924062:  30%|███       | 15/50 [14:20:36<16:25:35, 1689.59s/it]"
     ]
    },
    {
     "name": "stdout",
     "output_type": "stream",
     "text": [
      "[I 2024-12-05 14:06:15,505] Trial 14 finished with value: 0.9276344856801704 and parameters: {'learning_rate': 0.020282264308130182, 'depth': 9, 'l2_leaf_reg': 0.1927943566748722, 'min_data_in_leaf': 32, 'grow_policy': 'Depthwise'}. Best is trial 13 with value: 0.9240620805376774.\n"
     ]
    },
    {
     "name": "stderr",
     "output_type": "stream",
     "text": [
      "Best trial: 15. Best value: 0.921512:  32%|███▏      | 16/50 [14:32:09<13:07:30, 1389.72s/it]"
     ]
    },
    {
     "name": "stdout",
     "output_type": "stream",
     "text": [
      "[I 2024-12-05 14:17:48,850] Trial 15 finished with value: 0.9215123183331922 and parameters: {'learning_rate': 0.026933160423085495, 'depth': 8, 'l2_leaf_reg': 0.009634903664694616, 'min_data_in_leaf': 32, 'grow_policy': 'Depthwise'}. Best is trial 15 with value: 0.9215123183331922.\n"
     ]
    },
    {
     "name": "stderr",
     "output_type": "stream",
     "text": [
      "Best trial: 15. Best value: 0.921512:  34%|███▍      | 17/50 [14:37:06<9:43:36, 1061.11s/it] "
     ]
    },
    {
     "name": "stdout",
     "output_type": "stream",
     "text": [
      "[I 2024-12-05 14:22:45,726] Trial 16 finished with value: 0.925861156908622 and parameters: {'learning_rate': 0.034443080746050715, 'depth': 7, 'l2_leaf_reg': 0.006913082815882892, 'min_data_in_leaf': 7, 'grow_policy': 'Depthwise'}. Best is trial 15 with value: 0.9215123183331922.\n"
     ]
    },
    {
     "name": "stderr",
     "output_type": "stream",
     "text": [
      "Best trial: 15. Best value: 0.921512:  36%|███▌      | 18/50 [14:47:13<8:13:08, 924.63s/it] "
     ]
    },
    {
     "name": "stdout",
     "output_type": "stream",
     "text": [
      "[I 2024-12-05 14:32:52,651] Trial 17 finished with value: 0.930935862980181 and parameters: {'learning_rate': 0.019682192781148883, 'depth': 8, 'l2_leaf_reg': 0.002005399228986367, 'min_data_in_leaf': 19, 'grow_policy': 'Depthwise'}. Best is trial 15 with value: 0.9215123183331922.\n"
     ]
    },
    {
     "name": "stderr",
     "output_type": "stream",
     "text": [
      "Best trial: 18. Best value: 0.915911:  38%|███▊      | 19/50 [14:53:27<6:32:13, 759.14s/it]"
     ]
    },
    {
     "name": "stdout",
     "output_type": "stream",
     "text": [
      "[I 2024-12-05 14:39:06,278] Trial 18 finished with value: 0.9159109412429445 and parameters: {'learning_rate': 0.05009040126322893, 'depth': 7, 'l2_leaf_reg': 0.011278764869291562, 'min_data_in_leaf': 36, 'grow_policy': 'Depthwise'}. Best is trial 18 with value: 0.9159109412429445.\n"
     ]
    },
    {
     "name": "stderr",
     "output_type": "stream",
     "text": [
      "Best trial: 18. Best value: 0.915911:  40%|████      | 20/50 [14:58:00<5:06:35, 613.19s/it]"
     ]
    },
    {
     "name": "stdout",
     "output_type": "stream",
     "text": [
      "[I 2024-12-05 14:43:39,320] Trial 19 finished with value: 0.9352962740331094 and parameters: {'learning_rate': 0.04936270667151081, 'depth': 6, 'l2_leaf_reg': 0.0006707150040979883, 'min_data_in_leaf': 13, 'grow_policy': 'Depthwise'}. Best is trial 18 with value: 0.9159109412429445.\n"
     ]
    },
    {
     "name": "stderr",
     "output_type": "stream",
     "text": [
      "Best trial: 18. Best value: 0.915911:  42%|████▏     | 21/50 [15:01:46<4:00:16, 497.13s/it]"
     ]
    },
    {
     "name": "stdout",
     "output_type": "stream",
     "text": [
      "[I 2024-12-05 14:47:25,842] Trial 20 finished with value: 0.9412993878202844 and parameters: {'learning_rate': 0.09334891202910299, 'depth': 6, 'l2_leaf_reg': 0.3921817735966383, 'min_data_in_leaf': 29, 'grow_policy': 'Depthwise'}. Best is trial 18 with value: 0.9159109412429445.\n"
     ]
    },
    {
     "name": "stderr",
     "output_type": "stream",
     "text": [
      "Best trial: 18. Best value: 0.915911:  44%|████▍     | 22/50 [15:10:09<3:52:48, 498.87s/it]"
     ]
    },
    {
     "name": "stdout",
     "output_type": "stream",
     "text": [
      "[I 2024-12-05 14:55:48,787] Trial 21 finished with value: 0.9164822387990578 and parameters: {'learning_rate': 0.031179582172031654, 'depth': 9, 'l2_leaf_reg': 0.022948111615005838, 'min_data_in_leaf': 37, 'grow_policy': 'Depthwise'}. Best is trial 18 with value: 0.9159109412429445.\n"
     ]
    },
    {
     "name": "stderr",
     "output_type": "stream",
     "text": [
      "Best trial: 18. Best value: 0.915911:  44%|████▍     | 22/50 [15:10:51<19:19:15, 2484.14s/it]\n"
     ]
    },
    {
     "name": "stdout",
     "output_type": "stream",
     "text": [
      "[W 2024-12-05 14:56:30,212] Trial 22 failed with parameters: {'learning_rate': 0.03338872213184005, 'depth': 8, 'l2_leaf_reg': 0.047853848780345994, 'min_data_in_leaf': 42, 'grow_policy': 'Depthwise'} because of the following error: KeyboardInterrupt('').\n",
      "Traceback (most recent call last):\n",
      "  File \"c:\\Users\\alexa\\Documents\\Code Python et SQL\\Python DSB\\bike_counters_ac_team\\.venv\\lib\\site-packages\\optuna\\study\\_optimize.py\", line 197, in _run_trial\n",
      "    value_or_values = func(trial)\n",
      "  File \"C:\\Users\\alexa\\AppData\\Local\\Temp\\ipykernel_11616\\1889266235.py\", line 67, in <lambda>\n",
      "    lambda trial: objective(trial, X_processed, y, categorical_features),\n",
      "  File \"C:\\Users\\alexa\\AppData\\Local\\Temp\\ipykernel_11616\\1889266235.py\", line 48, in objective\n",
      "    model.fit(\n",
      "  File \"c:\\Users\\alexa\\Documents\\Code Python et SQL\\Python DSB\\bike_counters_ac_team\\.venv\\lib\\site-packages\\catboost\\core.py\", line 5873, in fit\n",
      "    return self._fit(X, y, cat_features, text_features, embedding_features, None, graph, sample_weight, None, None, None, None, baseline,\n",
      "  File \"c:\\Users\\alexa\\Documents\\Code Python et SQL\\Python DSB\\bike_counters_ac_team\\.venv\\lib\\site-packages\\catboost\\core.py\", line 2410, in _fit\n",
      "    self._train(\n",
      "  File \"c:\\Users\\alexa\\Documents\\Code Python et SQL\\Python DSB\\bike_counters_ac_team\\.venv\\lib\\site-packages\\catboost\\core.py\", line 1790, in _train\n",
      "    self._object._train(train_pool, test_pool, params, allow_clear_pool, init_model._object if init_model else None)\n",
      "  File \"_catboost.pyx\", line 5017, in _catboost._CatBoost._train\n",
      "  File \"_catboost.pyx\", line 5066, in _catboost._CatBoost._train\n",
      "KeyboardInterrupt\n",
      "[W 2024-12-05 14:56:30,235] Trial 22 failed with value None.\n"
     ]
    },
    {
     "ename": "KeyboardInterrupt",
     "evalue": "",
     "output_type": "error",
     "traceback": [
      "\u001b[1;31m---------------------------------------------------------------------------\u001b[0m",
      "\u001b[1;31mKeyboardInterrupt\u001b[0m                         Traceback (most recent call last)",
      "Cell \u001b[1;32mIn[37], line 81\u001b[0m\n\u001b[0;32m     78\u001b[0m     \u001b[38;5;28;01mreturn\u001b[39;00m study\u001b[38;5;241m.\u001b[39mbest_params, study\u001b[38;5;241m.\u001b[39mbest_value\n\u001b[0;32m     80\u001b[0m \u001b[38;5;66;03m# Run optimization\u001b[39;00m\n\u001b[1;32m---> 81\u001b[0m best_params, best_rmse \u001b[38;5;241m=\u001b[39m \u001b[43moptimize_catboost\u001b[49m\u001b[43m(\u001b[49m\u001b[43mX\u001b[49m\u001b[43m,\u001b[49m\u001b[43m \u001b[49m\u001b[43my\u001b[49m\u001b[43m,\u001b[49m\u001b[43m \u001b[49m\u001b[43mn_trials\u001b[49m\u001b[38;5;241;43m=\u001b[39;49m\u001b[38;5;241;43m50\u001b[39;49m\u001b[43m)\u001b[49m\n",
      "Cell \u001b[1;32mIn[37], line 66\u001b[0m, in \u001b[0;36moptimize_catboost\u001b[1;34m(X, y, n_trials)\u001b[0m\n\u001b[0;32m     63\u001b[0m \u001b[38;5;28mprint\u001b[39m(\u001b[38;5;124mf\u001b[39m\u001b[38;5;124m\"\u001b[39m\u001b[38;5;124mCategorical feature indices: \u001b[39m\u001b[38;5;132;01m{\u001b[39;00mcategorical_features\u001b[38;5;132;01m}\u001b[39;00m\u001b[38;5;124m\"\u001b[39m)\n\u001b[0;32m     65\u001b[0m study \u001b[38;5;241m=\u001b[39m optuna\u001b[38;5;241m.\u001b[39mcreate_study(direction\u001b[38;5;241m=\u001b[39m\u001b[38;5;124m'\u001b[39m\u001b[38;5;124mminimize\u001b[39m\u001b[38;5;124m'\u001b[39m)\n\u001b[1;32m---> 66\u001b[0m \u001b[43mstudy\u001b[49m\u001b[38;5;241;43m.\u001b[39;49m\u001b[43moptimize\u001b[49m\u001b[43m(\u001b[49m\n\u001b[0;32m     67\u001b[0m \u001b[43m    \u001b[49m\u001b[38;5;28;43;01mlambda\u001b[39;49;00m\u001b[43m \u001b[49m\u001b[43mtrial\u001b[49m\u001b[43m:\u001b[49m\u001b[43m \u001b[49m\u001b[43mobjective\u001b[49m\u001b[43m(\u001b[49m\u001b[43mtrial\u001b[49m\u001b[43m,\u001b[49m\u001b[43m \u001b[49m\u001b[43mX_processed\u001b[49m\u001b[43m,\u001b[49m\u001b[43m \u001b[49m\u001b[43my\u001b[49m\u001b[43m,\u001b[49m\u001b[43m \u001b[49m\u001b[43mcategorical_features\u001b[49m\u001b[43m)\u001b[49m\u001b[43m,\u001b[49m\n\u001b[0;32m     68\u001b[0m \u001b[43m    \u001b[49m\u001b[43mn_trials\u001b[49m\u001b[38;5;241;43m=\u001b[39;49m\u001b[43mn_trials\u001b[49m\u001b[43m,\u001b[49m\n\u001b[0;32m     69\u001b[0m \u001b[43m    \u001b[49m\u001b[43mshow_progress_bar\u001b[49m\u001b[38;5;241;43m=\u001b[39;49m\u001b[38;5;28;43;01mTrue\u001b[39;49;00m\n\u001b[0;32m     70\u001b[0m \u001b[43m\u001b[49m\u001b[43m)\u001b[49m\n\u001b[0;32m     72\u001b[0m \u001b[38;5;28mprint\u001b[39m(\u001b[38;5;124mf\u001b[39m\u001b[38;5;124m'\u001b[39m\u001b[38;5;130;01m\\n\u001b[39;00m\u001b[38;5;124mBest trial:\u001b[39m\u001b[38;5;124m'\u001b[39m)\n\u001b[0;32m     73\u001b[0m \u001b[38;5;28mprint\u001b[39m(\u001b[38;5;124mf\u001b[39m\u001b[38;5;124m'\u001b[39m\u001b[38;5;124mValue (RMSE): \u001b[39m\u001b[38;5;132;01m{\u001b[39;00mstudy\u001b[38;5;241m.\u001b[39mbest_value\u001b[38;5;132;01m:\u001b[39;00m\u001b[38;5;124m.6f\u001b[39m\u001b[38;5;132;01m}\u001b[39;00m\u001b[38;5;124m'\u001b[39m)\n",
      "File \u001b[1;32mc:\\Users\\alexa\\Documents\\Code Python et SQL\\Python DSB\\bike_counters_ac_team\\.venv\\lib\\site-packages\\optuna\\study\\study.py:475\u001b[0m, in \u001b[0;36mStudy.optimize\u001b[1;34m(self, func, n_trials, timeout, n_jobs, catch, callbacks, gc_after_trial, show_progress_bar)\u001b[0m\n\u001b[0;32m    373\u001b[0m \u001b[38;5;28;01mdef\u001b[39;00m \u001b[38;5;21moptimize\u001b[39m(\n\u001b[0;32m    374\u001b[0m     \u001b[38;5;28mself\u001b[39m,\n\u001b[0;32m    375\u001b[0m     func: ObjectiveFuncType,\n\u001b[1;32m   (...)\u001b[0m\n\u001b[0;32m    382\u001b[0m     show_progress_bar: \u001b[38;5;28mbool\u001b[39m \u001b[38;5;241m=\u001b[39m \u001b[38;5;28;01mFalse\u001b[39;00m,\n\u001b[0;32m    383\u001b[0m ) \u001b[38;5;241m-\u001b[39m\u001b[38;5;241m>\u001b[39m \u001b[38;5;28;01mNone\u001b[39;00m:\n\u001b[0;32m    384\u001b[0m \u001b[38;5;250m    \u001b[39m\u001b[38;5;124;03m\"\"\"Optimize an objective function.\u001b[39;00m\n\u001b[0;32m    385\u001b[0m \n\u001b[0;32m    386\u001b[0m \u001b[38;5;124;03m    Optimization is done by choosing a suitable set of hyperparameter values from a given\u001b[39;00m\n\u001b[1;32m   (...)\u001b[0m\n\u001b[0;32m    473\u001b[0m \u001b[38;5;124;03m            If nested invocation of this method occurs.\u001b[39;00m\n\u001b[0;32m    474\u001b[0m \u001b[38;5;124;03m    \"\"\"\u001b[39;00m\n\u001b[1;32m--> 475\u001b[0m     \u001b[43m_optimize\u001b[49m\u001b[43m(\u001b[49m\n\u001b[0;32m    476\u001b[0m \u001b[43m        \u001b[49m\u001b[43mstudy\u001b[49m\u001b[38;5;241;43m=\u001b[39;49m\u001b[38;5;28;43mself\u001b[39;49m\u001b[43m,\u001b[49m\n\u001b[0;32m    477\u001b[0m \u001b[43m        \u001b[49m\u001b[43mfunc\u001b[49m\u001b[38;5;241;43m=\u001b[39;49m\u001b[43mfunc\u001b[49m\u001b[43m,\u001b[49m\n\u001b[0;32m    478\u001b[0m \u001b[43m        \u001b[49m\u001b[43mn_trials\u001b[49m\u001b[38;5;241;43m=\u001b[39;49m\u001b[43mn_trials\u001b[49m\u001b[43m,\u001b[49m\n\u001b[0;32m    479\u001b[0m \u001b[43m        \u001b[49m\u001b[43mtimeout\u001b[49m\u001b[38;5;241;43m=\u001b[39;49m\u001b[43mtimeout\u001b[49m\u001b[43m,\u001b[49m\n\u001b[0;32m    480\u001b[0m \u001b[43m        \u001b[49m\u001b[43mn_jobs\u001b[49m\u001b[38;5;241;43m=\u001b[39;49m\u001b[43mn_jobs\u001b[49m\u001b[43m,\u001b[49m\n\u001b[0;32m    481\u001b[0m \u001b[43m        \u001b[49m\u001b[43mcatch\u001b[49m\u001b[38;5;241;43m=\u001b[39;49m\u001b[38;5;28;43mtuple\u001b[39;49m\u001b[43m(\u001b[49m\u001b[43mcatch\u001b[49m\u001b[43m)\u001b[49m\u001b[43m \u001b[49m\u001b[38;5;28;43;01mif\u001b[39;49;00m\u001b[43m \u001b[49m\u001b[38;5;28;43misinstance\u001b[39;49m\u001b[43m(\u001b[49m\u001b[43mcatch\u001b[49m\u001b[43m,\u001b[49m\u001b[43m \u001b[49m\u001b[43mIterable\u001b[49m\u001b[43m)\u001b[49m\u001b[43m \u001b[49m\u001b[38;5;28;43;01melse\u001b[39;49;00m\u001b[43m \u001b[49m\u001b[43m(\u001b[49m\u001b[43mcatch\u001b[49m\u001b[43m,\u001b[49m\u001b[43m)\u001b[49m\u001b[43m,\u001b[49m\n\u001b[0;32m    482\u001b[0m \u001b[43m        \u001b[49m\u001b[43mcallbacks\u001b[49m\u001b[38;5;241;43m=\u001b[39;49m\u001b[43mcallbacks\u001b[49m\u001b[43m,\u001b[49m\n\u001b[0;32m    483\u001b[0m \u001b[43m        \u001b[49m\u001b[43mgc_after_trial\u001b[49m\u001b[38;5;241;43m=\u001b[39;49m\u001b[43mgc_after_trial\u001b[49m\u001b[43m,\u001b[49m\n\u001b[0;32m    484\u001b[0m \u001b[43m        \u001b[49m\u001b[43mshow_progress_bar\u001b[49m\u001b[38;5;241;43m=\u001b[39;49m\u001b[43mshow_progress_bar\u001b[49m\u001b[43m,\u001b[49m\n\u001b[0;32m    485\u001b[0m \u001b[43m    \u001b[49m\u001b[43m)\u001b[49m\n",
      "File \u001b[1;32mc:\\Users\\alexa\\Documents\\Code Python et SQL\\Python DSB\\bike_counters_ac_team\\.venv\\lib\\site-packages\\optuna\\study\\_optimize.py:63\u001b[0m, in \u001b[0;36m_optimize\u001b[1;34m(study, func, n_trials, timeout, n_jobs, catch, callbacks, gc_after_trial, show_progress_bar)\u001b[0m\n\u001b[0;32m     61\u001b[0m \u001b[38;5;28;01mtry\u001b[39;00m:\n\u001b[0;32m     62\u001b[0m     \u001b[38;5;28;01mif\u001b[39;00m n_jobs \u001b[38;5;241m==\u001b[39m \u001b[38;5;241m1\u001b[39m:\n\u001b[1;32m---> 63\u001b[0m         \u001b[43m_optimize_sequential\u001b[49m\u001b[43m(\u001b[49m\n\u001b[0;32m     64\u001b[0m \u001b[43m            \u001b[49m\u001b[43mstudy\u001b[49m\u001b[43m,\u001b[49m\n\u001b[0;32m     65\u001b[0m \u001b[43m            \u001b[49m\u001b[43mfunc\u001b[49m\u001b[43m,\u001b[49m\n\u001b[0;32m     66\u001b[0m \u001b[43m            \u001b[49m\u001b[43mn_trials\u001b[49m\u001b[43m,\u001b[49m\n\u001b[0;32m     67\u001b[0m \u001b[43m            \u001b[49m\u001b[43mtimeout\u001b[49m\u001b[43m,\u001b[49m\n\u001b[0;32m     68\u001b[0m \u001b[43m            \u001b[49m\u001b[43mcatch\u001b[49m\u001b[43m,\u001b[49m\n\u001b[0;32m     69\u001b[0m \u001b[43m            \u001b[49m\u001b[43mcallbacks\u001b[49m\u001b[43m,\u001b[49m\n\u001b[0;32m     70\u001b[0m \u001b[43m            \u001b[49m\u001b[43mgc_after_trial\u001b[49m\u001b[43m,\u001b[49m\n\u001b[0;32m     71\u001b[0m \u001b[43m            \u001b[49m\u001b[43mreseed_sampler_rng\u001b[49m\u001b[38;5;241;43m=\u001b[39;49m\u001b[38;5;28;43;01mFalse\u001b[39;49;00m\u001b[43m,\u001b[49m\n\u001b[0;32m     72\u001b[0m \u001b[43m            \u001b[49m\u001b[43mtime_start\u001b[49m\u001b[38;5;241;43m=\u001b[39;49m\u001b[38;5;28;43;01mNone\u001b[39;49;00m\u001b[43m,\u001b[49m\n\u001b[0;32m     73\u001b[0m \u001b[43m            \u001b[49m\u001b[43mprogress_bar\u001b[49m\u001b[38;5;241;43m=\u001b[39;49m\u001b[43mprogress_bar\u001b[49m\u001b[43m,\u001b[49m\n\u001b[0;32m     74\u001b[0m \u001b[43m        \u001b[49m\u001b[43m)\u001b[49m\n\u001b[0;32m     75\u001b[0m     \u001b[38;5;28;01melse\u001b[39;00m:\n\u001b[0;32m     76\u001b[0m         \u001b[38;5;28;01mif\u001b[39;00m n_jobs \u001b[38;5;241m==\u001b[39m \u001b[38;5;241m-\u001b[39m\u001b[38;5;241m1\u001b[39m:\n",
      "File \u001b[1;32mc:\\Users\\alexa\\Documents\\Code Python et SQL\\Python DSB\\bike_counters_ac_team\\.venv\\lib\\site-packages\\optuna\\study\\_optimize.py:160\u001b[0m, in \u001b[0;36m_optimize_sequential\u001b[1;34m(study, func, n_trials, timeout, catch, callbacks, gc_after_trial, reseed_sampler_rng, time_start, progress_bar)\u001b[0m\n\u001b[0;32m    157\u001b[0m         \u001b[38;5;28;01mbreak\u001b[39;00m\n\u001b[0;32m    159\u001b[0m \u001b[38;5;28;01mtry\u001b[39;00m:\n\u001b[1;32m--> 160\u001b[0m     frozen_trial \u001b[38;5;241m=\u001b[39m \u001b[43m_run_trial\u001b[49m\u001b[43m(\u001b[49m\u001b[43mstudy\u001b[49m\u001b[43m,\u001b[49m\u001b[43m \u001b[49m\u001b[43mfunc\u001b[49m\u001b[43m,\u001b[49m\u001b[43m \u001b[49m\u001b[43mcatch\u001b[49m\u001b[43m)\u001b[49m\n\u001b[0;32m    161\u001b[0m \u001b[38;5;28;01mfinally\u001b[39;00m:\n\u001b[0;32m    162\u001b[0m     \u001b[38;5;66;03m# The following line mitigates memory problems that can be occurred in some\u001b[39;00m\n\u001b[0;32m    163\u001b[0m     \u001b[38;5;66;03m# environments (e.g., services that use computing containers such as GitHub Actions).\u001b[39;00m\n\u001b[0;32m    164\u001b[0m     \u001b[38;5;66;03m# Please refer to the following PR for further details:\u001b[39;00m\n\u001b[0;32m    165\u001b[0m     \u001b[38;5;66;03m# https://github.com/optuna/optuna/pull/325.\u001b[39;00m\n\u001b[0;32m    166\u001b[0m     \u001b[38;5;28;01mif\u001b[39;00m gc_after_trial:\n",
      "File \u001b[1;32mc:\\Users\\alexa\\Documents\\Code Python et SQL\\Python DSB\\bike_counters_ac_team\\.venv\\lib\\site-packages\\optuna\\study\\_optimize.py:248\u001b[0m, in \u001b[0;36m_run_trial\u001b[1;34m(study, func, catch)\u001b[0m\n\u001b[0;32m    241\u001b[0m         \u001b[38;5;28;01massert\u001b[39;00m \u001b[38;5;28;01mFalse\u001b[39;00m, \u001b[38;5;124m\"\u001b[39m\u001b[38;5;124mShould not reach.\u001b[39m\u001b[38;5;124m\"\u001b[39m\n\u001b[0;32m    243\u001b[0m \u001b[38;5;28;01mif\u001b[39;00m (\n\u001b[0;32m    244\u001b[0m     frozen_trial\u001b[38;5;241m.\u001b[39mstate \u001b[38;5;241m==\u001b[39m TrialState\u001b[38;5;241m.\u001b[39mFAIL\n\u001b[0;32m    245\u001b[0m     \u001b[38;5;129;01mand\u001b[39;00m func_err \u001b[38;5;129;01mis\u001b[39;00m \u001b[38;5;129;01mnot\u001b[39;00m \u001b[38;5;28;01mNone\u001b[39;00m\n\u001b[0;32m    246\u001b[0m     \u001b[38;5;129;01mand\u001b[39;00m \u001b[38;5;129;01mnot\u001b[39;00m \u001b[38;5;28misinstance\u001b[39m(func_err, catch)\n\u001b[0;32m    247\u001b[0m ):\n\u001b[1;32m--> 248\u001b[0m     \u001b[38;5;28;01mraise\u001b[39;00m func_err\n\u001b[0;32m    249\u001b[0m \u001b[38;5;28;01mreturn\u001b[39;00m frozen_trial\n",
      "File \u001b[1;32mc:\\Users\\alexa\\Documents\\Code Python et SQL\\Python DSB\\bike_counters_ac_team\\.venv\\lib\\site-packages\\optuna\\study\\_optimize.py:197\u001b[0m, in \u001b[0;36m_run_trial\u001b[1;34m(study, func, catch)\u001b[0m\n\u001b[0;32m    195\u001b[0m \u001b[38;5;28;01mwith\u001b[39;00m get_heartbeat_thread(trial\u001b[38;5;241m.\u001b[39m_trial_id, study\u001b[38;5;241m.\u001b[39m_storage):\n\u001b[0;32m    196\u001b[0m     \u001b[38;5;28;01mtry\u001b[39;00m:\n\u001b[1;32m--> 197\u001b[0m         value_or_values \u001b[38;5;241m=\u001b[39m \u001b[43mfunc\u001b[49m\u001b[43m(\u001b[49m\u001b[43mtrial\u001b[49m\u001b[43m)\u001b[49m\n\u001b[0;32m    198\u001b[0m     \u001b[38;5;28;01mexcept\u001b[39;00m exceptions\u001b[38;5;241m.\u001b[39mTrialPruned \u001b[38;5;28;01mas\u001b[39;00m e:\n\u001b[0;32m    199\u001b[0m         \u001b[38;5;66;03m# TODO(mamu): Handle multi-objective cases.\u001b[39;00m\n\u001b[0;32m    200\u001b[0m         state \u001b[38;5;241m=\u001b[39m TrialState\u001b[38;5;241m.\u001b[39mPRUNED\n",
      "Cell \u001b[1;32mIn[37], line 67\u001b[0m, in \u001b[0;36moptimize_catboost.<locals>.<lambda>\u001b[1;34m(trial)\u001b[0m\n\u001b[0;32m     63\u001b[0m \u001b[38;5;28mprint\u001b[39m(\u001b[38;5;124mf\u001b[39m\u001b[38;5;124m\"\u001b[39m\u001b[38;5;124mCategorical feature indices: \u001b[39m\u001b[38;5;132;01m{\u001b[39;00mcategorical_features\u001b[38;5;132;01m}\u001b[39;00m\u001b[38;5;124m\"\u001b[39m)\n\u001b[0;32m     65\u001b[0m study \u001b[38;5;241m=\u001b[39m optuna\u001b[38;5;241m.\u001b[39mcreate_study(direction\u001b[38;5;241m=\u001b[39m\u001b[38;5;124m'\u001b[39m\u001b[38;5;124mminimize\u001b[39m\u001b[38;5;124m'\u001b[39m)\n\u001b[0;32m     66\u001b[0m study\u001b[38;5;241m.\u001b[39moptimize(\n\u001b[1;32m---> 67\u001b[0m     \u001b[38;5;28;01mlambda\u001b[39;00m trial: \u001b[43mobjective\u001b[49m\u001b[43m(\u001b[49m\u001b[43mtrial\u001b[49m\u001b[43m,\u001b[49m\u001b[43m \u001b[49m\u001b[43mX_processed\u001b[49m\u001b[43m,\u001b[49m\u001b[43m \u001b[49m\u001b[43my\u001b[49m\u001b[43m,\u001b[49m\u001b[43m \u001b[49m\u001b[43mcategorical_features\u001b[49m\u001b[43m)\u001b[49m,\n\u001b[0;32m     68\u001b[0m     n_trials\u001b[38;5;241m=\u001b[39mn_trials,\n\u001b[0;32m     69\u001b[0m     show_progress_bar\u001b[38;5;241m=\u001b[39m\u001b[38;5;28;01mTrue\u001b[39;00m\n\u001b[0;32m     70\u001b[0m )\n\u001b[0;32m     72\u001b[0m \u001b[38;5;28mprint\u001b[39m(\u001b[38;5;124mf\u001b[39m\u001b[38;5;124m'\u001b[39m\u001b[38;5;130;01m\\n\u001b[39;00m\u001b[38;5;124mBest trial:\u001b[39m\u001b[38;5;124m'\u001b[39m)\n\u001b[0;32m     73\u001b[0m \u001b[38;5;28mprint\u001b[39m(\u001b[38;5;124mf\u001b[39m\u001b[38;5;124m'\u001b[39m\u001b[38;5;124mValue (RMSE): \u001b[39m\u001b[38;5;132;01m{\u001b[39;00mstudy\u001b[38;5;241m.\u001b[39mbest_value\u001b[38;5;132;01m:\u001b[39;00m\u001b[38;5;124m.6f\u001b[39m\u001b[38;5;132;01m}\u001b[39;00m\u001b[38;5;124m'\u001b[39m)\n",
      "Cell \u001b[1;32mIn[37], line 48\u001b[0m, in \u001b[0;36mobjective\u001b[1;34m(trial, X, y, categorical_features, n_splits)\u001b[0m\n\u001b[0;32m     45\u001b[0m y_train, y_val \u001b[38;5;241m=\u001b[39m y\u001b[38;5;241m.\u001b[39miloc[train_idx], y\u001b[38;5;241m.\u001b[39miloc[val_idx]\n\u001b[0;32m     47\u001b[0m model \u001b[38;5;241m=\u001b[39m CatBoostRegressor(\u001b[38;5;241m*\u001b[39m\u001b[38;5;241m*\u001b[39mparam)\n\u001b[1;32m---> 48\u001b[0m \u001b[43mmodel\u001b[49m\u001b[38;5;241;43m.\u001b[39;49m\u001b[43mfit\u001b[49m\u001b[43m(\u001b[49m\n\u001b[0;32m     49\u001b[0m \u001b[43m    \u001b[49m\u001b[43mX_train\u001b[49m\u001b[43m,\u001b[49m\u001b[43m \u001b[49m\u001b[43my_train\u001b[49m\u001b[43m,\u001b[49m\n\u001b[0;32m     50\u001b[0m \u001b[43m    \u001b[49m\u001b[43meval_set\u001b[49m\u001b[38;5;241;43m=\u001b[39;49m\u001b[43m[\u001b[49m\u001b[43m(\u001b[49m\u001b[43mX_val\u001b[49m\u001b[43m,\u001b[49m\u001b[43m \u001b[49m\u001b[43my_val\u001b[49m\u001b[43m)\u001b[49m\u001b[43m]\u001b[49m\u001b[43m,\u001b[49m\n\u001b[0;32m     51\u001b[0m \u001b[43m    \u001b[49m\u001b[43muse_best_model\u001b[49m\u001b[38;5;241;43m=\u001b[39;49m\u001b[38;5;28;43;01mTrue\u001b[39;49;00m\n\u001b[0;32m     52\u001b[0m \u001b[43m\u001b[49m\u001b[43m)\u001b[49m\n\u001b[0;32m     54\u001b[0m val_preds \u001b[38;5;241m=\u001b[39m model\u001b[38;5;241m.\u001b[39mpredict(X_val)\n\u001b[0;32m     55\u001b[0m rmse \u001b[38;5;241m=\u001b[39m np\u001b[38;5;241m.\u001b[39msqrt(mean_squared_error(y_val, val_preds))\n",
      "File \u001b[1;32mc:\\Users\\alexa\\Documents\\Code Python et SQL\\Python DSB\\bike_counters_ac_team\\.venv\\lib\\site-packages\\catboost\\core.py:5873\u001b[0m, in \u001b[0;36mCatBoostRegressor.fit\u001b[1;34m(self, X, y, cat_features, text_features, embedding_features, graph, sample_weight, baseline, use_best_model, eval_set, verbose, logging_level, plot, plot_file, column_description, verbose_eval, metric_period, silent, early_stopping_rounds, save_snapshot, snapshot_file, snapshot_interval, init_model, callbacks, log_cout, log_cerr)\u001b[0m\n\u001b[0;32m   5871\u001b[0m \u001b[38;5;28;01mif\u001b[39;00m \u001b[38;5;124m'\u001b[39m\u001b[38;5;124mloss_function\u001b[39m\u001b[38;5;124m'\u001b[39m \u001b[38;5;129;01min\u001b[39;00m params:\n\u001b[0;32m   5872\u001b[0m     CatBoostRegressor\u001b[38;5;241m.\u001b[39m_check_is_compatible_loss(params[\u001b[38;5;124m'\u001b[39m\u001b[38;5;124mloss_function\u001b[39m\u001b[38;5;124m'\u001b[39m])\n\u001b[1;32m-> 5873\u001b[0m \u001b[38;5;28;01mreturn\u001b[39;00m \u001b[38;5;28;43mself\u001b[39;49m\u001b[38;5;241;43m.\u001b[39;49m\u001b[43m_fit\u001b[49m\u001b[43m(\u001b[49m\u001b[43mX\u001b[49m\u001b[43m,\u001b[49m\u001b[43m \u001b[49m\u001b[43my\u001b[49m\u001b[43m,\u001b[49m\u001b[43m \u001b[49m\u001b[43mcat_features\u001b[49m\u001b[43m,\u001b[49m\u001b[43m \u001b[49m\u001b[43mtext_features\u001b[49m\u001b[43m,\u001b[49m\u001b[43m \u001b[49m\u001b[43membedding_features\u001b[49m\u001b[43m,\u001b[49m\u001b[43m \u001b[49m\u001b[38;5;28;43;01mNone\u001b[39;49;00m\u001b[43m,\u001b[49m\u001b[43m \u001b[49m\u001b[43mgraph\u001b[49m\u001b[43m,\u001b[49m\u001b[43m \u001b[49m\u001b[43msample_weight\u001b[49m\u001b[43m,\u001b[49m\u001b[43m \u001b[49m\u001b[38;5;28;43;01mNone\u001b[39;49;00m\u001b[43m,\u001b[49m\u001b[43m \u001b[49m\u001b[38;5;28;43;01mNone\u001b[39;49;00m\u001b[43m,\u001b[49m\u001b[43m \u001b[49m\u001b[38;5;28;43;01mNone\u001b[39;49;00m\u001b[43m,\u001b[49m\u001b[43m \u001b[49m\u001b[38;5;28;43;01mNone\u001b[39;49;00m\u001b[43m,\u001b[49m\u001b[43m \u001b[49m\u001b[43mbaseline\u001b[49m\u001b[43m,\u001b[49m\n\u001b[0;32m   5874\u001b[0m \u001b[43m                 \u001b[49m\u001b[43muse_best_model\u001b[49m\u001b[43m,\u001b[49m\u001b[43m \u001b[49m\u001b[43meval_set\u001b[49m\u001b[43m,\u001b[49m\u001b[43m \u001b[49m\u001b[43mverbose\u001b[49m\u001b[43m,\u001b[49m\u001b[43m \u001b[49m\u001b[43mlogging_level\u001b[49m\u001b[43m,\u001b[49m\u001b[43m \u001b[49m\u001b[43mplot\u001b[49m\u001b[43m,\u001b[49m\u001b[43m \u001b[49m\u001b[43mplot_file\u001b[49m\u001b[43m,\u001b[49m\u001b[43m \u001b[49m\u001b[43mcolumn_description\u001b[49m\u001b[43m,\u001b[49m\n\u001b[0;32m   5875\u001b[0m \u001b[43m                 \u001b[49m\u001b[43mverbose_eval\u001b[49m\u001b[43m,\u001b[49m\u001b[43m \u001b[49m\u001b[43mmetric_period\u001b[49m\u001b[43m,\u001b[49m\u001b[43m \u001b[49m\u001b[43msilent\u001b[49m\u001b[43m,\u001b[49m\u001b[43m \u001b[49m\u001b[43mearly_stopping_rounds\u001b[49m\u001b[43m,\u001b[49m\n\u001b[0;32m   5876\u001b[0m \u001b[43m                 \u001b[49m\u001b[43msave_snapshot\u001b[49m\u001b[43m,\u001b[49m\u001b[43m \u001b[49m\u001b[43msnapshot_file\u001b[49m\u001b[43m,\u001b[49m\u001b[43m \u001b[49m\u001b[43msnapshot_interval\u001b[49m\u001b[43m,\u001b[49m\u001b[43m \u001b[49m\u001b[43minit_model\u001b[49m\u001b[43m,\u001b[49m\u001b[43m \u001b[49m\u001b[43mcallbacks\u001b[49m\u001b[43m,\u001b[49m\u001b[43m \u001b[49m\u001b[43mlog_cout\u001b[49m\u001b[43m,\u001b[49m\u001b[43m \u001b[49m\u001b[43mlog_cerr\u001b[49m\u001b[43m)\u001b[49m\n",
      "File \u001b[1;32mc:\\Users\\alexa\\Documents\\Code Python et SQL\\Python DSB\\bike_counters_ac_team\\.venv\\lib\\site-packages\\catboost\\core.py:2410\u001b[0m, in \u001b[0;36mCatBoost._fit\u001b[1;34m(self, X, y, cat_features, text_features, embedding_features, pairs, graph, sample_weight, group_id, group_weight, subgroup_id, pairs_weight, baseline, use_best_model, eval_set, verbose, logging_level, plot, plot_file, column_description, verbose_eval, metric_period, silent, early_stopping_rounds, save_snapshot, snapshot_file, snapshot_interval, init_model, callbacks, log_cout, log_cerr)\u001b[0m\n\u001b[0;32m   2407\u001b[0m allow_clear_pool \u001b[38;5;241m=\u001b[39m train_params[\u001b[38;5;124m\"\u001b[39m\u001b[38;5;124mallow_clear_pool\u001b[39m\u001b[38;5;124m\"\u001b[39m]\n\u001b[0;32m   2409\u001b[0m \u001b[38;5;28;01mwith\u001b[39;00m plot_wrapper(plot, plot_file, \u001b[38;5;124m'\u001b[39m\u001b[38;5;124mTraining plots\u001b[39m\u001b[38;5;124m'\u001b[39m, [_get_train_dir(\u001b[38;5;28mself\u001b[39m\u001b[38;5;241m.\u001b[39mget_params())]):\n\u001b[1;32m-> 2410\u001b[0m     \u001b[38;5;28;43mself\u001b[39;49m\u001b[38;5;241;43m.\u001b[39;49m\u001b[43m_train\u001b[49m\u001b[43m(\u001b[49m\n\u001b[0;32m   2411\u001b[0m \u001b[43m        \u001b[49m\u001b[43mtrain_pool\u001b[49m\u001b[43m,\u001b[49m\n\u001b[0;32m   2412\u001b[0m \u001b[43m        \u001b[49m\u001b[43mtrain_params\u001b[49m\u001b[43m[\u001b[49m\u001b[38;5;124;43m\"\u001b[39;49m\u001b[38;5;124;43meval_sets\u001b[39;49m\u001b[38;5;124;43m\"\u001b[39;49m\u001b[43m]\u001b[49m\u001b[43m,\u001b[49m\n\u001b[0;32m   2413\u001b[0m \u001b[43m        \u001b[49m\u001b[43mparams\u001b[49m\u001b[43m,\u001b[49m\n\u001b[0;32m   2414\u001b[0m \u001b[43m        \u001b[49m\u001b[43mallow_clear_pool\u001b[49m\u001b[43m,\u001b[49m\n\u001b[0;32m   2415\u001b[0m \u001b[43m        \u001b[49m\u001b[43mtrain_params\u001b[49m\u001b[43m[\u001b[49m\u001b[38;5;124;43m\"\u001b[39;49m\u001b[38;5;124;43minit_model\u001b[39;49m\u001b[38;5;124;43m\"\u001b[39;49m\u001b[43m]\u001b[49m\n\u001b[0;32m   2416\u001b[0m \u001b[43m    \u001b[49m\u001b[43m)\u001b[49m\n\u001b[0;32m   2418\u001b[0m \u001b[38;5;66;03m# Have property feature_importance possibly set\u001b[39;00m\n\u001b[0;32m   2419\u001b[0m loss \u001b[38;5;241m=\u001b[39m \u001b[38;5;28mself\u001b[39m\u001b[38;5;241m.\u001b[39m_object\u001b[38;5;241m.\u001b[39m_get_loss_function_name()\n",
      "File \u001b[1;32mc:\\Users\\alexa\\Documents\\Code Python et SQL\\Python DSB\\bike_counters_ac_team\\.venv\\lib\\site-packages\\catboost\\core.py:1790\u001b[0m, in \u001b[0;36m_CatBoostBase._train\u001b[1;34m(self, train_pool, test_pool, params, allow_clear_pool, init_model)\u001b[0m\n\u001b[0;32m   1789\u001b[0m \u001b[38;5;28;01mdef\u001b[39;00m \u001b[38;5;21m_train\u001b[39m(\u001b[38;5;28mself\u001b[39m, train_pool, test_pool, params, allow_clear_pool, init_model):\n\u001b[1;32m-> 1790\u001b[0m     \u001b[38;5;28;43mself\u001b[39;49m\u001b[38;5;241;43m.\u001b[39;49m\u001b[43m_object\u001b[49m\u001b[38;5;241;43m.\u001b[39;49m\u001b[43m_train\u001b[49m\u001b[43m(\u001b[49m\u001b[43mtrain_pool\u001b[49m\u001b[43m,\u001b[49m\u001b[43m \u001b[49m\u001b[43mtest_pool\u001b[49m\u001b[43m,\u001b[49m\u001b[43m \u001b[49m\u001b[43mparams\u001b[49m\u001b[43m,\u001b[49m\u001b[43m \u001b[49m\u001b[43mallow_clear_pool\u001b[49m\u001b[43m,\u001b[49m\u001b[43m \u001b[49m\u001b[43minit_model\u001b[49m\u001b[38;5;241;43m.\u001b[39;49m\u001b[43m_object\u001b[49m\u001b[43m \u001b[49m\u001b[38;5;28;43;01mif\u001b[39;49;00m\u001b[43m \u001b[49m\u001b[43minit_model\u001b[49m\u001b[43m \u001b[49m\u001b[38;5;28;43;01melse\u001b[39;49;00m\u001b[43m \u001b[49m\u001b[38;5;28;43;01mNone\u001b[39;49;00m\u001b[43m)\u001b[49m\n\u001b[0;32m   1791\u001b[0m     \u001b[38;5;28mself\u001b[39m\u001b[38;5;241m.\u001b[39m_set_trained_model_attributes()\n",
      "File \u001b[1;32m_catboost.pyx:5017\u001b[0m, in \u001b[0;36m_catboost._CatBoost._train\u001b[1;34m()\u001b[0m\n",
      "File \u001b[1;32m_catboost.pyx:5066\u001b[0m, in \u001b[0;36m_catboost._CatBoost._train\u001b[1;34m()\u001b[0m\n",
      "\u001b[1;31mKeyboardInterrupt\u001b[0m: "
     ]
    }
   ],
   "source": [
    "def prepare_data(X):\n",
    "    \"\"\"Prepare data by encoding categorical features.\"\"\"\n",
    "    X_processed = X.copy()\n",
    "    categorical_features = []\n",
    "\n",
    "    cat_columns = X.select_dtypes(include=['category', 'object']).columns\n",
    "\n",
    "    for i, col in enumerate(X.columns):\n",
    "        if col in cat_columns:\n",
    "            le = LabelEncoder()\n",
    "            X_processed[col] = le.fit_transform(X[col])\n",
    "            categorical_features.append(i)\n",
    "\n",
    "    return X_processed, categorical_features\n",
    "\n",
    "def objective(trial, X, y, categorical_features, n_splits=5):\n",
    "    \"\"\"Objective function for Optuna optimization of CatBoost parameters.\"\"\"\n",
    "    param = {\n",
    "        'learning_rate': trial.suggest_float('learning_rate', 1e-3, 0.1, log=True),\n",
    "        'depth': trial.suggest_int('depth', 4, 10),\n",
    "        'l2_leaf_reg': trial.suggest_float('l2_leaf_reg', 1e-8, 10.0, log=True),\n",
    "        'min_data_in_leaf': trial.suggest_int('min_data_in_leaf', 1, 100),\n",
    "        'grow_policy': trial.suggest_categorical('grow_policy', ['SymmetricTree', 'Depthwise']),\n",
    "        'iterations': 1000,\n",
    "        'early_stopping_rounds': 50,\n",
    "        'task_type': 'CPU',\n",
    "        'loss_function': 'RMSE',\n",
    "        'cat_features': categorical_features,\n",
    "        'verbose': False\n",
    "    }\n",
    "\n",
    "    tscv = TimeSeriesSplit(n_splits=n_splits)\n",
    "    rmse_scores = []\n",
    "\n",
    "    for train_idx, val_idx in tscv.split(X):\n",
    "        X_train, X_val = X.iloc[train_idx], X.iloc[val_idx]\n",
    "        y_train, y_val = y.iloc[train_idx], y.iloc[val_idx]\n",
    "\n",
    "        model = CatBoostRegressor(**param)\n",
    "        model.fit(\n",
    "            X_train, y_train,\n",
    "            eval_set=[(X_val, y_val)],\n",
    "            use_best_model=True\n",
    "        )\n",
    "\n",
    "        val_preds = model.predict(X_val)\n",
    "        rmse = np.sqrt(mean_squared_error(y_val, val_preds))\n",
    "        rmse_scores.append(rmse)\n",
    "\n",
    "    return np.mean(rmse_scores)\n",
    "\n",
    "def optimize_catboost(X, y, n_trials=50):\n",
    "    \"\"\"Run Optuna optimization for CatBoost.\"\"\"\n",
    "    X_processed, categorical_features = prepare_data(X)\n",
    "    print(f\"Categorical feature indices: {categorical_features}\")\n",
    "\n",
    "    study = optuna.create_study(direction='minimize')\n",
    "    study.optimize(\n",
    "        lambda trial: objective(trial, X_processed, y, categorical_features),\n",
    "        n_trials=n_trials,\n",
    "        show_progress_bar=True\n",
    "    )\n",
    "\n",
    "    print(f'\\nBest trial:')\n",
    "    print(f'Value (RMSE): {study.best_value:.6f}')\n",
    "    print('\\nBest parameters:')\n",
    "    for key, value in study.best_params.items():\n",
    "        print(f'{key}: {value}')\n",
    "\n",
    "    return study.best_params, study.best_value\n",
    "\n",
    "# Run optimization\n",
    "best_params, best_rmse = optimize_catboost(X, y, n_trials=50)"
   ]
  },
  {
   "cell_type": "markdown",
   "metadata": {},
   "source": []
  },
  {
   "cell_type": "markdown",
   "metadata": {},
   "source": [
    "## Let's try to identify the best models for our dataset"
   ]
  },
  {
   "cell_type": "markdown",
   "metadata": {},
   "source": [
    "Since our dataset is too big to run an AutoML, let's start testing different Regressors algorithms iteratively with the default hyperparameters"
   ]
  },
  {
   "cell_type": "code",
   "execution_count": null,
   "metadata": {},
   "outputs": [],
   "source": [
    "from sklearn.tree import DecisionTreeRegressor\n",
    "from sklearn.ensemble import GradientBoostingRegressor\n",
    "from sklearn.neural_network import MLPRegressor\n",
    "\n",
    "# Boosting Libraries\n",
    "from catboost import CatBoostRegressor\n",
    "from xgboost import XGBRegressor\n",
    "from lightgbm import LGBMRegressor"
   ]
  },
  {
   "cell_type": "code",
   "execution_count": null,
   "metadata": {},
   "outputs": [],
   "source": [
    "# Dictionary of regression models\n",
    "regressors = {\n",
    "    \"MLP Regressor\": MLPRegressor(),\n",
    "    \"CatBoost Regressor\": CatBoostRegressor(),\n",
    "    \"XGBoost Regressor\": XGBRegressor(),\n",
    "    \"Light GBM Regressor\": LGBMRegressor(),\n",
    "    \"Linear Regression\": LinearRegression(),\n",
    "    \"Decision Tree\": DecisionTreeRegressor(),\n",
    "    \"Gradient Boostin\": GradientBoostingRegressor(),\n",
    "    \"Ridge Regression\": Ridge(),\n",
    "    \"Lasso Regression\": Lasso(),\n",
    "    \"ElasticNet Regression\": ElasticNet()\n",
    "}\n",
    "\n",
    "# Preprocessing pipeline\n",
    "preprocessor = ColumnTransformer(\n",
    "    transformers=[\n",
    "        ('num', StandardScaler(), numeric_features),\n",
    "        ('cat', OneHotEncoder(drop='first', sparse_output=False), categorical_features)\n",
    "    ],\n",
    "    remainder='passthrough'  # Pass binary features as they are\n",
    ")\n",
    "\n",
    "# Train-test split\n",
    "X = final_df[numeric_features + binary_features + categorical_features]\n",
    "y = final_df['log_bike_count']\n",
    "X_train, X_test, y_train, y_test = train_test_split(X, y, test_size=0.2, random_state=1)\n",
    "\n",
    "# Store results\n",
    "results = {}\n",
    "\n",
    "# Iterate over models\n",
    "for name, model in regressors.items():\n",
    "    print(f\"Training {name}...\")\n",
    "\n",
    "    # Define pipeline for each model\n",
    "    pipeline = Pipeline(steps=[\n",
    "        ('preprocessor', preprocessor),\n",
    "        ('regressor', model)\n",
    "    ])\n",
    "\n",
    "    # Cross-validation\n",
    "    scores = cross_val_score(pipeline, X_train, y_train, scoring='neg_mean_squared_error', cv=5)\n",
    "    rmse_scores = np.sqrt(-scores)\n",
    "\n",
    "    # Fit and evaluate\n",
    "    pipeline.fit(X_train, y_train)\n",
    "    y_pred = pipeline.predict(X_test)\n",
    "    test_rmse = np.sqrt(mean_squared_error(y_test, y_pred))\n",
    "\n",
    "    # Store results\n",
    "    results[name] = {\n",
    "        'CV RMSE Mean': rmse_scores.mean(),\n",
    "        'CV RMSE Std': rmse_scores.std(),\n",
    "        'Test RMSE': test_rmse\n",
    "\n",
    "# Display results\n",
    "results_df = pd.DataFrame(results).T\n",
    "results_df.sort_values(by='Test RMSE', ascending=True, inplace=True)\n",
    "results_df.head()"
   ]
  },
  {
   "cell_type": "markdown",
   "metadata": {},
   "source": [
    "We obtain the folowwing results"
   ]
  },
  {
   "attachments": {
    "image-2.png": {
     "image/png": "[encoded data removed]"
    },
    "image-3.png": {
     "image/png": "[encoded data removed]"
    },
    "image.png": {
     "image/png": "[encoded data removed]"
    }
   },
   "cell_type": "markdown",
   "metadata": {},
   "source": [
    "![image-3.png](attachment:image-3.png)\n",
    "![image.png](attachment:image.png)\n",
    "![image-2.png](attachment:image-2.png)\n"
   ]
  },
  {
   "cell_type": "markdown",
   "metadata": {},
   "source": [
    "Considering theses results, we will try to fine-tune the hyperparameters of CatBoost Regressor, MLP Regressor and SGBoost Regressor"
   ]
  },
  {
   "cell_type": "markdown",
   "metadata": {},
   "source": [
    "## Hyperparameters fine-tuning"
   ]
  },
  {
   "cell_type": "markdown",
   "metadata": {},
   "source": [
    "Let's start with the CatBoost Regressor with the dataset without weather and covid data"
   ]
  },
  {
   "cell_type": "code",
   "execution_count": null,
   "metadata": {},
   "outputs": [],
   "source": [
    "# Define the regressor and its hyperparameter search space\n",
    "regressor_name = \"CatBoost Regressor\"\n",
    "regressor = CatBoostRegressor(verbose=0)\n",
    "hyperparams = {\n",
    "    \"iterations\": lambda trial: trial.suggest_int('iterations', 100, 500),  # Reduced range\n",
    "    \"learning_rate\": lambda trial: trial.suggest_float('learning_rate', 1e-5, 1e0, log=True),  # Reduced range\n",
    "    \"depth\": lambda trial: trial.suggest_int('depth', 4, 8),  # Reduced range\n",
    "    \"l2_leaf_reg\": lambda trial: trial.suggest_float('l2_leaf_reg', 1e-8, 1e0, log=True),  # Reduced range\n",
    "    \"bagging_temperature\": lambda trial: trial.suggest_float('bagging_temperature', 1e-8, 1e0, log=True),  # Reduced range\n",
    "    \"random_strength\": lambda trial: trial.suggest_float('random_strength', 1e-9, 10, log=True),  # Reduced range\n",
    "    \"border_count\": lambda trial: trial.suggest_int('border_count', 32, 128),  # Reduced range\n",
    "    \"od_type\": lambda trial: trial.suggest_categorical('od_type', ['IncToDec', 'Iter']),\n",
    "    \"od_wait\": lambda trial: trial.suggest_int('od_wait', 10, 30)  # Reduced range\n",
    "}\n",
    "\n",
    "# Preprocessing pipeline\n",
    "preprocessor = ColumnTransformer(\n",
    "    transformers=[\n",
    "        ('num', StandardScaler(), numeric_features),\n",
    "        ('cat', OneHotEncoder(drop='first', sparse_output=False), categorical_features)\n",
    "    ],\n",
    "    remainder='passthrough'  # Pass binary features as they are\n",
    ")\n",
    "\n",
    "# Train-test split\n",
    "X = final_df[numeric_features + binary_features + categorical_features]\n",
    "y = final_df['log_bike_count']\n",
    "X_train, X_test, y_train, y_test = train_test_split(X, y, test_size=0.2, random_state=1)\n",
    "\n",
    "# Use a smaller subset of the data for tuning\n",
    "subset_size = 0.4  # Use 40% of the data\n",
    "X_train_subset, _, y_train_subset, _ = train_test_split(X_train, y_train, train_size=subset_size, random_state=1)\n",
    "\n",
    "def objective(trial):\n",
    "    model = regressor\n",
    "    for param_name, param_func in hyperparams.items():\n",
    "        model.set_params(**{param_name: param_func(trial)})\n",
    "\n",
    "    pipeline = Pipeline(steps=[\n",
    "        ('preprocessor', preprocessor),\n",
    "        ('regressor', model)\n",
    "    ])\n",
    "\n",
    "    scores = cross_val_score(pipeline, X_train_subset, y_train_subset, scoring='neg_mean_squared_error', cv=5)\n",
    "    rmse_scores = np.sqrt(-scores)\n",
    "    return rmse_scores.mean()\n",
    "\n",
    "study = optuna.create_study(direction='minimize')\n",
    "study.optimize(objective, n_trials=100, n_jobs=-1)  # Use all available CPUs\n",
    "\n",
    "# Best trial\n",
    "best_trial = study.best_trial\n",
    "best_params = {k: v for k, v in best_trial.params.items()}\n",
    "\n",
    "print(f\"Best model: {regressor_name}\")\n",
    "print(f\"Best hyperparameters: {best_params}\")\n",
    "print(f\"CV RMSE Mean: {best_trial.value}\")\n",
    "\n",
    "# Train the best model with the best hyperparameters\n",
    "best_model = regressor\n",
    "best_model.set_params(**best_params)\n",
    "\n",
    "pipeline = Pipeline(steps=[\n",
    "    ('preprocessor', preprocessor),\n",
    "    ('regressor', best_model)\n",
    "])\n",
    "\n",
    "pipeline.fit(X_train, y_train)\n",
    "y_pred = pipeline.predict(X_test)\n",
    "test_rmse = np.sqrt(mean_squared_error(y_test, y_pred))\n",
    "\n",
    "print(f\"Test RMSE: {test_rmse}\")\n",
    "\n",
    "# Extract the trials and convert to DataFrame\n",
    "trials_df = study.trials_dataframe()\n",
    "\n",
    "# Sort the DataFrame by the objective value\n",
    "trials_df_sorted = trials_df.sort_values(by='value')\n",
    "\n",
    "# Display the sorted DataFrame\n",
    "trials_df_sorted.head(20)\n",
    "\n",
    "# Save the sorted DataFrame to a CSV file\n",
    "trials_df_sorted.to_csv('optuna_CatBoost_trials_sorted.csv', index=False)"
   ]
  },
  {
   "cell_type": "code",
   "execution_count": 16,
   "metadata": {},
   "outputs": [
    {
     "data": {
      "text/html": [
       "<div>\n",
       "<style scoped>\n",
       "    .dataframe tbody tr th:only-of-type {\n",
       "        vertical-align: middle;\n",
       "    }\n",
       "\n",
       "    .dataframe tbody tr th {\n",
       "        vertical-align: top;\n",
       "    }\n",
       "\n",
       "    .dataframe thead th {\n",
       "        text-align: right;\n",
       "    }\n",
       "</style>\n",
       "<table border=\"1\" class=\"dataframe\">\n",
       "  <thead>\n",
       "    <tr style=\"text-align: right;\">\n",
       "      <th></th>\n",
       "      <th>number</th>\n",
       "      <th>value</th>\n",
       "      <th>datetime_start</th>\n",
       "      <th>datetime_complete</th>\n",
       "      <th>duration</th>\n",
       "      <th>params_bagging_temperature</th>\n",
       "      <th>params_border_count</th>\n",
       "      <th>params_depth</th>\n",
       "      <th>params_iterations</th>\n",
       "      <th>params_l2_leaf_reg</th>\n",
       "      <th>params_learning_rate</th>\n",
       "      <th>params_od_type</th>\n",
       "      <th>params_od_wait</th>\n",
       "      <th>params_random_strength</th>\n",
       "      <th>state</th>\n",
       "    </tr>\n",
       "  </thead>\n",
       "  <tbody>\n",
       "    <tr>\n",
       "      <th>0</th>\n",
       "      <td>86</td>\n",
       "      <td>0.449193</td>\n",
       "      <td>2024-12-05 16:01:49.339279</td>\n",
       "      <td>2024-12-05 16:08:04.638402</td>\n",
       "      <td>0 days 00:06:15.299123</td>\n",
       "      <td>0.449999</td>\n",
       "      <td>115</td>\n",
       "      <td>8</td>\n",
       "      <td>469</td>\n",
       "      <td>0.077964</td>\n",
       "      <td>0.236029</td>\n",
       "      <td>IncToDec</td>\n",
       "      <td>26</td>\n",
       "      <td>1.046349e-09</td>\n",
       "      <td>COMPLETE</td>\n",
       "    </tr>\n",
       "    <tr>\n",
       "      <th>1</th>\n",
       "      <td>87</td>\n",
       "      <td>0.449369</td>\n",
       "      <td>2024-12-05 16:01:52.756593</td>\n",
       "      <td>2024-12-05 16:07:59.958669</td>\n",
       "      <td>0 days 00:06:07.202076</td>\n",
       "      <td>0.009273</td>\n",
       "      <td>125</td>\n",
       "      <td>8</td>\n",
       "      <td>473</td>\n",
       "      <td>0.081841</td>\n",
       "      <td>0.233748</td>\n",
       "      <td>IncToDec</td>\n",
       "      <td>24</td>\n",
       "      <td>4.590410e-09</td>\n",
       "      <td>COMPLETE</td>\n",
       "    </tr>\n",
       "    <tr>\n",
       "      <th>2</th>\n",
       "      <td>85</td>\n",
       "      <td>0.449609</td>\n",
       "      <td>2024-12-05 16:00:43.059179</td>\n",
       "      <td>2024-12-05 16:07:00.212031</td>\n",
       "      <td>0 days 00:06:17.152852</td>\n",
       "      <td>0.431026</td>\n",
       "      <td>55</td>\n",
       "      <td>8</td>\n",
       "      <td>461</td>\n",
       "      <td>0.078487</td>\n",
       "      <td>0.206682</td>\n",
       "      <td>IncToDec</td>\n",
       "      <td>24</td>\n",
       "      <td>1.077725e-09</td>\n",
       "      <td>COMPLETE</td>\n",
       "    </tr>\n",
       "    <tr>\n",
       "      <th>3</th>\n",
       "      <td>84</td>\n",
       "      <td>0.449609</td>\n",
       "      <td>2024-12-05 16:00:41.296392</td>\n",
       "      <td>2024-12-05 16:07:00.158900</td>\n",
       "      <td>0 days 00:06:18.862508</td>\n",
       "      <td>0.223811</td>\n",
       "      <td>52</td>\n",
       "      <td>8</td>\n",
       "      <td>469</td>\n",
       "      <td>0.038772</td>\n",
       "      <td>0.137107</td>\n",
       "      <td>IncToDec</td>\n",
       "      <td>24</td>\n",
       "      <td>1.375481e-09</td>\n",
       "      <td>COMPLETE</td>\n",
       "    </tr>\n",
       "    <tr>\n",
       "      <th>4</th>\n",
       "      <td>76</td>\n",
       "      <td>0.449632</td>\n",
       "      <td>2024-12-05 15:48:57.120001</td>\n",
       "      <td>2024-12-05 15:54:49.391462</td>\n",
       "      <td>0 days 00:05:52.271461</td>\n",
       "      <td>0.000075</td>\n",
       "      <td>123</td>\n",
       "      <td>8</td>\n",
       "      <td>460</td>\n",
       "      <td>0.031153</td>\n",
       "      <td>0.227992</td>\n",
       "      <td>IncToDec</td>\n",
       "      <td>20</td>\n",
       "      <td>1.017937e-09</td>\n",
       "      <td>COMPLETE</td>\n",
       "    </tr>\n",
       "  </tbody>\n",
       "</table>\n",
       "</div>"
      ],
      "text/plain": [
       "   number     value              datetime_start           datetime_complete  \\\n",
       "0      86  0.449193  2024-12-05 16:01:49.339279  2024-12-05 16:08:04.638402   \n",
       "1      87  0.449369  2024-12-05 16:01:52.756593  2024-12-05 16:07:59.958669   \n",
       "2      85  0.449609  2024-12-05 16:00:43.059179  2024-12-05 16:07:00.212031   \n",
       "3      84  0.449609  2024-12-05 16:00:41.296392  2024-12-05 16:07:00.158900   \n",
       "4      76  0.449632  2024-12-05 15:48:57.120001  2024-12-05 15:54:49.391462   \n",
       "\n",
       "                 duration  params_bagging_temperature  params_border_count  \\\n",
       "0  0 days 00:06:15.299123                    0.449999                  115   \n",
       "1  0 days 00:06:07.202076                    0.009273                  125   \n",
       "2  0 days 00:06:17.152852                    0.431026                   55   \n",
       "3  0 days 00:06:18.862508                    0.223811                   52   \n",
       "4  0 days 00:05:52.271461                    0.000075                  123   \n",
       "\n",
       "   params_depth  params_iterations  params_l2_leaf_reg  params_learning_rate  \\\n",
       "0             8                469            0.077964              0.236029   \n",
       "1             8                473            0.081841              0.233748   \n",
       "2             8                461            0.078487              0.206682   \n",
       "3             8                469            0.038772              0.137107   \n",
       "4             8                460            0.031153              0.227992   \n",
       "\n",
       "  params_od_type  params_od_wait  params_random_strength     state  \n",
       "0       IncToDec              26            1.046349e-09  COMPLETE  \n",
       "1       IncToDec              24            4.590410e-09  COMPLETE  \n",
       "2       IncToDec              24            1.077725e-09  COMPLETE  \n",
       "3       IncToDec              24            1.375481e-09  COMPLETE  \n",
       "4       IncToDec              20            1.017937e-09  COMPLETE  "
      ]
     },
     "execution_count": 16,
     "metadata": {},
     "output_type": "execute_result"
    }
   ],
   "source": [
    "CatBoost_optuna_results = pd.read_csv(\"optuna_CatBoost_trials_sorted.csv\")\n",
    "CatBoost_optuna_results.head()"
   ]
  },
  {
   "cell_type": "markdown",
   "metadata": {},
   "source": [
    "Let's now start tuning the hyperparameters with the CatBoost Regressor with the dataset weather and covid"
   ]
  },
  {
   "cell_type": "code",
   "execution_count": null,
   "metadata": {},
   "outputs": [],
   "source": [
    "# Define the regressor and its hyperparameter search space\n",
    "regressor_name = \"CatBoost Regressor\"\n",
    "regressor = CatBoostRegressor(verbose=0)\n",
    "hyperparams = {\n",
    "    \"iterations\": lambda trial: trial.suggest_int('iterations', 100, 500),  # Reduced range\n",
    "    \"learning_rate\": lambda trial: trial.suggest_float('learning_rate', 1e-5, 1e0, log=True),  # Reduced range\n",
    "    \"depth\": lambda trial: trial.suggest_int('depth', 4, 8),  # Reduced range\n",
    "    \"l2_leaf_reg\": lambda trial: trial.suggest_float('l2_leaf_reg', 1e-8, 1e0, log=True),  # Reduced range\n",
    "    \"bagging_temperature\": lambda trial: trial.suggest_float('bagging_temperature', 1e-8, 1e0, log=True),  # Reduced range\n",
    "    \"random_strength\": lambda trial: trial.suggest_float('random_strength', 1e-9, 10, log=True),  # Reduced range\n",
    "    \"border_count\": lambda trial: trial.suggest_int('border_count', 32, 128),  # Reduced range\n",
    "    \"od_type\": lambda trial: trial.suggest_categorical('od_type', ['IncToDec', 'Iter']),\n",
    "    \"od_wait\": lambda trial: trial.suggest_int('od_wait', 10, 30)  # Reduced range\n",
    "}\n",
    "\n",
    "# Preprocessing pipeline\n",
    "preprocessor = ColumnTransformer(\n",
    "    transformers=[\n",
    "        ('num', StandardScaler(), numeric_features),\n",
    "        ('cat', OneHotEncoder(drop='first', sparse_output=False), categorical_features)\n",
    "    ],\n",
    "    remainder='passthrough'  # Pass binary features as they are\n",
    ")\n",
    "\n",
    "# Train-test split\n",
    "X = final_df[numeric_features + binary_features + categorical_features]\n",
    "y = final_df['log_bike_count']\n",
    "X_train, X_test, y_train, y_test = train_test_split(X, y, test_size=0.2, random_state=1)\n",
    "\n",
    "# Use a smaller subset of the data for tuning\n",
    "subset_size = 0.4  # Use 40% of the data\n",
    "X_train_subset, _, y_train_subset, _ = train_test_split(X_train, y_train, train_size=subset_size, random_state=1)\n",
    "\n",
    "def objective(trial):\n",
    "    model = regressor\n",
    "    for param_name, param_func in hyperparams.items():\n",
    "        model.set_params(**{param_name: param_func(trial)})\n",
    "\n",
    "    pipeline = Pipeline(steps=[\n",
    "        ('preprocessor', preprocessor),\n",
    "        ('regressor', model)\n",
    "    ])\n",
    "\n",
    "    scores = cross_val_score(pipeline, X_train_subset, y_train_subset, scoring='neg_mean_squared_error', cv=5)\n",
    "    rmse_scores = np.sqrt(-scores)\n",
    "    return rmse_scores.mean()\n",
    "\n",
    "study = optuna.create_study(direction='minimize')\n",
    "study.optimize(objective, n_trials=100, n_jobs=-1)  # Use all available CPUs\n",
    "\n",
    "# Best trial\n",
    "best_trial = study.best_trial\n",
    "best_params = {k: v for k, v in best_trial.params.items()}\n",
    "\n",
    "print(f\"Best model: {regressor_name}\")\n",
    "print(f\"Best hyperparameters: {best_params}\")\n",
    "print(f\"CV RMSE Mean: {best_trial.value}\")\n",
    "\n",
    "# Train the best model with the best hyperparameters\n",
    "best_model = regressor\n",
    "best_model.set_params(**best_params)\n",
    "\n",
    "pipeline = Pipeline(steps=[\n",
    "    ('preprocessor', preprocessor),\n",
    "    ('regressor', best_model)\n",
    "])\n",
    "\n",
    "pipeline.fit(X_train, y_train)\n",
    "y_pred = pipeline.predict(X_test)\n",
    "test_rmse = np.sqrt(mean_squared_error(y_test, y_pred))\n",
    "\n",
    "print(f\"Test RMSE: {test_rmse}\")\n",
    "\n",
    "# Extract the trials and convert to DataFrame\n",
    "trials_df = study.trials_dataframe()\n",
    "\n",
    "# Sort the DataFrame by the objective value\n",
    "trials_df_sorted = trials_df.sort_values(by='value')\n",
    "\n",
    "# Display the sorted DataFrame\n",
    "trials_df_sorted.head(20)\n",
    "\n",
    "# Save the sorted DataFrame to a CSV file\n",
    "trials_df_sorted.to_csv('global_optuna_CatBoost_trials_sorted.csv', index=False)"
   ]
  },
  {
   "cell_type": "code",
   "execution_count": null,
   "metadata": {},
   "outputs": [],
   "source": [
    "CatBoost_optuna_results = pd.read_csv(\"global_optuna_CatBoost_trials_sorted.csv\")\n",
    "CatBoost_optuna_results.head()"
   ]
  },
  {
   "cell_type": "code",
   "execution_count": null,
   "metadata": {},
   "outputs": [
    {
     "name": "stderr",
     "output_type": "stream",
     "text": [
      "[I 2024-12-05 18:52:56,767] A new study created in memory with name: no-name-e7d45b1a-cac1-4262-a330-22693925ede8\n",
      "c:\\Users\\alexa\\Documents\\Code Python et SQL\\Python DSB\\bike_counters_ac_team\\.venv\\lib\\site-packages\\sklearn\\metrics\\_regression.py:483: FutureWarning: 'squared' is deprecated in version 1.4 and will be removed in 1.6. To calculate the root mean squared error, use the function'root_mean_squared_error'.\n",
      "  warnings.warn(\n",
      "[I 2024-12-05 18:54:52,192] Trial 0 finished with value: 0.40650673825078404 and parameters: {'iterations': 488, 'learning_rate': 0.22220894170158145, 'depth': 7, 'bagging_temperature': 0.8306162353034621, 'l2_leaf_reg': 0.08798323178295492, 'border_count': 111, 'od_wait': 30}. Best is trial 0 with value: 0.40650673825078404.\n",
      "c:\\Users\\alexa\\Documents\\Code Python et SQL\\Python DSB\\bike_counters_ac_team\\.venv\\lib\\site-packages\\sklearn\\metrics\\_regression.py:483: FutureWarning: 'squared' is deprecated in version 1.4 and will be removed in 1.6. To calculate the root mean squared error, use the function'root_mean_squared_error'.\n",
      "  warnings.warn(\n",
      "[I 2024-12-05 18:56:28,820] Trial 1 finished with value: 0.4413542048613692 and parameters: {'iterations': 433, 'learning_rate': 0.11041799214847503, 'depth': 7, 'bagging_temperature': 0.4138988154525284, 'l2_leaf_reg': 0.06577402660403484, 'border_count': 101, 'od_wait': 29}. Best is trial 0 with value: 0.40650673825078404.\n",
      "c:\\Users\\alexa\\Documents\\Code Python et SQL\\Python DSB\\bike_counters_ac_team\\.venv\\lib\\site-packages\\sklearn\\metrics\\_regression.py:483: FutureWarning: 'squared' is deprecated in version 1.4 and will be removed in 1.6. To calculate the root mean squared error, use the function'root_mean_squared_error'.\n",
      "  warnings.warn(\n",
      "[I 2024-12-05 18:57:48,134] Trial 2 finished with value: 0.4298817951800898 and parameters: {'iterations': 405, 'learning_rate': 0.27722037703576585, 'depth': 6, 'bagging_temperature': 0.5428620664395917, 'l2_leaf_reg': 0.08600423900429174, 'border_count': 109, 'od_wait': 26}. Best is trial 0 with value: 0.40650673825078404.\n",
      "c:\\Users\\alexa\\Documents\\Code Python et SQL\\Python DSB\\bike_counters_ac_team\\.venv\\lib\\site-packages\\sklearn\\metrics\\_regression.py:483: FutureWarning: 'squared' is deprecated in version 1.4 and will be removed in 1.6. To calculate the root mean squared error, use the function'root_mean_squared_error'.\n",
      "  warnings.warn(\n",
      "[I 2024-12-05 18:59:24,918] Trial 3 finished with value: 0.40857652446637693 and parameters: {'iterations': 415, 'learning_rate': 0.27914729674034905, 'depth': 7, 'bagging_temperature': 0.7795360594077143, 'l2_leaf_reg': 0.08469391523535102, 'border_count': 110, 'od_wait': 23}. Best is trial 0 with value: 0.40650673825078404.\n",
      "c:\\Users\\alexa\\Documents\\Code Python et SQL\\Python DSB\\bike_counters_ac_team\\.venv\\lib\\site-packages\\sklearn\\metrics\\_regression.py:483: FutureWarning: 'squared' is deprecated in version 1.4 and will be removed in 1.6. To calculate the root mean squared error, use the function'root_mean_squared_error'.\n",
      "  warnings.warn(\n",
      "[I 2024-12-05 19:01:19,740] Trial 4 finished with value: 0.4054351801774878 and parameters: {'iterations': 489, 'learning_rate': 0.22821450986219505, 'depth': 7, 'bagging_temperature': 0.5487936337503629, 'l2_leaf_reg': 0.05463431262443282, 'border_count': 115, 'od_wait': 24}. Best is trial 4 with value: 0.4054351801774878.\n",
      "c:\\Users\\alexa\\Documents\\Code Python et SQL\\Python DSB\\bike_counters_ac_team\\.venv\\lib\\site-packages\\sklearn\\metrics\\_regression.py:483: FutureWarning: 'squared' is deprecated in version 1.4 and will be removed in 1.6. To calculate the root mean squared error, use the function'root_mean_squared_error'.\n",
      "  warnings.warn(\n",
      "[I 2024-12-05 19:02:58,159] Trial 5 finished with value: 0.4284340694441005 and parameters: {'iterations': 470, 'learning_rate': 0.2675050015993637, 'depth': 6, 'bagging_temperature': 0.5919344755786982, 'l2_leaf_reg': 0.08864137685005039, 'border_count': 104, 'od_wait': 25}. Best is trial 4 with value: 0.4054351801774878.\n",
      "c:\\Users\\alexa\\Documents\\Code Python et SQL\\Python DSB\\bike_counters_ac_team\\.venv\\lib\\site-packages\\sklearn\\metrics\\_regression.py:483: FutureWarning: 'squared' is deprecated in version 1.4 and will be removed in 1.6. To calculate the root mean squared error, use the function'root_mean_squared_error'.\n",
      "  warnings.warn(\n",
      "[I 2024-12-05 19:04:25,105] Trial 6 finished with value: 0.47713894182645294 and parameters: {'iterations': 417, 'learning_rate': 0.10517325700019556, 'depth': 6, 'bagging_temperature': 0.6458288321931724, 'l2_leaf_reg': 0.06065199431980186, 'border_count': 113, 'od_wait': 27}. Best is trial 4 with value: 0.4054351801774878.\n",
      "c:\\Users\\alexa\\Documents\\Code Python et SQL\\Python DSB\\bike_counters_ac_team\\.venv\\lib\\site-packages\\sklearn\\metrics\\_regression.py:483: FutureWarning: 'squared' is deprecated in version 1.4 and will be removed in 1.6. To calculate the root mean squared error, use the function'root_mean_squared_error'.\n",
      "  warnings.warn(\n",
      "[I 2024-12-05 19:06:10,989] Trial 7 finished with value: 0.44105672896062914 and parameters: {'iterations': 445, 'learning_rate': 0.10516171242020017, 'depth': 7, 'bagging_temperature': 0.4698410775506791, 'l2_leaf_reg': 0.08922261407771954, 'border_count': 104, 'od_wait': 24}. Best is trial 4 with value: 0.4054351801774878.\n",
      "c:\\Users\\alexa\\Documents\\Code Python et SQL\\Python DSB\\bike_counters_ac_team\\.venv\\lib\\site-packages\\sklearn\\metrics\\_regression.py:483: FutureWarning: 'squared' is deprecated in version 1.4 and will be removed in 1.6. To calculate the root mean squared error, use the function'root_mean_squared_error'.\n",
      "  warnings.warn(\n",
      "[I 2024-12-05 19:07:34,181] Trial 8 finished with value: 0.4517742316372856 and parameters: {'iterations': 408, 'learning_rate': 0.15122333601068244, 'depth': 6, 'bagging_temperature': 0.8294747845539002, 'l2_leaf_reg': 0.09671267774036382, 'border_count': 113, 'od_wait': 22}. Best is trial 4 with value: 0.4054351801774878.\n",
      "c:\\Users\\alexa\\Documents\\Code Python et SQL\\Python DSB\\bike_counters_ac_team\\.venv\\lib\\site-packages\\sklearn\\metrics\\_regression.py:483: FutureWarning: 'squared' is deprecated in version 1.4 and will be removed in 1.6. To calculate the root mean squared error, use the function'root_mean_squared_error'.\n",
      "  warnings.warn(\n",
      "[I 2024-12-05 19:08:54,382] Trial 9 finished with value: 0.4273948519053925 and parameters: {'iterations': 409, 'learning_rate': 0.2967831373314965, 'depth': 6, 'bagging_temperature': 0.5439451212195514, 'l2_leaf_reg': 0.05496438194353497, 'border_count': 119, 'od_wait': 29}. Best is trial 4 with value: 0.4054351801774878.\n",
      "[W 2024-12-05 19:09:09,013] Trial 10 failed with parameters: {'iterations': 497, 'learning_rate': 0.21105566548560045, 'depth': 8, 'bagging_temperature': 0.7044562882665291, 'l2_leaf_reg': 0.07289848020716279, 'border_count': 118, 'od_wait': 20} because of the following error: KeyboardInterrupt('').\n",
      "Traceback (most recent call last):\n",
      "  File \"c:\\Users\\alexa\\Documents\\Code Python et SQL\\Python DSB\\bike_counters_ac_team\\.venv\\lib\\site-packages\\optuna\\study\\_optimize.py\", line 197, in _run_trial\n",
      "    value_or_values = func(trial)\n",
      "  File \"C:\\Users\\alexa\\AppData\\Local\\Temp\\ipykernel_9108\\2926239228.py\", line 74, in <lambda>\n",
      "    study.optimize(lambda trial: objective(trial, X_train, y_train), n_trials=20)\n",
      "  File \"C:\\Users\\alexa\\AppData\\Local\\Temp\\ipykernel_9108\\2926239228.py\", line 60, in objective\n",
      "    model.fit(X_train, y_train, eval_set=(X_val, y_val), early_stopping_rounds=50, verbose=False)\n",
      "  File \"c:\\Users\\alexa\\Documents\\Code Python et SQL\\Python DSB\\bike_counters_ac_team\\.venv\\lib\\site-packages\\catboost\\core.py\", line 5873, in fit\n",
      "    return self._fit(X, y, cat_features, text_features, embedding_features, None, graph, sample_weight, None, None, None, None, baseline,\n",
      "  File \"c:\\Users\\alexa\\Documents\\Code Python et SQL\\Python DSB\\bike_counters_ac_team\\.venv\\lib\\site-packages\\catboost\\core.py\", line 2410, in _fit\n",
      "    self._train(\n",
      "  File \"c:\\Users\\alexa\\Documents\\Code Python et SQL\\Python DSB\\bike_counters_ac_team\\.venv\\lib\\site-packages\\catboost\\core.py\", line 1790, in _train\n",
      "    self._object._train(train_pool, test_pool, params, allow_clear_pool, init_model._object if init_model else None)\n",
      "  File \"_catboost.pyx\", line 5017, in _catboost._CatBoost._train\n",
      "  File \"_catboost.pyx\", line 5066, in _catboost._CatBoost._train\n",
      "KeyboardInterrupt\n",
      "[W 2024-12-05 19:09:09,042] Trial 10 failed with value None.\n"
     ]
    },
    {
     "ename": "KeyboardInterrupt",
     "evalue": "",
     "output_type": "error",
     "traceback": [
      "\u001b[1;31m---------------------------------------------------------------------------\u001b[0m",
      "\u001b[1;31mKeyboardInterrupt\u001b[0m                         Traceback (most recent call last)",
      "Cell \u001b[1;32mIn[4], line 74\u001b[0m\n\u001b[0;32m     71\u001b[0m X_train, y_train \u001b[38;5;241m=\u001b[39m prepare_data(train_df, weather_df, is_train\u001b[38;5;241m=\u001b[39m\u001b[38;5;28;01mTrue\u001b[39;00m)\n\u001b[0;32m     73\u001b[0m study \u001b[38;5;241m=\u001b[39m optuna\u001b[38;5;241m.\u001b[39mcreate_study(direction\u001b[38;5;241m=\u001b[39m\u001b[38;5;124m'\u001b[39m\u001b[38;5;124mminimize\u001b[39m\u001b[38;5;124m'\u001b[39m)\n\u001b[1;32m---> 74\u001b[0m \u001b[43mstudy\u001b[49m\u001b[38;5;241;43m.\u001b[39;49m\u001b[43moptimize\u001b[49m\u001b[43m(\u001b[49m\u001b[38;5;28;43;01mlambda\u001b[39;49;00m\u001b[43m \u001b[49m\u001b[43mtrial\u001b[49m\u001b[43m:\u001b[49m\u001b[43m \u001b[49m\u001b[43mobjective\u001b[49m\u001b[43m(\u001b[49m\u001b[43mtrial\u001b[49m\u001b[43m,\u001b[49m\u001b[43m \u001b[49m\u001b[43mX_train\u001b[49m\u001b[43m,\u001b[49m\u001b[43m \u001b[49m\u001b[43my_train\u001b[49m\u001b[43m)\u001b[49m\u001b[43m,\u001b[49m\u001b[43m \u001b[49m\u001b[43mn_trials\u001b[49m\u001b[38;5;241;43m=\u001b[39;49m\u001b[38;5;241;43m20\u001b[39;49m\u001b[43m)\u001b[49m\n\u001b[0;32m     76\u001b[0m \u001b[38;5;28mprint\u001b[39m(\u001b[38;5;124m\"\u001b[39m\u001b[38;5;130;01m\\n\u001b[39;00m\u001b[38;5;124mBest parameters:\u001b[39m\u001b[38;5;124m\"\u001b[39m, study\u001b[38;5;241m.\u001b[39mbest_params)\n\u001b[0;32m     77\u001b[0m \u001b[38;5;28mprint\u001b[39m(\u001b[38;5;124m\"\u001b[39m\u001b[38;5;124mBest RMSE:\u001b[39m\u001b[38;5;124m\"\u001b[39m, study\u001b[38;5;241m.\u001b[39mbest_value)\n",
      "File \u001b[1;32mc:\\Users\\alexa\\Documents\\Code Python et SQL\\Python DSB\\bike_counters_ac_team\\.venv\\lib\\site-packages\\optuna\\study\\study.py:475\u001b[0m, in \u001b[0;36mStudy.optimize\u001b[1;34m(self, func, n_trials, timeout, n_jobs, catch, callbacks, gc_after_trial, show_progress_bar)\u001b[0m\n\u001b[0;32m    373\u001b[0m \u001b[38;5;28;01mdef\u001b[39;00m \u001b[38;5;21moptimize\u001b[39m(\n\u001b[0;32m    374\u001b[0m     \u001b[38;5;28mself\u001b[39m,\n\u001b[0;32m    375\u001b[0m     func: ObjectiveFuncType,\n\u001b[1;32m   (...)\u001b[0m\n\u001b[0;32m    382\u001b[0m     show_progress_bar: \u001b[38;5;28mbool\u001b[39m \u001b[38;5;241m=\u001b[39m \u001b[38;5;28;01mFalse\u001b[39;00m,\n\u001b[0;32m    383\u001b[0m ) \u001b[38;5;241m-\u001b[39m\u001b[38;5;241m>\u001b[39m \u001b[38;5;28;01mNone\u001b[39;00m:\n\u001b[0;32m    384\u001b[0m \u001b[38;5;250m    \u001b[39m\u001b[38;5;124;03m\"\"\"Optimize an objective function.\u001b[39;00m\n\u001b[0;32m    385\u001b[0m \n\u001b[0;32m    386\u001b[0m \u001b[38;5;124;03m    Optimization is done by choosing a suitable set of hyperparameter values from a given\u001b[39;00m\n\u001b[1;32m   (...)\u001b[0m\n\u001b[0;32m    473\u001b[0m \u001b[38;5;124;03m            If nested invocation of this method occurs.\u001b[39;00m\n\u001b[0;32m    474\u001b[0m \u001b[38;5;124;03m    \"\"\"\u001b[39;00m\n\u001b[1;32m--> 475\u001b[0m     \u001b[43m_optimize\u001b[49m\u001b[43m(\u001b[49m\n\u001b[0;32m    476\u001b[0m \u001b[43m        \u001b[49m\u001b[43mstudy\u001b[49m\u001b[38;5;241;43m=\u001b[39;49m\u001b[38;5;28;43mself\u001b[39;49m\u001b[43m,\u001b[49m\n\u001b[0;32m    477\u001b[0m \u001b[43m        \u001b[49m\u001b[43mfunc\u001b[49m\u001b[38;5;241;43m=\u001b[39;49m\u001b[43mfunc\u001b[49m\u001b[43m,\u001b[49m\n\u001b[0;32m    478\u001b[0m \u001b[43m        \u001b[49m\u001b[43mn_trials\u001b[49m\u001b[38;5;241;43m=\u001b[39;49m\u001b[43mn_trials\u001b[49m\u001b[43m,\u001b[49m\n\u001b[0;32m    479\u001b[0m \u001b[43m        \u001b[49m\u001b[43mtimeout\u001b[49m\u001b[38;5;241;43m=\u001b[39;49m\u001b[43mtimeout\u001b[49m\u001b[43m,\u001b[49m\n\u001b[0;32m    480\u001b[0m \u001b[43m        \u001b[49m\u001b[43mn_jobs\u001b[49m\u001b[38;5;241;43m=\u001b[39;49m\u001b[43mn_jobs\u001b[49m\u001b[43m,\u001b[49m\n\u001b[0;32m    481\u001b[0m \u001b[43m        \u001b[49m\u001b[43mcatch\u001b[49m\u001b[38;5;241;43m=\u001b[39;49m\u001b[38;5;28;43mtuple\u001b[39;49m\u001b[43m(\u001b[49m\u001b[43mcatch\u001b[49m\u001b[43m)\u001b[49m\u001b[43m \u001b[49m\u001b[38;5;28;43;01mif\u001b[39;49;00m\u001b[43m \u001b[49m\u001b[38;5;28;43misinstance\u001b[39;49m\u001b[43m(\u001b[49m\u001b[43mcatch\u001b[49m\u001b[43m,\u001b[49m\u001b[43m \u001b[49m\u001b[43mIterable\u001b[49m\u001b[43m)\u001b[49m\u001b[43m \u001b[49m\u001b[38;5;28;43;01melse\u001b[39;49;00m\u001b[43m \u001b[49m\u001b[43m(\u001b[49m\u001b[43mcatch\u001b[49m\u001b[43m,\u001b[49m\u001b[43m)\u001b[49m\u001b[43m,\u001b[49m\n\u001b[0;32m    482\u001b[0m \u001b[43m        \u001b[49m\u001b[43mcallbacks\u001b[49m\u001b[38;5;241;43m=\u001b[39;49m\u001b[43mcallbacks\u001b[49m\u001b[43m,\u001b[49m\n\u001b[0;32m    483\u001b[0m \u001b[43m        \u001b[49m\u001b[43mgc_after_trial\u001b[49m\u001b[38;5;241;43m=\u001b[39;49m\u001b[43mgc_after_trial\u001b[49m\u001b[43m,\u001b[49m\n\u001b[0;32m    484\u001b[0m \u001b[43m        \u001b[49m\u001b[43mshow_progress_bar\u001b[49m\u001b[38;5;241;43m=\u001b[39;49m\u001b[43mshow_progress_bar\u001b[49m\u001b[43m,\u001b[49m\n\u001b[0;32m    485\u001b[0m \u001b[43m    \u001b[49m\u001b[43m)\u001b[49m\n",
      "File \u001b[1;32mc:\\Users\\alexa\\Documents\\Code Python et SQL\\Python DSB\\bike_counters_ac_team\\.venv\\lib\\site-packages\\optuna\\study\\_optimize.py:63\u001b[0m, in \u001b[0;36m_optimize\u001b[1;34m(study, func, n_trials, timeout, n_jobs, catch, callbacks, gc_after_trial, show_progress_bar)\u001b[0m\n\u001b[0;32m     61\u001b[0m \u001b[38;5;28;01mtry\u001b[39;00m:\n\u001b[0;32m     62\u001b[0m     \u001b[38;5;28;01mif\u001b[39;00m n_jobs \u001b[38;5;241m==\u001b[39m \u001b[38;5;241m1\u001b[39m:\n\u001b[1;32m---> 63\u001b[0m         \u001b[43m_optimize_sequential\u001b[49m\u001b[43m(\u001b[49m\n\u001b[0;32m     64\u001b[0m \u001b[43m            \u001b[49m\u001b[43mstudy\u001b[49m\u001b[43m,\u001b[49m\n\u001b[0;32m     65\u001b[0m \u001b[43m            \u001b[49m\u001b[43mfunc\u001b[49m\u001b[43m,\u001b[49m\n\u001b[0;32m     66\u001b[0m \u001b[43m            \u001b[49m\u001b[43mn_trials\u001b[49m\u001b[43m,\u001b[49m\n\u001b[0;32m     67\u001b[0m \u001b[43m            \u001b[49m\u001b[43mtimeout\u001b[49m\u001b[43m,\u001b[49m\n\u001b[0;32m     68\u001b[0m \u001b[43m            \u001b[49m\u001b[43mcatch\u001b[49m\u001b[43m,\u001b[49m\n\u001b[0;32m     69\u001b[0m \u001b[43m            \u001b[49m\u001b[43mcallbacks\u001b[49m\u001b[43m,\u001b[49m\n\u001b[0;32m     70\u001b[0m \u001b[43m            \u001b[49m\u001b[43mgc_after_trial\u001b[49m\u001b[43m,\u001b[49m\n\u001b[0;32m     71\u001b[0m \u001b[43m            \u001b[49m\u001b[43mreseed_sampler_rng\u001b[49m\u001b[38;5;241;43m=\u001b[39;49m\u001b[38;5;28;43;01mFalse\u001b[39;49;00m\u001b[43m,\u001b[49m\n\u001b[0;32m     72\u001b[0m \u001b[43m            \u001b[49m\u001b[43mtime_start\u001b[49m\u001b[38;5;241;43m=\u001b[39;49m\u001b[38;5;28;43;01mNone\u001b[39;49;00m\u001b[43m,\u001b[49m\n\u001b[0;32m     73\u001b[0m \u001b[43m            \u001b[49m\u001b[43mprogress_bar\u001b[49m\u001b[38;5;241;43m=\u001b[39;49m\u001b[43mprogress_bar\u001b[49m\u001b[43m,\u001b[49m\n\u001b[0;32m     74\u001b[0m \u001b[43m        \u001b[49m\u001b[43m)\u001b[49m\n\u001b[0;32m     75\u001b[0m     \u001b[38;5;28;01melse\u001b[39;00m:\n\u001b[0;32m     76\u001b[0m         \u001b[38;5;28;01mif\u001b[39;00m n_jobs \u001b[38;5;241m==\u001b[39m \u001b[38;5;241m-\u001b[39m\u001b[38;5;241m1\u001b[39m:\n",
      "File \u001b[1;32mc:\\Users\\alexa\\Documents\\Code Python et SQL\\Python DSB\\bike_counters_ac_team\\.venv\\lib\\site-packages\\optuna\\study\\_optimize.py:160\u001b[0m, in \u001b[0;36m_optimize_sequential\u001b[1;34m(study, func, n_trials, timeout, catch, callbacks, gc_after_trial, reseed_sampler_rng, time_start, progress_bar)\u001b[0m\n\u001b[0;32m    157\u001b[0m         \u001b[38;5;28;01mbreak\u001b[39;00m\n\u001b[0;32m    159\u001b[0m \u001b[38;5;28;01mtry\u001b[39;00m:\n\u001b[1;32m--> 160\u001b[0m     frozen_trial \u001b[38;5;241m=\u001b[39m \u001b[43m_run_trial\u001b[49m\u001b[43m(\u001b[49m\u001b[43mstudy\u001b[49m\u001b[43m,\u001b[49m\u001b[43m \u001b[49m\u001b[43mfunc\u001b[49m\u001b[43m,\u001b[49m\u001b[43m \u001b[49m\u001b[43mcatch\u001b[49m\u001b[43m)\u001b[49m\n\u001b[0;32m    161\u001b[0m \u001b[38;5;28;01mfinally\u001b[39;00m:\n\u001b[0;32m    162\u001b[0m     \u001b[38;5;66;03m# The following line mitigates memory problems that can be occurred in some\u001b[39;00m\n\u001b[0;32m    163\u001b[0m     \u001b[38;5;66;03m# environments (e.g., services that use computing containers such as GitHub Actions).\u001b[39;00m\n\u001b[0;32m    164\u001b[0m     \u001b[38;5;66;03m# Please refer to the following PR for further details:\u001b[39;00m\n\u001b[0;32m    165\u001b[0m     \u001b[38;5;66;03m# https://github.com/optuna/optuna/pull/325.\u001b[39;00m\n\u001b[0;32m    166\u001b[0m     \u001b[38;5;28;01mif\u001b[39;00m gc_after_trial:\n",
      "File \u001b[1;32mc:\\Users\\alexa\\Documents\\Code Python et SQL\\Python DSB\\bike_counters_ac_team\\.venv\\lib\\site-packages\\optuna\\study\\_optimize.py:248\u001b[0m, in \u001b[0;36m_run_trial\u001b[1;34m(study, func, catch)\u001b[0m\n\u001b[0;32m    241\u001b[0m         \u001b[38;5;28;01massert\u001b[39;00m \u001b[38;5;28;01mFalse\u001b[39;00m, \u001b[38;5;124m\"\u001b[39m\u001b[38;5;124mShould not reach.\u001b[39m\u001b[38;5;124m\"\u001b[39m\n\u001b[0;32m    243\u001b[0m \u001b[38;5;28;01mif\u001b[39;00m (\n\u001b[0;32m    244\u001b[0m     frozen_trial\u001b[38;5;241m.\u001b[39mstate \u001b[38;5;241m==\u001b[39m TrialState\u001b[38;5;241m.\u001b[39mFAIL\n\u001b[0;32m    245\u001b[0m     \u001b[38;5;129;01mand\u001b[39;00m func_err \u001b[38;5;129;01mis\u001b[39;00m \u001b[38;5;129;01mnot\u001b[39;00m \u001b[38;5;28;01mNone\u001b[39;00m\n\u001b[0;32m    246\u001b[0m     \u001b[38;5;129;01mand\u001b[39;00m \u001b[38;5;129;01mnot\u001b[39;00m \u001b[38;5;28misinstance\u001b[39m(func_err, catch)\n\u001b[0;32m    247\u001b[0m ):\n\u001b[1;32m--> 248\u001b[0m     \u001b[38;5;28;01mraise\u001b[39;00m func_err\n\u001b[0;32m    249\u001b[0m \u001b[38;5;28;01mreturn\u001b[39;00m frozen_trial\n",
      "File \u001b[1;32mc:\\Users\\alexa\\Documents\\Code Python et SQL\\Python DSB\\bike_counters_ac_team\\.venv\\lib\\site-packages\\optuna\\study\\_optimize.py:197\u001b[0m, in \u001b[0;36m_run_trial\u001b[1;34m(study, func, catch)\u001b[0m\n\u001b[0;32m    195\u001b[0m \u001b[38;5;28;01mwith\u001b[39;00m get_heartbeat_thread(trial\u001b[38;5;241m.\u001b[39m_trial_id, study\u001b[38;5;241m.\u001b[39m_storage):\n\u001b[0;32m    196\u001b[0m     \u001b[38;5;28;01mtry\u001b[39;00m:\n\u001b[1;32m--> 197\u001b[0m         value_or_values \u001b[38;5;241m=\u001b[39m \u001b[43mfunc\u001b[49m\u001b[43m(\u001b[49m\u001b[43mtrial\u001b[49m\u001b[43m)\u001b[49m\n\u001b[0;32m    198\u001b[0m     \u001b[38;5;28;01mexcept\u001b[39;00m exceptions\u001b[38;5;241m.\u001b[39mTrialPruned \u001b[38;5;28;01mas\u001b[39;00m e:\n\u001b[0;32m    199\u001b[0m         \u001b[38;5;66;03m# TODO(mamu): Handle multi-objective cases.\u001b[39;00m\n\u001b[0;32m    200\u001b[0m         state \u001b[38;5;241m=\u001b[39m TrialState\u001b[38;5;241m.\u001b[39mPRUNED\n",
      "Cell \u001b[1;32mIn[4], line 74\u001b[0m, in \u001b[0;36m<lambda>\u001b[1;34m(trial)\u001b[0m\n\u001b[0;32m     71\u001b[0m X_train, y_train \u001b[38;5;241m=\u001b[39m prepare_data(train_df, weather_df, is_train\u001b[38;5;241m=\u001b[39m\u001b[38;5;28;01mTrue\u001b[39;00m)\n\u001b[0;32m     73\u001b[0m study \u001b[38;5;241m=\u001b[39m optuna\u001b[38;5;241m.\u001b[39mcreate_study(direction\u001b[38;5;241m=\u001b[39m\u001b[38;5;124m'\u001b[39m\u001b[38;5;124mminimize\u001b[39m\u001b[38;5;124m'\u001b[39m)\n\u001b[1;32m---> 74\u001b[0m study\u001b[38;5;241m.\u001b[39moptimize(\u001b[38;5;28;01mlambda\u001b[39;00m trial: \u001b[43mobjective\u001b[49m\u001b[43m(\u001b[49m\u001b[43mtrial\u001b[49m\u001b[43m,\u001b[49m\u001b[43m \u001b[49m\u001b[43mX_train\u001b[49m\u001b[43m,\u001b[49m\u001b[43m \u001b[49m\u001b[43my_train\u001b[49m\u001b[43m)\u001b[49m, n_trials\u001b[38;5;241m=\u001b[39m\u001b[38;5;241m20\u001b[39m)\n\u001b[0;32m     76\u001b[0m \u001b[38;5;28mprint\u001b[39m(\u001b[38;5;124m\"\u001b[39m\u001b[38;5;130;01m\\n\u001b[39;00m\u001b[38;5;124mBest parameters:\u001b[39m\u001b[38;5;124m\"\u001b[39m, study\u001b[38;5;241m.\u001b[39mbest_params)\n\u001b[0;32m     77\u001b[0m \u001b[38;5;28mprint\u001b[39m(\u001b[38;5;124m\"\u001b[39m\u001b[38;5;124mBest RMSE:\u001b[39m\u001b[38;5;124m\"\u001b[39m, study\u001b[38;5;241m.\u001b[39mbest_value)\n",
      "Cell \u001b[1;32mIn[4], line 60\u001b[0m, in \u001b[0;36mobjective\u001b[1;34m(trial, X_train_full, y_train_full)\u001b[0m\n\u001b[0;32m     57\u001b[0m X_train, X_val, y_train, y_val \u001b[38;5;241m=\u001b[39m train_test_split(X_train_full, y_train_full, test_size\u001b[38;5;241m=\u001b[39m\u001b[38;5;241m0.2\u001b[39m)\n\u001b[0;32m     59\u001b[0m model \u001b[38;5;241m=\u001b[39m CatBoostRegressor(\u001b[38;5;241m*\u001b[39m\u001b[38;5;241m*\u001b[39mparams, cat_features\u001b[38;5;241m=\u001b[39m[\u001b[38;5;124m'\u001b[39m\u001b[38;5;124mcounter_name\u001b[39m\u001b[38;5;124m'\u001b[39m, \u001b[38;5;124m'\u001b[39m\u001b[38;5;124mweekday\u001b[39m\u001b[38;5;124m'\u001b[39m])\n\u001b[1;32m---> 60\u001b[0m \u001b[43mmodel\u001b[49m\u001b[38;5;241;43m.\u001b[39;49m\u001b[43mfit\u001b[49m\u001b[43m(\u001b[49m\u001b[43mX_train\u001b[49m\u001b[43m,\u001b[49m\u001b[43m \u001b[49m\u001b[43my_train\u001b[49m\u001b[43m,\u001b[49m\u001b[43m \u001b[49m\u001b[43meval_set\u001b[49m\u001b[38;5;241;43m=\u001b[39;49m\u001b[43m(\u001b[49m\u001b[43mX_val\u001b[49m\u001b[43m,\u001b[49m\u001b[43m \u001b[49m\u001b[43my_val\u001b[49m\u001b[43m)\u001b[49m\u001b[43m,\u001b[49m\u001b[43m \u001b[49m\u001b[43mearly_stopping_rounds\u001b[49m\u001b[38;5;241;43m=\u001b[39;49m\u001b[38;5;241;43m50\u001b[39;49m\u001b[43m,\u001b[49m\u001b[43m \u001b[49m\u001b[43mverbose\u001b[49m\u001b[38;5;241;43m=\u001b[39;49m\u001b[38;5;28;43;01mFalse\u001b[39;49;00m\u001b[43m)\u001b[49m\n\u001b[0;32m     62\u001b[0m preds \u001b[38;5;241m=\u001b[39m model\u001b[38;5;241m.\u001b[39mpredict(X_val)\n\u001b[0;32m     63\u001b[0m rmse \u001b[38;5;241m=\u001b[39m mean_squared_error(y_val, preds, squared\u001b[38;5;241m=\u001b[39m\u001b[38;5;28;01mFalse\u001b[39;00m)\n",
      "File \u001b[1;32mc:\\Users\\alexa\\Documents\\Code Python et SQL\\Python DSB\\bike_counters_ac_team\\.venv\\lib\\site-packages\\catboost\\core.py:5873\u001b[0m, in \u001b[0;36mCatBoostRegressor.fit\u001b[1;34m(self, X, y, cat_features, text_features, embedding_features, graph, sample_weight, baseline, use_best_model, eval_set, verbose, logging_level, plot, plot_file, column_description, verbose_eval, metric_period, silent, early_stopping_rounds, save_snapshot, snapshot_file, snapshot_interval, init_model, callbacks, log_cout, log_cerr)\u001b[0m\n\u001b[0;32m   5871\u001b[0m \u001b[38;5;28;01mif\u001b[39;00m \u001b[38;5;124m'\u001b[39m\u001b[38;5;124mloss_function\u001b[39m\u001b[38;5;124m'\u001b[39m \u001b[38;5;129;01min\u001b[39;00m params:\n\u001b[0;32m   5872\u001b[0m     CatBoostRegressor\u001b[38;5;241m.\u001b[39m_check_is_compatible_loss(params[\u001b[38;5;124m'\u001b[39m\u001b[38;5;124mloss_function\u001b[39m\u001b[38;5;124m'\u001b[39m])\n\u001b[1;32m-> 5873\u001b[0m \u001b[38;5;28;01mreturn\u001b[39;00m \u001b[38;5;28;43mself\u001b[39;49m\u001b[38;5;241;43m.\u001b[39;49m\u001b[43m_fit\u001b[49m\u001b[43m(\u001b[49m\u001b[43mX\u001b[49m\u001b[43m,\u001b[49m\u001b[43m \u001b[49m\u001b[43my\u001b[49m\u001b[43m,\u001b[49m\u001b[43m \u001b[49m\u001b[43mcat_features\u001b[49m\u001b[43m,\u001b[49m\u001b[43m \u001b[49m\u001b[43mtext_features\u001b[49m\u001b[43m,\u001b[49m\u001b[43m \u001b[49m\u001b[43membedding_features\u001b[49m\u001b[43m,\u001b[49m\u001b[43m \u001b[49m\u001b[38;5;28;43;01mNone\u001b[39;49;00m\u001b[43m,\u001b[49m\u001b[43m \u001b[49m\u001b[43mgraph\u001b[49m\u001b[43m,\u001b[49m\u001b[43m \u001b[49m\u001b[43msample_weight\u001b[49m\u001b[43m,\u001b[49m\u001b[43m \u001b[49m\u001b[38;5;28;43;01mNone\u001b[39;49;00m\u001b[43m,\u001b[49m\u001b[43m \u001b[49m\u001b[38;5;28;43;01mNone\u001b[39;49;00m\u001b[43m,\u001b[49m\u001b[43m \u001b[49m\u001b[38;5;28;43;01mNone\u001b[39;49;00m\u001b[43m,\u001b[49m\u001b[43m \u001b[49m\u001b[38;5;28;43;01mNone\u001b[39;49;00m\u001b[43m,\u001b[49m\u001b[43m \u001b[49m\u001b[43mbaseline\u001b[49m\u001b[43m,\u001b[49m\n\u001b[0;32m   5874\u001b[0m \u001b[43m                 \u001b[49m\u001b[43muse_best_model\u001b[49m\u001b[43m,\u001b[49m\u001b[43m \u001b[49m\u001b[43meval_set\u001b[49m\u001b[43m,\u001b[49m\u001b[43m \u001b[49m\u001b[43mverbose\u001b[49m\u001b[43m,\u001b[49m\u001b[43m \u001b[49m\u001b[43mlogging_level\u001b[49m\u001b[43m,\u001b[49m\u001b[43m \u001b[49m\u001b[43mplot\u001b[49m\u001b[43m,\u001b[49m\u001b[43m \u001b[49m\u001b[43mplot_file\u001b[49m\u001b[43m,\u001b[49m\u001b[43m \u001b[49m\u001b[43mcolumn_description\u001b[49m\u001b[43m,\u001b[49m\n\u001b[0;32m   5875\u001b[0m \u001b[43m                 \u001b[49m\u001b[43mverbose_eval\u001b[49m\u001b[43m,\u001b[49m\u001b[43m \u001b[49m\u001b[43mmetric_period\u001b[49m\u001b[43m,\u001b[49m\u001b[43m \u001b[49m\u001b[43msilent\u001b[49m\u001b[43m,\u001b[49m\u001b[43m \u001b[49m\u001b[43mearly_stopping_rounds\u001b[49m\u001b[43m,\u001b[49m\n\u001b[0;32m   5876\u001b[0m \u001b[43m                 \u001b[49m\u001b[43msave_snapshot\u001b[49m\u001b[43m,\u001b[49m\u001b[43m \u001b[49m\u001b[43msnapshot_file\u001b[49m\u001b[43m,\u001b[49m\u001b[43m \u001b[49m\u001b[43msnapshot_interval\u001b[49m\u001b[43m,\u001b[49m\u001b[43m \u001b[49m\u001b[43minit_model\u001b[49m\u001b[43m,\u001b[49m\u001b[43m \u001b[49m\u001b[43mcallbacks\u001b[49m\u001b[43m,\u001b[49m\u001b[43m \u001b[49m\u001b[43mlog_cout\u001b[49m\u001b[43m,\u001b[49m\u001b[43m \u001b[49m\u001b[43mlog_cerr\u001b[49m\u001b[43m)\u001b[49m\n",
      "File \u001b[1;32mc:\\Users\\alexa\\Documents\\Code Python et SQL\\Python DSB\\bike_counters_ac_team\\.venv\\lib\\site-packages\\catboost\\core.py:2410\u001b[0m, in \u001b[0;36mCatBoost._fit\u001b[1;34m(self, X, y, cat_features, text_features, embedding_features, pairs, graph, sample_weight, group_id, group_weight, subgroup_id, pairs_weight, baseline, use_best_model, eval_set, verbose, logging_level, plot, plot_file, column_description, verbose_eval, metric_period, silent, early_stopping_rounds, save_snapshot, snapshot_file, snapshot_interval, init_model, callbacks, log_cout, log_cerr)\u001b[0m\n\u001b[0;32m   2407\u001b[0m allow_clear_pool \u001b[38;5;241m=\u001b[39m train_params[\u001b[38;5;124m\"\u001b[39m\u001b[38;5;124mallow_clear_pool\u001b[39m\u001b[38;5;124m\"\u001b[39m]\n\u001b[0;32m   2409\u001b[0m \u001b[38;5;28;01mwith\u001b[39;00m plot_wrapper(plot, plot_file, \u001b[38;5;124m'\u001b[39m\u001b[38;5;124mTraining plots\u001b[39m\u001b[38;5;124m'\u001b[39m, [_get_train_dir(\u001b[38;5;28mself\u001b[39m\u001b[38;5;241m.\u001b[39mget_params())]):\n\u001b[1;32m-> 2410\u001b[0m     \u001b[38;5;28;43mself\u001b[39;49m\u001b[38;5;241;43m.\u001b[39;49m\u001b[43m_train\u001b[49m\u001b[43m(\u001b[49m\n\u001b[0;32m   2411\u001b[0m \u001b[43m        \u001b[49m\u001b[43mtrain_pool\u001b[49m\u001b[43m,\u001b[49m\n\u001b[0;32m   2412\u001b[0m \u001b[43m        \u001b[49m\u001b[43mtrain_params\u001b[49m\u001b[43m[\u001b[49m\u001b[38;5;124;43m\"\u001b[39;49m\u001b[38;5;124;43meval_sets\u001b[39;49m\u001b[38;5;124;43m\"\u001b[39;49m\u001b[43m]\u001b[49m\u001b[43m,\u001b[49m\n\u001b[0;32m   2413\u001b[0m \u001b[43m        \u001b[49m\u001b[43mparams\u001b[49m\u001b[43m,\u001b[49m\n\u001b[0;32m   2414\u001b[0m \u001b[43m        \u001b[49m\u001b[43mallow_clear_pool\u001b[49m\u001b[43m,\u001b[49m\n\u001b[0;32m   2415\u001b[0m \u001b[43m        \u001b[49m\u001b[43mtrain_params\u001b[49m\u001b[43m[\u001b[49m\u001b[38;5;124;43m\"\u001b[39;49m\u001b[38;5;124;43minit_model\u001b[39;49m\u001b[38;5;124;43m\"\u001b[39;49m\u001b[43m]\u001b[49m\n\u001b[0;32m   2416\u001b[0m \u001b[43m    \u001b[49m\u001b[43m)\u001b[49m\n\u001b[0;32m   2418\u001b[0m \u001b[38;5;66;03m# Have property feature_importance possibly set\u001b[39;00m\n\u001b[0;32m   2419\u001b[0m loss \u001b[38;5;241m=\u001b[39m \u001b[38;5;28mself\u001b[39m\u001b[38;5;241m.\u001b[39m_object\u001b[38;5;241m.\u001b[39m_get_loss_function_name()\n",
      "File \u001b[1;32mc:\\Users\\alexa\\Documents\\Code Python et SQL\\Python DSB\\bike_counters_ac_team\\.venv\\lib\\site-packages\\catboost\\core.py:1790\u001b[0m, in \u001b[0;36m_CatBoostBase._train\u001b[1;34m(self, train_pool, test_pool, params, allow_clear_pool, init_model)\u001b[0m\n\u001b[0;32m   1789\u001b[0m \u001b[38;5;28;01mdef\u001b[39;00m \u001b[38;5;21m_train\u001b[39m(\u001b[38;5;28mself\u001b[39m, train_pool, test_pool, params, allow_clear_pool, init_model):\n\u001b[1;32m-> 1790\u001b[0m     \u001b[38;5;28;43mself\u001b[39;49m\u001b[38;5;241;43m.\u001b[39;49m\u001b[43m_object\u001b[49m\u001b[38;5;241;43m.\u001b[39;49m\u001b[43m_train\u001b[49m\u001b[43m(\u001b[49m\u001b[43mtrain_pool\u001b[49m\u001b[43m,\u001b[49m\u001b[43m \u001b[49m\u001b[43mtest_pool\u001b[49m\u001b[43m,\u001b[49m\u001b[43m \u001b[49m\u001b[43mparams\u001b[49m\u001b[43m,\u001b[49m\u001b[43m \u001b[49m\u001b[43mallow_clear_pool\u001b[49m\u001b[43m,\u001b[49m\u001b[43m \u001b[49m\u001b[43minit_model\u001b[49m\u001b[38;5;241;43m.\u001b[39;49m\u001b[43m_object\u001b[49m\u001b[43m \u001b[49m\u001b[38;5;28;43;01mif\u001b[39;49;00m\u001b[43m \u001b[49m\u001b[43minit_model\u001b[49m\u001b[43m \u001b[49m\u001b[38;5;28;43;01melse\u001b[39;49;00m\u001b[43m \u001b[49m\u001b[38;5;28;43;01mNone\u001b[39;49;00m\u001b[43m)\u001b[49m\n\u001b[0;32m   1791\u001b[0m     \u001b[38;5;28mself\u001b[39m\u001b[38;5;241m.\u001b[39m_set_trained_model_attributes()\n",
      "File \u001b[1;32m_catboost.pyx:5017\u001b[0m, in \u001b[0;36m_catboost._CatBoost._train\u001b[1;34m()\u001b[0m\n",
      "File \u001b[1;32m_catboost.pyx:5066\u001b[0m, in \u001b[0;36m_catboost._CatBoost._train\u001b[1;34m()\u001b[0m\n",
      "\u001b[1;31mKeyboardInterrupt\u001b[0m: "
     ]
    }
   ],
   "source": [
    "def prepare_data(df, weather_df, is_train=None):\n",
    "    df = df.copy()\n",
    "\n",
    "    df['date'] = pd.to_datetime(df['date']).dt.floor('h')\n",
    "    weather_df['date'] = pd.to_datetime(weather_df['date']).dt.floor('h')\n",
    "    df = pd.merge(df, weather_df, on='date', how='left')\n",
    "\n",
    "    holidays = pd.read_csv('external_data/Holidays/Propre_jours_feries.csv')\n",
    "    holidays_sco = pd.read_csv('external_data/Holidays/Propre_vacances_scolaires.csv')\n",
    "\n",
    "    holidays['date'] = pd.to_datetime(holidays['date'])\n",
    "    df['is_holiday'] = df['date'].dt.date.isin(holidays['date'].dt.date)\n",
    "    holidays_sco['date'] = pd.to_datetime(holidays_sco['date'])\n",
    "    df['is_holiday_sco'] = df['date'].dt.date.isin(holidays_sco['date'].dt.date)\n",
    "\n",
    "    df['hour'] = df['date'].dt.hour\n",
    "    df['month'] = df['date'].dt.month\n",
    "    df['weekday'] = df['date'].dt.day_name()\n",
    "    df['is_weekend'] = df['date'].dt.weekday >= 5\n",
    "\n",
    "    df['hour_sin'] = np.sin(2 * np.pi * df['hour']/24)\n",
    "    df['hour_cos'] = np.cos(2 * np.pi * df['hour']/24)\n",
    "    df['month_sin'] = np.sin(2 * np.pi * df['month']/12)\n",
    "    df['month_cos'] = np.cos(2 * np.pi * df['month']/12)\n",
    "\n",
    "    df['is_working_day'] = (~df['is_weekend']) & (~df['is_holiday'])\n",
    "    morning_rush = (df['hour'].between(7,9)) & df['is_working_day']\n",
    "    evening_rush = (df['hour'].between(16,18)) & df['is_working_day']\n",
    "    df['is_rush_hour'] = (morning_rush | evening_rush)\n",
    "\n",
    "    cols_to_drop = ['counter_id', 'site_id', 'site_name', 'counter_installation_date',\n",
    "                    'coordinates', 'counter_technical_id', 'hour', 'month', 'date']\n",
    "    if 'bike_count' in df.columns:\n",
    "        cols_to_drop.append('bike_count')\n",
    "\n",
    "    df = df.drop(columns=cols_to_drop)\n",
    "\n",
    "    if is_train:\n",
    "        X = df.drop(columns=['log_bike_count'])\n",
    "        y = df['log_bike_count']\n",
    "        return X, y\n",
    "    return df\n",
    "\n",
    "def objective(trial, X_train_full, y_train_full):\n",
    "    params = {\n",
    "        'iterations': trial.suggest_int('iterations', 400, 500),\n",
    "        'learning_rate': trial.suggest_float('learning_rate', 0.1, 0.3),\n",
    "        'depth': trial.suggest_int('depth', 6, 8),\n",
    "        'bagging_temperature': trial.suggest_float('bagging_temperature', 0.4, 0.9),\n",
    "        'l2_leaf_reg': trial.suggest_float('l2_leaf_reg', 0.05, 0.1),\n",
    "        'border_count': trial.suggest_int('border_count', 100, 120),\n",
    "        'od_type': 'IncToDec',\n",
    "        'od_wait': trial.suggest_int('od_wait', 20, 30),\n",
    "        'random_seed': 42\n",
    "    }\n",
    "\n",
    "    X_train, X_val, y_train, y_val = train_test_split(X_train_full, y_train_full, test_size=0.2)\n",
    "\n",
    "    model = CatBoostRegressor(**params, cat_features=['counter_name', 'weekday'])\n",
    "    model.fit(X_train, y_train, eval_set=(X_val, y_val), early_stopping_rounds=50, verbose=False)\n",
    "\n",
    "    preds = model.predict(X_val)\n",
    "    rmse = mean_squared_error(y_val, preds, squared=False)\n",
    "\n",
    "    return rmse\n",
    "\n",
    "if __name__ == \"__main__\":\n",
    "    train_df = pd.read_parquet(Path(\"data/train.parquet\"))\n",
    "    weather_df = pd.read_csv('external_data/Weather/Propre_meteo.csv')\n",
    "\n",
    "    X_train, y_train = prepare_data(train_df, weather_df, is_train=True)\n",
    "\n",
    "    study = optuna.create_study(direction='minimize')\n",
    "    study.optimize(lambda trial: objective(trial, X_train, y_train), n_trials=20)\n",
    "\n",
    "    print(\"\\nBest parameters:\", study.best_params)\n",
    "    print(\"Best RMSE:\", study.best_value)\n",
    "\n",
    "    # Save best parameters\n",
    "    pd.DataFrame([study.best_params]).to_json('best_params.json')"
   ]
  },
  {
   "cell_type": "code",
   "execution_count": null,
   "metadata": {},
   "outputs": [],
   "source": []
  }
 ],
 "metadata": {
  "kernelspec": {
   "display_name": "Python 3",
   "language": "python",
   "name": "python3"
  },
  "language_info": {
   "codemirror_mode": {
    "name": "ipython",
    "version": 3
   },
   "file_extension": ".py",
   "mimetype": "text/x-python",
   "name": "python",
   "nbconvert_exporter": "python",
   "pygments_lexer": "ipython3",
   "version": "3.11.10"
  }
 },
 "nbformat": 4,
 "nbformat_minor": 2
}
