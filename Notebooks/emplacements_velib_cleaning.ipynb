{
 "cells": [
  {
   "cell_type": "markdown",
   "metadata": {},
   "source": [
    "# **<u>Cleaning the velib emplacement des stations data:</u>**"
   ]
  },
  {
   "cell_type": "code",
   "execution_count": 21,
   "metadata": {},
   "outputs": [],
   "source": [
    "import pandas as pd"
   ]
  },
  {
   "cell_type": "markdown",
   "metadata": {},
   "source": [
    "## **<u>Loading the data using Pandas:</u>**"
   ]
  },
  {
   "cell_type": "code",
   "execution_count": 22,
   "metadata": {},
   "outputs": [],
   "source": [
    "df = pd.read_csv('../external_data/velib-emplacement-des-stations.csv', sep=';')"
   ]
  },
  {
   "cell_type": "code",
   "execution_count": 23,
   "metadata": {},
   "outputs": [
    {
     "data": {
      "text/plain": [
       "(1468, 4)"
      ]
     },
     "execution_count": 23,
     "metadata": {},
     "output_type": "execute_result"
    }
   ],
   "source": [
    "df.shape"
   ]
  },
  {
   "cell_type": "code",
   "execution_count": 24,
   "metadata": {},
   "outputs": [
    {
     "data": {
      "text/html": [
       "<div>\n",
       "<style scoped>\n",
       "    .dataframe tbody tr th:only-of-type {\n",
       "        vertical-align: middle;\n",
       "    }\n",
       "\n",
       "    .dataframe tbody tr th {\n",
       "        vertical-align: top;\n",
       "    }\n",
       "\n",
       "    .dataframe thead th {\n",
       "        text-align: right;\n",
       "    }\n",
       "</style>\n",
       "<table border=\"1\" class=\"dataframe\">\n",
       "  <thead>\n",
       "    <tr style=\"text-align: right;\">\n",
       "      <th></th>\n",
       "      <th>Identifiant station</th>\n",
       "      <th>Nom de la station</th>\n",
       "      <th>Capacité de la station</th>\n",
       "      <th>Coordonnées géographiques</th>\n",
       "    </tr>\n",
       "  </thead>\n",
       "  <tbody>\n",
       "    <tr>\n",
       "      <th>0</th>\n",
       "      <td>17026</td>\n",
       "      <td>Jouffroy d'Abbans - Wagram</td>\n",
       "      <td>40</td>\n",
       "      <td>48.881973298352, 2.301132157445</td>\n",
       "    </tr>\n",
       "    <tr>\n",
       "      <th>1</th>\n",
       "      <td>5016</td>\n",
       "      <td>Thouin - Cardinal Lemoine</td>\n",
       "      <td>17</td>\n",
       "      <td>48.84504716661511, 2.3494647851273465</td>\n",
       "    </tr>\n",
       "    <tr>\n",
       "      <th>2</th>\n",
       "      <td>15068</td>\n",
       "      <td>Général Martial Valin - Pont du Garigliano</td>\n",
       "      <td>16</td>\n",
       "      <td>48.83823094269141, 2.270506024360657</td>\n",
       "    </tr>\n",
       "    <tr>\n",
       "      <th>3</th>\n",
       "      <td>10115</td>\n",
       "      <td>Granges aux Belles</td>\n",
       "      <td>27</td>\n",
       "      <td>48.8761373390584, 2.3680844979417</td>\n",
       "    </tr>\n",
       "    <tr>\n",
       "      <th>4</th>\n",
       "      <td>10029</td>\n",
       "      <td>Dunkerque - Rocroy</td>\n",
       "      <td>24</td>\n",
       "      <td>48.880726, 2.351464</td>\n",
       "    </tr>\n",
       "  </tbody>\n",
       "</table>\n",
       "</div>"
      ],
      "text/plain": [
       "   Identifiant station                           Nom de la station  \\\n",
       "0                17026                  Jouffroy d'Abbans - Wagram   \n",
       "1                 5016                   Thouin - Cardinal Lemoine   \n",
       "2                15068  Général Martial Valin - Pont du Garigliano   \n",
       "3                10115                          Granges aux Belles   \n",
       "4                10029                          Dunkerque - Rocroy   \n",
       "\n",
       "   Capacité de la station              Coordonnées géographiques  \n",
       "0                      40        48.881973298352, 2.301132157445  \n",
       "1                      17  48.84504716661511, 2.3494647851273465  \n",
       "2                      16   48.83823094269141, 2.270506024360657  \n",
       "3                      27      48.8761373390584, 2.3680844979417  \n",
       "4                      24                    48.880726, 2.351464  "
      ]
     },
     "execution_count": 24,
     "metadata": {},
     "output_type": "execute_result"
    }
   ],
   "source": [
    "df.head()"
   ]
  },
  {
   "cell_type": "markdown",
   "metadata": {},
   "source": [
    "## **<u>Checking for null values:</u>**"
   ]
  },
  {
   "cell_type": "markdown",
   "metadata": {},
   "source": [
    "Overall null values:"
   ]
  },
  {
   "cell_type": "code",
   "execution_count": 25,
   "metadata": {},
   "outputs": [
    {
     "data": {
      "text/plain": [
       "Identifiant station          0\n",
       "Nom de la station            0\n",
       "Capacité de la station       0\n",
       "Coordonnées géographiques    0\n",
       "dtype: int64"
      ]
     },
     "execution_count": 25,
     "metadata": {},
     "output_type": "execute_result"
    }
   ],
   "source": [
    "df.isna().sum().sort_values(ascending=False)"
   ]
  },
  {
   "cell_type": "markdown",
   "metadata": {},
   "source": [
    "-> From the above cell, we notice that the dataset is clean regarding null values, what has to be done now is a general analysis to decide on the relevance of certain features to our analysis"
   ]
  },
  {
   "cell_type": "markdown",
   "metadata": {},
   "source": [
    "## **<u>Checking for the relevance of the columns:</u>**"
   ]
  },
  {
   "cell_type": "code",
   "execution_count": 26,
   "metadata": {},
   "outputs": [
    {
     "data": {
      "text/html": [
       "<div>\n",
       "<style scoped>\n",
       "    .dataframe tbody tr th:only-of-type {\n",
       "        vertical-align: middle;\n",
       "    }\n",
       "\n",
       "    .dataframe tbody tr th {\n",
       "        vertical-align: top;\n",
       "    }\n",
       "\n",
       "    .dataframe thead th {\n",
       "        text-align: right;\n",
       "    }\n",
       "</style>\n",
       "<table border=\"1\" class=\"dataframe\">\n",
       "  <thead>\n",
       "    <tr style=\"text-align: right;\">\n",
       "      <th></th>\n",
       "      <th>Identifiant station</th>\n",
       "      <th>Nom de la station</th>\n",
       "      <th>Capacité de la station</th>\n",
       "      <th>Coordonnées géographiques</th>\n",
       "    </tr>\n",
       "  </thead>\n",
       "  <tbody>\n",
       "    <tr>\n",
       "      <th>0</th>\n",
       "      <td>17026</td>\n",
       "      <td>Jouffroy d'Abbans - Wagram</td>\n",
       "      <td>40</td>\n",
       "      <td>48.881973298352, 2.301132157445</td>\n",
       "    </tr>\n",
       "    <tr>\n",
       "      <th>1</th>\n",
       "      <td>5016</td>\n",
       "      <td>Thouin - Cardinal Lemoine</td>\n",
       "      <td>17</td>\n",
       "      <td>48.84504716661511, 2.3494647851273465</td>\n",
       "    </tr>\n",
       "    <tr>\n",
       "      <th>2</th>\n",
       "      <td>15068</td>\n",
       "      <td>Général Martial Valin - Pont du Garigliano</td>\n",
       "      <td>16</td>\n",
       "      <td>48.83823094269141, 2.270506024360657</td>\n",
       "    </tr>\n",
       "    <tr>\n",
       "      <th>3</th>\n",
       "      <td>10115</td>\n",
       "      <td>Granges aux Belles</td>\n",
       "      <td>27</td>\n",
       "      <td>48.8761373390584, 2.3680844979417</td>\n",
       "    </tr>\n",
       "    <tr>\n",
       "      <th>4</th>\n",
       "      <td>10029</td>\n",
       "      <td>Dunkerque - Rocroy</td>\n",
       "      <td>24</td>\n",
       "      <td>48.880726, 2.351464</td>\n",
       "    </tr>\n",
       "  </tbody>\n",
       "</table>\n",
       "</div>"
      ],
      "text/plain": [
       "   Identifiant station                           Nom de la station  \\\n",
       "0                17026                  Jouffroy d'Abbans - Wagram   \n",
       "1                 5016                   Thouin - Cardinal Lemoine   \n",
       "2                15068  Général Martial Valin - Pont du Garigliano   \n",
       "3                10115                          Granges aux Belles   \n",
       "4                10029                          Dunkerque - Rocroy   \n",
       "\n",
       "   Capacité de la station              Coordonnées géographiques  \n",
       "0                      40        48.881973298352, 2.301132157445  \n",
       "1                      17  48.84504716661511, 2.3494647851273465  \n",
       "2                      16   48.83823094269141, 2.270506024360657  \n",
       "3                      27      48.8761373390584, 2.3680844979417  \n",
       "4                      24                    48.880726, 2.351464  "
      ]
     },
     "execution_count": 26,
     "metadata": {},
     "output_type": "execute_result"
    }
   ],
   "source": [
    "df.head()"
   ]
  },
  {
   "cell_type": "code",
   "execution_count": 27,
   "metadata": {},
   "outputs": [],
   "source": [
    "df = df.drop(columns=[\n",
    "    'Identifiant station',\n",
    "    'Nom de la station'\n",
    "])"
   ]
  },
  {
   "cell_type": "code",
   "execution_count": 28,
   "metadata": {},
   "outputs": [
    {
     "data": {
      "text/html": [
       "<div>\n",
       "<style scoped>\n",
       "    .dataframe tbody tr th:only-of-type {\n",
       "        vertical-align: middle;\n",
       "    }\n",
       "\n",
       "    .dataframe tbody tr th {\n",
       "        vertical-align: top;\n",
       "    }\n",
       "\n",
       "    .dataframe thead th {\n",
       "        text-align: right;\n",
       "    }\n",
       "</style>\n",
       "<table border=\"1\" class=\"dataframe\">\n",
       "  <thead>\n",
       "    <tr style=\"text-align: right;\">\n",
       "      <th></th>\n",
       "      <th>Capacité de la station</th>\n",
       "      <th>Coordonnées géographiques</th>\n",
       "    </tr>\n",
       "  </thead>\n",
       "  <tbody>\n",
       "    <tr>\n",
       "      <th>0</th>\n",
       "      <td>40</td>\n",
       "      <td>48.881973298352, 2.301132157445</td>\n",
       "    </tr>\n",
       "    <tr>\n",
       "      <th>1</th>\n",
       "      <td>17</td>\n",
       "      <td>48.84504716661511, 2.3494647851273465</td>\n",
       "    </tr>\n",
       "    <tr>\n",
       "      <th>2</th>\n",
       "      <td>16</td>\n",
       "      <td>48.83823094269141, 2.270506024360657</td>\n",
       "    </tr>\n",
       "    <tr>\n",
       "      <th>3</th>\n",
       "      <td>27</td>\n",
       "      <td>48.8761373390584, 2.3680844979417</td>\n",
       "    </tr>\n",
       "    <tr>\n",
       "      <th>4</th>\n",
       "      <td>24</td>\n",
       "      <td>48.880726, 2.351464</td>\n",
       "    </tr>\n",
       "  </tbody>\n",
       "</table>\n",
       "</div>"
      ],
      "text/plain": [
       "   Capacité de la station              Coordonnées géographiques\n",
       "0                      40        48.881973298352, 2.301132157445\n",
       "1                      17  48.84504716661511, 2.3494647851273465\n",
       "2                      16   48.83823094269141, 2.270506024360657\n",
       "3                      27      48.8761373390584, 2.3680844979417\n",
       "4                      24                    48.880726, 2.351464"
      ]
     },
     "execution_count": 28,
     "metadata": {},
     "output_type": "execute_result"
    }
   ],
   "source": [
    "df.head()"
   ]
  },
  {
   "cell_type": "markdown",
   "metadata": {},
   "source": [
    "## **<u>Modifying the remaining columns:</u>**"
   ]
  },
  {
   "cell_type": "markdown",
   "metadata": {},
   "source": [
    "First we remove the Coordonnées géographiques column and replace it with latitude and longitude columns:"
   ]
  },
  {
   "cell_type": "code",
   "execution_count": 29,
   "metadata": {},
   "outputs": [],
   "source": [
    "df[['latitude', 'longitude']] = df['Coordonnées géographiques'].str.split(',', expand=True)\n",
    "\n",
    "df['latitude'] = df['latitude'].astype(float)\n",
    "df['longitude'] = df['longitude'].astype(float)\n",
    "\n",
    "df = df.drop(columns=['Coordonnées géographiques'])"
   ]
  },
  {
   "cell_type": "code",
   "execution_count": 30,
   "metadata": {},
   "outputs": [
    {
     "data": {
      "text/html": [
       "<div>\n",
       "<style scoped>\n",
       "    .dataframe tbody tr th:only-of-type {\n",
       "        vertical-align: middle;\n",
       "    }\n",
       "\n",
       "    .dataframe tbody tr th {\n",
       "        vertical-align: top;\n",
       "    }\n",
       "\n",
       "    .dataframe thead th {\n",
       "        text-align: right;\n",
       "    }\n",
       "</style>\n",
       "<table border=\"1\" class=\"dataframe\">\n",
       "  <thead>\n",
       "    <tr style=\"text-align: right;\">\n",
       "      <th></th>\n",
       "      <th>Capacité de la station</th>\n",
       "      <th>latitude</th>\n",
       "      <th>longitude</th>\n",
       "    </tr>\n",
       "  </thead>\n",
       "  <tbody>\n",
       "    <tr>\n",
       "      <th>0</th>\n",
       "      <td>40</td>\n",
       "      <td>48.881973</td>\n",
       "      <td>2.301132</td>\n",
       "    </tr>\n",
       "    <tr>\n",
       "      <th>1</th>\n",
       "      <td>17</td>\n",
       "      <td>48.845047</td>\n",
       "      <td>2.349465</td>\n",
       "    </tr>\n",
       "    <tr>\n",
       "      <th>2</th>\n",
       "      <td>16</td>\n",
       "      <td>48.838231</td>\n",
       "      <td>2.270506</td>\n",
       "    </tr>\n",
       "    <tr>\n",
       "      <th>3</th>\n",
       "      <td>27</td>\n",
       "      <td>48.876137</td>\n",
       "      <td>2.368084</td>\n",
       "    </tr>\n",
       "    <tr>\n",
       "      <th>4</th>\n",
       "      <td>24</td>\n",
       "      <td>48.880726</td>\n",
       "      <td>2.351464</td>\n",
       "    </tr>\n",
       "  </tbody>\n",
       "</table>\n",
       "</div>"
      ],
      "text/plain": [
       "   Capacité de la station   latitude  longitude\n",
       "0                      40  48.881973   2.301132\n",
       "1                      17  48.845047   2.349465\n",
       "2                      16  48.838231   2.270506\n",
       "3                      27  48.876137   2.368084\n",
       "4                      24  48.880726   2.351464"
      ]
     },
     "execution_count": 30,
     "metadata": {},
     "output_type": "execute_result"
    }
   ],
   "source": [
    "df.head()"
   ]
  },
  {
   "cell_type": "markdown",
   "metadata": {},
   "source": [
    "## **<u>Creating a csv file with the cleaned data:</u>**"
   ]
  },
  {
   "cell_type": "code",
   "execution_count": 31,
   "metadata": {},
   "outputs": [],
   "source": [
    "df.to_csv(\"info_velib_v1.csv\", index=False)"
   ]
  },
  {
   "cell_type": "markdown",
   "metadata": {},
   "source": [
    "## **<u>Merging the two datasets:</u>**"
   ]
  },
  {
   "cell_type": "code",
   "execution_count": 11,
   "metadata": {},
   "outputs": [],
   "source": [
    "df_original = pd.read_csv('../../../df_original.csv')"
   ]
  },
  {
   "cell_type": "code",
   "execution_count": 38,
   "metadata": {},
   "outputs": [],
   "source": [
    "from sklearn.neighbors import BallTree\n",
    "import numpy as np\n",
    "\n",
    "\n",
    "# Convert lat/lon to radians for haversine distance calculation\n",
    "lat_lon_stations = np.deg2rad(df[['latitude', 'longitude']].values)\n",
    "lat_lon_original = np.deg2rad(df_original[['latitude', 'longitude']].values)\n",
    "\n",
    "# Create a BallTree with station coordinates\n",
    "tree = BallTree(lat_lon_stations, metric='haversine')\n",
    "\n",
    "# Define your search radius in meters and convert to radians (Earth radius is approximately 6371 km)\n",
    "radius = 200 / 6371000  # Example radius of 500 meters\n",
    "\n",
    "# Query the tree for stations within the radius for each point in df_original\n",
    "indices = tree.query_radius(lat_lon_original, r=radius)\n",
    "\n",
    "# Calculate the sum of capacities for stations within the radius for each site in df_original\n",
    "df_original['total_nearby_station_capacity'] = [df.iloc[index]['Capacité de la station'].sum() for index in indices]\n",
    "df_original['number_of_nearby_stations'] = [len(index) for index in indices]\n"
   ]
  },
  {
   "cell_type": "code",
   "execution_count": 39,
   "metadata": {},
   "outputs": [
    {
     "data": {
      "text/html": [
       "<div>\n",
       "<style scoped>\n",
       "    .dataframe tbody tr th:only-of-type {\n",
       "        vertical-align: middle;\n",
       "    }\n",
       "\n",
       "    .dataframe tbody tr th {\n",
       "        vertical-align: top;\n",
       "    }\n",
       "\n",
       "    .dataframe thead th {\n",
       "        text-align: right;\n",
       "    }\n",
       "</style>\n",
       "<table border=\"1\" class=\"dataframe\">\n",
       "  <thead>\n",
       "    <tr style=\"text-align: right;\">\n",
       "      <th></th>\n",
       "      <th>counter_id</th>\n",
       "      <th>counter_name</th>\n",
       "      <th>site_id</th>\n",
       "      <th>site_name</th>\n",
       "      <th>date</th>\n",
       "      <th>counter_installation_date</th>\n",
       "      <th>coordinates</th>\n",
       "      <th>counter_technical_id</th>\n",
       "      <th>latitude</th>\n",
       "      <th>longitude</th>\n",
       "      <th>total_nearby_station_capacity</th>\n",
       "      <th>number_of_nearby_stations</th>\n",
       "    </tr>\n",
       "  </thead>\n",
       "  <tbody>\n",
       "    <tr>\n",
       "      <th>0</th>\n",
       "      <td>100007049-102007049</td>\n",
       "      <td>28 boulevard Diderot E-O</td>\n",
       "      <td>100007049</td>\n",
       "      <td>28 boulevard Diderot</td>\n",
       "      <td>2020-09-01 02:00:00</td>\n",
       "      <td>2013-01-18</td>\n",
       "      <td>48.846028,2.375429</td>\n",
       "      <td>Y2H15027244</td>\n",
       "      <td>48.846028</td>\n",
       "      <td>2.375429</td>\n",
       "      <td>99</td>\n",
       "      <td>2</td>\n",
       "    </tr>\n",
       "    <tr>\n",
       "      <th>1</th>\n",
       "      <td>100007049-102007049</td>\n",
       "      <td>28 boulevard Diderot E-O</td>\n",
       "      <td>100007049</td>\n",
       "      <td>28 boulevard Diderot</td>\n",
       "      <td>2020-09-01 03:00:00</td>\n",
       "      <td>2013-01-18</td>\n",
       "      <td>48.846028,2.375429</td>\n",
       "      <td>Y2H15027244</td>\n",
       "      <td>48.846028</td>\n",
       "      <td>2.375429</td>\n",
       "      <td>99</td>\n",
       "      <td>2</td>\n",
       "    </tr>\n",
       "    <tr>\n",
       "      <th>2</th>\n",
       "      <td>100007049-102007049</td>\n",
       "      <td>28 boulevard Diderot E-O</td>\n",
       "      <td>100007049</td>\n",
       "      <td>28 boulevard Diderot</td>\n",
       "      <td>2020-09-01 04:00:00</td>\n",
       "      <td>2013-01-18</td>\n",
       "      <td>48.846028,2.375429</td>\n",
       "      <td>Y2H15027244</td>\n",
       "      <td>48.846028</td>\n",
       "      <td>2.375429</td>\n",
       "      <td>99</td>\n",
       "      <td>2</td>\n",
       "    </tr>\n",
       "    <tr>\n",
       "      <th>3</th>\n",
       "      <td>100007049-102007049</td>\n",
       "      <td>28 boulevard Diderot E-O</td>\n",
       "      <td>100007049</td>\n",
       "      <td>28 boulevard Diderot</td>\n",
       "      <td>2020-09-01 15:00:00</td>\n",
       "      <td>2013-01-18</td>\n",
       "      <td>48.846028,2.375429</td>\n",
       "      <td>Y2H15027244</td>\n",
       "      <td>48.846028</td>\n",
       "      <td>2.375429</td>\n",
       "      <td>99</td>\n",
       "      <td>2</td>\n",
       "    </tr>\n",
       "    <tr>\n",
       "      <th>4</th>\n",
       "      <td>100007049-102007049</td>\n",
       "      <td>28 boulevard Diderot E-O</td>\n",
       "      <td>100007049</td>\n",
       "      <td>28 boulevard Diderot</td>\n",
       "      <td>2020-09-01 18:00:00</td>\n",
       "      <td>2013-01-18</td>\n",
       "      <td>48.846028,2.375429</td>\n",
       "      <td>Y2H15027244</td>\n",
       "      <td>48.846028</td>\n",
       "      <td>2.375429</td>\n",
       "      <td>99</td>\n",
       "      <td>2</td>\n",
       "    </tr>\n",
       "    <tr>\n",
       "      <th>...</th>\n",
       "      <td>...</td>\n",
       "      <td>...</td>\n",
       "      <td>...</td>\n",
       "      <td>...</td>\n",
       "      <td>...</td>\n",
       "      <td>...</td>\n",
       "      <td>...</td>\n",
       "      <td>...</td>\n",
       "      <td>...</td>\n",
       "      <td>...</td>\n",
       "      <td>...</td>\n",
       "      <td>...</td>\n",
       "    </tr>\n",
       "    <tr>\n",
       "      <th>496822</th>\n",
       "      <td>300014702-353245971</td>\n",
       "      <td>254 rue de Vaugirard SO-NE</td>\n",
       "      <td>300014702</td>\n",
       "      <td>254 rue de Vaugirard</td>\n",
       "      <td>2021-09-09 06:00:00</td>\n",
       "      <td>2020-11-29</td>\n",
       "      <td>48.83977,2.30198</td>\n",
       "      <td>Y2H20114504</td>\n",
       "      <td>48.839770</td>\n",
       "      <td>2.301980</td>\n",
       "      <td>102</td>\n",
       "      <td>2</td>\n",
       "    </tr>\n",
       "    <tr>\n",
       "      <th>496823</th>\n",
       "      <td>300014702-353245971</td>\n",
       "      <td>254 rue de Vaugirard SO-NE</td>\n",
       "      <td>300014702</td>\n",
       "      <td>254 rue de Vaugirard</td>\n",
       "      <td>2021-09-09 10:00:00</td>\n",
       "      <td>2020-11-29</td>\n",
       "      <td>48.83977,2.30198</td>\n",
       "      <td>Y2H20114504</td>\n",
       "      <td>48.839770</td>\n",
       "      <td>2.301980</td>\n",
       "      <td>102</td>\n",
       "      <td>2</td>\n",
       "    </tr>\n",
       "    <tr>\n",
       "      <th>496824</th>\n",
       "      <td>300014702-353245971</td>\n",
       "      <td>254 rue de Vaugirard SO-NE</td>\n",
       "      <td>300014702</td>\n",
       "      <td>254 rue de Vaugirard</td>\n",
       "      <td>2021-09-09 15:00:00</td>\n",
       "      <td>2020-11-29</td>\n",
       "      <td>48.83977,2.30198</td>\n",
       "      <td>Y2H20114504</td>\n",
       "      <td>48.839770</td>\n",
       "      <td>2.301980</td>\n",
       "      <td>102</td>\n",
       "      <td>2</td>\n",
       "    </tr>\n",
       "    <tr>\n",
       "      <th>496825</th>\n",
       "      <td>300014702-353245971</td>\n",
       "      <td>254 rue de Vaugirard SO-NE</td>\n",
       "      <td>300014702</td>\n",
       "      <td>254 rue de Vaugirard</td>\n",
       "      <td>2021-09-09 22:00:00</td>\n",
       "      <td>2020-11-29</td>\n",
       "      <td>48.83977,2.30198</td>\n",
       "      <td>Y2H20114504</td>\n",
       "      <td>48.839770</td>\n",
       "      <td>2.301980</td>\n",
       "      <td>102</td>\n",
       "      <td>2</td>\n",
       "    </tr>\n",
       "    <tr>\n",
       "      <th>496826</th>\n",
       "      <td>300014702-353245971</td>\n",
       "      <td>254 rue de Vaugirard SO-NE</td>\n",
       "      <td>300014702</td>\n",
       "      <td>254 rue de Vaugirard</td>\n",
       "      <td>2021-09-09 23:00:00</td>\n",
       "      <td>2020-11-29</td>\n",
       "      <td>48.83977,2.30198</td>\n",
       "      <td>Y2H20114504</td>\n",
       "      <td>48.839770</td>\n",
       "      <td>2.301980</td>\n",
       "      <td>102</td>\n",
       "      <td>2</td>\n",
       "    </tr>\n",
       "  </tbody>\n",
       "</table>\n",
       "<p>496827 rows × 12 columns</p>\n",
       "</div>"
      ],
      "text/plain": [
       "                 counter_id                counter_name    site_id  \\\n",
       "0       100007049-102007049    28 boulevard Diderot E-O  100007049   \n",
       "1       100007049-102007049    28 boulevard Diderot E-O  100007049   \n",
       "2       100007049-102007049    28 boulevard Diderot E-O  100007049   \n",
       "3       100007049-102007049    28 boulevard Diderot E-O  100007049   \n",
       "4       100007049-102007049    28 boulevard Diderot E-O  100007049   \n",
       "...                     ...                         ...        ...   \n",
       "496822  300014702-353245971  254 rue de Vaugirard SO-NE  300014702   \n",
       "496823  300014702-353245971  254 rue de Vaugirard SO-NE  300014702   \n",
       "496824  300014702-353245971  254 rue de Vaugirard SO-NE  300014702   \n",
       "496825  300014702-353245971  254 rue de Vaugirard SO-NE  300014702   \n",
       "496826  300014702-353245971  254 rue de Vaugirard SO-NE  300014702   \n",
       "\n",
       "                   site_name                 date counter_installation_date  \\\n",
       "0       28 boulevard Diderot  2020-09-01 02:00:00                2013-01-18   \n",
       "1       28 boulevard Diderot  2020-09-01 03:00:00                2013-01-18   \n",
       "2       28 boulevard Diderot  2020-09-01 04:00:00                2013-01-18   \n",
       "3       28 boulevard Diderot  2020-09-01 15:00:00                2013-01-18   \n",
       "4       28 boulevard Diderot  2020-09-01 18:00:00                2013-01-18   \n",
       "...                      ...                  ...                       ...   \n",
       "496822  254 rue de Vaugirard  2021-09-09 06:00:00                2020-11-29   \n",
       "496823  254 rue de Vaugirard  2021-09-09 10:00:00                2020-11-29   \n",
       "496824  254 rue de Vaugirard  2021-09-09 15:00:00                2020-11-29   \n",
       "496825  254 rue de Vaugirard  2021-09-09 22:00:00                2020-11-29   \n",
       "496826  254 rue de Vaugirard  2021-09-09 23:00:00                2020-11-29   \n",
       "\n",
       "               coordinates counter_technical_id   latitude  longitude  \\\n",
       "0       48.846028,2.375429          Y2H15027244  48.846028   2.375429   \n",
       "1       48.846028,2.375429          Y2H15027244  48.846028   2.375429   \n",
       "2       48.846028,2.375429          Y2H15027244  48.846028   2.375429   \n",
       "3       48.846028,2.375429          Y2H15027244  48.846028   2.375429   \n",
       "4       48.846028,2.375429          Y2H15027244  48.846028   2.375429   \n",
       "...                    ...                  ...        ...        ...   \n",
       "496822    48.83977,2.30198          Y2H20114504  48.839770   2.301980   \n",
       "496823    48.83977,2.30198          Y2H20114504  48.839770   2.301980   \n",
       "496824    48.83977,2.30198          Y2H20114504  48.839770   2.301980   \n",
       "496825    48.83977,2.30198          Y2H20114504  48.839770   2.301980   \n",
       "496826    48.83977,2.30198          Y2H20114504  48.839770   2.301980   \n",
       "\n",
       "        total_nearby_station_capacity  number_of_nearby_stations  \n",
       "0                                  99                          2  \n",
       "1                                  99                          2  \n",
       "2                                  99                          2  \n",
       "3                                  99                          2  \n",
       "4                                  99                          2  \n",
       "...                               ...                        ...  \n",
       "496822                            102                          2  \n",
       "496823                            102                          2  \n",
       "496824                            102                          2  \n",
       "496825                            102                          2  \n",
       "496826                            102                          2  \n",
       "\n",
       "[496827 rows x 12 columns]"
      ]
     },
     "execution_count": 39,
     "metadata": {},
     "output_type": "execute_result"
    }
   ],
   "source": [
    "df_original"
   ]
  },
  {
   "cell_type": "code",
   "execution_count": 40,
   "metadata": {},
   "outputs": [
    {
     "data": {
      "text/plain": [
       "counter_id                         56\n",
       "counter_name                       56\n",
       "site_id                            30\n",
       "site_name                          30\n",
       "date                             8974\n",
       "counter_installation_date          22\n",
       "coordinates                        30\n",
       "counter_technical_id               30\n",
       "latitude                           30\n",
       "longitude                          30\n",
       "total_nearby_station_capacity      21\n",
       "number_of_nearby_stations           6\n",
       "dtype: int64"
      ]
     },
     "execution_count": 40,
     "metadata": {},
     "output_type": "execute_result"
    }
   ],
   "source": [
    "df_original.nunique()"
   ]
  }
 ],
 "metadata": {
  "kernelspec": {
   "display_name": "base",
   "language": "python",
   "name": "python3"
  },
  "language_info": {
   "codemirror_mode": {
    "name": "ipython",
    "version": 3
   },
   "file_extension": ".py",
   "mimetype": "text/x-python",
   "name": "python",
   "nbconvert_exporter": "python",
   "pygments_lexer": "ipython3",
   "version": "3.11.4"
  }
 },
 "nbformat": 4,
 "nbformat_minor": 2
}
