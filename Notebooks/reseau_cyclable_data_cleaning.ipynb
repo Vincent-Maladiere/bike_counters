{
 "cells": [
  {
   "cell_type": "markdown",
   "metadata": {},
   "source": [
    "# **<u>Cleaning the reseau cyclable data:</u>**"
   ]
  },
  {
   "cell_type": "code",
   "execution_count": 132,
   "metadata": {},
   "outputs": [],
   "source": [
    "import pandas as pd"
   ]
  },
  {
   "cell_type": "markdown",
   "metadata": {},
   "source": [
    "## **<u>Loading the data using Pandas:</u>**"
   ]
  },
  {
   "cell_type": "code",
   "execution_count": 133,
   "metadata": {},
   "outputs": [],
   "source": [
    "df = pd.read_csv('../external_data/reseau-cyclable.csv', sep=';')"
   ]
  },
  {
   "cell_type": "code",
   "execution_count": 134,
   "metadata": {},
   "outputs": [
    {
     "data": {
      "text/plain": [
       "(12259, 18)"
      ]
     },
     "execution_count": 134,
     "metadata": {},
     "output_type": "execute_result"
    }
   ],
   "source": [
    "df.shape"
   ]
  },
  {
   "cell_type": "code",
   "execution_count": 135,
   "metadata": {},
   "outputs": [
    {
     "data": {
      "text/html": [
       "<div>\n",
       "<style scoped>\n",
       "    .dataframe tbody tr th:only-of-type {\n",
       "        vertical-align: middle;\n",
       "    }\n",
       "\n",
       "    .dataframe tbody tr th {\n",
       "        vertical-align: top;\n",
       "    }\n",
       "\n",
       "    .dataframe thead th {\n",
       "        text-align: right;\n",
       "    }\n",
       "</style>\n",
       "<table border=\"1\" class=\"dataframe\">\n",
       "  <thead>\n",
       "    <tr style=\"text-align: right;\">\n",
       "      <th></th>\n",
       "      <th>Typologie</th>\n",
       "      <th>Aménagement bidirectionnel</th>\n",
       "      <th>Régime de vitesse</th>\n",
       "      <th>Sens vélo</th>\n",
       "      <th>Voie</th>\n",
       "      <th>Arrondissement</th>\n",
       "      <th>Bois</th>\n",
       "      <th>Longueur du tronçon en m</th>\n",
       "      <th>Longueur du tronçon en km</th>\n",
       "      <th>Position aménagement</th>\n",
       "      <th>Circulation générale interdite</th>\n",
       "      <th>Piste</th>\n",
       "      <th>Couloir bus</th>\n",
       "      <th>Continuité cyclable</th>\n",
       "      <th>Réseau cyclable</th>\n",
       "      <th>Date de livraison</th>\n",
       "      <th>geo_shape</th>\n",
       "      <th>geo_point_2d</th>\n",
       "    </tr>\n",
       "  </thead>\n",
       "  <tbody>\n",
       "    <tr>\n",
       "      <th>0</th>\n",
       "      <td>Autres itinéraires cyclables (ex : Aires piéto...</td>\n",
       "      <td>Non</td>\n",
       "      <td>ZONE DE RENCONTRE</td>\n",
       "      <td>CONTRESENS</td>\n",
       "      <td>RUE DU COMMERCE</td>\n",
       "      <td>15.0</td>\n",
       "      <td>Non</td>\n",
       "      <td>87.926338</td>\n",
       "      <td>0.087926</td>\n",
       "      <td>NaN</td>\n",
       "      <td>NaN</td>\n",
       "      <td>NaN</td>\n",
       "      <td>NaN</td>\n",
       "      <td>NaN</td>\n",
       "      <td>NaN</td>\n",
       "      <td>2010-06-24</td>\n",
       "      <td>{\"coordinates\": [[2.293083958516798, 48.843748...</td>\n",
       "      <td>48.84409207890453, 2.293380347789903</td>\n",
       "    </tr>\n",
       "    <tr>\n",
       "      <th>1</th>\n",
       "      <td>Autres itinéraires cyclables (ex : Aires piéto...</td>\n",
       "      <td>Oui</td>\n",
       "      <td>AIRE PIETONNE</td>\n",
       "      <td>NaN</td>\n",
       "      <td>RUE BERGER</td>\n",
       "      <td>1.0</td>\n",
       "      <td>Non</td>\n",
       "      <td>529.690126</td>\n",
       "      <td>0.529690</td>\n",
       "      <td>NaN</td>\n",
       "      <td>Oui</td>\n",
       "      <td>NaN</td>\n",
       "      <td>NaN</td>\n",
       "      <td>NaN</td>\n",
       "      <td>NaN</td>\n",
       "      <td>NaN</td>\n",
       "      <td>{\"coordinates\": [[2.3492832350173454, 48.86062...</td>\n",
       "      <td>48.86144634862935, 2.345894785886982</td>\n",
       "    </tr>\n",
       "    <tr>\n",
       "      <th>2</th>\n",
       "      <td>Autres itinéraires cyclables (ex : Aires piéto...</td>\n",
       "      <td>Oui</td>\n",
       "      <td>AIRE PIETONNE</td>\n",
       "      <td>NaN</td>\n",
       "      <td>RUE DES INNOCENTS</td>\n",
       "      <td>1.0</td>\n",
       "      <td>Non</td>\n",
       "      <td>126.965432</td>\n",
       "      <td>0.126965</td>\n",
       "      <td>NaN</td>\n",
       "      <td>Oui</td>\n",
       "      <td>NaN</td>\n",
       "      <td>NaN</td>\n",
       "      <td>NaN</td>\n",
       "      <td>NaN</td>\n",
       "      <td>NaN</td>\n",
       "      <td>{\"coordinates\": [[2.3483798820517454, 48.86035...</td>\n",
       "      <td>48.86046041147555, 2.3475289590661257</td>\n",
       "    </tr>\n",
       "    <tr>\n",
       "      <th>3</th>\n",
       "      <td>Pistes cyclables</td>\n",
       "      <td>Oui</td>\n",
       "      <td>VOIE 50</td>\n",
       "      <td>NaN</td>\n",
       "      <td>QUAI D IVRY</td>\n",
       "      <td>13.0</td>\n",
       "      <td>Non</td>\n",
       "      <td>6.637209</td>\n",
       "      <td>0.006637</td>\n",
       "      <td>NaN</td>\n",
       "      <td>NaN</td>\n",
       "      <td>NaN</td>\n",
       "      <td>NaN</td>\n",
       "      <td>Traversée de carrefour</td>\n",
       "      <td>REVe</td>\n",
       "      <td>2009-01-01</td>\n",
       "      <td>{\"coordinates\": [[2.3885659614618393, 48.82520...</td>\n",
       "      <td>48.82517529257512, 2.3885470936122104</td>\n",
       "    </tr>\n",
       "    <tr>\n",
       "      <th>4</th>\n",
       "      <td>Autres itinéraires cyclables (ex : Aires piéto...</td>\n",
       "      <td>Oui</td>\n",
       "      <td>AIRE PIETONNE</td>\n",
       "      <td>CONTRESENS</td>\n",
       "      <td>RUE SAINTE-APOLLINE</td>\n",
       "      <td>2.0</td>\n",
       "      <td>Non</td>\n",
       "      <td>111.054291</td>\n",
       "      <td>0.111054</td>\n",
       "      <td>NaN</td>\n",
       "      <td>NaN</td>\n",
       "      <td>NaN</td>\n",
       "      <td>NaN</td>\n",
       "      <td>NaN</td>\n",
       "      <td>NaN</td>\n",
       "      <td>NaN</td>\n",
       "      <td>{\"coordinates\": [[2.352386530154109, 48.869240...</td>\n",
       "      <td>48.869096664626994, 2.35311174255617</td>\n",
       "    </tr>\n",
       "  </tbody>\n",
       "</table>\n",
       "</div>"
      ],
      "text/plain": [
       "                                           Typologie  \\\n",
       "0  Autres itinéraires cyclables (ex : Aires piéto...   \n",
       "1  Autres itinéraires cyclables (ex : Aires piéto...   \n",
       "2  Autres itinéraires cyclables (ex : Aires piéto...   \n",
       "3                                   Pistes cyclables   \n",
       "4  Autres itinéraires cyclables (ex : Aires piéto...   \n",
       "\n",
       "  Aménagement bidirectionnel  Régime de vitesse   Sens vélo  \\\n",
       "0                        Non  ZONE DE RENCONTRE  CONTRESENS   \n",
       "1                        Oui      AIRE PIETONNE         NaN   \n",
       "2                        Oui      AIRE PIETONNE         NaN   \n",
       "3                        Oui            VOIE 50         NaN   \n",
       "4                        Oui      AIRE PIETONNE  CONTRESENS   \n",
       "\n",
       "                  Voie  Arrondissement Bois  Longueur du tronçon en m  \\\n",
       "0      RUE DU COMMERCE            15.0  Non                 87.926338   \n",
       "1           RUE BERGER             1.0  Non                529.690126   \n",
       "2    RUE DES INNOCENTS             1.0  Non                126.965432   \n",
       "3          QUAI D IVRY            13.0  Non                  6.637209   \n",
       "4  RUE SAINTE-APOLLINE             2.0  Non                111.054291   \n",
       "\n",
       "   Longueur du tronçon en km Position aménagement  \\\n",
       "0                   0.087926                  NaN   \n",
       "1                   0.529690                  NaN   \n",
       "2                   0.126965                  NaN   \n",
       "3                   0.006637                  NaN   \n",
       "4                   0.111054                  NaN   \n",
       "\n",
       "  Circulation générale interdite Piste Couloir bus     Continuité cyclable  \\\n",
       "0                            NaN   NaN         NaN                     NaN   \n",
       "1                            Oui   NaN         NaN                     NaN   \n",
       "2                            Oui   NaN         NaN                     NaN   \n",
       "3                            NaN   NaN         NaN  Traversée de carrefour   \n",
       "4                            NaN   NaN         NaN                     NaN   \n",
       "\n",
       "  Réseau cyclable Date de livraison  \\\n",
       "0             NaN        2010-06-24   \n",
       "1             NaN               NaN   \n",
       "2             NaN               NaN   \n",
       "3            REVe        2009-01-01   \n",
       "4             NaN               NaN   \n",
       "\n",
       "                                           geo_shape  \\\n",
       "0  {\"coordinates\": [[2.293083958516798, 48.843748...   \n",
       "1  {\"coordinates\": [[2.3492832350173454, 48.86062...   \n",
       "2  {\"coordinates\": [[2.3483798820517454, 48.86035...   \n",
       "3  {\"coordinates\": [[2.3885659614618393, 48.82520...   \n",
       "4  {\"coordinates\": [[2.352386530154109, 48.869240...   \n",
       "\n",
       "                            geo_point_2d  \n",
       "0   48.84409207890453, 2.293380347789903  \n",
       "1   48.86144634862935, 2.345894785886982  \n",
       "2  48.86046041147555, 2.3475289590661257  \n",
       "3  48.82517529257512, 2.3885470936122104  \n",
       "4   48.869096664626994, 2.35311174255617  "
      ]
     },
     "execution_count": 135,
     "metadata": {},
     "output_type": "execute_result"
    }
   ],
   "source": [
    "df.head()"
   ]
  },
  {
   "cell_type": "markdown",
   "metadata": {},
   "source": [
    "## **<u>Checking for null values:</u>**"
   ]
  },
  {
   "cell_type": "markdown",
   "metadata": {},
   "source": [
    "Overall null values:"
   ]
  },
  {
   "cell_type": "code",
   "execution_count": 136,
   "metadata": {},
   "outputs": [
    {
     "data": {
      "text/plain": [
       "Réseau cyclable                   11437\n",
       "Position aménagement              11154\n",
       "Circulation générale interdite    11141\n",
       "Couloir bus                       10410\n",
       "Continuité cyclable                9423\n",
       "Piste                              9008\n",
       "Date de livraison                  4011\n",
       "Sens vélo                          1030\n",
       "Aménagement bidirectionnel          626\n",
       "Voie                                 56\n",
       "Régime de vitesse                    18\n",
       "Arrondissement                        4\n",
       "geo_shape                             1\n",
       "Typologie                             1\n",
       "geo_point_2d                          1\n",
       "Longueur du tronçon en km             0\n",
       "Longueur du tronçon en m              0\n",
       "Bois                                  0\n",
       "dtype: int64"
      ]
     },
     "execution_count": 136,
     "metadata": {},
     "output_type": "execute_result"
    }
   ],
   "source": [
    "df.isna().sum().sort_values(ascending=False)"
   ]
  },
  {
   "cell_type": "markdown",
   "metadata": {},
   "source": [
    "Null values percentages:"
   ]
  },
  {
   "cell_type": "code",
   "execution_count": 137,
   "metadata": {},
   "outputs": [
    {
     "data": {
      "text/plain": [
       "Réseau cyclable                   93.294722\n",
       "Position aménagement              90.986214\n",
       "Circulation générale interdite    90.880170\n",
       "Couloir bus                       84.917204\n",
       "Continuité cyclable               76.865976\n",
       "Piste                             73.480708\n",
       "Date de livraison                 32.718819\n",
       "Sens vélo                          8.401990\n",
       "Aménagement bidirectionnel         5.106452\n",
       "Voie                               0.456807\n",
       "Régime de vitesse                  0.146831\n",
       "Arrondissement                     0.032629\n",
       "geo_shape                          0.008157\n",
       "Typologie                          0.008157\n",
       "geo_point_2d                       0.008157\n",
       "Longueur du tronçon en km          0.000000\n",
       "Longueur du tronçon en m           0.000000\n",
       "Bois                               0.000000\n",
       "dtype: float64"
      ]
     },
     "execution_count": 137,
     "metadata": {},
     "output_type": "execute_result"
    }
   ],
   "source": [
    "null_percentages = (df.isnull().sum() / len(df)) * 100\n",
    "null_percentages.sort_values(ascending=False)"
   ]
  },
  {
   "cell_type": "markdown",
   "metadata": {},
   "source": [
    "By convention, we drop the columns with null values percentage >70% since they don't provide enough data to be of any help:"
   ]
  },
  {
   "cell_type": "code",
   "execution_count": 138,
   "metadata": {},
   "outputs": [],
   "source": [
    "cat_to_delete = null_percentages[null_percentages > 70]\n",
    "df = df.drop(columns = list(cat_to_delete.index))"
   ]
  },
  {
   "cell_type": "code",
   "execution_count": 139,
   "metadata": {},
   "outputs": [
    {
     "data": {
      "text/plain": [
       "Date de livraison             32.718819\n",
       "Sens vélo                      8.401990\n",
       "Aménagement bidirectionnel     5.106452\n",
       "Voie                           0.456807\n",
       "Régime de vitesse              0.146831\n",
       "Arrondissement                 0.032629\n",
       "Typologie                      0.008157\n",
       "geo_shape                      0.008157\n",
       "geo_point_2d                   0.008157\n",
       "Bois                           0.000000\n",
       "Longueur du tronçon en m       0.000000\n",
       "Longueur du tronçon en km      0.000000\n",
       "dtype: float64"
      ]
     },
     "execution_count": 139,
     "metadata": {},
     "output_type": "execute_result"
    }
   ],
   "source": [
    "null_percentages = (df.isnull().sum() / len(df)) * 100\n",
    "null_percentages.sort_values(ascending=False)"
   ]
  },
  {
   "cell_type": "markdown",
   "metadata": {},
   "source": [
    "Additionally, we also drop rows for features that have less than 5% of null values by convention:"
   ]
  },
  {
   "cell_type": "code",
   "execution_count": 140,
   "metadata": {},
   "outputs": [],
   "source": [
    "rows_to_delete = null_percentages[null_percentages < 5]\n",
    "df = df.dropna(subset=list(rows_to_delete.index))"
   ]
  },
  {
   "cell_type": "code",
   "execution_count": 141,
   "metadata": {},
   "outputs": [
    {
     "data": {
      "text/plain": [
       "Date de livraison             32.849171\n",
       "Sens vélo                      8.271787\n",
       "Aménagement bidirectionnel     5.054981\n",
       "Typologie                      0.000000\n",
       "Régime de vitesse              0.000000\n",
       "Voie                           0.000000\n",
       "Arrondissement                 0.000000\n",
       "Bois                           0.000000\n",
       "Longueur du tronçon en m       0.000000\n",
       "Longueur du tronçon en km      0.000000\n",
       "geo_shape                      0.000000\n",
       "geo_point_2d                   0.000000\n",
       "dtype: float64"
      ]
     },
     "execution_count": 141,
     "metadata": {},
     "output_type": "execute_result"
    }
   ],
   "source": [
    "null_percentages = (df.isnull().sum() / len(df)) * 100\n",
    "null_percentages.sort_values(ascending=False)"
   ]
  },
  {
   "cell_type": "markdown",
   "metadata": {},
   "source": [
    "## **<u>Checking for relevance of remaining columns:</u>**"
   ]
  },
  {
   "cell_type": "code",
   "execution_count": 142,
   "metadata": {},
   "outputs": [
    {
     "data": {
      "text/html": [
       "<div>\n",
       "<style scoped>\n",
       "    .dataframe tbody tr th:only-of-type {\n",
       "        vertical-align: middle;\n",
       "    }\n",
       "\n",
       "    .dataframe tbody tr th {\n",
       "        vertical-align: top;\n",
       "    }\n",
       "\n",
       "    .dataframe thead th {\n",
       "        text-align: right;\n",
       "    }\n",
       "</style>\n",
       "<table border=\"1\" class=\"dataframe\">\n",
       "  <thead>\n",
       "    <tr style=\"text-align: right;\">\n",
       "      <th></th>\n",
       "      <th>Typologie</th>\n",
       "      <th>Aménagement bidirectionnel</th>\n",
       "      <th>Régime de vitesse</th>\n",
       "      <th>Sens vélo</th>\n",
       "      <th>Voie</th>\n",
       "      <th>Arrondissement</th>\n",
       "      <th>Bois</th>\n",
       "      <th>Longueur du tronçon en m</th>\n",
       "      <th>Longueur du tronçon en km</th>\n",
       "      <th>Date de livraison</th>\n",
       "      <th>geo_shape</th>\n",
       "      <th>geo_point_2d</th>\n",
       "    </tr>\n",
       "  </thead>\n",
       "  <tbody>\n",
       "    <tr>\n",
       "      <th>0</th>\n",
       "      <td>Autres itinéraires cyclables (ex : Aires piéto...</td>\n",
       "      <td>Non</td>\n",
       "      <td>ZONE DE RENCONTRE</td>\n",
       "      <td>CONTRESENS</td>\n",
       "      <td>RUE DU COMMERCE</td>\n",
       "      <td>15.0</td>\n",
       "      <td>Non</td>\n",
       "      <td>87.926338</td>\n",
       "      <td>0.087926</td>\n",
       "      <td>2010-06-24</td>\n",
       "      <td>{\"coordinates\": [[2.293083958516798, 48.843748...</td>\n",
       "      <td>48.84409207890453, 2.293380347789903</td>\n",
       "    </tr>\n",
       "    <tr>\n",
       "      <th>1</th>\n",
       "      <td>Autres itinéraires cyclables (ex : Aires piéto...</td>\n",
       "      <td>Oui</td>\n",
       "      <td>AIRE PIETONNE</td>\n",
       "      <td>NaN</td>\n",
       "      <td>RUE BERGER</td>\n",
       "      <td>1.0</td>\n",
       "      <td>Non</td>\n",
       "      <td>529.690126</td>\n",
       "      <td>0.529690</td>\n",
       "      <td>NaN</td>\n",
       "      <td>{\"coordinates\": [[2.3492832350173454, 48.86062...</td>\n",
       "      <td>48.86144634862935, 2.345894785886982</td>\n",
       "    </tr>\n",
       "    <tr>\n",
       "      <th>2</th>\n",
       "      <td>Autres itinéraires cyclables (ex : Aires piéto...</td>\n",
       "      <td>Oui</td>\n",
       "      <td>AIRE PIETONNE</td>\n",
       "      <td>NaN</td>\n",
       "      <td>RUE DES INNOCENTS</td>\n",
       "      <td>1.0</td>\n",
       "      <td>Non</td>\n",
       "      <td>126.965432</td>\n",
       "      <td>0.126965</td>\n",
       "      <td>NaN</td>\n",
       "      <td>{\"coordinates\": [[2.3483798820517454, 48.86035...</td>\n",
       "      <td>48.86046041147555, 2.3475289590661257</td>\n",
       "    </tr>\n",
       "    <tr>\n",
       "      <th>3</th>\n",
       "      <td>Pistes cyclables</td>\n",
       "      <td>Oui</td>\n",
       "      <td>VOIE 50</td>\n",
       "      <td>NaN</td>\n",
       "      <td>QUAI D IVRY</td>\n",
       "      <td>13.0</td>\n",
       "      <td>Non</td>\n",
       "      <td>6.637209</td>\n",
       "      <td>0.006637</td>\n",
       "      <td>2009-01-01</td>\n",
       "      <td>{\"coordinates\": [[2.3885659614618393, 48.82520...</td>\n",
       "      <td>48.82517529257512, 2.3885470936122104</td>\n",
       "    </tr>\n",
       "    <tr>\n",
       "      <th>4</th>\n",
       "      <td>Autres itinéraires cyclables (ex : Aires piéto...</td>\n",
       "      <td>Oui</td>\n",
       "      <td>AIRE PIETONNE</td>\n",
       "      <td>CONTRESENS</td>\n",
       "      <td>RUE SAINTE-APOLLINE</td>\n",
       "      <td>2.0</td>\n",
       "      <td>Non</td>\n",
       "      <td>111.054291</td>\n",
       "      <td>0.111054</td>\n",
       "      <td>NaN</td>\n",
       "      <td>{\"coordinates\": [[2.352386530154109, 48.869240...</td>\n",
       "      <td>48.869096664626994, 2.35311174255617</td>\n",
       "    </tr>\n",
       "  </tbody>\n",
       "</table>\n",
       "</div>"
      ],
      "text/plain": [
       "                                           Typologie  \\\n",
       "0  Autres itinéraires cyclables (ex : Aires piéto...   \n",
       "1  Autres itinéraires cyclables (ex : Aires piéto...   \n",
       "2  Autres itinéraires cyclables (ex : Aires piéto...   \n",
       "3                                   Pistes cyclables   \n",
       "4  Autres itinéraires cyclables (ex : Aires piéto...   \n",
       "\n",
       "  Aménagement bidirectionnel  Régime de vitesse   Sens vélo  \\\n",
       "0                        Non  ZONE DE RENCONTRE  CONTRESENS   \n",
       "1                        Oui      AIRE PIETONNE         NaN   \n",
       "2                        Oui      AIRE PIETONNE         NaN   \n",
       "3                        Oui            VOIE 50         NaN   \n",
       "4                        Oui      AIRE PIETONNE  CONTRESENS   \n",
       "\n",
       "                  Voie  Arrondissement Bois  Longueur du tronçon en m  \\\n",
       "0      RUE DU COMMERCE            15.0  Non                 87.926338   \n",
       "1           RUE BERGER             1.0  Non                529.690126   \n",
       "2    RUE DES INNOCENTS             1.0  Non                126.965432   \n",
       "3          QUAI D IVRY            13.0  Non                  6.637209   \n",
       "4  RUE SAINTE-APOLLINE             2.0  Non                111.054291   \n",
       "\n",
       "   Longueur du tronçon en km Date de livraison  \\\n",
       "0                   0.087926        2010-06-24   \n",
       "1                   0.529690               NaN   \n",
       "2                   0.126965               NaN   \n",
       "3                   0.006637        2009-01-01   \n",
       "4                   0.111054               NaN   \n",
       "\n",
       "                                           geo_shape  \\\n",
       "0  {\"coordinates\": [[2.293083958516798, 48.843748...   \n",
       "1  {\"coordinates\": [[2.3492832350173454, 48.86062...   \n",
       "2  {\"coordinates\": [[2.3483798820517454, 48.86035...   \n",
       "3  {\"coordinates\": [[2.3885659614618393, 48.82520...   \n",
       "4  {\"coordinates\": [[2.352386530154109, 48.869240...   \n",
       "\n",
       "                            geo_point_2d  \n",
       "0   48.84409207890453, 2.293380347789903  \n",
       "1   48.86144634862935, 2.345894785886982  \n",
       "2  48.86046041147555, 2.3475289590661257  \n",
       "3  48.82517529257512, 2.3885470936122104  \n",
       "4   48.869096664626994, 2.35311174255617  "
      ]
     },
     "execution_count": 142,
     "metadata": {},
     "output_type": "execute_result"
    }
   ],
   "source": [
    "df.head()"
   ]
  },
  {
   "cell_type": "code",
   "execution_count": 143,
   "metadata": {},
   "outputs": [],
   "source": [
    "df = df.drop(columns=[\n",
    "    'Longueur du tronçon en km', \n",
    "    'geo_shape', \n",
    "    'Date de livraison', \n",
    "    'Sens vélo', \n",
    "    'Aménagement bidirectionnel'\n",
    "])"
   ]
  },
  {
   "cell_type": "markdown",
   "metadata": {},
   "source": [
    "## **<u>Modifying the remaining columns:</u>**"
   ]
  },
  {
   "cell_type": "markdown",
   "metadata": {},
   "source": [
    "First we remove the geo_point_2d column and replace it with latitude and longitude columns:"
   ]
  },
  {
   "cell_type": "code",
   "execution_count": 144,
   "metadata": {},
   "outputs": [],
   "source": [
    "df[['latitude', 'longitude']] = df['geo_point_2d'].str.split(',', expand=True)\n",
    "\n",
    "df['latitude'] = df['latitude'].astype(float)\n",
    "df['longitude'] = df['longitude'].astype(float)\n",
    "\n",
    "df = df.drop(columns=['geo_point_2d'])"
   ]
  },
  {
   "cell_type": "code",
   "execution_count": 145,
   "metadata": {},
   "outputs": [
    {
     "data": {
      "text/html": [
       "<div>\n",
       "<style scoped>\n",
       "    .dataframe tbody tr th:only-of-type {\n",
       "        vertical-align: middle;\n",
       "    }\n",
       "\n",
       "    .dataframe tbody tr th {\n",
       "        vertical-align: top;\n",
       "    }\n",
       "\n",
       "    .dataframe thead th {\n",
       "        text-align: right;\n",
       "    }\n",
       "</style>\n",
       "<table border=\"1\" class=\"dataframe\">\n",
       "  <thead>\n",
       "    <tr style=\"text-align: right;\">\n",
       "      <th></th>\n",
       "      <th>Typologie</th>\n",
       "      <th>Régime de vitesse</th>\n",
       "      <th>Voie</th>\n",
       "      <th>Arrondissement</th>\n",
       "      <th>Bois</th>\n",
       "      <th>Longueur du tronçon en m</th>\n",
       "      <th>latitude</th>\n",
       "      <th>longitude</th>\n",
       "    </tr>\n",
       "  </thead>\n",
       "  <tbody>\n",
       "    <tr>\n",
       "      <th>0</th>\n",
       "      <td>Autres itinéraires cyclables (ex : Aires piéto...</td>\n",
       "      <td>ZONE DE RENCONTRE</td>\n",
       "      <td>RUE DU COMMERCE</td>\n",
       "      <td>15.0</td>\n",
       "      <td>Non</td>\n",
       "      <td>87.926338</td>\n",
       "      <td>48.844092</td>\n",
       "      <td>2.293380</td>\n",
       "    </tr>\n",
       "    <tr>\n",
       "      <th>1</th>\n",
       "      <td>Autres itinéraires cyclables (ex : Aires piéto...</td>\n",
       "      <td>AIRE PIETONNE</td>\n",
       "      <td>RUE BERGER</td>\n",
       "      <td>1.0</td>\n",
       "      <td>Non</td>\n",
       "      <td>529.690126</td>\n",
       "      <td>48.861446</td>\n",
       "      <td>2.345895</td>\n",
       "    </tr>\n",
       "    <tr>\n",
       "      <th>2</th>\n",
       "      <td>Autres itinéraires cyclables (ex : Aires piéto...</td>\n",
       "      <td>AIRE PIETONNE</td>\n",
       "      <td>RUE DES INNOCENTS</td>\n",
       "      <td>1.0</td>\n",
       "      <td>Non</td>\n",
       "      <td>126.965432</td>\n",
       "      <td>48.860460</td>\n",
       "      <td>2.347529</td>\n",
       "    </tr>\n",
       "    <tr>\n",
       "      <th>3</th>\n",
       "      <td>Pistes cyclables</td>\n",
       "      <td>VOIE 50</td>\n",
       "      <td>QUAI D IVRY</td>\n",
       "      <td>13.0</td>\n",
       "      <td>Non</td>\n",
       "      <td>6.637209</td>\n",
       "      <td>48.825175</td>\n",
       "      <td>2.388547</td>\n",
       "    </tr>\n",
       "    <tr>\n",
       "      <th>4</th>\n",
       "      <td>Autres itinéraires cyclables (ex : Aires piéto...</td>\n",
       "      <td>AIRE PIETONNE</td>\n",
       "      <td>RUE SAINTE-APOLLINE</td>\n",
       "      <td>2.0</td>\n",
       "      <td>Non</td>\n",
       "      <td>111.054291</td>\n",
       "      <td>48.869097</td>\n",
       "      <td>2.353112</td>\n",
       "    </tr>\n",
       "  </tbody>\n",
       "</table>\n",
       "</div>"
      ],
      "text/plain": [
       "                                           Typologie  Régime de vitesse  \\\n",
       "0  Autres itinéraires cyclables (ex : Aires piéto...  ZONE DE RENCONTRE   \n",
       "1  Autres itinéraires cyclables (ex : Aires piéto...      AIRE PIETONNE   \n",
       "2  Autres itinéraires cyclables (ex : Aires piéto...      AIRE PIETONNE   \n",
       "3                                   Pistes cyclables            VOIE 50   \n",
       "4  Autres itinéraires cyclables (ex : Aires piéto...      AIRE PIETONNE   \n",
       "\n",
       "                  Voie  Arrondissement Bois  Longueur du tronçon en m  \\\n",
       "0      RUE DU COMMERCE            15.0  Non                 87.926338   \n",
       "1           RUE BERGER             1.0  Non                529.690126   \n",
       "2    RUE DES INNOCENTS             1.0  Non                126.965432   \n",
       "3          QUAI D IVRY            13.0  Non                  6.637209   \n",
       "4  RUE SAINTE-APOLLINE             2.0  Non                111.054291   \n",
       "\n",
       "    latitude  longitude  \n",
       "0  48.844092   2.293380  \n",
       "1  48.861446   2.345895  \n",
       "2  48.860460   2.347529  \n",
       "3  48.825175   2.388547  \n",
       "4  48.869097   2.353112  "
      ]
     },
     "execution_count": 145,
     "metadata": {},
     "output_type": "execute_result"
    }
   ],
   "source": [
    "df.head()"
   ]
  },
  {
   "cell_type": "markdown",
   "metadata": {},
   "source": [
    "## **<u>Creating a csv file with the cleaned data:</u>**"
   ]
  },
  {
   "cell_type": "code",
   "execution_count": 147,
   "metadata": {},
   "outputs": [],
   "source": [
    "df.to_csv(\"reseau_cyclable_v1.csv\", index=False)"
   ]
  }
 ],
 "metadata": {
  "kernelspec": {
   "display_name": "base",
   "language": "python",
   "name": "python3"
  },
  "language_info": {
   "codemirror_mode": {
    "name": "ipython",
    "version": 3
   },
   "file_extension": ".py",
   "mimetype": "text/x-python",
   "name": "python",
   "nbconvert_exporter": "python",
   "pygments_lexer": "ipython3",
   "version": "3.11.4"
  }
 },
 "nbformat": 4,
 "nbformat_minor": 2
}
