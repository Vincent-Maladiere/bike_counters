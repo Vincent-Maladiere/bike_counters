{
 "cells": [
  {
   "cell_type": "code",
   "execution_count": 22,
   "metadata": {},
   "outputs": [],
   "source": [
    "from pathlib import Path\n",
    "import numpy as np\n",
    "import pandas as pd\n",
    "import matplotlib.pyplot as plt\n",
    "import sklearn\n",
    "import seaborn as sns\n",
    "from sklearn.linear_model import LinearRegression\n",
    "from datetime import datetime\n",
    "import holidays\n",
    "from sklearn.preprocessing import StandardScaler, MinMaxScaler\n",
    "from sklearn.preprocessing import LabelEncoder\n"
   ]
  },
  {
   "cell_type": "code",
   "execution_count": 23,
   "metadata": {},
   "outputs": [],
   "source": [
    "def clean(df, df_name):\n",
    "    missing_values_count = df.isnull().any(axis=1).sum()\n",
    "    print(f\"({df_name}) : Number of lines with missing values: {missing_values_count}\")\n",
    "    df = df.dropna()\n",
    "    return df\n",
    "\n",
    "def _encode_dates_bike(df):\n",
    "    df[\"year\"] = df[\"date\"].dt.year\n",
    "    df[\"month\"] = df[\"date\"].dt.month\n",
    "    df[\"day\"] = df[\"date\"].dt.day\n",
    "    df[\"hour\"] = df[\"date\"].dt.hour\n",
    "    df[\"weekday\"] = df[\"date\"].dt.weekday\n",
    "    df['IsWeekend'] = df['weekday'].apply(lambda x: 1 if x >= 5 else 0)\n",
    "\n",
    "    vacances = holidays.CountryHoliday('France', years=[i for i in range(2009, 2025)])\n",
    "    vacances_dates = pd.to_datetime(list(vacances.keys())).date\n",
    "    df[\"IsHolidays\"] = df[\"date\"].isin(vacances_dates).astype(int)\n",
    "\n",
    "    return df\n",
    "\n",
    "def _encode_dates_meteo(df):   \n",
    "    df['DATE'] = pd.to_datetime(df['DATE'])\n",
    "    df[\"year\"] = df[\"DATE\"].dt.year\n",
    "    df[\"month\"] = df[\"DATE\"].dt.month\n",
    "    df[\"day\"] = df[\"DATE\"].dt.day\n",
    "    return df"
   ]
  },
  {
   "cell_type": "code",
   "execution_count": 24,
   "metadata": {},
   "outputs": [],
   "source": [
    "def transform_data(raw_bike_counter_data, raw_data_meteo, scaler):\n",
    "\n",
    "    bike_counter_data = raw_bike_counter_data.copy()\n",
    "    data_meteo = raw_data_meteo.copy()\n",
    "\n",
    "    bike_counter_data = clean(bike_counter_data, 'bike_counter_data')\n",
    "    bike_counter_data = _encode_dates_bike(bike_counter_data)\n",
    "    #print(bike_counter_data.info())\n",
    "    min_date_bike = bike_counter_data['date'].min().strftime('%Y-%m-%d')\n",
    "    max_date_bike = bike_counter_data['date'].max().strftime('%Y-%m-%d')\n",
    "\n",
    "    data_meteo = data_meteo.drop(columns = ['TEMPERATURE_NIGHT_C', 'SUNRISE', 'SUNSET'] )\n",
    "    data_meteo = clean(data_meteo, 'data_meteo')\n",
    "    data_meteo = _encode_dates_meteo(data_meteo)\n",
    "    #print(data_meteo.info())    \n",
    "    merged_data = pd.merge(bike_counter_data, data_meteo, on=['year', 'month', 'day'])\n",
    "\n",
    "    all_dates = pd.merge(\n",
    "        bike_counter_data[['year', 'month', 'day']],\n",
    "        data_meteo[['year', 'month', 'day']],\n",
    "        on=['year', 'month', 'day'],\n",
    "        how='outer',\n",
    "        indicator=True\n",
    "    )\n",
    "\n",
    "    # Filter for rows that are only in bike_counter_data\n",
    "    missing_dates = all_dates[all_dates['_merge'] == 'left_only']\n",
    "\n",
    "    print(\"Missing dates in data_meteo:\")\n",
    "    print(missing_dates[['year', 'month', 'day']])\n",
    "\n",
    "\n",
    "\n",
    "\n",
    "    columns_to_drop = [\"day\", \"counter_name\", \"site_name\", \"DATE\", \"counter_installation_date\", \"coordinates\", \"counter_technical_id\", \"latitude\", \"longitude\"]\n",
    "    if 'bike_count' in merged_data.columns:\n",
    "        merged_data = merged_data.drop(columns = 'bike_count')\n",
    "    merged_data = merged_data.drop(columns = columns_to_drop)\n",
    "\n",
    "    columns_to_encode = ['WEATHER_CODE_MORNING', 'WEATHER_CODE_NOON', 'WEATHER_CODE_EVENING', 'OPINION', \"counter_id\", \"date\"]\n",
    "    label_encoders = {}\n",
    "\n",
    "    for col in columns_to_encode:\n",
    "        le = LabelEncoder()\n",
    "        merged_data[col] = le.fit_transform(merged_data[col])\n",
    "        label_encoders[col] = le     # Garder une référence pour un éventuel inverse_transform\n",
    "\n",
    "    # Scale the data\n",
    "    merged_data[merged_data.columns] = scaler.fit_transform(merged_data[merged_data.columns])\n",
    "    print(len(bike_counter_data))\n",
    "    print(len(merged_data))\n",
    "    \n",
    "    return merged_data\n",
    "\n"
   ]
  },
  {
   "cell_type": "code",
   "execution_count": 25,
   "metadata": {},
   "outputs": [
    {
     "name": "stdout",
     "output_type": "stream",
     "text": [
      "(bike_counter_data) : Number of lines with missing values: 0\n",
      "(data_meteo) : Number of lines with missing values: 0\n",
      "Missing dates in data_meteo:\n",
      "Empty DataFrame\n",
      "Columns: [year, month, day]\n",
      "Index: []\n",
      "496827\n",
      "496827\n",
      "(bike_counter_data) : Number of lines with missing values: 0\n",
      "(data_meteo) : Number of lines with missing values: 0\n",
      "Missing dates in data_meteo:\n",
      "Empty DataFrame\n",
      "Columns: [year, month, day]\n",
      "Index: []\n",
      "51440\n",
      "51440\n"
     ]
    }
   ],
   "source": [
    "raw_bike_counter_data = pd.read_parquet(Path(\"data\") / \"train.parquet\")\n",
    "raw_meteo_data = pd.read_csv('external_data/export-paris0.csv')\n",
    "raw_bike_counter_test_data = pd.read_parquet(Path(\"data\") / \"final_test.parquet\")\n",
    "\n",
    "scaler = StandardScaler()\n",
    "train_data = transform_data(raw_bike_counter_data, raw_meteo_data, scaler)\n",
    "public_test_data = transform_data(raw_bike_counter_test_data, raw_meteo_data, scaler)"
   ]
  },
  {
   "cell_type": "code",
   "execution_count": 26,
   "metadata": {},
   "outputs": [
    {
     "name": "stdout",
     "output_type": "stream",
     "text": [
      "<class 'pandas.core.frame.DataFrame'>\n",
      "Int64Index: 496827 entries, 0 to 496826\n",
      "Data columns (total 31 columns):\n",
      " #   Column                  Non-Null Count   Dtype  \n",
      "---  ------                  --------------   -----  \n",
      " 0   counter_id              496827 non-null  float64\n",
      " 1   site_id                 496827 non-null  float64\n",
      " 2   date                    496827 non-null  float64\n",
      " 3   log_bike_count          496827 non-null  float64\n",
      " 4   year                    496827 non-null  float64\n",
      " 5   month                   496827 non-null  float64\n",
      " 6   hour                    496827 non-null  float64\n",
      " 7   weekday                 496827 non-null  float64\n",
      " 8   IsWeekend               496827 non-null  float64\n",
      " 9   IsHolidays              496827 non-null  float64\n",
      " 10  MAX_TEMPERATURE_C       496827 non-null  float64\n",
      " 11  MIN_TEMPERATURE_C       496827 non-null  float64\n",
      " 12  WINDSPEED_MAX_KMH       496827 non-null  float64\n",
      " 13  TEMPERATURE_MORNING_C   496827 non-null  float64\n",
      " 14  TEMPERATURE_NOON_C      496827 non-null  float64\n",
      " 15  TEMPERATURE_EVENING_C   496827 non-null  float64\n",
      " 16  PRECIP_TOTAL_DAY_MM     496827 non-null  float64\n",
      " 17  HUMIDITY_MAX_PERCENT    496827 non-null  float64\n",
      " 18  VISIBILITY_AVG_KM       496827 non-null  float64\n",
      " 19  PRESSURE_MAX_MB         496827 non-null  float64\n",
      " 20  CLOUDCOVER_AVG_PERCENT  496827 non-null  float64\n",
      " 21  HEATINDEX_MAX_C         496827 non-null  float64\n",
      " 22  DEWPOINT_MAX_C          496827 non-null  float64\n",
      " 23  WINDTEMP_MAX_C          496827 non-null  float64\n",
      " 24  WEATHER_CODE_MORNING    496827 non-null  float64\n",
      " 25  WEATHER_CODE_NOON       496827 non-null  float64\n",
      " 26  WEATHER_CODE_EVENING    496827 non-null  float64\n",
      " 27  TOTAL_SNOW_MM           496827 non-null  float64\n",
      " 28  UV_INDEX                496827 non-null  float64\n",
      " 29  SUNHOUR                 496827 non-null  float64\n",
      " 30  OPINION                 496827 non-null  float64\n",
      "dtypes: float64(31)\n",
      "memory usage: 121.3 MB\n",
      "<class 'pandas.core.frame.DataFrame'>\n",
      "Int64Index: 51440 entries, 0 to 51439\n",
      "Data columns (total 30 columns):\n",
      " #   Column                  Non-Null Count  Dtype  \n",
      "---  ------                  --------------  -----  \n",
      " 0   counter_id              51440 non-null  float64\n",
      " 1   site_id                 51440 non-null  float64\n",
      " 2   date                    51440 non-null  float64\n",
      " 3   year                    51440 non-null  float64\n",
      " 4   month                   51440 non-null  float64\n",
      " 5   hour                    51440 non-null  float64\n",
      " 6   weekday                 51440 non-null  float64\n",
      " 7   IsWeekend               51440 non-null  float64\n",
      " 8   IsHolidays              51440 non-null  float64\n",
      " 9   MAX_TEMPERATURE_C       51440 non-null  float64\n",
      " 10  MIN_TEMPERATURE_C       51440 non-null  float64\n",
      " 11  WINDSPEED_MAX_KMH       51440 non-null  float64\n",
      " 12  TEMPERATURE_MORNING_C   51440 non-null  float64\n",
      " 13  TEMPERATURE_NOON_C      51440 non-null  float64\n",
      " 14  TEMPERATURE_EVENING_C   51440 non-null  float64\n",
      " 15  PRECIP_TOTAL_DAY_MM     51440 non-null  float64\n",
      " 16  HUMIDITY_MAX_PERCENT    51440 non-null  float64\n",
      " 17  VISIBILITY_AVG_KM       51440 non-null  float64\n",
      " 18  PRESSURE_MAX_MB         51440 non-null  float64\n",
      " 19  CLOUDCOVER_AVG_PERCENT  51440 non-null  float64\n",
      " 20  HEATINDEX_MAX_C         51440 non-null  float64\n",
      " 21  DEWPOINT_MAX_C          51440 non-null  float64\n",
      " 22  WINDTEMP_MAX_C          51440 non-null  float64\n",
      " 23  WEATHER_CODE_MORNING    51440 non-null  float64\n",
      " 24  WEATHER_CODE_NOON       51440 non-null  float64\n",
      " 25  WEATHER_CODE_EVENING    51440 non-null  float64\n",
      " 26  TOTAL_SNOW_MM           51440 non-null  float64\n",
      " 27  UV_INDEX                51440 non-null  float64\n",
      " 28  SUNHOUR                 51440 non-null  float64\n",
      " 29  OPINION                 51440 non-null  float64\n",
      "dtypes: float64(30)\n",
      "memory usage: 12.2 MB\n"
     ]
    }
   ],
   "source": [
    "train_data.info()\n",
    "public_test_data.info()"
   ]
  },
  {
   "cell_type": "code",
   "execution_count": 27,
   "metadata": {},
   "outputs": [],
   "source": [
    "from sklearn.pipeline import Pipeline\n",
    "from sklearn.model_selection import GridSearchCV\n",
    "from sklearn.ensemble import ExtraTreesRegressor"
   ]
  },
  {
   "cell_type": "code",
   "execution_count": 28,
   "metadata": {},
   "outputs": [],
   "source": [
    "target = train_data[\"log_bike_count\"]\n",
    "data = train_data.drop(columns = \"log_bike_count\")\n",
    "\n",
    "X_train_sample = data.sample(frac=0.01, random_state=42)  # x % des données\n",
    "y_train_sample = target.loc[X_train_sample.index]"
   ]
  },
  {
   "cell_type": "code",
   "execution_count": 29,
   "metadata": {},
   "outputs": [
    {
     "name": "stdout",
     "output_type": "stream",
     "text": [
      "Fitting 5 folds for each of 216 candidates, totalling 1080 fits\n",
      "Best hyperparameters found:  {'regressor__bootstrap': False, 'regressor__max_depth': 7, 'regressor__max_features': None, 'regressor__min_samples_leaf': 2, 'regressor__min_samples_split': 2, 'regressor__n_estimators': 50}\n",
      "Best cross-validation score:  0.6835236694640136\n"
     ]
    }
   ],
   "source": [
    "# Define the regressor\n",
    "reg = ExtraTreesRegressor(random_state=42, n_jobs=-1)\n",
    "\n",
    "# Create the pipeline\n",
    "pipeline = Pipeline(steps=[\n",
    "    #('preprocessor', preprocessor),\n",
    "    ('regressor', reg)\n",
    "])\n",
    "\n",
    "# Update param_grid to toggle scalers within the 'num' pipeline\n",
    "param_grid = {\n",
    "    #'preprocessor__scaled_num__scaler': [StandardScaler(), MinMaxScaler(), 'passthrough'],  # Apply scalers or skip\n",
    "    'regressor__n_estimators': [50, 100, 200],\n",
    "    'regressor__max_depth': [3, 5, 7],\n",
    "    'regressor__min_samples_split': [2, 5],\n",
    "    'regressor__min_samples_leaf': [1, 2],\n",
    "    'regressor__max_features': ['sqrt', 'log2', None],\n",
    "    'regressor__bootstrap': [True, False]\n",
    "}\n",
    "\n",
    "# Set up GridSearchCV\n",
    "grid_search = GridSearchCV(pipeline, param_grid, cv=5, n_jobs=-1, verbose=1)\n",
    "\n",
    "# Fit the model\n",
    "grid_search_result = grid_search.fit(X_train_sample, y_train_sample)\n",
    "\n",
    "# Output the best results\n",
    "print(\"Best hyperparameters found: \", grid_search.best_params_)\n",
    "print(\"Best cross-validation score: \", grid_search.best_score_)"
   ]
  },
  {
   "cell_type": "code",
   "execution_count": 30,
   "metadata": {},
   "outputs": [],
   "source": [
    "def final_output(grid_search_result, test_data):\n",
    "    y_pred = grid_search_result.predict(test_data)\n",
    "    results = pd.DataFrame(\n",
    "        dict(\n",
    "            Id=np.arange(y_pred.shape[0]),\n",
    "            log_bike_count=y_pred,\n",
    "        )\n",
    "    )\n",
    "    results.to_csv(\"submission.csv\", index=False)"
   ]
  },
  {
   "cell_type": "code",
   "execution_count": 31,
   "metadata": {},
   "outputs": [],
   "source": [
    "final_output(grid_search_result, public_test_data)"
   ]
  },
  {
   "cell_type": "code",
   "execution_count": 32,
   "metadata": {},
   "outputs": [
    {
     "data": {
      "text/html": [
       "<style>#sk-container-id-1 {color: black;background-color: white;}#sk-container-id-1 pre{padding: 0;}#sk-container-id-1 div.sk-toggleable {background-color: white;}#sk-container-id-1 label.sk-toggleable__label {cursor: pointer;display: block;width: 100%;margin-bottom: 0;padding: 0.3em;box-sizing: border-box;text-align: center;}#sk-container-id-1 label.sk-toggleable__label-arrow:before {content: \"▸\";float: left;margin-right: 0.25em;color: #696969;}#sk-container-id-1 label.sk-toggleable__label-arrow:hover:before {color: black;}#sk-container-id-1 div.sk-estimator:hover label.sk-toggleable__label-arrow:before {color: black;}#sk-container-id-1 div.sk-toggleable__content {max-height: 0;max-width: 0;overflow: hidden;text-align: left;background-color: #f0f8ff;}#sk-container-id-1 div.sk-toggleable__content pre {margin: 0.2em;color: black;border-radius: 0.25em;background-color: #f0f8ff;}#sk-container-id-1 input.sk-toggleable__control:checked~div.sk-toggleable__content {max-height: 200px;max-width: 100%;overflow: auto;}#sk-container-id-1 input.sk-toggleable__control:checked~label.sk-toggleable__label-arrow:before {content: \"▾\";}#sk-container-id-1 div.sk-estimator input.sk-toggleable__control:checked~label.sk-toggleable__label {background-color: #d4ebff;}#sk-container-id-1 div.sk-label input.sk-toggleable__control:checked~label.sk-toggleable__label {background-color: #d4ebff;}#sk-container-id-1 input.sk-hidden--visually {border: 0;clip: rect(1px 1px 1px 1px);clip: rect(1px, 1px, 1px, 1px);height: 1px;margin: -1px;overflow: hidden;padding: 0;position: absolute;width: 1px;}#sk-container-id-1 div.sk-estimator {font-family: monospace;background-color: #f0f8ff;border: 1px dotted black;border-radius: 0.25em;box-sizing: border-box;margin-bottom: 0.5em;}#sk-container-id-1 div.sk-estimator:hover {background-color: #d4ebff;}#sk-container-id-1 div.sk-parallel-item::after {content: \"\";width: 100%;border-bottom: 1px solid gray;flex-grow: 1;}#sk-container-id-1 div.sk-label:hover label.sk-toggleable__label {background-color: #d4ebff;}#sk-container-id-1 div.sk-serial::before {content: \"\";position: absolute;border-left: 1px solid gray;box-sizing: border-box;top: 0;bottom: 0;left: 50%;z-index: 0;}#sk-container-id-1 div.sk-serial {display: flex;flex-direction: column;align-items: center;background-color: white;padding-right: 0.2em;padding-left: 0.2em;position: relative;}#sk-container-id-1 div.sk-item {position: relative;z-index: 1;}#sk-container-id-1 div.sk-parallel {display: flex;align-items: stretch;justify-content: center;background-color: white;position: relative;}#sk-container-id-1 div.sk-item::before, #sk-container-id-1 div.sk-parallel-item::before {content: \"\";position: absolute;border-left: 1px solid gray;box-sizing: border-box;top: 0;bottom: 0;left: 50%;z-index: -1;}#sk-container-id-1 div.sk-parallel-item {display: flex;flex-direction: column;z-index: 1;position: relative;background-color: white;}#sk-container-id-1 div.sk-parallel-item:first-child::after {align-self: flex-end;width: 50%;}#sk-container-id-1 div.sk-parallel-item:last-child::after {align-self: flex-start;width: 50%;}#sk-container-id-1 div.sk-parallel-item:only-child::after {width: 0;}#sk-container-id-1 div.sk-dashed-wrapped {border: 1px dashed gray;margin: 0 0.4em 0.5em 0.4em;box-sizing: border-box;padding-bottom: 0.4em;background-color: white;}#sk-container-id-1 div.sk-label label {font-family: monospace;font-weight: bold;display: inline-block;line-height: 1.2em;}#sk-container-id-1 div.sk-label-container {text-align: center;}#sk-container-id-1 div.sk-container {/* jupyter's `normalize.less` sets `[hidden] { display: none; }` but bootstrap.min.css set `[hidden] { display: none !important; }` so we also need the `!important` here to be able to override the default hidden behavior on the sphinx rendered scikit-learn.org. See: https://github.com/scikit-learn/scikit-learn/issues/21755 */display: inline-block !important;position: relative;}#sk-container-id-1 div.sk-text-repr-fallback {display: none;}</style><div id=\"sk-container-id-1\" class=\"sk-top-container\"><div class=\"sk-text-repr-fallback\"><pre>GridSearchCV(cv=5,\n",
       "             estimator=Pipeline(steps=[(&#x27;regressor&#x27;,\n",
       "                                        ExtraTreesRegressor(n_jobs=-1,\n",
       "                                                            random_state=42))]),\n",
       "             n_jobs=-1,\n",
       "             param_grid={&#x27;regressor__bootstrap&#x27;: [True, False],\n",
       "                         &#x27;regressor__max_depth&#x27;: [3, 5, 7],\n",
       "                         &#x27;regressor__max_features&#x27;: [&#x27;sqrt&#x27;, &#x27;log2&#x27;, None],\n",
       "                         &#x27;regressor__min_samples_leaf&#x27;: [1, 2],\n",
       "                         &#x27;regressor__min_samples_split&#x27;: [2, 5],\n",
       "                         &#x27;regressor__n_estimators&#x27;: [50, 100, 200]},\n",
       "             verbose=1)</pre><b>In a Jupyter environment, please rerun this cell to show the HTML representation or trust the notebook. <br />On GitHub, the HTML representation is unable to render, please try loading this page with nbviewer.org.</b></div><div class=\"sk-container\" hidden><div class=\"sk-item sk-dashed-wrapped\"><div class=\"sk-label-container\"><div class=\"sk-label sk-toggleable\"><input class=\"sk-toggleable__control sk-hidden--visually\" id=\"sk-estimator-id-1\" type=\"checkbox\" ><label for=\"sk-estimator-id-1\" class=\"sk-toggleable__label sk-toggleable__label-arrow\">GridSearchCV</label><div class=\"sk-toggleable__content\"><pre>GridSearchCV(cv=5,\n",
       "             estimator=Pipeline(steps=[(&#x27;regressor&#x27;,\n",
       "                                        ExtraTreesRegressor(n_jobs=-1,\n",
       "                                                            random_state=42))]),\n",
       "             n_jobs=-1,\n",
       "             param_grid={&#x27;regressor__bootstrap&#x27;: [True, False],\n",
       "                         &#x27;regressor__max_depth&#x27;: [3, 5, 7],\n",
       "                         &#x27;regressor__max_features&#x27;: [&#x27;sqrt&#x27;, &#x27;log2&#x27;, None],\n",
       "                         &#x27;regressor__min_samples_leaf&#x27;: [1, 2],\n",
       "                         &#x27;regressor__min_samples_split&#x27;: [2, 5],\n",
       "                         &#x27;regressor__n_estimators&#x27;: [50, 100, 200]},\n",
       "             verbose=1)</pre></div></div></div><div class=\"sk-parallel\"><div class=\"sk-parallel-item\"><div class=\"sk-item\"><div class=\"sk-label-container\"><div class=\"sk-label sk-toggleable\"><input class=\"sk-toggleable__control sk-hidden--visually\" id=\"sk-estimator-id-2\" type=\"checkbox\" ><label for=\"sk-estimator-id-2\" class=\"sk-toggleable__label sk-toggleable__label-arrow\">estimator: Pipeline</label><div class=\"sk-toggleable__content\"><pre>Pipeline(steps=[(&#x27;regressor&#x27;, ExtraTreesRegressor(n_jobs=-1, random_state=42))])</pre></div></div></div><div class=\"sk-serial\"><div class=\"sk-item\"><div class=\"sk-serial\"><div class=\"sk-item\"><div class=\"sk-estimator sk-toggleable\"><input class=\"sk-toggleable__control sk-hidden--visually\" id=\"sk-estimator-id-3\" type=\"checkbox\" ><label for=\"sk-estimator-id-3\" class=\"sk-toggleable__label sk-toggleable__label-arrow\">ExtraTreesRegressor</label><div class=\"sk-toggleable__content\"><pre>ExtraTreesRegressor(n_jobs=-1, random_state=42)</pre></div></div></div></div></div></div></div></div></div></div></div></div>"
      ],
      "text/plain": [
       "GridSearchCV(cv=5,\n",
       "             estimator=Pipeline(steps=[('regressor',\n",
       "                                        ExtraTreesRegressor(n_jobs=-1,\n",
       "                                                            random_state=42))]),\n",
       "             n_jobs=-1,\n",
       "             param_grid={'regressor__bootstrap': [True, False],\n",
       "                         'regressor__max_depth': [3, 5, 7],\n",
       "                         'regressor__max_features': ['sqrt', 'log2', None],\n",
       "                         'regressor__min_samples_leaf': [1, 2],\n",
       "                         'regressor__min_samples_split': [2, 5],\n",
       "                         'regressor__n_estimators': [50, 100, 200]},\n",
       "             verbose=1)"
      ]
     },
     "execution_count": 32,
     "metadata": {},
     "output_type": "execute_result"
    }
   ],
   "source": [
    "grid_search_result"
   ]
  }
 ],
 "metadata": {
  "kernelspec": {
   "display_name": "base",
   "language": "python",
   "name": "python3"
  },
  "language_info": {
   "codemirror_mode": {
    "name": "ipython",
    "version": 3
   },
   "file_extension": ".py",
   "mimetype": "text/x-python",
   "name": "python",
   "nbconvert_exporter": "python",
   "pygments_lexer": "ipython3",
   "version": "3.10.9"
  }
 },
 "nbformat": 4,
 "nbformat_minor": 2
}
