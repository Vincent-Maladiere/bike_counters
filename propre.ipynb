{
 "cells": [
  {
   "cell_type": "code",
   "execution_count": 93,
   "metadata": {},
   "outputs": [],
   "source": [
    "from pathlib import Path\n",
    "import numpy as np\n",
    "import pandas as pd\n",
    "import matplotlib.pyplot as plt\n",
    "import sklearn\n",
    "import seaborn as sns\n",
    "from sklearn.linear_model import LinearRegression\n",
    "from datetime import datetime\n",
    "import holidays"
   ]
  },
  {
   "cell_type": "code",
   "execution_count": 94,
   "metadata": {},
   "outputs": [],
   "source": [
    "def clean(df, df_name):\n",
    "    missing_values_count = df.isnull().any(axis=1).sum()\n",
    "    print(f\"({df_name}) : Number of lines with missing values: {missing_values_count}\")\n",
    "    df = df.dropna()\n",
    "    return df\n",
    "\n",
    "def _encode_dates_bike(df):\n",
    "    df[\"year\"] = df[\"date\"].dt.year\n",
    "    df[\"month\"] = df[\"date\"].dt.month\n",
    "    df[\"day\"] = df[\"date\"].dt.day\n",
    "    df[\"hour\"] = df[\"date\"].dt.hour\n",
    "    df[\"weekday\"] = df[\"date\"].dt.weekday\n",
    "    df['IsWeekend'] = df['weekday'].apply(lambda x: 1 if x >= 5 else 0)\n",
    "\n",
    "    vacances = holidays.CountryHoliday('France', years=[2020, 2021])\n",
    "    vacances_dates = pd.to_datetime(list(vacances.keys())).date\n",
    "    df[\"IsHolidays\"] = df[\"date\"].isin(vacances_dates).astype(int)\n",
    "\n",
    "    return df\n",
    "\n",
    "def _encode_dates_meteo(df, min_date, max_date):   \n",
    "    df = df[(df['DATE'] > min_date) & (df['DATE'] < max_date)]\n",
    "    df['DATE'] = pd.to_datetime(df['DATE'])\n",
    "    df[\"year\"] = df[\"DATE\"].dt.year\n",
    "    df[\"month\"] = df[\"DATE\"].dt.month\n",
    "    df[\"day\"] = df[\"DATE\"].dt.day\n",
    "    return df"
   ]
  },
  {
   "cell_type": "code",
   "execution_count": 95,
   "metadata": {},
   "outputs": [],
   "source": [
    "def transform_data(raw_bike_counter_data, raw_data_meteo):\n",
    "\n",
    "    bike_counter_data = raw_bike_counter_data.copy()\n",
    "    data_meteo = raw_data_meteo.copy()\n",
    "    \n",
    "    bike_counter_data = clean(bike_counter_data, 'bike_counter_data')\n",
    "    bike_counter_data = _encode_dates_bike(bike_counter_data)\n",
    "    #print(bike_counter_data.info())\n",
    "\n",
    "    min_date_bike = bike_counter_data['date'].min().strftime('%Y-%m-%d')\n",
    "    max_date_bike = bike_counter_data['date'].max().strftime('%Y-%m-%d')\n",
    "\n",
    "    data_meteo = data_meteo.drop(columns = ['TEMPERATURE_NIGHT_C', 'SUNRISE', 'SUNSET'] )\n",
    "    data_meteo = clean(data_meteo, 'data_meteo')\n",
    "    data_meteo = _encode_dates_meteo(data_meteo, min_date_bike, max_date_bike)\n",
    "    #print(data_meteo.info())    \n",
    "\n",
    "    merged_data = pd.merge(bike_counter_data, data_meteo, on=['year', 'month', 'day'])\n",
    "\n",
    "    columns_to_drop = [\"day\", \"counter_name\", \"site_name\", \"DATE\", \"counter_installation_date\", \"coordinates\", \"counter_technical_id\", \"latitude\", \"longitude\"]\n",
    "    if 'bike_count' in merged_data.columns:\n",
    "        merged_data = merged_data.drop(columns = 'bike_count')\n",
    "    merged_data = merged_data.drop(columns = columns_to_drop)\n",
    "    \n",
    "    return merged_data\n",
    "\n"
   ]
  },
  {
   "cell_type": "code",
   "execution_count": 96,
   "metadata": {},
   "outputs": [
    {
     "name": "stdout",
     "output_type": "stream",
     "text": [
      "(bike_counter_data) : Number of lines with missing values: 0\n",
      "(data_meteo) : Number of lines with missing values: 0\n"
     ]
    },
    {
     "name": "stderr",
     "output_type": "stream",
     "text": [
      "/var/folders/48/xwb303h13cj206r81_rrqr840000gn/T/ipykernel_47338/1339616324.py:23: SettingWithCopyWarning: \n",
      "A value is trying to be set on a copy of a slice from a DataFrame.\n",
      "Try using .loc[row_indexer,col_indexer] = value instead\n",
      "\n",
      "See the caveats in the documentation: https://pandas.pydata.org/pandas-docs/stable/user_guide/indexing.html#returning-a-view-versus-a-copy\n",
      "  df['DATE'] = pd.to_datetime(df['DATE'])\n",
      "/var/folders/48/xwb303h13cj206r81_rrqr840000gn/T/ipykernel_47338/1339616324.py:24: SettingWithCopyWarning: \n",
      "A value is trying to be set on a copy of a slice from a DataFrame.\n",
      "Try using .loc[row_indexer,col_indexer] = value instead\n",
      "\n",
      "See the caveats in the documentation: https://pandas.pydata.org/pandas-docs/stable/user_guide/indexing.html#returning-a-view-versus-a-copy\n",
      "  df[\"year\"] = df[\"DATE\"].dt.year\n",
      "/var/folders/48/xwb303h13cj206r81_rrqr840000gn/T/ipykernel_47338/1339616324.py:25: SettingWithCopyWarning: \n",
      "A value is trying to be set on a copy of a slice from a DataFrame.\n",
      "Try using .loc[row_indexer,col_indexer] = value instead\n",
      "\n",
      "See the caveats in the documentation: https://pandas.pydata.org/pandas-docs/stable/user_guide/indexing.html#returning-a-view-versus-a-copy\n",
      "  df[\"month\"] = df[\"DATE\"].dt.month\n",
      "/var/folders/48/xwb303h13cj206r81_rrqr840000gn/T/ipykernel_47338/1339616324.py:26: SettingWithCopyWarning: \n",
      "A value is trying to be set on a copy of a slice from a DataFrame.\n",
      "Try using .loc[row_indexer,col_indexer] = value instead\n",
      "\n",
      "See the caveats in the documentation: https://pandas.pydata.org/pandas-docs/stable/user_guide/indexing.html#returning-a-view-versus-a-copy\n",
      "  df[\"day\"] = df[\"DATE\"].dt.day\n"
     ]
    },
    {
     "name": "stdout",
     "output_type": "stream",
     "text": [
      "(bike_counter_data) : Number of lines with missing values: 0\n",
      "(data_meteo) : Number of lines with missing values: 0\n"
     ]
    },
    {
     "name": "stderr",
     "output_type": "stream",
     "text": [
      "/var/folders/48/xwb303h13cj206r81_rrqr840000gn/T/ipykernel_47338/1339616324.py:23: SettingWithCopyWarning: \n",
      "A value is trying to be set on a copy of a slice from a DataFrame.\n",
      "Try using .loc[row_indexer,col_indexer] = value instead\n",
      "\n",
      "See the caveats in the documentation: https://pandas.pydata.org/pandas-docs/stable/user_guide/indexing.html#returning-a-view-versus-a-copy\n",
      "  df['DATE'] = pd.to_datetime(df['DATE'])\n",
      "/var/folders/48/xwb303h13cj206r81_rrqr840000gn/T/ipykernel_47338/1339616324.py:24: SettingWithCopyWarning: \n",
      "A value is trying to be set on a copy of a slice from a DataFrame.\n",
      "Try using .loc[row_indexer,col_indexer] = value instead\n",
      "\n",
      "See the caveats in the documentation: https://pandas.pydata.org/pandas-docs/stable/user_guide/indexing.html#returning-a-view-versus-a-copy\n",
      "  df[\"year\"] = df[\"DATE\"].dt.year\n",
      "/var/folders/48/xwb303h13cj206r81_rrqr840000gn/T/ipykernel_47338/1339616324.py:25: SettingWithCopyWarning: \n",
      "A value is trying to be set on a copy of a slice from a DataFrame.\n",
      "Try using .loc[row_indexer,col_indexer] = value instead\n",
      "\n",
      "See the caveats in the documentation: https://pandas.pydata.org/pandas-docs/stable/user_guide/indexing.html#returning-a-view-versus-a-copy\n",
      "  df[\"month\"] = df[\"DATE\"].dt.month\n",
      "/var/folders/48/xwb303h13cj206r81_rrqr840000gn/T/ipykernel_47338/1339616324.py:26: SettingWithCopyWarning: \n",
      "A value is trying to be set on a copy of a slice from a DataFrame.\n",
      "Try using .loc[row_indexer,col_indexer] = value instead\n",
      "\n",
      "See the caveats in the documentation: https://pandas.pydata.org/pandas-docs/stable/user_guide/indexing.html#returning-a-view-versus-a-copy\n",
      "  df[\"day\"] = df[\"DATE\"].dt.day\n"
     ]
    }
   ],
   "source": [
    "raw_bike_counter_data = pd.read_parquet(Path(\"data\") / \"train.parquet\")\n",
    "raw_meteo_data = pd.read_csv('external_data/export-paris0.csv')\n",
    "raw_bike_counter_test_data = pd.read_parquet(Path(\"data\") / \"final_test.parquet\")\n",
    "\n",
    "train_data = transform_data(raw_bike_counter_data, raw_meteo_data)\n",
    "public_test_data = transform_data(raw_bike_counter_test_data, raw_meteo_data)"
   ]
  },
  {
   "cell_type": "code",
   "execution_count": 97,
   "metadata": {},
   "outputs": [],
   "source": [
    "#train_data.info()\n",
    "#public_test_data.info()"
   ]
  }
 ],
 "metadata": {
  "kernelspec": {
   "display_name": "base",
   "language": "python",
   "name": "python3"
  },
  "language_info": {
   "codemirror_mode": {
    "name": "ipython",
    "version": 3
   },
   "file_extension": ".py",
   "mimetype": "text/x-python",
   "name": "python",
   "nbconvert_exporter": "python",
   "pygments_lexer": "ipython3",
   "version": "3.10.9"
  }
 },
 "nbformat": 4,
 "nbformat_minor": 2
}
