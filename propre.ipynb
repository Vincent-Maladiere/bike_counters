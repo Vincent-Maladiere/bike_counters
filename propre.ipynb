{
 "cells": [
  {
   "cell_type": "code",
   "execution_count": 60,
   "metadata": {},
   "outputs": [],
   "source": [
    "from pathlib import Path\n",
    "import numpy as np\n",
    "import pandas as pd\n",
    "import matplotlib.pyplot as plt\n",
    "import sklearn\n",
    "import seaborn as sns\n",
    "from sklearn.linear_model import LinearRegression\n",
    "from datetime import datetime\n",
    "import holidays\n"
   ]
  },
  {
   "cell_type": "code",
   "execution_count": 61,
   "metadata": {},
   "outputs": [],
   "source": [
    "def clean(df, df_name):\n",
    "    missing_values_count = df.isnull().any(axis=1).sum()\n",
    "    print(f\"({df_name}) : Number of lines with missing values: {missing_values_count}\")\n",
    "    df = df.dropna()\n",
    "    return df\n",
    "\n",
    "\n",
    "def _encode_dates_bike(df):\n",
    "    df[\"year\"] = df[\"date\"].dt.year\n",
    "    df[\"month\"] = df[\"date\"].dt.month\n",
    "    df[\"day\"] = df[\"date\"].dt.day\n",
    "    df[\"hour\"] = df[\"date\"].dt.hour\n",
    "    df[\"weekday\"] = df[\"date\"].dt.weekday\n",
    "    df['IsWeekend'] = df['weekday'].apply(lambda x: 1 if x >= 5 else 0)\n",
    "\n",
    "    vacances = holidays.CountryHoliday('France', years=[2020, 2021])\n",
    "    vacances_dates = pd.to_datetime(list(vacances.keys())).date\n",
    "    df[\"IsHolidays\"] = df[\"date\"].isin(vacances_dates).astype(int)\n",
    "\n",
    "    return df\n",
    "\n",
    "\n",
    "def _encode_dates_meteo(df, min_date, max_date):   \n",
    "    df = df[(df['DATE'] > min_date) & (df['DATE'] < max_date)]\n",
    "    df['DATE'] = pd.to_datetime(df['DATE'])\n",
    "    df[\"year\"] = df[\"DATE\"].dt.year\n",
    "    df[\"month\"] = df[\"DATE\"].dt.month\n",
    "    df[\"day\"] = df[\"DATE\"].dt.day\n",
    "    return df\n",
    "\n"
   ]
  },
  {
   "cell_type": "code",
   "execution_count": 62,
   "metadata": {},
   "outputs": [],
   "source": [
    "dataaaaaaa = pd.read_parquet(Path(\"data\") / \"train.parquet\")\n",
    "data_meteooooooooooo = pd.read_csv('external_data/export-paris0.csv')\n",
    "\n",
    "\n",
    "def transform_data(bike_counter_data, data_meteo):\n",
    "    \n",
    "    bike_counter_data = clean(bike_counter_data, 'bike_counter_data')\n",
    "    bike_counter_data = _encode_dates_bike(bike_counter_data)\n",
    "    #print(bike_counter_data.info())\n",
    "\n",
    "    min_date_bike = bike_counter_data['date'].min().strftime('%Y-%m-%d')\n",
    "    max_date_bike = bike_counter_data['date'].max().strftime('%Y-%m-%d')\n",
    "\n",
    "    data_meteo = data_meteo.drop(columns = ['TEMPERATURE_NIGHT_C', 'SUNRISE', 'SUNSET'] )\n",
    "    data_meteo = clean(data_meteo, 'data_meteo')\n",
    "    data_meteo = _encode_dates_meteo(data_meteo, min_date_bike, max_date_bike)\n",
    "    #print(data_meteo.info())    \n",
    "\n",
    "    merged_data = pd.merge(bike_counter_data, data_meteo, on=['year', 'month', 'day'])\n",
    "\n",
    "    columns_to_drop = [\"day\", \"counter_name\", \"site_name\", \"bike_count\", \"DATE\", \"counter_installation_date\", \"coordinates\", \"counter_technical_id\", \"latitude\", \"longitude\"]\n",
    "    merged_data = merged_data.drop(columns = columns_to_drop)\n",
    "    \n",
    "    return merged_data\n",
    "\n"
   ]
  },
  {
   "cell_type": "code",
   "execution_count": 63,
   "metadata": {},
   "outputs": [
    {
     "name": "stdout",
     "output_type": "stream",
     "text": [
      "(bike_counter_data) : Number of lines with missing values: 0\n",
      "(data_meteo) : Number of lines with missing values: 0\n"
     ]
    },
    {
     "name": "stderr",
     "output_type": "stream",
     "text": [
      "/var/folders/48/xwb303h13cj206r81_rrqr840000gn/T/ipykernel_47338/2799602127.py:25: SettingWithCopyWarning: \n",
      "A value is trying to be set on a copy of a slice from a DataFrame.\n",
      "Try using .loc[row_indexer,col_indexer] = value instead\n",
      "\n",
      "See the caveats in the documentation: https://pandas.pydata.org/pandas-docs/stable/user_guide/indexing.html#returning-a-view-versus-a-copy\n",
      "  df['DATE'] = pd.to_datetime(df['DATE'])\n",
      "/var/folders/48/xwb303h13cj206r81_rrqr840000gn/T/ipykernel_47338/2799602127.py:26: SettingWithCopyWarning: \n",
      "A value is trying to be set on a copy of a slice from a DataFrame.\n",
      "Try using .loc[row_indexer,col_indexer] = value instead\n",
      "\n",
      "See the caveats in the documentation: https://pandas.pydata.org/pandas-docs/stable/user_guide/indexing.html#returning-a-view-versus-a-copy\n",
      "  df[\"year\"] = df[\"DATE\"].dt.year\n",
      "/var/folders/48/xwb303h13cj206r81_rrqr840000gn/T/ipykernel_47338/2799602127.py:27: SettingWithCopyWarning: \n",
      "A value is trying to be set on a copy of a slice from a DataFrame.\n",
      "Try using .loc[row_indexer,col_indexer] = value instead\n",
      "\n",
      "See the caveats in the documentation: https://pandas.pydata.org/pandas-docs/stable/user_guide/indexing.html#returning-a-view-versus-a-copy\n",
      "  df[\"month\"] = df[\"DATE\"].dt.month\n",
      "/var/folders/48/xwb303h13cj206r81_rrqr840000gn/T/ipykernel_47338/2799602127.py:28: SettingWithCopyWarning: \n",
      "A value is trying to be set on a copy of a slice from a DataFrame.\n",
      "Try using .loc[row_indexer,col_indexer] = value instead\n",
      "\n",
      "See the caveats in the documentation: https://pandas.pydata.org/pandas-docs/stable/user_guide/indexing.html#returning-a-view-versus-a-copy\n",
      "  df[\"day\"] = df[\"DATE\"].dt.day\n"
     ]
    },
    {
     "name": "stdout",
     "output_type": "stream",
     "text": [
      "<class 'pandas.core.frame.DataFrame'>\n",
      "Int64Index: 494241 entries, 0 to 494240\n",
      "Data columns (total 31 columns):\n",
      " #   Column                  Non-Null Count   Dtype         \n",
      "---  ------                  --------------   -----         \n",
      " 0   counter_id              494241 non-null  category      \n",
      " 1   site_id                 494241 non-null  int64         \n",
      " 2   date                    494241 non-null  datetime64[ns]\n",
      " 3   log_bike_count          494241 non-null  float64       \n",
      " 4   year                    494241 non-null  int64         \n",
      " 5   month                   494241 non-null  int64         \n",
      " 6   hour                    494241 non-null  int64         \n",
      " 7   weekday                 494241 non-null  int64         \n",
      " 8   IsWeekend               494241 non-null  int64         \n",
      " 9   IsHolidays              494241 non-null  int64         \n",
      " 10  MAX_TEMPERATURE_C       494241 non-null  int64         \n",
      " 11  MIN_TEMPERATURE_C       494241 non-null  int64         \n",
      " 12  WINDSPEED_MAX_KMH       494241 non-null  int64         \n",
      " 13  TEMPERATURE_MORNING_C   494241 non-null  int64         \n",
      " 14  TEMPERATURE_NOON_C      494241 non-null  int64         \n",
      " 15  TEMPERATURE_EVENING_C   494241 non-null  int64         \n",
      " 16  PRECIP_TOTAL_DAY_MM     494241 non-null  float64       \n",
      " 17  HUMIDITY_MAX_PERCENT    494241 non-null  int64         \n",
      " 18  VISIBILITY_AVG_KM       494241 non-null  float64       \n",
      " 19  PRESSURE_MAX_MB         494241 non-null  int64         \n",
      " 20  CLOUDCOVER_AVG_PERCENT  494241 non-null  float64       \n",
      " 21  HEATINDEX_MAX_C         494241 non-null  int64         \n",
      " 22  DEWPOINT_MAX_C          494241 non-null  int64         \n",
      " 23  WINDTEMP_MAX_C          494241 non-null  int64         \n",
      " 24  WEATHER_CODE_MORNING    494241 non-null  int64         \n",
      " 25  WEATHER_CODE_NOON       494241 non-null  int64         \n",
      " 26  WEATHER_CODE_EVENING    494241 non-null  int64         \n",
      " 27  TOTAL_SNOW_MM           494241 non-null  float64       \n",
      " 28  UV_INDEX                494241 non-null  int64         \n",
      " 29  SUNHOUR                 494241 non-null  float64       \n",
      " 30  OPINION                 494241 non-null  object        \n",
      "dtypes: category(1), datetime64[ns](1), float64(6), int64(22), object(1)\n",
      "memory usage: 117.4+ MB\n"
     ]
    }
   ],
   "source": [
    "transform_data(dataaaaaaa, data_meteooooooooooo).info()"
   ]
  }
 ],
 "metadata": {
  "kernelspec": {
   "display_name": "base",
   "language": "python",
   "name": "python3"
  },
  "language_info": {
   "codemirror_mode": {
    "name": "ipython",
    "version": 3
   },
   "file_extension": ".py",
   "mimetype": "text/x-python",
   "name": "python",
   "nbconvert_exporter": "python",
   "pygments_lexer": "ipython3",
   "version": "3.10.9"
  }
 },
 "nbformat": 4,
 "nbformat_minor": 2
}
