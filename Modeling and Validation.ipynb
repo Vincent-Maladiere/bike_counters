{
 "cells": [
  {
   "cell_type": "markdown",
   "id": "98d780a2-7105-4a91-a986-417972b1d540",
   "metadata": {},
   "source": [
    "## Modeling and Validation / CrossValidation"
   ]
  },
  {
   "cell_type": "code",
   "execution_count": 1,
   "id": "193ec8cb-f211-43cc-ac6b-22ff4c67c4cb",
   "metadata": {},
   "outputs": [],
   "source": [
    "import pandas as pd\n",
    "from sklearn.model_selection import train_test_split\n",
    "from sklearn.ensemble import RandomForestRegressor\n",
    "from sklearn.metrics import mean_squared_error\n",
    "import numpy as np"
   ]
  },
  {
   "cell_type": "code",
   "execution_count": 4,
   "id": "1b6c0e1c-6027-4b36-8ccc-c41a18d19fde",
   "metadata": {},
   "outputs": [
    {
     "name": "stdout",
     "output_type": "stream",
     "text": [
      "            counter_id              counter_name    site_id  \\\n",
      "0  100007049-102007049  28 boulevard Diderot E-O  100007049   \n",
      "1  100007049-102007049  28 boulevard Diderot E-O  100007049   \n",
      "2  100007049-102007049  28 boulevard Diderot E-O  100007049   \n",
      "3  100007049-102007049  28 boulevard Diderot E-O  100007049   \n",
      "4  100007049-102007049  28 boulevard Diderot E-O  100007049   \n",
      "\n",
      "              site_name  bike_count                date  \\\n",
      "0  28 boulevard Diderot         0.0 2020-09-01 02:00:00   \n",
      "1  28 boulevard Diderot         1.0 2020-09-01 03:00:00   \n",
      "2  28 boulevard Diderot         0.0 2020-09-01 04:00:00   \n",
      "3  28 boulevard Diderot         4.0 2020-09-01 15:00:00   \n",
      "4  28 boulevard Diderot         9.0 2020-09-01 18:00:00   \n",
      "\n",
      "  counter_installation_date         coordinates counter_technical_id  \\\n",
      "0                2013-01-18  48.846028,2.375429          Y2H15027244   \n",
      "1                2013-01-18  48.846028,2.375429          Y2H15027244   \n",
      "2                2013-01-18  48.846028,2.375429          Y2H15027244   \n",
      "3                2013-01-18  48.846028,2.375429          Y2H15027244   \n",
      "4                2013-01-18  48.846028,2.375429          Y2H15027244   \n",
      "\n",
      "    latitude  ...  hour_day_of_week_Saturday_interaction  \\\n",
      "0  48.846028  ...                                    0.0   \n",
      "1  48.846028  ...                                    0.0   \n",
      "2  48.846028  ...                                    0.0   \n",
      "3  48.846028  ...                                    0.0   \n",
      "4  48.846028  ...                                    0.0   \n",
      "\n",
      "   hour_day_of_week_Sunday_interaction  hour_day_of_week_Thursday_interaction  \\\n",
      "0                                  0.0                                    0.0   \n",
      "1                                  0.0                                    0.0   \n",
      "2                                  0.0                                    0.0   \n",
      "3                                  0.0                                    0.0   \n",
      "4                                  0.0                                    0.0   \n",
      "\n",
      "   hour_day_of_week_Tuesday_interaction  \\\n",
      "0                                   2.0   \n",
      "1                                   3.0   \n",
      "2                                   4.0   \n",
      "3                                  15.0   \n",
      "4                                  18.0   \n",
      "\n",
      "  hour_day_of_week_Wednesday_interaction  site_mean_count  site_std_count  \\\n",
      "0                                    0.0        21.785157       35.345153   \n",
      "1                                    0.0        21.785157       35.345153   \n",
      "2                                    0.0        21.785157       35.345153   \n",
      "3                                    0.0        21.785157       35.345153   \n",
      "4                                    0.0        21.785157       35.345153   \n",
      "\n",
      "   is_weekend  is_rush_hour  is_holiday  \n",
      "0         0.0             0           0  \n",
      "1         0.0             0           0  \n",
      "2         0.0             0           0  \n",
      "3         0.0             1           0  \n",
      "4         0.0             1           0  \n",
      "\n",
      "[5 rows x 42 columns]\n"
     ]
    }
   ],
   "source": [
    "data = pd.read_parquet('data/processed_data.parquet')\n",
    "\n",
    "print(data.head()) "
   ]
  },
  {
   "cell_type": "code",
   "execution_count": null,
   "id": "c4bd453f-ba28-408f-b709-e1b4fb808f24",
   "metadata": {},
   "outputs": [],
   "source": []
  }
 ],
 "metadata": {
  "kernelspec": {
   "display_name": "Python (bikes-count)",
   "language": "python",
   "name": "bikes-count"
  },
  "language_info": {
   "codemirror_mode": {
    "name": "ipython",
    "version": 3
   },
   "file_extension": ".py",
   "mimetype": "text/x-python",
   "name": "python",
   "nbconvert_exporter": "python",
   "pygments_lexer": "ipython3",
   "version": "3.10.15"
  }
 },
 "nbformat": 4,
 "nbformat_minor": 5
}
